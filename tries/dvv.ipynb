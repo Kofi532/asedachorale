{
 "cells": [
  {
   "cell_type": "code",
   "execution_count": 17,
   "metadata": {},
   "outputs": [
    {
     "name": "stdout",
     "output_type": "stream",
     "text": [
      "Time 0: D4, F#4, D3, A3\n",
      "Time 1: D4, F#4, A2, A3\n",
      "Time 2: F#4, A4, A2, A3\n",
      "Time 3: C#4, G4, E3, A3\n",
      "Time 4: C#4, F#4, D#3, A3\n",
      "Time 5: C#4, G4, E3, A3\n",
      "Time 6: C#4, B4, A2, A3\n",
      "Time 7: D4, A4, F#3, A3\n",
      "Time 8: D4, G#4, F#3, A3\n",
      "Time 9: D4, A4, F#2, A3\n",
      "Time 10: D4, D5, B2, G3\n",
      "Time 11: D5, E4, A2, A3\n",
      "Time 12: C#5\n",
      "Time 13: A4, D5, F#3, D4\n",
      "Time 14: G4, B4, G3, D4\n",
      "Time 15: D4, A4, F#3, A3\n",
      "Time 16: D4, G4, E3, B3\n",
      "Time 17: C#4, A4, A2, A3\n",
      "Time 18: D4, F#4, D3, A3\n",
      "Time 19: E4, G#4, D3, B3\n",
      "Time 20: E4, A4, C#3, A3\n",
      "Time 21: F#4, B4, D3, A3\n",
      "Time 22: E4, C#5, E3, A3\n",
      "Time 23: E3, G#3\n",
      "Time 24: B4, D4\n",
      "Time 25: A2, A3\n",
      "Time 26: C#4, A4\n",
      "Time 27: A3, A3\n",
      "Time 28: A4, A4, A3, C#4\n",
      "Time 29: G4, E5\n",
      "Time 30: A2, C#4\n",
      "Time 31: B2, D4\n",
      "Time 32: G4, C#5\n",
      "Time 33: F#4, A4, C#3, A3\n",
      "Time 34: E4, G4, D3, A3\n",
      "Time 35: D4, F#4, E3, A3\n",
      "Time 36: C#4, G4, F#3, A3\n",
      "Time 37: D4, A4, F#3, A3\n",
      "Time 38: D4, D4, G3, B3\n",
      "Time 39: D4, D4, G2, D3\n",
      "Time 40: B3, G4, B4, G2, D#3\n",
      "Time 41: B3, F#4, A4, G2, E3\n",
      "Time 42: B3, E4, G4, A2, F#3\n",
      "Time 43: A3, D4, F#4\n",
      "Time 44: A2, G3\n",
      "Time 45: \n",
      "Time 46: E4, C#4, D3, F#3\n",
      "Time 47: D4, D4\n"
     ]
    }
   ],
   "source": [
    "import re\n",
    "import music21\n",
    "\n",
    "# Load a MusicXML file (replace 'your_music_score.xml' with the actual file path)\n",
    "score = music21.converter.parse('848.xml')\n",
    "\n",
    "# Initialize a list to store notes and rests at each point in time\n",
    "notes_and_rests_by_time = []\n",
    "notes_and_rests_by_time_ = []\n",
    "\n",
    "\n",
    "# Get all the notes, chords, and rests from the score\n",
    "all_notes = score.flat.getElementsByClass(music21.note.GeneralNote)\n",
    "\n",
    "# Create a dictionary to group elements by their starting offset\n",
    "elements_by_offset = {}\n",
    "\n",
    "# Iterate through the notes, chords, and rests and group them by offset\n",
    "for element in all_notes:\n",
    "    offset = element.offset\n",
    "    if offset not in elements_by_offset:\n",
    "        elements_by_offset[offset] = []\n",
    "    elements_by_offset[offset].append(element)\n",
    "\n",
    "# Sort the offsets in ascending order\n",
    "sorted_offsets = sorted(elements_by_offset.keys())\n",
    "\n",
    "notss = []\n",
    "\n",
    "# Iterate through the sorted offsets and collect notes and rests at each point in time\n",
    "for offset in sorted_offsets:\n",
    "    elements = elements_by_offset[offset]\n",
    "    notes_and_rests = []\n",
    "    nots=[]\n",
    "\n",
    "    for element in elements:\n",
    "        if isinstance(element, music21.note.Note):\n",
    "            pitch = element.pitch\n",
    "            parts = re.split(r'(\\d+)', str(pitch))\n",
    "            modified_item = ''.join(parts)\n",
    "            pitch = modified_item\n",
    "            notes_and_rests.append(f\"{pitch}\") # {element.duration.quarterLength}\n",
    "            nots.append(f\"{pitch} {element.duration.quarterLength}\")\n",
    "\n",
    "\n",
    "        elif isinstance(element, music21.chord.Chord):\n",
    "            for chord_note in element:\n",
    "                chord_pitch = chord_note.pitch\n",
    "                parts = re.split(r'(\\d+)', str(chord_pitch))\n",
    "                modified_item = ''.join(parts)\n",
    "                chord_pitch = modified_item\n",
    "                notes_and_rests.append(f\"{chord_pitch}\") # {chord_note.duration.quarterLength}\n",
    "                nots.append(f\"{chord_pitch} {chord_note.duration.quarterLength}\")\n",
    "\n",
    "        elif isinstance(element, music21.note.Rest):\n",
    "            # pass\n",
    "            nots.append(f\"Rest {element.duration.quarterLength}\")\n",
    "\n",
    "    notes_and_rests_by_time.append(notes_and_rests)\n",
    "    notes_and_rests_by_time_.append(nots)\n",
    "    \n",
    "\n",
    "# Print the notes and rests grouped by time\n",
    "for i, notes_and_rests in enumerate(notes_and_rests_by_time):\n",
    "    print(f\"Time {i}: {', '.join(notes_and_rests)}\")\n"
   ]
  },
  {
   "cell_type": "code",
   "execution_count": 52,
   "metadata": {},
   "outputs": [
    {
     "name": "stdout",
     "output_type": "stream",
     "text": [
      "Time 0: B-4 1.0, E-4 1.0, G3 1.0, E-3 1.0\n",
      "Time 1: E-5 1.0, G4 1.0, B-3 1.0, E-3 1.0\n",
      "Time 2: D5 1.0, G4 1.0, B-3 1.0, G3 1.0\n",
      "Time 3: C5 1.0, E-4 1.0, A-3 1.0, A-3 1.0\n",
      "Time 4: B-4 1.0, E-4 1.0, B-3 1.0, G3 1.0\n",
      "Time 5: B-4 1.0, F4 1.0, B-3 1.0, D3 1.0\n",
      "Time 6: A-4 1.0, D4 1.0, B-3 1.0, B-2 1.0\n",
      "Time 7: G4 1.0, E-4 1.0, B-3 1.0, E-3 1.0\n",
      "Time 8: G4 1.0, E-4 1.0, B-3 1.0, E-3 1.0\n",
      "Time 9: F4 1.0, C4 0.5, C4 1.0, A-3 1.0\n",
      "Time 10: D4 0.5\n",
      "Time 11: E-4 1.0, E-4 1.0, B-3 1.0, G3 1.0\n",
      "Time 12: A-4 1.0, D4 1.0, A-3 1.0, F3 1.0\n",
      "Time 13: G4 1.0, E-4 1.0, B-3 1.0, E-3 1.0\n",
      "Time 14: F4 3.0, D4 3.0, B-3 3.0, B-2 3.0\n",
      "Time 15: G4 1.0, E-4 1.0, B-3 1.0, E-3 0.5\n",
      "Time 16: D-3 0.5\n",
      "Time 17: A-4 1.0, E-4 1.0, A-3 1.0, C3 1.0\n",
      "Time 18: G4 1.0, E-4 1.0, B-3 1.0, B-2 1.0\n",
      "Time 19: C5 1.0, E-4 1.0, C4 1.0, A-2 1.0\n",
      "Time 20: B-4 1.0, E-4 1.0, E-3 1.0, G2 1.0\n",
      "Time 21: B-4 1.0, C4 1.0, F3 1.0, F2 1.0\n",
      "Time 22: A-4 1.0, D4 1.0, F3 1.0, B-2 1.0\n",
      "Time 23: G4 1.0, E-4 1.0, E-3 1.0, C3 1.0\n",
      "Time 24: E-4 1.0, C4 1.0, G3 1.0, C3 1.0\n",
      "Time 25: G4 1.0, E-4 1.0, B-3 1.0, G2 1.0\n",
      "Time 26: F4 1.0, C4 1.0, A-3 1.0, A-2 1.0\n",
      "Time 27: E-4 1.0, B-3 1.0, G3 1.0, B-2 1.0\n",
      "Time 28: D4 1.0, B-3 1.0, F3 0.5, B-2 1.0\n",
      "Time 29: A-3 0.5\n",
      "Time 30: E-4 3.0, B-3 3.0, G3 3.0, E-3 3.0\n"
     ]
    }
   ],
   "source": [
    "import music21\n",
    "\n",
    "# Load a MusicXML file (replace 'your_music_score.xml' with the actual file path)\n",
    "score = music21.converter.parse('99.xml')\n",
    "\n",
    "# Initialize a list to store notes and rests at each point in time\n",
    "notes_and_rests_by_time = []\n",
    "notes_and_rests_by_time_ = []\n",
    "\n",
    "# Get all the notes, chords, and rests from the score\n",
    "all_notes = score.flat.getElementsByClass(music21.note.GeneralNote)\n",
    "\n",
    "# Create a dictionary to group elements by their starting offset\n",
    "elements_by_offset = {}\n",
    "\n",
    "# Iterate through the notes, chords, and rests and group them by offset\n",
    "for element in all_notes:\n",
    "    offset = element.offset\n",
    "    if offset not in elements_by_offset:\n",
    "        elements_by_offset[offset] = []\n",
    "    elements_by_offset[offset].append(element)\n",
    "\n",
    "# Sort the offsets in ascending order\n",
    "sorted_offsets = sorted(elements_by_offset.keys())\n",
    "\n",
    "notss = []\n",
    "\n",
    "# Iterate through the sorted offsets and collect notes and rests at each point in time\n",
    "for offset in sorted_offsets:\n",
    "    elements = elements_by_offset[offset]\n",
    "    notes_and_rests = []\n",
    "    nots = []\n",
    "\n",
    "    for element in elements:\n",
    "        if isinstance(element, music21.note.Note):\n",
    "            pitch_name = element.pitch.nameWithOctave\n",
    "            notes_and_rests.append(f\"{pitch_name} {element.duration.quarterLength}\")\n",
    "            nots.append(f\"{pitch_name} {element.duration.quarterLength}\")\n",
    "\n",
    "        elif isinstance(element, music21.chord.Chord):\n",
    "            for chord_note in element:\n",
    "                chord_pitch_name = chord_note.pitch.nameWithOctave\n",
    "                notes_and_rests.append(f\"{chord_pitch_name} {chord_note.duration.quarterLength}\")\n",
    "                nots.append(f\"{chord_pitch_name} {chord_note.duration.quarterLength}\")\n",
    "\n",
    "        elif isinstance(element, music21.note.Rest):\n",
    "            nots.append(f\"Rest {element.duration.quarterLength}\")\n",
    "\n",
    "    notes_and_rests_by_time.append(notes_and_rests)\n",
    "    notes_and_rests_by_time_.append(nots)\n",
    "\n",
    "# Print the notes and rests grouped by time\n",
    "for i, notes_and_rests in enumerate(notes_and_rests_by_time):\n",
    "    print(f\"Time {i}: {', '.join(notes_and_rests)}\")\n"
   ]
  },
  {
   "cell_type": "code",
   "execution_count": null,
   "metadata": {},
   "outputs": [],
   "source": []
  },
  {
   "cell_type": "code",
   "execution_count": 55,
   "metadata": {},
   "outputs": [
    {
     "name": "stdout",
     "output_type": "stream",
     "text": [
      "The key signature is E- major\n"
     ]
    }
   ],
   "source": [
    "from music21 import *\n",
    "\n",
    "def get_key_signature(xml_file_path):\n",
    "    # Load the MusicXML file\n",
    "\n",
    "    # Extract the key signature\n",
    "    key_signature = None\n",
    "    for part in score.parts:\n",
    "        for measure in part.getElementsByClass('Measure'):\n",
    "            for item in measure.getElementsByClass('KeySignature'):\n",
    "                key_signature = item\n",
    "                break\n",
    "\n",
    "    return key_signature\n",
    "\n",
    "# Replace 'path/to/your/music.xml' with the actual path to your MusicXML file\n",
    "xml_file_path = \"C:\\\\Users\\\\KOFI ADUKPO\\\\Downloads\\\\tunes\\\\180.xml\"\n",
    "\n",
    "key_signature = get_key_signature(xml_file_path)\n",
    "\n",
    "if key_signature:\n",
    "    print(f\"The key signature is {key_signature}\")\n",
    "else:\n",
    "    print(\"No key signature found.\")\n"
   ]
  },
  {
   "cell_type": "code",
   "execution_count": null,
   "metadata": {},
   "outputs": [],
   "source": []
  },
  {
   "cell_type": "code",
   "execution_count": 39,
   "metadata": {},
   "outputs": [
    {
     "name": "stdout",
     "output_type": "stream",
     "text": [
      "[['B-4 1.0', 'E-4 1.0', 'G3 1.0', 'E-3 1.0'], ['E-5 1.0', 'G4 1.0', 'B-3 1.0', 'E-3 1.0'], ['D5 1.0', 'G4 1.0', 'B-3 1.0', 'G3 1.0'], ['C5 1.0', 'E-4 1.0', 'A-3 1.0', 'A-3 1.0'], ['B-4 1.0', 'E-4 1.0', 'B-3 1.0', 'G3 1.0'], ['B-4 1.0', 'F4 1.0', 'B-3 1.0', 'D3 1.0'], ['A-4 1.0', 'D4 1.0', 'B-3 1.0', 'B-2 1.0'], ['G4 1.0', 'E-4 1.0', 'B-3 1.0', 'E-3 1.0'], ['G4 1.0', 'E-4 1.0', 'B-3 1.0', 'E-3 1.0'], ['F4 1.0', 'C4 0.5', 'C4 1.0', 'A-3 1.0'], ['D4 0.5'], ['E-4 1.0', 'E-4 1.0', 'B-3 1.0', 'G3 1.0'], ['A-4 1.0', 'D4 1.0', 'A-3 1.0', 'F3 1.0'], ['G4 1.0', 'E-4 1.0', 'B-3 1.0', 'E-3 1.0'], ['F4 3.0', 'D4 3.0', 'B-3 3.0', 'B-2 3.0'], ['G4 1.0', 'E-4 1.0', 'B-3 1.0', 'E-3 0.5'], ['D-3 0.5'], ['A-4 1.0', 'E-4 1.0', 'A-3 1.0', 'C3 1.0'], ['G4 1.0', 'E-4 1.0', 'B-3 1.0', 'B-2 1.0'], ['C5 1.0', 'E-4 1.0', 'C4 1.0', 'A-2 1.0'], ['B-4 1.0', 'E-4 1.0', 'E-3 1.0', 'G2 1.0'], ['B-4 1.0', 'C4 1.0', 'F3 1.0', 'F2 1.0'], ['A-4 1.0', 'D4 1.0', 'F3 1.0', 'B-2 1.0'], ['G4 1.0', 'E-4 1.0', 'E-3 1.0', 'C3 1.0'], ['E-4 1.0', 'C4 1.0', 'G3 1.0', 'C3 1.0'], ['G4 1.0', 'E-4 1.0', 'B-3 1.0', 'G2 1.0'], ['F4 1.0', 'C4 1.0', 'A-3 1.0', 'A-2 1.0'], ['E-4 1.0', 'B-3 1.0', 'G3 1.0', 'B-2 1.0'], ['D4 1.0', 'B-3 1.0', 'F3 0.5', 'B-2 1.0'], ['A-3 0.5'], ['E-4 3.0', 'B-3 3.0', 'G3 3.0', 'E-3 3.0']]\n"
     ]
    }
   ],
   "source": [
    "print(notes_and_rests_by_time)"
   ]
  },
  {
   "cell_type": "code",
   "execution_count": null,
   "metadata": {},
   "outputs": [],
   "source": []
  },
  {
   "cell_type": "code",
   "execution_count": 43,
   "metadata": {},
   "outputs": [
    {
     "data": {
      "text/html": [
       "\n",
       "                <div id=\"midiPlayerDiv7926\"></div>\n",
       "                <link rel=\"stylesheet\" href=\"https://cuthbertLab.github.io/music21j/css/m21.css\">\n",
       "                \n",
       "                <script>\n",
       "                require.config({\n",
       "                    paths: {\n",
       "                        'music21': 'https://cuthbertLab.github.io/music21j/releases/music21.debug',\n",
       "                    }\n",
       "                });\n",
       "                require(['music21'], function(music21) {\n",
       "                    mp = new music21.miditools.MidiPlayer();\n",
       "                    mp.addPlayer(\"#midiPlayerDiv7926\");\n",
       "                    mp.base64Load(\"data:audio/midi;base64,TVRoZAAAAAYAAQACBABNVHJrAAAAFAD/UQMHoSAA/1gEBAIYCIgA/y8ATVRyawAAA8UA/wMAAOAAQIgAkEZaAJA/WgCQN1oAkDNaiACARgAAgD8AAIA3AACAMwAAkEtaAJBDWgCQOloAkDNaiACASwAAgEMAAIA6AACAMwAAkEpaAJBDWgCQOloAkDdaiACASgAAgEMAAIA6AACANwAAkEhaAJA/WgCQOFoAkDhaiACASAAAgD8AAIA4AACAOAAAkEZaAJA/WgCQOloAkDdaiACARgAAgD8AAIA6AACANwAAkEZaAJBBWgCQOloAkDJaiACARgAAgEEAAIA6AACAMgAAkERaAJA+WgCQOloAkC5aiACARAAAgD4AAIA6AACALgAAkENaAJA/WgCQOloAkDNaiACAQwAAgD8AAIA6AACAMwAAkENaAJA/WgCQOloAkDNaiACAQwAAgD8AAIA6AACAMwAAkEFaAJA8WgCQPFoAkDhaiACAQQAAgDwAAIA8AACAOAAAkD5ahACAPgAAkD9aAJA/WgCQOloAkDdaiACAPwAAgD8AAIA6AACANwAAkERaAJA+WgCQOFoAkDVaiACARAAAgD4AAIA4AACANQAAkENaAJA/WgCQOloAkDNaiACAQwAAgD8AAIA6AACAMwAAkEFaAJA+WgCQOloAkC5amACAQQAAgD4AAIA6AACALgAAkENaAJA/WgCQOloAkDNaiACAQwAAgD8AAIA6AACAMwAAkDFahACAMQAAkERaAJA/WgCQOFoAkDBaiACARAAAgD8AAIA4AACAMAAAkENaAJA/WgCQOloAkC5aiACAQwAAgD8AAIA6AACALgAAkEhaAJA/WgCQPFoAkCxaiACASAAAgD8AAIA8AACALAAAkEZaAJA/WgCQM1oAkCtaiACARgAAgD8AAIAzAACAKwAAkEZaAJA8WgCQNVoAkClaiACARgAAgDwAAIA1AACAKQAAkERaAJA+WgCQNVoAkC5aiACARAAAgD4AAIA1AACALgAAkENaAJA/WgCQM1oAkDBaiACAQwAAgD8AAIAzAACAMAAAkD9aAJA8WgCQN1oAkDBaiACAPwAAgDwAAIA3AACAMAAAkENaAJA/WgCQOloAkCtaiACAQwAAgD8AAIA6AACAKwAAkEFaAJA8WgCQOFoAkCxaiACAQQAAgDwAAIA4AACALAAAkD9aAJA6WgCQN1oAkC5aiACAPwAAgDoAAIA3AACALgAAkD5aAJA6WgCQNVoAkC5aiACAPgAAgDoAAIA1AACALgAAkDhahACAOAAAkD9aAJA6WgCQN1oAkDNamACAPwAAgDoAAIA3AACAMwCIAP8vAA==\");\n",
       "                });\n",
       "                </script>"
      ],
      "text/plain": [
       "<IPython.core.display.HTML object>"
      ]
     },
     "metadata": {},
     "output_type": "display_data"
    },
    {
     "data": {
      "text/plain": [
       "None"
      ]
     },
     "metadata": {},
     "output_type": "display_data"
    }
   ],
   "source": [
    "import music21\n",
    "from music21 import chord\n",
    "\n",
    "# ... (previous code remains unchanged)\n",
    "\n",
    "# Create a new stream\n",
    "output_stream = music21.stream.Stream()\n",
    "\n",
    "# Iterate through the sorted offsets and add chords to the stream\n",
    "for offset, notes_and_rests in zip(sorted_offsets, notes_and_rests_by_time_):\n",
    "    chords = []\n",
    "\n",
    "    for item in notes_and_rests:\n",
    "        # Split the string into pitch (or 'Rest') and duration\n",
    "        parts = item.split()\n",
    "        if parts[0] == 'Rest':\n",
    "            # duration = float(parts[1])\n",
    "            # output_stream.append(music21.note.Rest(quarterLength=duration))\n",
    "            pass\n",
    "        else:\n",
    "            pitch = parts[0]\n",
    "            duration = float(parts[1])\n",
    "            chords.append(music21.note.Note(pitch, quarterLength=duration))\n",
    "\n",
    "    if chords:\n",
    "        # Create a chord and add it to the stream\n",
    "        output_stream.append(chord.Chord(chords))\n",
    "\n",
    "\n",
    "# Show and play the music\n",
    "display(output_stream.show('midi'))\n",
    "\n",
    "\n",
    "#move\n"
   ]
  },
  {
   "cell_type": "code",
   "execution_count": 42,
   "metadata": {},
   "outputs": [
    {
     "data": {
      "text/plain": [
       "[0.0,\n",
       " 1.0,\n",
       " 2.0,\n",
       " 3.0,\n",
       " 4.0,\n",
       " 5.0,\n",
       " 6.0,\n",
       " 7.0,\n",
       " 8.0,\n",
       " 9.0,\n",
       " 9.5,\n",
       " 10.0,\n",
       " 11.0,\n",
       " 12.0,\n",
       " 13.0,\n",
       " 16.0,\n",
       " 16.5,\n",
       " 17.0,\n",
       " 18.0,\n",
       " 19.0,\n",
       " 20.0,\n",
       " 21.0,\n",
       " 22.0,\n",
       " 23.0,\n",
       " 24.0,\n",
       " 25.0,\n",
       " 26.0,\n",
       " 27.0,\n",
       " 28.0,\n",
       " 28.5,\n",
       " 29.0]"
      ]
     },
     "execution_count": 42,
     "metadata": {},
     "output_type": "execute_result"
    }
   ],
   "source": [
    "sorted_offsets"
   ]
  },
  {
   "cell_type": "code",
   "execution_count": null,
   "metadata": {},
   "outputs": [],
   "source": []
  },
  {
   "cell_type": "code",
   "execution_count": null,
   "metadata": {},
   "outputs": [],
   "source": []
  },
  {
   "cell_type": "code",
   "execution_count": null,
   "metadata": {},
   "outputs": [],
   "source": []
  },
  {
   "cell_type": "code",
   "execution_count": null,
   "metadata": {},
   "outputs": [],
   "source": []
  },
  {
   "cell_type": "code",
   "execution_count": null,
   "metadata": {},
   "outputs": [],
   "source": []
  },
  {
   "cell_type": "markdown",
   "metadata": {},
   "source": []
  },
  {
   "cell_type": "code",
   "execution_count": 161,
   "metadata": {},
   "outputs": [
    {
     "name": "stdout",
     "output_type": "stream",
     "text": [
      "[['B-4 1.0', 'E-4 1.0', 'G3 1.0', 'E-3 1.0'], ['E-5 1.0', 'G4 1.0', 'B-3 1.0', 'E-3 1.0'], ['D5 1.0', 'G4 1.0', 'B-3 1.0', 'G3 1.0'], ['C5 1.0', 'E-4 1.0', 'A-3 1.0', 'A-3 1.0'], ['B-4 1.0', 'E-4 1.0', 'B-3 1.0', 'G3 1.0'], ['B-4 1.0', 'F4 1.0', 'B-3 1.0', 'D3 1.0'], ['A-4 1.0', 'D4 1.0', 'B-3 1.0', 'B-2 1.0'], ['G4 1.0', 'E-4 1.0', 'B-3 1.0', 'E-3 1.0'], ['G4 1.0', 'E-4 1.0', 'B-3 1.0', 'E-3 1.0'], ['F4 1.0', 'C4 0.5', 'C4 1.0', 'A-3 1.0'], ['D4 0.5'], ['E-4 1.0', 'E-4 1.0', 'B-3 1.0', 'G3 1.0'], ['A-4 1.0', 'D4 1.0', 'A-3 1.0', 'F3 1.0'], ['G4 1.0', 'E-4 1.0', 'B-3 1.0', 'E-3 1.0'], ['F4 3.0', 'D4 3.0', 'B-3 3.0', 'B-2 3.0'], ['G4 1.0', 'E-4 1.0', 'B-3 1.0', 'E-3 0.5'], ['D-3 0.5'], ['A-4 1.0', 'E-4 1.0', 'A-3 1.0', 'C3 1.0'], ['G4 1.0', 'E-4 1.0', 'B-3 1.0', 'B-2 1.0'], ['C5 1.0', 'E-4 1.0', 'C4 1.0', 'A-2 1.0']]\n",
      "[['B-4 1.0', 'E-4 1.0', 'G3 1.0', 'E-3 1.0'], ['E-5 1.0', 'G4 1.0', 'Rest 2.0', 'B-3 1.0', 'E-3 1.0'], ['D5 1.0', 'G4 1.0', 'B-3 1.0', 'G3 1.0'], ['C5 1.0', 'E-4 1.0', 'A-3 1.0', 'A-3 1.0'], ['B-4 1.0', 'E-4 1.0', 'B-3 1.0', 'G3 1.0'], ['B-4 1.0', 'F4 1.0', 'B-3 1.0', 'D3 1.0'], ['A-4 1.0', 'D4 1.0', 'B-3 1.0', 'B-2 1.0'], ['G4 1.0', 'E-4 1.0', 'B-3 1.0', 'E-3 1.0'], ['G4 1.0', 'E-4 1.0', 'B-3 1.0', 'E-3 1.0'], ['F4 1.0', 'C4 0.5', 'C4 1.0', 'A-3 1.0'], ['D4 0.5'], ['E-4 1.0', 'E-4 1.0', 'B-3 1.0', 'G3 1.0'], ['A-4 1.0', 'D4 1.0', 'Rest 2.0', 'A-3 1.0', 'F3 1.0'], ['G4 1.0', 'E-4 1.0', 'B-3 1.0', 'E-3 1.0'], ['F4 3.0', 'D4 3.0', 'Rest 3.0', 'B-3 3.0', 'B-2 3.0'], ['G4 1.0', 'E-4 1.0', 'B-3 1.0', 'E-3 0.5'], ['D-3 0.5'], ['A-4 1.0', 'E-4 1.0', 'A-3 1.0', 'C3 1.0'], ['G4 1.0', 'E-4 1.0', 'B-3 1.0', 'B-2 1.0'], ['C5 1.0', 'E-4 1.0', 'C4 1.0', 'A-2 1.0'], ['B-4 1.0', 'E-4 1.0', 'E-3 1.0', 'G2 1.0'], ['B-4 1.0', 'C4 1.0', 'F3 1.0', 'F2 1.0'], ['A-4 1.0', 'D4 1.0', 'F3 1.0', 'B-2 1.0'], ['G4 1.0', 'E-4 1.0', 'E-3 1.0', 'C3 1.0'], ['E-4 1.0', 'C4 1.0', 'G3 1.0', 'C3 1.0'], ['G4 1.0', 'E-4 1.0', 'Rest 3.0', 'B-3 1.0', 'G2 1.0'], ['F4 1.0', 'C4 1.0', 'A-3 1.0', 'A-2 1.0'], ['E-4 1.0', 'B-3 1.0', 'G3 1.0', 'B-2 1.0'], ['D4 1.0', 'B-3 1.0', 'F3 0.5', 'B-2 1.0'], ['A-3 0.5'], ['E-4 3.0', 'B-3 3.0', 'G3 3.0', 'E-3 3.0']]\n"
     ]
    }
   ],
   "source": [
    "print(notes_and_rests_by_time)\n",
    "print(notes_and_rests_by_time_)"
   ]
  },
  {
   "cell_type": "code",
   "execution_count": null,
   "metadata": {},
   "outputs": [],
   "source": []
  },
  {
   "cell_type": "code",
   "execution_count": 162,
   "metadata": {},
   "outputs": [
    {
     "name": "stdout",
     "output_type": "stream",
     "text": [
      "Time Signature: 4/4\n"
     ]
    }
   ],
   "source": [
    "# import music21\n",
    "\n",
    "# # Load a MusicXML file (replace 'your_music_score.xml' with the actual file path)\n",
    "# score = music21.converter.parse('your_music_score.xml')\n",
    "\n",
    "# Search for the time signature in the first part (assuming a single-part score)\n",
    "time_signature = None\n",
    "\n",
    "# Iterate through the measures to find the time signature\n",
    "for measure in score.parts[0].getElementsByClass('Measure'):\n",
    "    ts = measure.getTimeSignatures()\n",
    "    if ts:\n",
    "        # Get the first time signature found in the measure\n",
    "        time_signature = ts[0]\n",
    "        break\n",
    "\n",
    "if time_signature:\n",
    "    print(f\"Time Signature: {time_signature.ratioString}\")\n",
    "else:\n",
    "    print(\"Time Signature not found in the score.\")\n"
   ]
  },
  {
   "cell_type": "code",
   "execution_count": null,
   "metadata": {},
   "outputs": [],
   "source": []
  },
  {
   "cell_type": "code",
   "execution_count": null,
   "metadata": {},
   "outputs": [],
   "source": []
  },
  {
   "cell_type": "code",
   "execution_count": 36,
   "metadata": {},
   "outputs": [],
   "source": [
    "p = [['E-4 6.0'],['C4 1.0', 'E-4 6.0', 'A-2 1.0', 'A-3 3.0'], ['C4 1.0', 'C4 2.0', 'A-2 1.0', 'A-3 2.0'], ['E-4 1.0', 'C3 1.0']]\n",
    "p=notes_and_rests_by_time\n",
    "t = []\n",
    "main = []\n",
    "data = p\n",
    "k=p\n",
    "\n",
    "##taking care of the .75\n",
    "heavy=[]\n",
    "# Check if the decimal ends with .75\n",
    "for r in k:\n",
    "    qw=[]\n",
    "    qe=[]\n",
    "    for u in r:\n",
    "        pitch, duration = u.split()\n",
    "        duration_float = float(duration)\n",
    "        if duration_float % 1 == 0.75:\n",
    "            # Subtract 0.25 from it\n",
    "            new_duration = duration_float - 0.25\n",
    "            qw.append(f\"{pitch} {new_duration:.1f}\")\n",
    "            qe.append(f\"{pitch} 0.25\")\n",
    "        else:\n",
    "            qw.append(u)\n",
    "    heavy.append(qw)\n",
    "    if qe:\n",
    "        heavy.append(qe)\n",
    "\n",
    "k=heavy\n",
    "\n",
    "# Create a new list to store the modified elements\n",
    "# Create a new list to store the modified elements\n",
    "new_k = []\n",
    "\n",
    "# Iterate through the sublists in 'k'\n",
    "for sublist_k in k:\n",
    "    modified_sublist = []\n",
    "    remaining_sublist = []\n",
    "    for element in sublist_k:\n",
    "        pitch, duration = element.split()  # Split the element into pitch and duration\n",
    "        duration_float = float(duration)  # Convert duration to a float\n",
    "        if duration_float > 1.0:\n",
    "            if duration_float % 1 == 0.5:\n",
    "                # If duration ends with '.5', subtract 0.5 and add '.0' to the duration\n",
    "                modified_duration = f\"{duration_float - 0.5:.1f}\"\n",
    "                modified_sublist.append(f\"{pitch} {modified_duration}\")\n",
    "                remaining_sublist.append(f\"{pitch} 0.5\")  # Add a new element with '0.5' duration\n",
    "            else:\n",
    "                # If duration is odd and greater than 1.0, subtract 1.0 and create a sublist for it\n",
    "                modified_duration = f\"{duration_float - 1.0:.1f}\"\n",
    "                modified_sublist.append(f\"{pitch} {modified_duration}\")\n",
    "                remaining_sublist.append(f\"{pitch} 1.0\")\n",
    "        else:\n",
    "            # Otherwise, keep the original element in the modified sublist\n",
    "            modified_sublist.append(element)\n",
    "    new_k.append(modified_sublist)\n",
    "    if remaining_sublist:\n",
    "        new_k.append(remaining_sublist)\n",
    "p=new_k\n",
    "\n",
    "for i in p:\n",
    "\n",
    "\n",
    "    if i:\n",
    "\n",
    "        # Calculate the minimum duration in the list\n",
    "        # print(i)\n",
    "        min_duration = min(float(note.split()[1]) for note in i)\n",
    "\n",
    "        # Create a new list with equal durations\n",
    "        equal_duration_list = [f\"{note.split()[0]} {min_duration}\" for note in i]\n",
    "        t.append(equal_duration_list)\n",
    "\n",
    "        # Create a remainder list with the original durations\n",
    "        remainder = [f\"{note.split()[0]} {float(note.split()[1]) - min_duration}\" for note in i if float(note.split()[1]) > min_duration]\n",
    "        if remainder:\n",
    "            # Extract the second items from each element\n",
    "            second_items = [float(note.split()[1]) for note in remainder]\n",
    "\n",
    "            # Check if all second items are the same\n",
    "            is_same_duration = all(item == second_items[0] for item in second_items)\n",
    "\n",
    "            if is_same_duration:\n",
    "                t.append(remainder)\n",
    "            else:\n",
    "                min_duration = min(float(note.split()[1]) for note in remainder) #leevel\n",
    "                # Create a new list with equal durations\n",
    "                equal_duration_list = [f\"{note.split()[0]} {min_duration}\" for note in remainder]\n",
    "                t.append(equal_duration_list)\n",
    "                # Create a remainder list with the original durations\n",
    "                remainder = [f\"{note.split()[0]} {float(note.split()[1]) - min_duration}\" for note in remainder if float(note.split()[1]) > min_duration]\n",
    "                # print(f'firstremain: {remainder}')\n",
    "                # Extract the second items from each element\n",
    "                if remainder:\n",
    "                    second_items = [float(note.split()[1]) for note in remainder]\n",
    "                    \n",
    "\n",
    "                    # Check if all second items are the same\n",
    "                    is_same_duration = all(item == second_items[0] for item in second_items)\n",
    "\n",
    "                    if is_same_duration:\n",
    "                        t.append(remainder)\n",
    "                    else:\n",
    "                        min_duration = min(float(note.split()[1]) for note in remainder)\n",
    "                        # Create a new list with equal durations\n",
    "                        equal_duration_list = [f\"{note.split()[0]} {min_duration}\" for note in remainder]\n",
    "                        t.append(equal_duration_list)\n",
    "                        ##\n",
    "                        remainder = [f\"{note.split()[0]} {float(note.split()[1]) - min_duration}\" for note in remainder if float(note.split()[1]) > min_duration]\n",
    "                        # Extract the second items from each element\n",
    "                        # print(f'remain: {remainder}')\n",
    "                        if remainder:\n",
    "                            second_items = [float(note.split()[1]) for note in remainder]\n",
    "\n",
    "                            # Check if all second items are the same\n",
    "                            is_same_duration = all(item == second_items[0] for item in second_items)\n",
    "\n",
    "                            if is_same_duration:\n",
    "                                print(remainder)\n",
    "                                t.append(remainder)\n",
    "\n",
    "                            else:\n",
    "                                min_duration = min(float(note.split()[1]) for note in remainder)\n",
    "                                # Create a new list with equal durations\n",
    "                                equal_duration_list = [f\"{note.split()[0]} {min_duration}\" for note in remainder]\n",
    "                                t.append(equal_duration_list)\n",
    "                                remainder = [f\"{note.split()[0]} {float(note.split()[1]) - min_duration}\" for note in remainder if float(note.split()[1]) > min_duration]\n",
    "\n",
    "                                if remainder:\n",
    "                                    second_items = [float(note.split()[1]) for note in remainder]\n",
    "\n",
    "                                    # Check if all second items are the same\n",
    "                                    is_same_duration = all(item == second_items[0] for item in second_items)\n",
    "\n",
    "                                    if is_same_duration:\n",
    "                                        t.append(remainder)\n",
    "                                    else:\n",
    "                                        min_duration = min(float(note.split()[1]) for note in remainder)\n",
    "                                        # Create a new list with equal durations\n",
    "                                        equal_duration_list = [f\"{note.split()[0]} {min_duration}\" for note in remainder]\n",
    "                                        t.append(equal_duration_list)\n",
    "\n",
    "\n",
    "\n",
    "    p = t\n",
    "new_p = []\n",
    "\n",
    "for f in p:\n",
    "    pp=[]\n",
    "    pl=[]\n",
    "    for y in f:\n",
    "        pitch, duration = y.split()\n",
    "        duration_float = float(duration)\n",
    "\n",
    "        if duration_float > 2.0 and duration_float % 2 == 1.0:\n",
    "            # If duration is greater than or equal to 1.0 and odd, subtract 1.0 from it\n",
    "            new_duration = duration_float - 1.0\n",
    "            pp.append(f\"{pitch} {new_duration:.1f}\")\n",
    "            pl.append(f\"{pitch} 1.0\")\n",
    "        else:\n",
    "            pp.append(y)\n",
    "    new_p.append(pp)\n",
    "    if pl:\n",
    "        new_p.append(pl)\n",
    "\n",
    "\n",
    "\n",
    "t=new_p\n",
    "\n"
   ]
  },
  {
   "cell_type": "code",
   "execution_count": 37,
   "metadata": {},
   "outputs": [
    {
     "data": {
      "text/plain": [
       "[['B-4 1.0', 'E-4 1.0', 'G3 1.0', 'E-3 1.0'],\n",
       " ['E-5 1.0', 'G4 1.0', 'B-3 1.0', 'E-3 1.0'],\n",
       " ['D5 1.0', 'G4 1.0', 'B-3 1.0', 'G3 1.0'],\n",
       " ['C5 1.0', 'E-4 1.0', 'A-3 1.0', 'A-3 1.0'],\n",
       " ['B-4 1.0', 'E-4 1.0', 'B-3 1.0', 'G3 1.0'],\n",
       " ['B-4 1.0', 'F4 1.0', 'B-3 1.0', 'D3 1.0'],\n",
       " ['A-4 1.0', 'D4 1.0', 'B-3 1.0', 'B-2 1.0'],\n",
       " ['G4 1.0', 'E-4 1.0', 'B-3 1.0', 'E-3 1.0'],\n",
       " ['G4 1.0', 'E-4 1.0', 'B-3 1.0', 'E-3 1.0'],\n",
       " ['F4 0.5', 'C4 0.5', 'C4 0.5', 'A-3 0.5'],\n",
       " ['F4 0.5', 'C4 0.5', 'A-3 0.5'],\n",
       " ['D4 0.5'],\n",
       " ['E-4 1.0', 'E-4 1.0', 'B-3 1.0', 'G3 1.0'],\n",
       " ['A-4 1.0', 'D4 1.0', 'A-3 1.0', 'F3 1.0'],\n",
       " ['G4 1.0', 'E-4 1.0', 'B-3 1.0', 'E-3 1.0'],\n",
       " ['F4 2.0', 'D4 2.0', 'B-3 2.0', 'B-2 2.0'],\n",
       " ['F4 1.0', 'D4 1.0', 'B-3 1.0', 'B-2 1.0'],\n",
       " ['G4 0.5', 'E-4 0.5', 'B-3 0.5', 'E-3 0.5'],\n",
       " ['G4 0.5', 'E-4 0.5', 'B-3 0.5'],\n",
       " ['D-3 0.5'],\n",
       " ['A-4 1.0', 'E-4 1.0', 'A-3 1.0', 'C3 1.0'],\n",
       " ['G4 1.0', 'E-4 1.0', 'B-3 1.0', 'B-2 1.0'],\n",
       " ['C5 1.0', 'E-4 1.0', 'C4 1.0', 'A-2 1.0'],\n",
       " ['B-4 1.0', 'E-4 1.0', 'E-3 1.0', 'G2 1.0'],\n",
       " ['B-4 1.0', 'C4 1.0', 'F3 1.0', 'F2 1.0'],\n",
       " ['A-4 1.0', 'D4 1.0', 'F3 1.0', 'B-2 1.0'],\n",
       " ['G4 1.0', 'E-4 1.0', 'E-3 1.0', 'C3 1.0'],\n",
       " ['E-4 1.0', 'C4 1.0', 'G3 1.0', 'C3 1.0'],\n",
       " ['G4 1.0', 'E-4 1.0', 'B-3 1.0', 'G2 1.0'],\n",
       " ['F4 1.0', 'C4 1.0', 'A-3 1.0', 'A-2 1.0'],\n",
       " ['E-4 1.0', 'B-3 1.0', 'G3 1.0', 'B-2 1.0'],\n",
       " ['D4 0.5', 'B-3 0.5', 'F3 0.5', 'B-2 0.5'],\n",
       " ['D4 0.5', 'B-3 0.5', 'B-2 0.5'],\n",
       " ['A-3 0.5'],\n",
       " ['E-4 2.0', 'B-3 2.0', 'G3 2.0', 'E-3 2.0'],\n",
       " ['E-4 1.0', 'B-3 1.0', 'G3 1.0', 'E-3 1.0']]"
      ]
     },
     "execution_count": 37,
     "metadata": {},
     "output_type": "execute_result"
    }
   ],
   "source": [
    "new_p"
   ]
  },
  {
   "cell_type": "code",
   "execution_count": null,
   "metadata": {},
   "outputs": [],
   "source": []
  },
  {
   "cell_type": "code",
   "execution_count": 67,
   "metadata": {},
   "outputs": [
    {
     "data": {
      "text/plain": [
       "[['D4 1.0', 'F#4 1.0', 'D3 1.0', 'A3 1.0'],\n",
       " ['D4 1.0', 'F#4 1.0', 'D3 1.0', 'A3 1.0'],\n",
       " ['D4 1.0', 'F#4 1.0', 'A2 1.0', 'A3 1.0'],\n",
       " ['F#4 1.0', 'A4 1.0', 'A2 1.0', 'A3 1.0'],\n",
       " ['C#4 1.0', 'G4 1.0', 'E3 1.0', 'A3 1.0'],\n",
       " ['C#4 0.5', 'G4 0.5', 'E3 0.5', 'A3 0.5'],\n",
       " ['C#4 0.5', 'F#4 0.5', 'D#3 0.5', 'A3 0.5'],\n",
       " ['C#4 1.0', 'G4 1.0', 'E3 1.0', 'A3 1.0'],\n",
       " ['C#4 1.0', 'B4 1.0', 'A2 1.0', 'A3 1.0'],\n",
       " ['D4 1.0', 'A4 1.0', 'F#3 1.0', 'A3 1.0'],\n",
       " ['D4 1.0', 'G#4 1.0', 'F#3 1.0', 'A3 1.0'],\n",
       " ['D4 1.0', 'A4 1.0', 'F#2 1.0', 'A3 1.0'],\n",
       " ['D4 1.0', 'D5 1.0', 'B2 1.0', 'G3 1.0'],\n",
       " ['D5 1.0', 'E4 1.0', 'A2 1.0', 'A3 1.0'],\n",
       " ['E4 1.0', 'A2 1.0', 'A3 1.0'],\n",
       " ['D5 1.0', 'E4 1.0', 'A2 1.0', 'A3 1.0'],\n",
       " ['C#5 1.0'],\n",
       " ['A4 1.0', 'D5 1.0', 'Rest 1.0', 'F#3 1.0', 'D4 1.0'],\n",
       " ['G4 1.0', 'B4 1.0', 'G3 1.0', 'D4 1.0'],\n",
       " ['D4 1.0', 'A4 1.0', 'F#3 1.0', 'A3 1.0'],\n",
       " ['D4 1.0', 'G4 1.0', 'E3 1.0', 'B3 1.0'],\n",
       " ['C#4 1.0', 'A4 1.0', 'A2 1.0', 'A3 1.0'],\n",
       " ['D4 1.0', 'F#4 1.0', 'D3 1.0', 'A3 1.0'],\n",
       " ['E4 1.0', 'G#4 1.0', 'D3 1.0', 'B3 1.0'],\n",
       " ['E4 1.0', 'A4 1.0', 'C#3 1.0', 'A3 1.0'],\n",
       " ['F#4 1.0', 'B4 1.0', 'D3 1.0', 'A3 1.0'],\n",
       " ['E4 1.0', 'C#5 1.0', 'E3 1.0', 'A3 1.0'],\n",
       " ['C#5 1.0'],\n",
       " ['E4 1.0', 'C#5 1.0', 'E3 1.0', 'A3 1.0'],\n",
       " ['Rest 1.0', 'E3 1.0', 'G#3 1.0'],\n",
       " ['E3 1.0', 'G#3 1.0'],\n",
       " ['B4 1.0', 'D4 1.0'],\n",
       " ['D4 1.0'],\n",
       " ['A2 2.0', 'A3 2.0', 'Rest 2.0', 'Rest 2.0'],\n",
       " ['A2 1.0', 'A3 1.0', 'Rest 1.0', 'Rest 1.0'],\n",
       " ['C#4 2.0', 'A4 2.0', 'Rest 2.0', 'Rest 2.0'],\n",
       " ['C#4 1.0', 'A4 1.0', 'Rest 1.0', 'Rest 1.0'],\n",
       " ['A3 1.0', 'A3 1.0'],\n",
       " ['A4 1.0', 'A4 1.0', 'A3 1.0', 'C#4 1.0'],\n",
       " ['A3 0.5', 'C#4 0.5'],\n",
       " ['G4 1.0', 'E5 1.0'],\n",
       " ['G4 0.5', 'E5 0.5'],\n",
       " ['A2 0.5', 'C#4 0.5'],\n",
       " ['B2 1.0', 'D4 1.0'],\n",
       " ['G4 0.5', 'C#5 0.5'],\n",
       " ['F#4 1.0', 'A4 1.0', 'C#3 1.0', 'A3 1.0'],\n",
       " ['E4 1.0', 'G4 1.0', 'D3 1.0', 'A3 1.0'],\n",
       " ['D4 1.0', 'F#4 1.0', 'Rest 1.0', 'Rest 1.0', 'E3 1.0', 'A3 1.0'],\n",
       " ['Rest 1.0', 'Rest 1.0'],\n",
       " ['Rest 1.0', 'Rest 1.0'],\n",
       " ['C#4 1.0', 'G4 1.0', 'F#3 1.0', 'A3 1.0'],\n",
       " ['D4 1.0', 'A4 1.0', 'F#3 1.0', 'A3 1.0'],\n",
       " ['D4 1.0', 'D4 1.0', 'G3 1.0', 'B3 1.0'],\n",
       " ['D4 1.0', 'D4 1.0', 'G2 1.0', 'D3 1.0'],\n",
       " ['B3 1.0', 'G4 1.0', 'B4 1.0', 'Rest 1.0', 'G2 1.0', 'D#3 1.0'],\n",
       " ['Rest 1.0'],\n",
       " ['Rest 1.0'],\n",
       " ['B3 1.0', 'F#4 1.0', 'A4 1.0', 'G2 1.0', 'E3 1.0'],\n",
       " ['B3 1.0', 'E4 1.0', 'G4 1.0', 'A2 1.0', 'F#3 1.0'],\n",
       " ['A2 1.0', 'F#3 1.0'],\n",
       " ['A3 1.0', 'D4 1.0', 'F#4 1.0'],\n",
       " ['F#4 1.0'],\n",
       " ['A3 1.0', 'D4 1.0', 'F#4 1.0'],\n",
       " ['A2 1.0', 'G3 1.0'],\n",
       " ['A2 1.0', 'G3 1.0'],\n",
       " ['Rest 1.0'],\n",
       " ['E4 1.0', 'C#4 1.0', 'D3 1.0', 'F#3 1.0'],\n",
       " ['D3 2.0', 'F#3 2.0'],\n",
       " ['C#4 1.0', 'D3 1.0', 'F#3 1.0'],\n",
       " ['D4 2.0', 'D4 2.0'],\n",
       " ['D4 1.0', 'D4 1.0'],\n",
       " ['D4 1.0', 'D4 1.0']]"
      ]
     },
     "execution_count": 67,
     "metadata": {},
     "output_type": "execute_result"
    }
   ],
   "source": [
    "t"
   ]
  },
  {
   "cell_type": "code",
   "execution_count": 68,
   "metadata": {},
   "outputs": [],
   "source": [
    "p = [['E-4 5.0', 'A-3 2.0'], ['E-4 3.0', 'D-4 5.0']]\n",
    "new_p = []\n",
    "\n",
    "for f in p:\n",
    "    pp=[]\n",
    "    pl=[]\n",
    "    for y in f:\n",
    "        pitch, duration = y.split()\n",
    "        duration_float = float(duration)\n",
    "\n",
    "        if duration_float >= 1.0 and duration_float % 2 == 1.0:\n",
    "            # If duration is greater than or equal to 1.0 and odd, subtract 1.0 from it\n",
    "            new_duration = duration_float - 1.0\n",
    "            pp.append(f\"{pitch} {new_duration:.1f}\")\n",
    "            pl.append(f\"{pitch} 1.0\")\n",
    "        else:\n",
    "            pp.append(y)\n",
    "    new_p.append(pp)\n",
    "    if pl:\n",
    "        new_p.append(pl)"
   ]
  },
  {
   "cell_type": "code",
   "execution_count": 69,
   "metadata": {},
   "outputs": [
    {
     "data": {
      "text/plain": [
       "[['E-4 4.0', 'A-3 2.0'],\n",
       " ['E-4 1.0'],\n",
       " ['E-4 2.0', 'D-4 4.0'],\n",
       " ['E-4 1.0', 'D-4 1.0']]"
      ]
     },
     "execution_count": 69,
     "metadata": {},
     "output_type": "execute_result"
    }
   ],
   "source": [
    "new_p"
   ]
  },
  {
   "cell_type": "code",
   "execution_count": null,
   "metadata": {},
   "outputs": [],
   "source": []
  },
  {
   "cell_type": "code",
   "execution_count": null,
   "metadata": {},
   "outputs": [],
   "source": []
  },
  {
   "cell_type": "code",
   "execution_count": null,
   "metadata": {},
   "outputs": [],
   "source": []
  },
  {
   "cell_type": "code",
   "execution_count": null,
   "metadata": {},
   "outputs": [],
   "source": []
  },
  {
   "cell_type": "code",
   "execution_count": 70,
   "metadata": {},
   "outputs": [
    {
     "name": "stdout",
     "output_type": "stream",
     "text": [
      "[['E-4 5.0'], ['E-4 1.0'], ['C4 1.0', 'E-4 1.0', 'A-2 1.0', 'A-3 1.0'], ['E-4 1.0', 'A-3 1.0'], ['E-4 1.0', 'A-3 1.0'], ['E-4 2.0'], ['E-4 1.0'], ['C4 1.0', 'C4 1.0', 'A-2 1.0', 'A-3 1.0'], ['C4 1.0', 'A-3 1.0'], ['E-4 1.0', 'C3 1.0']]\n"
     ]
    }
   ],
   "source": [
    "k = [['E-4 6.0'],\n",
    " ['C4 1.0', 'E-4 1.0', 'A-2 1.0', 'A-3 1.0'],\n",
    " ['E-4 2.0', 'A-3 2.0'],\n",
    " ['E-4 3.0'],\n",
    " ['C4 1.0', 'C4 1.0', 'A-2 1.0', 'A-3 1.0'],\n",
    " ['C4 1.0', 'A-3 1.0'],\n",
    " ['E-4 1.0', 'C3 1.0']]\n",
    "\n",
    "# Create a new list to store the modified elements\n",
    "new_k = []\n",
    "\n",
    "# Iterate through the sublists in 'k'\n",
    "for sublist_k in k:\n",
    "    modified_sublist = []\n",
    "    remaining_sublist = []\n",
    "    for element in sublist_k:\n",
    "        # print(element)\n",
    "        pitch, duration = element.split()  # Split the element into pitch and duration\n",
    "        duration_float = float(duration)  # Convert duration to a float\n",
    "        if duration_float > 1.0:\n",
    "            if duration_float % 1 == 0.5:\n",
    "                # If duration ends with '.5', subtract 0.5 and add '.0' to the duration\n",
    "                modified_duration = f\"{duration_float - 0.5:.1f}\"\n",
    "                modified_sublist.append(f\"{pitch} {modified_duration}\")\n",
    "                remaining_sublist.append(f\"{pitch} 0.5\")  # Add a new element with '0.5' duration\n",
    "            else:\n",
    "                # If duration is odd and greater than 1.0, subtract 1.0 and create a sublist for it\n",
    "                modified_duration = f\"{duration_float - 1.0:.1f}\"\n",
    "                modified_sublist.append(f\"{pitch} {modified_duration}\")\n",
    "                remaining_sublist.append(f\"{pitch} 1.0\")\n",
    "        else:\n",
    "            # Otherwise, keep the original element in the modified sublist\n",
    "            modified_sublist.append(element)\n",
    "    new_k.append(modified_sublist)\n",
    "    if remaining_sublist:\n",
    "        new_k.append(remaining_sublist)\n",
    "\n",
    "print(new_k)\n"
   ]
  },
  {
   "cell_type": "code",
   "execution_count": null,
   "metadata": {},
   "outputs": [],
   "source": []
  },
  {
   "cell_type": "code",
   "execution_count": 71,
   "metadata": {},
   "outputs": [
    {
     "name": "stdout",
     "output_type": "stream",
     "text": [
      "[['E-4 6.0'], ['E-4 0.5'], ['A-2 0.0', 'A-3 3.0'], ['A-2 0.5']]\n"
     ]
    }
   ],
   "source": [
    "k = [['E-4 6.5'], ['A-2 0.5', 'A-3 3.0']]\n",
    "\n",
    "# Create a new list to store the modified elements\n",
    "new_k = []\n",
    "\n",
    "# Iterate through the sublists in 'k'\n",
    "for sublist_k in k:\n",
    "    modified_sublist = []\n",
    "    remaining_sublist = []\n",
    "    for element in sublist_k:\n",
    "        pitch, duration = element.split()  # Split the element into pitch and duration\n",
    "        duration_float = float(duration)  # Convert duration to a float\n",
    "        if duration_float % 1 == 0.5:\n",
    "            # If duration ends with '.5', subtract 0.5 and add '.0' to the duration\n",
    "            modified_duration = f\"{duration_float - 0.5:.1f}\"\n",
    "            modified_sublist.append(f\"{pitch} {modified_duration}\")\n",
    "            remaining_sublist.append(f\"{pitch} 0.5\")  # Add a new element with '0.5' duration\n",
    "        else:\n",
    "            # Otherwise, keep the original element in the modified sublist\n",
    "            modified_sublist.append(element)\n",
    "    new_k.append(modified_sublist)\n",
    "    if remaining_sublist:\n",
    "        new_k.append(remaining_sublist)\n",
    "\n",
    "print(new_k)\n"
   ]
  },
  {
   "cell_type": "code",
   "execution_count": 72,
   "metadata": {},
   "outputs": [
    {
     "name": "stdout",
     "output_type": "stream",
     "text": [
      "[['C4 1.0', 'E-4 6.0'], ['C4 0.5', 'E-4 0.5'], ['A-2 0.5', 'A-3 3.0'], ['A-3 0.5']]\n"
     ]
    }
   ],
   "source": [
    "k = [['C4 1.5', 'E-4 6.5'], ['A-2 0.5', 'A-3 3.5']]\n",
    "\n",
    "# Create a new list to store the modified elements\n",
    "new_k = []\n",
    "\n",
    "# Iterate through the sublists in 'k'\n",
    "for sublist_k in k:\n",
    "    modified_sublist = []\n",
    "    remaining_sublist = []\n",
    "    for element in sublist_k:\n",
    "        pitch, duration = element.split()  # Split the element into pitch and duration\n",
    "        duration_float = float(duration)  # Convert duration to a float\n",
    "        if duration_float > 1.0 and duration_float % 1 == 0.5:\n",
    "            # If duration is greater than 1.0 and ends with '.5', subtract 0.5 and add '.0' to the duration\n",
    "            modified_duration = f\"{duration_float - 0.5:.1f}\"\n",
    "            modified_sublist.append(f\"{pitch} {modified_duration}\")\n",
    "            remaining_sublist.append(f\"{pitch} 0.5\")  # Add a new element with '0.5' duration\n",
    "        else:\n",
    "            # Otherwise, keep the original element in the modified sublist\n",
    "            modified_sublist.append(element)\n",
    "    new_k.append(modified_sublist)\n",
    "    if remaining_sublist:\n",
    "        new_k.append(remaining_sublist)\n",
    "\n",
    "print(new_k)\n"
   ]
  },
  {
   "cell_type": "code",
   "execution_count": null,
   "metadata": {},
   "outputs": [],
   "source": []
  },
  {
   "cell_type": "code",
   "execution_count": null,
   "metadata": {},
   "outputs": [],
   "source": []
  },
  {
   "cell_type": "code",
   "execution_count": 73,
   "metadata": {},
   "outputs": [
    {
     "name": "stdout",
     "output_type": "stream",
     "text": [
      "[[1.0], [1.0], [1.0], [1.0], [1.0], [0.5], [0.5], [1.0], [1.0], [1.0], [1.0], [1.0], [1.0], [1.0], [1.0], [1.0], [1.0], [1.0], [1.0], [1.0], [1.0], [1.0], [1.0], [1.0], [1.0], [1.0], [1.0], [1.0], [1.0], [1.0], [1.0], [1.0], [1.0], [2.0], [1.0], [2.0], [1.0], [1.0], [1.0], [0.5], [1.0], [0.5], [0.5], [1.0], [0.5], [1.0], [1.0], [1.0], [1.0], [1.0], [1.0], [1.0], [1.0], [1.0], [1.0], [1.0], [1.0], [1.0], [1.0], [1.0], [1.0], [1.0], [1.0], [1.0], [1.0], [1.0], [1.0], [2.0], [1.0], [2.0], [1.0], [1.0]]\n"
     ]
    }
   ],
   "source": [
    "data = t\n",
    "\n",
    "# Find the highest value of the second item in each sublist\n",
    "max_values = [max(float(note.split()[1]) for note in sublist) for sublist in data]\n",
    "\n",
    "# Modify 'data' to contain the highest values as sublists\n",
    "durate = [[max_value] for max_value in max_values]\n",
    "\n",
    "print(durate)\n",
    "\n"
   ]
  },
  {
   "cell_type": "code",
   "execution_count": 74,
   "metadata": {},
   "outputs": [
    {
     "name": "stdout",
     "output_type": "stream",
     "text": [
      "[[0.5], [0.5], [0.5], [0.5], [0.5], [0.25], [0.25], [0.5], [0.5], [0.5], [0.5], [0.5], [0.5], [0.5], [0.5], [0.5], [0.5], [0.5], [0.5], [0.5], [0.5], [0.5], [0.5], [0.5], [0.5], [0.5], [0.5], [0.5], [0.5], [0.5], [0.5], [0.5], [0.5], [1.0], [0.5], [1.0], [0.5], [0.5], [0.5], [0.25], [0.5], [0.25], [0.25], [0.5], [0.25], [0.5], [0.5], [0.5], [0.5], [0.5], [0.5], [0.5], [0.5], [0.5], [0.5], [0.5], [0.5], [0.5], [0.5], [0.5], [0.5], [0.5], [0.5], [0.5], [0.5], [0.5], [0.5], [1.0], [0.5], [1.0], [0.5], [0.5]]\n"
     ]
    }
   ],
   "source": [
    "c = durate\n",
    "\n",
    "# Iterate through the sublists and divide each element by 2\n",
    "for sublist in c:\n",
    "    for i in range(len(sublist)):\n",
    "        sublist[i] /= 2\n",
    "\n",
    "print(c)\n"
   ]
  },
  {
   "cell_type": "code",
   "execution_count": 75,
   "metadata": {},
   "outputs": [
    {
     "name": "stdout",
     "output_type": "stream",
     "text": [
      "[[0, 'C4 1.0', 'E-4 6.0', 'C4 1.0', 'E-4 6.0'], [1, 'C4 0.5', 'E-4 0.5'], [2, 'A-2 0.5', 'A-3 3.0'], [3, 'A-3 0.5']]\n"
     ]
    }
   ],
   "source": [
    "v = [['C4 1.0', 'E-4 6.0','C4 1.0', 'E-4 6.0'], ['C4 0.5', 'E-4 0.5'], ['A-2 0.5', 'A-3 3.0'], ['A-3 0.5']]\n",
    "\n",
    "result = [[i, *sublist] for i, sublist in enumerate(v)]\n",
    "\n",
    "print((result))\n"
   ]
  },
  {
   "cell_type": "code",
   "execution_count": 76,
   "metadata": {},
   "outputs": [
    {
     "name": "stdout",
     "output_type": "stream",
     "text": [
      "36.5\n"
     ]
    }
   ],
   "source": [
    "x = durate\n",
    "flattened_x = [value for sublist in x for value in sublist]\n",
    "\n",
    "total_sum = sum(flattened_x)\n",
    "\n",
    "print(total_sum)\n"
   ]
  },
  {
   "cell_type": "code",
   "execution_count": null,
   "metadata": {},
   "outputs": [],
   "source": []
  },
  {
   "cell_type": "code",
   "execution_count": 77,
   "metadata": {},
   "outputs": [
    {
     "name": "stdout",
     "output_type": "stream",
     "text": [
      "[['eighth'], ['eighth'], ['eighth'], ['eighth'], ['eighth'], ['16th'], ['16th'], ['eighth'], ['eighth'], ['eighth'], ['eighth'], ['eighth'], ['eighth'], ['eighth'], ['eighth'], ['eighth'], ['eighth'], ['eighth'], ['eighth'], ['eighth'], ['eighth'], ['eighth'], ['eighth'], ['eighth'], ['eighth'], ['eighth'], ['eighth'], ['eighth'], ['eighth'], ['eighth'], ['eighth'], ['eighth'], ['eighth'], ['quarter'], ['eighth'], ['quarter'], ['eighth'], ['eighth'], ['eighth'], ['16th'], ['eighth'], ['16th'], ['16th'], ['eighth'], ['16th'], ['eighth'], ['eighth'], ['eighth'], ['eighth'], ['eighth'], ['eighth'], ['eighth'], ['eighth'], ['eighth'], ['eighth'], ['eighth'], ['eighth'], ['eighth'], ['eighth'], ['eighth'], ['eighth'], ['eighth'], ['eighth'], ['eighth'], ['eighth'], ['eighth'], ['eighth'], ['quarter'], ['eighth'], ['quarter'], ['eighth'], ['eighth']]\n"
     ]
    }
   ],
   "source": [
    "# Define the mapping of durations to names\n",
    "duration_names = {0.5: 'eighth',1.0: 'quarter',0.25: '16th', 2.0: 'half', 4.0: 'whole'}\n",
    "\n",
    "# Given list 'p'\n",
    "p = durate\n",
    "\n",
    "# Convert 'p' to their names\n",
    "durate = [[duration_names[d] for d in sublist] for sublist in p]\n",
    "\n",
    "print(durate)\n"
   ]
  },
  {
   "cell_type": "code",
   "execution_count": 78,
   "metadata": {},
   "outputs": [
    {
     "name": "stdout",
     "output_type": "stream",
     "text": [
      "[['D4', 'F#4', 'D3', 'A3'], ['D4', 'F#4', 'D3', 'A3'], ['D4', 'F#4', 'A2', 'A3'], ['F#4', 'A4', 'A2', 'A3'], ['C#4', 'G4', 'E3', 'A3'], ['C#4', 'G4', 'E3', 'A3'], ['C#4', 'F#4', 'D#3', 'A3'], ['C#4', 'G4', 'E3', 'A3'], ['C#4', 'B4', 'A2', 'A3'], ['D4', 'A4', 'F#3', 'A3'], ['D4', 'G#4', 'F#3', 'A3'], ['D4', 'A4', 'F#2', 'A3'], ['D4', 'D5', 'B2', 'G3'], ['D5', 'E4', 'A2', 'A3'], ['E4', 'A2', 'A3'], ['D5', 'E4', 'A2', 'A3'], ['C#5'], ['A4', 'D5', 'Rest', 'F#3', 'D4'], ['G4', 'B4', 'G3', 'D4'], ['D4', 'A4', 'F#3', 'A3'], ['D4', 'G4', 'E3', 'B3'], ['C#4', 'A4', 'A2', 'A3'], ['D4', 'F#4', 'D3', 'A3'], ['E4', 'G#4', 'D3', 'B3'], ['E4', 'A4', 'C#3', 'A3'], ['F#4', 'B4', 'D3', 'A3'], ['E4', 'C#5', 'E3', 'A3'], ['C#5'], ['E4', 'C#5', 'E3', 'A3'], ['Rest', 'E3', 'G#3'], ['E3', 'G#3'], ['B4', 'D4'], ['D4'], ['A2', 'A3', 'Rest', 'Rest'], ['A2', 'A3', 'Rest', 'Rest'], ['C#4', 'A4', 'Rest', 'Rest'], ['C#4', 'A4', 'Rest', 'Rest'], ['A3', 'A3'], ['A4', 'A4', 'A3', 'C#4'], ['A3', 'C#4'], ['G4', 'E5'], ['G4', 'E5'], ['A2', 'C#4'], ['B2', 'D4'], ['G4', 'C#5'], ['F#4', 'A4', 'C#3', 'A3'], ['E4', 'G4', 'D3', 'A3'], ['D4', 'F#4', 'Rest', 'Rest', 'E3', 'A3'], ['Rest', 'Rest'], ['Rest', 'Rest'], ['C#4', 'G4', 'F#3', 'A3'], ['D4', 'A4', 'F#3', 'A3'], ['D4', 'D4', 'G3', 'B3'], ['D4', 'D4', 'G2', 'D3'], ['B3', 'G4', 'B4', 'Rest', 'G2', 'D#3'], ['Rest'], ['Rest'], ['B3', 'F#4', 'A4', 'G2', 'E3'], ['B3', 'E4', 'G4', 'A2', 'F#3'], ['A2', 'F#3'], ['A3', 'D4', 'F#4'], ['F#4'], ['A3', 'D4', 'F#4'], ['A2', 'G3'], ['A2', 'G3'], ['Rest'], ['E4', 'C#4', 'D3', 'F#3'], ['D3', 'F#3'], ['C#4', 'D3', 'F#3'], ['D4', 'D4'], ['D4', 'D4'], ['D4', 'D4']]\n"
     ]
    }
   ],
   "source": [
    "data = t\n",
    "\n",
    "# Remove the second items in each element in the sublists\n",
    "modified_data = [[note.split()[0] for note in sublist] for sublist in data]\n",
    "\n",
    "print(modified_data)\n"
   ]
  },
  {
   "cell_type": "code",
   "execution_count": 79,
   "metadata": {},
   "outputs": [],
   "source": [
    "# [['B-4', 'E-4', 'G3', 'E-3'], ['E-5', 'G4', 'Rest', 'B-3', 'E-3'], ['Rest'], ['D5', 'G4', 'B-3', 'G3'], ['C5', 'E-4', 'A-3', 'A-3'], ['B-4', 'E-4', 'B-3', 'G3'], ['B-4', 'F4', 'B-3', 'D3'], ['A-4', 'D4', 'B-3', 'B-2'], ['G4', 'E-4', 'B-3', 'E-3'], ['G4', 'E-4', 'B-3', 'E-3'], ['F4', 'C4', 'C4', 'A-3'], ['F4', 'C4', 'A-3'], ['D4'], ['E-4', 'E-4', 'B-3', 'G3'], ['A-4', 'D4', 'Rest', 'A-3', 'F3'], ['Rest'], ['G4', 'E-4', 'B-3', 'E-3'], ['F4', 'D4', 'Rest', 'B-3', 'B-2'], ['F4', 'D4', 'Rest', 'B-3', 'B-2'], ['G4', 'E-4', 'B-3', 'E-3'], ['G4', 'E-4', 'B-3'], ['D-3'], ['A-4', 'E-4', 'A-3', 'C3'], ['G4', 'E-4', 'B-3', 'B-2'], ['C5', 'E-4', 'C4', 'A-2'], ['B-4', 'E-4', 'E-3', 'G2'], ['B-4', 'C4', 'F3', 'F2'], ['A-4', 'D4', 'F3', 'B-2'], ['G4', 'E-4', 'E-3', 'C3'], ['E-4', 'C4', 'G3', 'C3'], ['G4', 'E-4', 'Rest', 'B-3', 'G2'], ['Rest'], ['Rest'], ['F4', 'C4', 'A-3', 'A-2'], ['E-4', 'B-3', 'G3', 'B-2'], ['D4', 'B-3', 'F3', 'B-2'], ['D4', 'B-3', 'B-2'], ['A-3'], ['E-4', 'B-3', 'G3', 'E-3'], ['E-4', 'B-3', 'G3', 'E-3']]\n",
    "# [['D4', 'F#4', 'D3', 'A3'], ['D4', 'F#4', 'D3', 'A3'], ['D4', 'F#4', 'A2', 'A3'], ['F#4', 'A4', 'A2', 'A3'], ['C#4', 'G4', 'E3', 'A3'], ['C#4', 'G4', 'E3', 'A3'], ['C#4', 'F#4', 'D#3', 'A3'], ['C#4', 'G4', 'E3', 'A3'], ['C#4', 'B4', 'A2', 'A3'], ['D4', 'A4', 'F#3', 'A3'], ['D4', 'G#4', 'F#3', 'A3'], ['D4', 'A4', 'F#2', 'A3'], ['D4', 'D5', 'B2', 'G3'], ['D5', 'E4', 'A2', 'A3'], ['E4', 'A2', 'A3'], ['D5', 'E4', 'A2', 'A3'], ['C#5'], ['A4', 'D5', 'Rest', 'F#3', 'D4'], ['G4', 'B4', 'G3', 'D4'], ['D4', 'A4', 'F#3', 'A3'], ['D4', 'G4', 'E3', 'B3'], ['C#4', 'A4', 'A2', 'A3'], ['D4', 'F#4', 'D3', 'A3'], ['E4', 'G#4', 'D3', 'B3'], ['E4', 'A4', 'C#3', 'A3'], ['F#4', 'B4', 'D3', 'A3'], ['E4', 'C#5', 'E3', 'A3'], ['C#5'], ['E4', 'C#5', 'E3', 'A3'], ['Rest', 'E3', 'G#3'], ['E3', 'G#3'], ['B4', 'D4'], ['D4'], ['A2', 'A3', 'Rest', 'Rest'], ['A2', 'A3', 'Rest', 'Rest'], ['C#4', 'A4', 'Rest', 'Rest'], ['C#4', 'A4', 'Rest', 'Rest'], ['A3', 'A3'], ['A4', 'A4', 'A3', 'C#4'], ['A3', 'C#4'], ['G4', 'E5'], ['G4', 'E5'], ['A2', 'C#4'], ['B2', 'D4'], ['G4', 'C#5'], ['F#4', 'A4', 'C#3', 'A3'], ['E4', 'G4', 'D3', 'A3'], ['D4', 'F#4', 'Rest', 'Rest', 'E3', 'A3'], ['Rest', 'Rest'], ['Rest', 'Rest'], ['C#4', 'G4', 'F#3', 'A3'], ['D4', 'A4', 'F#3', 'A3'], ['D4', 'D4', 'G3', 'B3'], ['D4', 'D4', 'G2', 'D3'], ['B3', 'G4', 'B4', 'Rest', 'G2', 'D#3'], ['Rest'], ['Rest'], ['B3', 'F#4', 'A4', 'G2', 'E3'], ['B3', 'E4', 'G4', 'A2', 'F#3'], ['A2', 'F#3'], ['A3', 'D4', 'F#4'], ['F#4'], ['A3', 'D4', 'F#4'], ['A2', 'G3'], ['A2', 'G3'], ['Rest'], ['E4', 'C#4', 'D3', 'F#3'], ['D3', 'F#3'], ['C#4', 'D3', 'F#3'], ['D4', 'D4'], ['D4', 'D4'], ['D4', 'D4']]\n"
   ]
  },
  {
   "cell_type": "code",
   "execution_count": null,
   "metadata": {},
   "outputs": [],
   "source": [
    "modified_data"
   ]
  },
  {
   "cell_type": "code",
   "execution_count": 85,
   "metadata": {},
   "outputs": [
    {
     "ename": "PitchException",
     "evalue": "Cannot make a step out of 'R'",
     "output_type": "error",
     "traceback": [
      "\u001b[1;31m---------------------------------------------------------------------------\u001b[0m",
      "\u001b[1;31mPitchException\u001b[0m                            Traceback (most recent call last)",
      "\u001b[1;32mc:\\Users\\KOFI ADUKPO\\Desktop\\code\\aseda\\tries\\dvv.ipynb Cell 31\u001b[0m line \u001b[0;36m1\n\u001b[0;32m     <a href='vscode-notebook-cell:/c%3A/Users/KOFI%20ADUKPO/Desktop/code/aseda/tries/dvv.ipynb#X36sZmlsZQ%3D%3D?line=9'>10</a>\u001b[0m \u001b[39m# Iterate through the chord lists and add them to the stream\u001b[39;00m\n\u001b[0;32m     <a href='vscode-notebook-cell:/c%3A/Users/KOFI%20ADUKPO/Desktop/code/aseda/tries/dvv.ipynb#X36sZmlsZQ%3D%3D?line=10'>11</a>\u001b[0m \u001b[39mfor\u001b[39;00m chord_notes \u001b[39min\u001b[39;00m chords:\n\u001b[1;32m---> <a href='vscode-notebook-cell:/c%3A/Users/KOFI%20ADUKPO/Desktop/code/aseda/tries/dvv.ipynb#X36sZmlsZQ%3D%3D?line=11'>12</a>\u001b[0m     chord_obj \u001b[39m=\u001b[39m chord\u001b[39m.\u001b[39;49mChord(chord_notes)\n\u001b[0;32m     <a href='vscode-notebook-cell:/c%3A/Users/KOFI%20ADUKPO/Desktop/code/aseda/tries/dvv.ipynb#X36sZmlsZQ%3D%3D?line=12'>13</a>\u001b[0m     music_stream\u001b[39m.\u001b[39mappend(chord_obj)\n\u001b[0;32m     <a href='vscode-notebook-cell:/c%3A/Users/KOFI%20ADUKPO/Desktop/code/aseda/tries/dvv.ipynb#X36sZmlsZQ%3D%3D?line=14'>15</a>\u001b[0m music_stream\u001b[39m.\u001b[39mshow(\u001b[39m'\u001b[39m\u001b[39mmidi\u001b[39m\u001b[39m'\u001b[39m)\n",
      "File \u001b[1;32mc:\\Users\\KOFI ADUKPO\\Desktop\\code\\aenv\\lib\\site-packages\\music21\\chord\\__init__.py:727\u001b[0m, in \u001b[0;36mChord.__init__\u001b[1;34m(self, notes, **keywords)\u001b[0m\n\u001b[0;32m    723\u001b[0m \u001b[39mif\u001b[39;00m notes \u001b[39mis\u001b[39;00m \u001b[39mnot\u001b[39;00m \u001b[39mNone\u001b[39;00m \u001b[39mand\u001b[39;00m \u001b[39many\u001b[39m(\u001b[39misinstance\u001b[39m(n, note\u001b[39m.\u001b[39mGeneralNote)\n\u001b[0;32m    724\u001b[0m                              \u001b[39mand\u001b[39;00m \u001b[39mnot\u001b[39;00m \u001b[39misinstance\u001b[39m(n, (note\u001b[39m.\u001b[39mNote, Chord))\n\u001b[0;32m    725\u001b[0m                              \u001b[39mfor\u001b[39;00m n \u001b[39min\u001b[39;00m notes):\n\u001b[0;32m    726\u001b[0m     \u001b[39mraise\u001b[39;00m \u001b[39mTypeError\u001b[39;00m(\u001b[39mf\u001b[39m\u001b[39m'\u001b[39m\u001b[39mUse a PercussionChord to contain Unpitched objects; got \u001b[39m\u001b[39m{\u001b[39;00mnotes\u001b[39m}\u001b[39;00m\u001b[39m'\u001b[39m)\n\u001b[1;32m--> 727\u001b[0m \u001b[39msuper\u001b[39m()\u001b[39m.\u001b[39m\u001b[39m__init__\u001b[39m(notes\u001b[39m=\u001b[39mnotes, \u001b[39m*\u001b[39m\u001b[39m*\u001b[39mkeywords)\n\u001b[0;32m    729\u001b[0m \u001b[39m# if there were a covariant list, we would use that instead.\u001b[39;00m\n\u001b[0;32m    730\u001b[0m \u001b[39mself\u001b[39m\u001b[39m.\u001b[39m_notes: t\u001b[39m.\u001b[39mList[note\u001b[39m.\u001b[39mNote]  \u001b[39m# type: ignore\u001b[39;00m\n",
      "File \u001b[1;32mc:\\Users\\KOFI ADUKPO\\Desktop\\code\\aenv\\lib\\site-packages\\music21\\chord\\__init__.py:116\u001b[0m, in \u001b[0;36mChordBase.__init__\u001b[1;34m(self, notes, **keywords)\u001b[0m\n\u001b[0;32m    113\u001b[0m \u001b[39mif\u001b[39;00m \u001b[39m'\u001b[39m\u001b[39mduration\u001b[39m\u001b[39m'\u001b[39m \u001b[39min\u001b[39;00m keywords:\n\u001b[0;32m    114\u001b[0m     durationKeyword \u001b[39m=\u001b[39m keywords[\u001b[39m'\u001b[39m\u001b[39mduration\u001b[39m\u001b[39m'\u001b[39m]\n\u001b[1;32m--> 116\u001b[0m durationKeyword \u001b[39m=\u001b[39m \u001b[39mself\u001b[39;49m\u001b[39m.\u001b[39;49m_add_core_or_init(notes, useDuration\u001b[39m=\u001b[39;49mdurationKeyword)\n\u001b[0;32m    118\u001b[0m \u001b[39mif\u001b[39;00m durationKeyword \u001b[39mis\u001b[39;00m \u001b[39mnot\u001b[39;00m \u001b[39mNone\u001b[39;00m:\n\u001b[0;32m    119\u001b[0m     \u001b[39mself\u001b[39m\u001b[39m.\u001b[39mduration \u001b[39m=\u001b[39m durationKeyword\n",
      "File \u001b[1;32mc:\\Users\\KOFI ADUKPO\\Desktop\\code\\aenv\\lib\\site-packages\\music21\\chord\\__init__.py:238\u001b[0m, in \u001b[0;36mChordBase._add_core_or_init\u001b[1;34m(self, notes, useDuration)\u001b[0m\n\u001b[0;32m    236\u001b[0m \u001b[39melif\u001b[39;00m \u001b[39misinstance\u001b[39m(n, (\u001b[39mstr\u001b[39m, \u001b[39mint\u001b[39m)):\n\u001b[0;32m    237\u001b[0m     \u001b[39mif\u001b[39;00m useDuration:\n\u001b[1;32m--> 238\u001b[0m         \u001b[39mself\u001b[39m\u001b[39m.\u001b[39m_notes\u001b[39m.\u001b[39mappend(note\u001b[39m.\u001b[39;49mNote(n, duration\u001b[39m=\u001b[39;49museDuration))\n\u001b[0;32m    239\u001b[0m     \u001b[39melse\u001b[39;00m:\n\u001b[0;32m    240\u001b[0m         \u001b[39mself\u001b[39m\u001b[39m.\u001b[39m_notes\u001b[39m.\u001b[39mappend(note\u001b[39m.\u001b[39mNote(n))\n",
      "File \u001b[1;32mc:\\Users\\KOFI ADUKPO\\Desktop\\code\\aenv\\lib\\site-packages\\music21\\note.py:1471\u001b[0m, in \u001b[0;36mNote.__init__\u001b[1;34m(self, pitch, name, nameWithOctave, **keywords)\u001b[0m\n\u001b[0;32m   1469\u001b[0m         \u001b[39mself\u001b[39m\u001b[39m.\u001b[39mpitch \u001b[39m=\u001b[39m pitch\n\u001b[0;32m   1470\u001b[0m     \u001b[39melse\u001b[39;00m:  \u001b[39m# assume first argument is pitch\u001b[39;00m\n\u001b[1;32m-> 1471\u001b[0m         \u001b[39mself\u001b[39m\u001b[39m.\u001b[39mpitch \u001b[39m=\u001b[39m Pitch(pitch, \u001b[39m*\u001b[39m\u001b[39m*\u001b[39mkeywords)\n\u001b[0;32m   1472\u001b[0m \u001b[39melse\u001b[39;00m:  \u001b[39m# supply a default pitch\u001b[39;00m\n\u001b[0;32m   1473\u001b[0m     \u001b[39mif\u001b[39;00m nameWithOctave \u001b[39mis\u001b[39;00m \u001b[39mnot\u001b[39;00m \u001b[39mNone\u001b[39;00m:\n",
      "File \u001b[1;32mc:\\Users\\KOFI ADUKPO\\Desktop\\code\\aenv\\lib\\site-packages\\music21\\pitch.py:1848\u001b[0m, in \u001b[0;36mPitch.__init__\u001b[1;34m(self, name, step, octave, accidental, microtone, pitchClass, midi, ps, fundamental, **keywords)\u001b[0m\n\u001b[0;32m   1846\u001b[0m \u001b[39mif\u001b[39;00m name \u001b[39mis\u001b[39;00m \u001b[39mnot\u001b[39;00m \u001b[39mNone\u001b[39;00m:\n\u001b[0;32m   1847\u001b[0m     \u001b[39mif\u001b[39;00m \u001b[39misinstance\u001b[39m(name, \u001b[39mstr\u001b[39m):\n\u001b[1;32m-> 1848\u001b[0m         \u001b[39mself\u001b[39;49m\u001b[39m.\u001b[39;49mname \u001b[39m=\u001b[39m name  \u001b[39m# set based on string\u001b[39;00m\n\u001b[0;32m   1849\u001b[0m     \u001b[39melse\u001b[39;00m:  \u001b[39m# is a number\u001b[39;00m\n\u001b[0;32m   1850\u001b[0m         \u001b[39m# is a midiNumber or a ps -- a float midiNumber\u001b[39;00m\n\u001b[0;32m   1851\u001b[0m         \u001b[39m# get step and accidental w/o octave\u001b[39;00m\n\u001b[0;32m   1852\u001b[0m         \u001b[39mself\u001b[39m\u001b[39m.\u001b[39mstep, \u001b[39mself\u001b[39m\u001b[39m.\u001b[39m_accidental \u001b[39m=\u001b[39m _convertPsToStep(name)[\u001b[39m0\u001b[39m:\u001b[39m2\u001b[39m]\n",
      "File \u001b[1;32mc:\\Users\\KOFI ADUKPO\\Desktop\\code\\aenv\\lib\\site-packages\\music21\\pitch.py:2679\u001b[0m, in \u001b[0;36mPitch.name\u001b[1;34m(self, usrStr)\u001b[0m\n\u001b[0;32m   2677\u001b[0m \u001b[39m# assume everything following pitch is accidental specification\u001b[39;00m\n\u001b[0;32m   2678\u001b[0m \u001b[39melif\u001b[39;00m \u001b[39mlen\u001b[39m(usrStr) \u001b[39m>\u001b[39m \u001b[39m1\u001b[39m:\n\u001b[1;32m-> 2679\u001b[0m     \u001b[39mself\u001b[39;49m\u001b[39m.\u001b[39;49mstep \u001b[39m=\u001b[39m usrStr[\u001b[39m0\u001b[39m]  \u001b[39m# type: ignore\u001b[39;00m\n\u001b[0;32m   2680\u001b[0m     \u001b[39mself\u001b[39m\u001b[39m.\u001b[39maccidental \u001b[39m=\u001b[39m Accidental(usrStr[\u001b[39m1\u001b[39m:])\n\u001b[0;32m   2681\u001b[0m \u001b[39melse\u001b[39;00m:\n",
      "File \u001b[1;32mc:\\Users\\KOFI ADUKPO\\Desktop\\code\\aenv\\lib\\site-packages\\music21\\pitch.py:2879\u001b[0m, in \u001b[0;36mPitch.step\u001b[1;34m(self, usrStr)\u001b[0m\n\u001b[0;32m   2877\u001b[0m     \u001b[39mself\u001b[39m\u001b[39m.\u001b[39mspellingIsInferred \u001b[39m=\u001b[39m \u001b[39mFalse\u001b[39;00m\n\u001b[0;32m   2878\u001b[0m \u001b[39melse\u001b[39;00m:\n\u001b[1;32m-> 2879\u001b[0m     \u001b[39mraise\u001b[39;00m PitchException(\u001b[39mf\u001b[39m\u001b[39m'\u001b[39m\u001b[39mCannot make a step out of \u001b[39m\u001b[39m{\u001b[39;00musrStr\u001b[39m!r}\u001b[39;00m\u001b[39m'\u001b[39m)\n\u001b[0;32m   2880\u001b[0m \u001b[39mself\u001b[39m\u001b[39m.\u001b[39minformClient()\n",
      "\u001b[1;31mPitchException\u001b[0m: Cannot make a step out of 'R'"
     ]
    }
   ],
   "source": [
    "from music21 import stream, note, chord, midi\n",
    "\n",
    "# Define the chords as lists of note names\n",
    "chords = modified_data\n",
    "\n",
    "# chords=notes_and_rests_by_time\n",
    "# Create a stream to store the notes\n",
    "music_stream = stream.Stream()\n",
    "\n",
    "# Iterate through the chord lists and add them to the stream\n",
    "for chord_notes in chords:\n",
    "    chord_obj = chord.Chord(chord_notes)\n",
    "    music_stream.append(chord_obj)\n",
    "\n",
    "music_stream.show('midi')\n"
   ]
  },
  {
   "cell_type": "code",
   "execution_count": null,
   "metadata": {},
   "outputs": [],
   "source": []
  },
  {
   "cell_type": "code",
   "execution_count": null,
   "metadata": {},
   "outputs": [],
   "source": []
  },
  {
   "cell_type": "code",
   "execution_count": 81,
   "metadata": {},
   "outputs": [
    {
     "data": {
      "text/html": [
       "\n",
       "                <div id=\"midiPlayerDiv1307\"></div>\n",
       "                <link rel=\"stylesheet\" href=\"https://cuthbertLab.github.io/music21j/css/m21.css\">\n",
       "                \n",
       "                <script>\n",
       "                require.config({\n",
       "                    paths: {\n",
       "                        'music21': 'https://cuthbertLab.github.io/music21j/releases/music21.debug',\n",
       "                    }\n",
       "                });\n",
       "                require(['music21'], function(music21) {\n",
       "                    mp = new music21.miditools.MidiPlayer();\n",
       "                    mp.addPlayer(\"#midiPlayerDiv1307\");\n",
       "                    mp.base64Load(\"data:audio/midi;base64,TVRoZAAAAAYAAQACBABNVHJrAAAAFAD/UQMHoSAA/1gEBAIYCIgA/y8ATVRyawAAAHEA/wMAAOAAQIgAkENaAJA7WgCQMloAkCtakACAQwAAgDsAAIAyAACAKwAAkENaAJA7WgCQMloAkCtahACAQwAAgDsAAIAyAACAKwAAkENaAJA7WgCQMloAkCtaiACAQwAAgDsAAIAyAACAKwCIAP8vAA==\");\n",
       "                });\n",
       "                </script>"
      ],
      "text/plain": [
       "<IPython.core.display.HTML object>"
      ]
     },
     "metadata": {},
     "output_type": "display_data"
    }
   ],
   "source": [
    "from music21 import stream, chord, midi\n",
    "\n",
    "# Define the chords as lists of note names\n",
    "chords = [['G4', 'B3', 'D3', 'G2'],\n",
    "          ['G4', 'B3', 'D3', 'G2'],\n",
    "          ['G4', 'B3', 'D3', 'G2']]\n",
    "\n",
    "# Create a stream to store the notes\n",
    "music_stream = stream.Stream()\n",
    "\n",
    "# Create a chord object for the first chord (2.0 duration)\n",
    "chord_0 = chord.Chord(chords[0])\n",
    "chord_0.duration.type = 'half'  # Set the duration to 2.0 (2 half notes)\n",
    "music_stream.append(chord_0)\n",
    "\n",
    "# Create a chord object for the second chord (0.5 duration)\n",
    "chord_1 = chord.Chord(chords[1])\n",
    "chord_1.duration.type = 'eighth'  # Set the duration to 0.5 (1 eighth note)\n",
    "music_stream.append(chord_1)\n",
    "\n",
    "# Create a chord object for the third chord (1.0 duration)\n",
    "chord_2 = chord.Chord(chords[2])\n",
    "chord_2.duration.type = 'quarter'  # Set the duration to 1.0 (1 quarter note)\n",
    "music_stream.append(chord_2)\n",
    "\n",
    "music_stream.show('midi')\n"
   ]
  },
  {
   "cell_type": "code",
   "execution_count": null,
   "metadata": {},
   "outputs": [],
   "source": []
  },
  {
   "cell_type": "code",
   "execution_count": 82,
   "metadata": {},
   "outputs": [
    {
     "ename": "PitchException",
     "evalue": "Cannot make a step out of 'R'",
     "output_type": "error",
     "traceback": [
      "\u001b[1;31m---------------------------------------------------------------------------\u001b[0m",
      "\u001b[1;31mPitchException\u001b[0m                            Traceback (most recent call last)",
      "\u001b[1;32mc:\\Users\\KOFI ADUKPO\\Desktop\\code\\aseda\\tries\\dvv.ipynb Cell 34\u001b[0m line \u001b[0;36m1\n\u001b[0;32m     <a href='vscode-notebook-cell:/c%3A/Users/KOFI%20ADUKPO/Desktop/code/aseda/tries/dvv.ipynb#X44sZmlsZQ%3D%3D?line=11'>12</a>\u001b[0m \u001b[39mfor\u001b[39;00m i, chord_notes \u001b[39min\u001b[39;00m \u001b[39menumerate\u001b[39m(chords):\n\u001b[0;32m     <a href='vscode-notebook-cell:/c%3A/Users/KOFI%20ADUKPO/Desktop/code/aseda/tries/dvv.ipynb#X44sZmlsZQ%3D%3D?line=12'>13</a>\u001b[0m     \u001b[39mif\u001b[39;00m i \u001b[39m<\u001b[39m \u001b[39mlen\u001b[39m(durations):\n\u001b[1;32m---> <a href='vscode-notebook-cell:/c%3A/Users/KOFI%20ADUKPO/Desktop/code/aseda/tries/dvv.ipynb#X44sZmlsZQ%3D%3D?line=13'>14</a>\u001b[0m         chord_obj \u001b[39m=\u001b[39m chord\u001b[39m.\u001b[39;49mChord(chord_notes)\n\u001b[0;32m     <a href='vscode-notebook-cell:/c%3A/Users/KOFI%20ADUKPO/Desktop/code/aseda/tries/dvv.ipynb#X44sZmlsZQ%3D%3D?line=14'>15</a>\u001b[0m         chord_obj\u001b[39m.\u001b[39mduration\u001b[39m.\u001b[39mtype \u001b[39m=\u001b[39m (durations[i])[\u001b[39m0\u001b[39m]\n\u001b[0;32m     <a href='vscode-notebook-cell:/c%3A/Users/KOFI%20ADUKPO/Desktop/code/aseda/tries/dvv.ipynb#X44sZmlsZQ%3D%3D?line=15'>16</a>\u001b[0m         music_stream\u001b[39m.\u001b[39mappend(chord_obj)\n",
      "File \u001b[1;32mc:\\Users\\KOFI ADUKPO\\Desktop\\code\\aenv\\lib\\site-packages\\music21\\chord\\__init__.py:727\u001b[0m, in \u001b[0;36mChord.__init__\u001b[1;34m(self, notes, **keywords)\u001b[0m\n\u001b[0;32m    723\u001b[0m \u001b[39mif\u001b[39;00m notes \u001b[39mis\u001b[39;00m \u001b[39mnot\u001b[39;00m \u001b[39mNone\u001b[39;00m \u001b[39mand\u001b[39;00m \u001b[39many\u001b[39m(\u001b[39misinstance\u001b[39m(n, note\u001b[39m.\u001b[39mGeneralNote)\n\u001b[0;32m    724\u001b[0m                              \u001b[39mand\u001b[39;00m \u001b[39mnot\u001b[39;00m \u001b[39misinstance\u001b[39m(n, (note\u001b[39m.\u001b[39mNote, Chord))\n\u001b[0;32m    725\u001b[0m                              \u001b[39mfor\u001b[39;00m n \u001b[39min\u001b[39;00m notes):\n\u001b[0;32m    726\u001b[0m     \u001b[39mraise\u001b[39;00m \u001b[39mTypeError\u001b[39;00m(\u001b[39mf\u001b[39m\u001b[39m'\u001b[39m\u001b[39mUse a PercussionChord to contain Unpitched objects; got \u001b[39m\u001b[39m{\u001b[39;00mnotes\u001b[39m}\u001b[39;00m\u001b[39m'\u001b[39m)\n\u001b[1;32m--> 727\u001b[0m \u001b[39msuper\u001b[39m()\u001b[39m.\u001b[39m\u001b[39m__init__\u001b[39m(notes\u001b[39m=\u001b[39mnotes, \u001b[39m*\u001b[39m\u001b[39m*\u001b[39mkeywords)\n\u001b[0;32m    729\u001b[0m \u001b[39m# if there were a covariant list, we would use that instead.\u001b[39;00m\n\u001b[0;32m    730\u001b[0m \u001b[39mself\u001b[39m\u001b[39m.\u001b[39m_notes: t\u001b[39m.\u001b[39mList[note\u001b[39m.\u001b[39mNote]  \u001b[39m# type: ignore\u001b[39;00m\n",
      "File \u001b[1;32mc:\\Users\\KOFI ADUKPO\\Desktop\\code\\aenv\\lib\\site-packages\\music21\\chord\\__init__.py:116\u001b[0m, in \u001b[0;36mChordBase.__init__\u001b[1;34m(self, notes, **keywords)\u001b[0m\n\u001b[0;32m    113\u001b[0m \u001b[39mif\u001b[39;00m \u001b[39m'\u001b[39m\u001b[39mduration\u001b[39m\u001b[39m'\u001b[39m \u001b[39min\u001b[39;00m keywords:\n\u001b[0;32m    114\u001b[0m     durationKeyword \u001b[39m=\u001b[39m keywords[\u001b[39m'\u001b[39m\u001b[39mduration\u001b[39m\u001b[39m'\u001b[39m]\n\u001b[1;32m--> 116\u001b[0m durationKeyword \u001b[39m=\u001b[39m \u001b[39mself\u001b[39;49m\u001b[39m.\u001b[39;49m_add_core_or_init(notes, useDuration\u001b[39m=\u001b[39;49mdurationKeyword)\n\u001b[0;32m    118\u001b[0m \u001b[39mif\u001b[39;00m durationKeyword \u001b[39mis\u001b[39;00m \u001b[39mnot\u001b[39;00m \u001b[39mNone\u001b[39;00m:\n\u001b[0;32m    119\u001b[0m     \u001b[39mself\u001b[39m\u001b[39m.\u001b[39mduration \u001b[39m=\u001b[39m durationKeyword\n",
      "File \u001b[1;32mc:\\Users\\KOFI ADUKPO\\Desktop\\code\\aenv\\lib\\site-packages\\music21\\chord\\__init__.py:238\u001b[0m, in \u001b[0;36mChordBase._add_core_or_init\u001b[1;34m(self, notes, useDuration)\u001b[0m\n\u001b[0;32m    236\u001b[0m \u001b[39melif\u001b[39;00m \u001b[39misinstance\u001b[39m(n, (\u001b[39mstr\u001b[39m, \u001b[39mint\u001b[39m)):\n\u001b[0;32m    237\u001b[0m     \u001b[39mif\u001b[39;00m useDuration:\n\u001b[1;32m--> 238\u001b[0m         \u001b[39mself\u001b[39m\u001b[39m.\u001b[39m_notes\u001b[39m.\u001b[39mappend(note\u001b[39m.\u001b[39;49mNote(n, duration\u001b[39m=\u001b[39;49museDuration))\n\u001b[0;32m    239\u001b[0m     \u001b[39melse\u001b[39;00m:\n\u001b[0;32m    240\u001b[0m         \u001b[39mself\u001b[39m\u001b[39m.\u001b[39m_notes\u001b[39m.\u001b[39mappend(note\u001b[39m.\u001b[39mNote(n))\n",
      "File \u001b[1;32mc:\\Users\\KOFI ADUKPO\\Desktop\\code\\aenv\\lib\\site-packages\\music21\\note.py:1471\u001b[0m, in \u001b[0;36mNote.__init__\u001b[1;34m(self, pitch, name, nameWithOctave, **keywords)\u001b[0m\n\u001b[0;32m   1469\u001b[0m         \u001b[39mself\u001b[39m\u001b[39m.\u001b[39mpitch \u001b[39m=\u001b[39m pitch\n\u001b[0;32m   1470\u001b[0m     \u001b[39melse\u001b[39;00m:  \u001b[39m# assume first argument is pitch\u001b[39;00m\n\u001b[1;32m-> 1471\u001b[0m         \u001b[39mself\u001b[39m\u001b[39m.\u001b[39mpitch \u001b[39m=\u001b[39m Pitch(pitch, \u001b[39m*\u001b[39m\u001b[39m*\u001b[39mkeywords)\n\u001b[0;32m   1472\u001b[0m \u001b[39melse\u001b[39;00m:  \u001b[39m# supply a default pitch\u001b[39;00m\n\u001b[0;32m   1473\u001b[0m     \u001b[39mif\u001b[39;00m nameWithOctave \u001b[39mis\u001b[39;00m \u001b[39mnot\u001b[39;00m \u001b[39mNone\u001b[39;00m:\n",
      "File \u001b[1;32mc:\\Users\\KOFI ADUKPO\\Desktop\\code\\aenv\\lib\\site-packages\\music21\\pitch.py:1848\u001b[0m, in \u001b[0;36mPitch.__init__\u001b[1;34m(self, name, step, octave, accidental, microtone, pitchClass, midi, ps, fundamental, **keywords)\u001b[0m\n\u001b[0;32m   1846\u001b[0m \u001b[39mif\u001b[39;00m name \u001b[39mis\u001b[39;00m \u001b[39mnot\u001b[39;00m \u001b[39mNone\u001b[39;00m:\n\u001b[0;32m   1847\u001b[0m     \u001b[39mif\u001b[39;00m \u001b[39misinstance\u001b[39m(name, \u001b[39mstr\u001b[39m):\n\u001b[1;32m-> 1848\u001b[0m         \u001b[39mself\u001b[39;49m\u001b[39m.\u001b[39;49mname \u001b[39m=\u001b[39m name  \u001b[39m# set based on string\u001b[39;00m\n\u001b[0;32m   1849\u001b[0m     \u001b[39melse\u001b[39;00m:  \u001b[39m# is a number\u001b[39;00m\n\u001b[0;32m   1850\u001b[0m         \u001b[39m# is a midiNumber or a ps -- a float midiNumber\u001b[39;00m\n\u001b[0;32m   1851\u001b[0m         \u001b[39m# get step and accidental w/o octave\u001b[39;00m\n\u001b[0;32m   1852\u001b[0m         \u001b[39mself\u001b[39m\u001b[39m.\u001b[39mstep, \u001b[39mself\u001b[39m\u001b[39m.\u001b[39m_accidental \u001b[39m=\u001b[39m _convertPsToStep(name)[\u001b[39m0\u001b[39m:\u001b[39m2\u001b[39m]\n",
      "File \u001b[1;32mc:\\Users\\KOFI ADUKPO\\Desktop\\code\\aenv\\lib\\site-packages\\music21\\pitch.py:2679\u001b[0m, in \u001b[0;36mPitch.name\u001b[1;34m(self, usrStr)\u001b[0m\n\u001b[0;32m   2677\u001b[0m \u001b[39m# assume everything following pitch is accidental specification\u001b[39;00m\n\u001b[0;32m   2678\u001b[0m \u001b[39melif\u001b[39;00m \u001b[39mlen\u001b[39m(usrStr) \u001b[39m>\u001b[39m \u001b[39m1\u001b[39m:\n\u001b[1;32m-> 2679\u001b[0m     \u001b[39mself\u001b[39;49m\u001b[39m.\u001b[39;49mstep \u001b[39m=\u001b[39m usrStr[\u001b[39m0\u001b[39m]  \u001b[39m# type: ignore\u001b[39;00m\n\u001b[0;32m   2680\u001b[0m     \u001b[39mself\u001b[39m\u001b[39m.\u001b[39maccidental \u001b[39m=\u001b[39m Accidental(usrStr[\u001b[39m1\u001b[39m:])\n\u001b[0;32m   2681\u001b[0m \u001b[39melse\u001b[39;00m:\n",
      "File \u001b[1;32mc:\\Users\\KOFI ADUKPO\\Desktop\\code\\aenv\\lib\\site-packages\\music21\\pitch.py:2879\u001b[0m, in \u001b[0;36mPitch.step\u001b[1;34m(self, usrStr)\u001b[0m\n\u001b[0;32m   2877\u001b[0m     \u001b[39mself\u001b[39m\u001b[39m.\u001b[39mspellingIsInferred \u001b[39m=\u001b[39m \u001b[39mFalse\u001b[39;00m\n\u001b[0;32m   2878\u001b[0m \u001b[39melse\u001b[39;00m:\n\u001b[1;32m-> 2879\u001b[0m     \u001b[39mraise\u001b[39;00m PitchException(\u001b[39mf\u001b[39m\u001b[39m'\u001b[39m\u001b[39mCannot make a step out of \u001b[39m\u001b[39m{\u001b[39;00musrStr\u001b[39m!r}\u001b[39;00m\u001b[39m'\u001b[39m)\n\u001b[0;32m   2880\u001b[0m \u001b[39mself\u001b[39m\u001b[39m.\u001b[39minformClient()\n",
      "\u001b[1;31mPitchException\u001b[0m: Cannot make a step out of 'R'"
     ]
    }
   ],
   "source": [
    "from music21 import stream, chord, tempo\n",
    "\n",
    "# Define the chords as lists of note names\n",
    "chords = modified_data\n",
    "\n",
    "# Define the durations for each chord\n",
    "durations = durate\n",
    "# Create a stream to store the notes\n",
    "music_stream = stream.Stream()\n",
    "# music_stream.append(tempo.MetronomeMark(number=500))\n",
    "# Iterate through the chords and durations\n",
    "for i, chord_notes in enumerate(chords):\n",
    "    if i < len(durations):\n",
    "        chord_obj = chord.Chord(chord_notes)\n",
    "        chord_obj.duration.type = (durations[i])[0]\n",
    "        music_stream.append(chord_obj)\n",
    "    else:\n",
    "        print(f\"Warning: Not enough durations provided for chord {i + 1}. Skipping.\")\n",
    "\n",
    "# Calculate the total duration of the music stream\n",
    "total_duration = music_stream.duration.quarterLength  # Total duration in quarter notes\n",
    "\n",
    "# Print the total duration\n",
    "print(f\"Total Duration: {total_duration} quarter notes\")\n",
    "\n",
    "\n",
    "music_stream.show('midi')\n"
   ]
  },
  {
   "cell_type": "code",
   "execution_count": null,
   "metadata": {},
   "outputs": [],
   "source": []
  },
  {
   "cell_type": "code",
   "execution_count": 17,
   "metadata": {},
   "outputs": [
    {
     "name": "stdout",
     "output_type": "stream",
     "text": [
      "The second items are the same in all elements.\n"
     ]
    }
   ],
   "source": [
    "p = ['C4 1.0']\n",
    "\n",
    "# Extract the second items from each element\n",
    "second_items = [float(note.split()[1]) for note in p]\n",
    "\n",
    "# Check if all second items are the same\n",
    "is_same_duration = all(item == second_items[0] for item in second_items)\n",
    "\n",
    "if is_same_duration:\n",
    "    print(\"The second items are the same in all elements.\")\n",
    "else:\n",
    "    print(\"The second items are not the same in all elements.\")\n"
   ]
  },
  {
   "cell_type": "code",
   "execution_count": null,
   "metadata": {},
   "outputs": [],
   "source": []
  },
  {
   "cell_type": "code",
   "execution_count": 18,
   "metadata": {},
   "outputs": [
    {
     "name": "stdout",
     "output_type": "stream",
     "text": [
      "'a' is an empty list\n"
     ]
    }
   ],
   "source": [
    "a = []  # Example list\n",
    "\n",
    "if a:\n",
    "    pass  # This block will be executed if 'a' is not empty\n",
    "else:\n",
    "    # This block will be executed if 'a' is empty\n",
    "    print(\"'a' is an empty list\")\n"
   ]
  },
  {
   "cell_type": "code",
   "execution_count": null,
   "metadata": {},
   "outputs": [],
   "source": []
  },
  {
   "cell_type": "code",
   "execution_count": null,
   "metadata": {},
   "outputs": [],
   "source": []
  },
  {
   "cell_type": "code",
   "execution_count": 19,
   "metadata": {},
   "outputs": [
    {
     "data": {
      "text/plain": [
       "[]"
      ]
     },
     "execution_count": 19,
     "metadata": {},
     "output_type": "execute_result"
    }
   ],
   "source": [
    "main"
   ]
  },
  {
   "cell_type": "code",
   "execution_count": 20,
   "metadata": {},
   "outputs": [
    {
     "name": "stdout",
     "output_type": "stream",
     "text": [
      "[['D4', 'F#4', 'D3', 'A3'], ['D4', 'F#4', 'A2', 'A3'], ['F#4', 'A4', 'A2', 'A3'], ['C#4', 'G4', 'E3', 'A3'], ['C#4', 'F#4', 'D#3', 'A3'], ['C#4', 'G4', 'E3', 'A3'], ['C#4', 'B4', 'A2', 'A3'], ['D4', 'A4', 'F#3', 'A3'], ['D4', 'G#4', 'F#3', 'A3'], ['D4', 'A4', 'F#2', 'A3'], ['D4', 'D5', 'B2', 'G3'], ['D5', 'E4', 'A2', 'A3'], ['C#5'], ['A4', 'D5', 'F#3', 'D4'], ['G4', 'B4', 'G3', 'D4'], ['D4', 'A4', 'F#3', 'A3'], ['D4', 'G4', 'E3', 'B3'], ['C#4', 'A4', 'A2', 'A3'], ['D4', 'F#4', 'D3', 'A3'], ['E4', 'G#4', 'D3', 'B3'], ['E4', 'A4', 'C#3', 'A3'], ['F#4', 'B4', 'D3', 'A3'], ['E4', 'C#5', 'E3', 'A3'], ['E3', 'G#3'], ['B4', 'D4'], ['A2', 'A3'], ['C#4', 'A4'], ['A3', 'A3'], ['A4', 'A4', 'A3', 'C#4'], ['G4', 'E5'], ['A2', 'C#4'], ['B2', 'D4'], ['G4', 'C#5'], ['F#4', 'A4', 'C#3', 'A3'], ['E4', 'G4', 'D3', 'A3'], ['D4', 'F#4', 'E3', 'A3'], ['C#4', 'G4', 'F#3', 'A3'], ['D4', 'A4', 'F#3', 'A3'], ['D4', 'D4', 'G3', 'B3'], ['D4', 'D4', 'G2', 'D3'], ['B3', 'G4', 'B4', 'G2', 'D#3'], ['B3', 'F#4', 'A4', 'G2', 'E3'], ['B3', 'E4', 'G4', 'A2', 'F#3'], ['A3', 'D4', 'F#4'], ['A2', 'G3'], [], ['E4', 'C#4', 'D3', 'F#3'], ['D4', 'D4']]\n"
     ]
    }
   ],
   "source": [
    "print(notes_and_rests_by_time)"
   ]
  },
  {
   "cell_type": "code",
   "execution_count": null,
   "metadata": {},
   "outputs": [],
   "source": []
  },
  {
   "cell_type": "code",
   "execution_count": null,
   "metadata": {},
   "outputs": [],
   "source": []
  },
  {
   "cell_type": "code",
   "execution_count": null,
   "metadata": {},
   "outputs": [],
   "source": []
  },
  {
   "cell_type": "code",
   "execution_count": 21,
   "metadata": {},
   "outputs": [],
   "source": [
    "from music21 import chord, key, stream, meter, tempo\n",
    "import time\n",
    "\n",
    "# Create a new stream to store the chord and associated settings\n",
    "\n",
    "\n",
    "# Create a chord with the specified notes\n",
    "notes = notes_and_rests_by_time #['G4', 'B3', 'D3', 'G2']\n",
    "notes = modified_data\n",
    "# Time 0: Note: G 4  Duration: 2.0, Note: B 3  Duration: 2.0, Note: D 3  Duration: 2.0, Note: G 2  Duration: 2.0\n",
    "for i in notes_and_rests_by_time:\n",
    "        chord_stream = stream.Stream()\n",
    "        # print(f\"this is i: {i}\")\n",
    "        my_chord = chord.Chord(i)\n",
    "\n",
    "        # Set the key to E flat major\n",
    "        my_key = key.Key('G')\n",
    "        chord_stream.append(my_key)\n",
    "\n",
    "        # Add the chord to the stream\n",
    "        chord_stream.append(my_chord)\n",
    "\n",
    "        # Set the time signature to 4/4\n",
    "        chord_stream.append(meter.TimeSignature('3/4'))\n",
    "\n",
    "        # Set the tempo (adjust as needed)\n",
    "        chord_stream.append(tempo.MetronomeMark('Allegro'))\n",
    "\n",
    "        # Play the chord for three counts\n",
    "        chord_stream.duration.quarterLength = 3.0\n",
    "\n",
    "\n",
    "        # Show and play the chord\n",
    "        # chord_stream.show('midi')\n",
    "        # time.sleep(2)\n"
   ]
  },
  {
   "cell_type": "code",
   "execution_count": 22,
   "metadata": {},
   "outputs": [
    {
     "data": {
      "text/html": [
       "\n",
       "                <div id=\"midiPlayerDiv1531\"></div>\n",
       "                <link rel=\"stylesheet\" href=\"https://cuthbertLab.github.io/music21j/css/m21.css\">\n",
       "                \n",
       "                <script>\n",
       "                require.config({\n",
       "                    paths: {\n",
       "                        'music21': 'https://cuthbertLab.github.io/music21j/releases/music21.debug',\n",
       "                    }\n",
       "                });\n",
       "                require(['music21'], function(music21) {\n",
       "                    mp = new music21.miditools.MidiPlayer();\n",
       "                    mp.addPlayer(\"#midiPlayerDiv1531\");\n",
       "                    mp.base64Load(\"data:audio/midi;base64,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\");\n",
       "                });\n",
       "                </script>"
      ],
      "text/plain": [
       "<IPython.core.display.HTML object>"
      ]
     },
     "metadata": {},
     "output_type": "display_data"
    }
   ],
   "source": [
    "from music21 import stream, note, chord, midi\n",
    "\n",
    "# Define the chords as lists of note names\n",
    "chords = modified_data\n",
    "\n",
    "# chords=notes_and_rests_by_time\n",
    "# Create a stream to store the notes\n",
    "music_stream = stream.Stream()\n",
    "\n",
    "# Iterate through the chord lists and add them to the stream\n",
    "for chord_notes in chords:\n",
    "    chord_obj = chord.Chord(chord_notes)\n",
    "    music_stream.append(chord_obj)\n",
    "\n",
    "music_stream.show('midi')\n"
   ]
  },
  {
   "cell_type": "code",
   "execution_count": null,
   "metadata": {},
   "outputs": [],
   "source": []
  },
  {
   "cell_type": "code",
   "execution_count": 23,
   "metadata": {},
   "outputs": [
    {
     "data": {
      "text/html": [
       "\n",
       "                <div id=\"midiPlayerDiv1563\"></div>\n",
       "                <link rel=\"stylesheet\" href=\"https://cuthbertLab.github.io/music21j/css/m21.css\">\n",
       "                \n",
       "                <script>\n",
       "                require.config({\n",
       "                    paths: {\n",
       "                        'music21': 'https://cuthbertLab.github.io/music21j/releases/music21.debug',\n",
       "                    }\n",
       "                });\n",
       "                require(['music21'], function(music21) {\n",
       "                    mp = new music21.miditools.MidiPlayer();\n",
       "                    mp.addPlayer(\"#midiPlayerDiv1563\");\n",
       "                    mp.base64Load(\"data:audio/midi;base64,TVRoZAAAAAYAAQACBABNVHJrAAAAFAD/UQO3GwAA/1gEBAIYCIgA/y8ATVRyawAAADIA/wMAAOAAQIgAkDxaiACAPAAAkEBaiACAQAAAkENaiACAQwAAkEhaiACASACIAP8vAA==\");\n",
       "                });\n",
       "                </script>"
      ],
      "text/plain": [
       "<IPython.core.display.HTML object>"
      ]
     },
     "metadata": {},
     "output_type": "display_data"
    }
   ],
   "source": [
    "from music21 import stream, note, tempo\n",
    "\n",
    "# Create a music stream\n",
    "music_stream = stream.Stream()\n",
    "\n",
    "# Create some notes\n",
    "notes = ['C4', 'E4', 'G4', 'C5']\n",
    "\n",
    "tempo_obj = tempo.MetronomeMark(number=5)  # Adjust the number to your desired tempo\n",
    "music_stream.append(tempo_obj)\n",
    "for note_name in notes:\n",
    "    n = note.Note(note_name)\n",
    "    music_stream.append(n)\n",
    "# Set the tempo to a higher value for faster playback\n",
    "\n",
    "# Show the music notes while playing in MIDI format and write the notes being played\n",
    "music_stream.show('midi', app='text')\n"
   ]
  },
  {
   "cell_type": "code",
   "execution_count": 24,
   "metadata": {},
   "outputs": [
    {
     "name": "stdout",
     "output_type": "stream",
     "text": [
      "Total Duration: 8.0 quarter notes\n"
     ]
    }
   ],
   "source": [
    "from music21 import stream, note, tempo\n",
    "\n",
    "# Create a music stream\n",
    "music_stream = stream.Stream()\n",
    "\n",
    "# Create some notes\n",
    "notes = ['C4', 'E4', 'G4', 'C5','C4', 'E4', 'G4', 'C5']\n",
    "\n",
    "tempo_obj = tempo.MetronomeMark(number=5)  # Adjust the number to your desired tempo\n",
    "music_stream.append(tempo_obj)\n",
    "for note_name in notes:\n",
    "    n = note.Note(note_name)\n",
    "    music_stream.append(n)\n",
    "\n",
    "# Calculate the total duration of the music stream\n",
    "total_duration = music_stream.duration.quarterLength  # Total duration in quarter notes\n",
    "\n",
    "# Print the total duration\n",
    "print(f\"Total Duration: {total_duration} quarter notes\")\n"
   ]
  },
  {
   "cell_type": "code",
   "execution_count": null,
   "metadata": {},
   "outputs": [],
   "source": []
  },
  {
   "cell_type": "code",
   "execution_count": null,
   "metadata": {},
   "outputs": [],
   "source": []
  },
  {
   "cell_type": "code",
   "execution_count": null,
   "metadata": {},
   "outputs": [],
   "source": []
  },
  {
   "cell_type": "code",
   "execution_count": 25,
   "metadata": {},
   "outputs": [
    {
     "data": {
      "text/html": [
       "\n",
       "                <div id=\"midiPlayerDiv1604\"></div>\n",
       "                <link rel=\"stylesheet\" href=\"https://cuthbertLab.github.io/music21j/css/m21.css\">\n",
       "                \n",
       "                <script>\n",
       "                require.config({\n",
       "                    paths: {\n",
       "                        'music21': 'https://cuthbertLab.github.io/music21j/releases/music21.debug',\n",
       "                    }\n",
       "                });\n",
       "                require(['music21'], function(music21) {\n",
       "                    mp = new music21.miditools.MidiPlayer();\n",
       "                    mp.addPlayer(\"#midiPlayerDiv1604\");\n",
       "                    mp.base64Load(\"data:audio/midi;base64,TVRoZAAAAAYAAQACBABNVHJrAAAAFQD/WAQEAhgIoAD/UQMHoSCIAP8vAE1UcmsAAAAyAP8DAADgAECIAJA8WogAgDwAAJBAWogAgEAAAJBDWogAgEMAAJBIWogAgEgAiAD/LwA=\");\n",
       "                });\n",
       "                </script>"
      ],
      "text/plain": [
       "<IPython.core.display.HTML object>"
      ]
     },
     "metadata": {},
     "output_type": "display_data"
    }
   ],
   "source": [
    "# Fetch the list of notes (you can retrieve it from the database if you're using a model)\n",
    "notes = ['C4', 'E4', 'G4', 'C5']\n",
    "\n",
    "# Create a music stream\n",
    "music_stream = stream.Stream()\n",
    "\n",
    "# Generate note objects and add them to the stream\n",
    "for note_name in notes:\n",
    "    n = note.Note(note_name)\n",
    "    music_stream.append(n)\n",
    "\n",
    "# Set the tempo for the music\n",
    "music_stream.append(tempo.MetronomeMark(number=120))\n",
    "\n",
    "# Play the music when the form is submitted\n",
    "music_stream.show('midi')\n",
    "\n"
   ]
  },
  {
   "cell_type": "code",
   "execution_count": null,
   "metadata": {},
   "outputs": [],
   "source": []
  },
  {
   "cell_type": "code",
   "execution_count": 26,
   "metadata": {},
   "outputs": [
    {
     "data": {
      "text/html": [
       "\n",
       "                <div id=\"midiPlayerDiv1628\"></div>\n",
       "                <link rel=\"stylesheet\" href=\"https://cuthbertLab.github.io/music21j/css/m21.css\">\n",
       "                \n",
       "                <script>\n",
       "                require.config({\n",
       "                    paths: {\n",
       "                        'music21': 'https://cuthbertLab.github.io/music21j/releases/music21.debug',\n",
       "                    }\n",
       "                });\n",
       "                require(['music21'], function(music21) {\n",
       "                    mp = new music21.miditools.MidiPlayer();\n",
       "                    mp.addPlayer(\"#midiPlayerDiv1628\");\n",
       "                    mp.base64Load(\"data:audio/midi;base64,TVRoZAAAAAYAAQACBABNVHJrAAAAFAD/UQMHoSAA/1gEBAIYCIgA/y8ATVRyawAAAHEA/wMAAOAAQIgAkENaAJA7WgCQMloAkCtakACAQwAAgDsAAIAyAACAKwAAkENaAJA7WgCQMloAkCtahACAQwAAgDsAAIAyAACAKwAAkENaAJA7WgCQMloAkCtaiACAQwAAgDsAAIAyAACAKwCIAP8vAA==\");\n",
       "                });\n",
       "                </script>"
      ],
      "text/plain": [
       "<IPython.core.display.HTML object>"
      ]
     },
     "metadata": {},
     "output_type": "display_data"
    }
   ],
   "source": [
    "from music21 import stream, chord, midi\n",
    "\n",
    "# Define the chords as lists of note names\n",
    "chords = [['G4', 'B3', 'D3', 'G2'],\n",
    "          ['G4', 'B3', 'D3', 'G2'],\n",
    "          ['G4', 'B3', 'D3', 'G2']]\n",
    "\n",
    "# Create a stream to store the notes\n",
    "music_stream = stream.Stream()\n",
    "\n",
    "# Create a chord object for the first chord (2.0 duration)\n",
    "chord_0 = chord.Chord(chords[0])\n",
    "chord_0.duration.type = 'half'  # Set the duration to 2.0 (2 half notes)\n",
    "music_stream.append(chord_0)\n",
    "\n",
    "# Create a chord object for the second chord (0.5 duration)\n",
    "chord_1 = chord.Chord(chords[1])\n",
    "chord_1.duration.type = 'eighth'  # Set the duration to 0.5 (1 eighth note)\n",
    "music_stream.append(chord_1)\n",
    "\n",
    "# Create a chord object for the third chord (1.0 duration)\n",
    "chord_2 = chord.Chord(chords[2])\n",
    "chord_2.duration.type = 'quarter'  # Set the duration to 1.0 (1 quarter note)\n",
    "music_stream.append(chord_2)\n",
    "\n",
    "# # Create a MIDI file from the stream\n",
    "# midi_file = music_stream.write('midi')\n",
    "\n",
    "# # Create a StreamPlayer and play the MIDI file\n",
    "# player = midi.realtime.StreamPlayer(midi_file)\n",
    "# player.play()\n",
    "\n",
    "music_stream.show('midi')\n"
   ]
  },
  {
   "cell_type": "code",
   "execution_count": 27,
   "metadata": {},
   "outputs": [
    {
     "name": "stdout",
     "output_type": "stream",
     "text": [
      "[['quarter'], ['half'], ['whole']]\n"
     ]
    }
   ],
   "source": [
    "# Define the mapping of durations to names\n",
    "duration_names = {1.0: 'quarter', 2.0: 'half', 4.0: 'whole'}\n",
    "\n",
    "# Given list 'p'\n",
    "p = [[1.0], [2.0], [4.0]]\n",
    "\n",
    "# Convert 'p' to their names\n",
    "p_names = [[duration_names[d] for d in sublist] for sublist in p]\n",
    "\n",
    "print(p_names)\n"
   ]
  },
  {
   "cell_type": "code",
   "execution_count": null,
   "metadata": {},
   "outputs": [],
   "source": []
  },
  {
   "cell_type": "code",
   "execution_count": null,
   "metadata": {},
   "outputs": [],
   "source": []
  },
  {
   "cell_type": "code",
   "execution_count": 73,
   "metadata": {},
   "outputs": [
    {
     "data": {
      "text/html": [
       "\n",
       "                <div id=\"midiPlayerDiv4689\"></div>\n",
       "                <link rel=\"stylesheet\" href=\"https://cuthbertLab.github.io/music21j/css/m21.css\">\n",
       "                \n",
       "                <script>\n",
       "                require.config({\n",
       "                    paths: {\n",
       "                        'music21': 'https://cuthbertLab.github.io/music21j/releases/music21.debug',\n",
       "                    }\n",
       "                });\n",
       "                require(['music21'], function(music21) {\n",
       "                    mp = new music21.miditools.MidiPlayer();\n",
       "                    mp.addPlayer(\"#midiPlayerDiv4689\");\n",
       "                    mp.base64Load(\"data:audio/midi;base64,TVRoZAAAAAYAAQACBABNVHJrAAAAFAD/UQMHoSAA/1gEBAIYCIgA/y8ATVRyawAAAHEA/wMAAOAAQIgAkENaAJA7WgCQMloAkCtakACAQwAAgDsAAIAyAACAKwAAkENaAJA7WgCQMloAkCtaiACAQwAAgDsAAIAyAACAKwAAkENaAJA7WgCQMloAkCtaiACAQwAAgDsAAIAyAACAKwCIAP8vAA==\");\n",
       "                });\n",
       "                </script>"
      ],
      "text/plain": [
       "<IPython.core.display.HTML object>"
      ]
     },
     "metadata": {},
     "output_type": "display_data"
    }
   ],
   "source": [
    "from music21 import stream, chord, tempo\n",
    "modified_data=[['G4', 'B3', 'F3', 'G2'],\n",
    "          ['G4', 'B3', 'D3', 'G2'],\n",
    "          ['G4', 'B3', 'D3', 'E2']]\n",
    "durate = [['half'], ['quarter'], ['quarter']]\n",
    "# Define the chords as lists of note names\n",
    "chords = modified_data\n",
    "\n",
    "# Define the durations for each chord\n",
    "durations = durate\n",
    "# Create a stream to store the notes\n",
    "music_stream = stream.Stream()\n",
    "# music_stream.append(tempo.MetronomeMark(number=500))\n",
    "# Iterate through the chords and durations\n",
    "for i, chord_notes in enumerate(chords):\n",
    "    if i < len(durations):\n",
    "        chord_obj = chord.Chord(chord_notes)\n",
    "        chord_obj.duration.type = (durations[i])[0]\n",
    "        music_stream.append(chord_obj)\n",
    "    else:\n",
    "        print(f\"Warning: Not enough durations provided for chord {i + 1}. Skipping.\")\n",
    "\n",
    "music_stream.show('midi')\n"
   ]
  },
  {
   "cell_type": "code",
   "execution_count": null,
   "metadata": {},
   "outputs": [],
   "source": []
  },
  {
   "cell_type": "code",
   "execution_count": null,
   "metadata": {},
   "outputs": [],
   "source": [
    "a"
   ]
  },
  {
   "cell_type": "code",
   "execution_count": null,
   "metadata": {},
   "outputs": [],
   "source": []
  },
  {
   "cell_type": "code",
   "execution_count": null,
   "metadata": {},
   "outputs": [],
   "source": []
  },
  {
   "cell_type": "code",
   "execution_count": 92,
   "metadata": {},
   "outputs": [
    {
     "name": "stdout",
     "output_type": "stream",
     "text": [
      "[['B-4', 'E-4', 'G3', 'E-3'], ['E-5', 'G4', 'B-3', 'E-3'], ['D5', 'G4', 'B-3', 'G3'], ['C5', 'E-4', 'A-3', 'A-3'], ['B-4', 'E-4', 'B-3', 'G3'], ['B-4', 'F4', 'B-3', 'D3'], ['A-4', 'D4', 'B-3', 'B-2'], ['G4', 'E-4', 'B-3', 'E-3'], ['G4', 'E-4', 'B-3', 'E-3'], ['F4', 'C4', 'C4', 'A-3'], ['F4', 'C4', 'A-3'], ['D4'], ['E-4', 'E-4', 'B-3', 'G3'], ['A-4', 'D4', 'A-3', 'F3'], ['G4', 'E-4', 'B-3', 'E-3'], ['F4', 'D4', 'B-3', 'B-2'], ['F4', 'D4', 'B-3', 'B-2'], ['G4', 'E-4', 'B-3', 'E-3'], ['G4', 'E-4', 'B-3'], ['D-3'], ['A-4', 'E-4', 'A-3', 'C3'], ['G4', 'E-4', 'B-3', 'B-2'], ['C5', 'E-4', 'C4', 'A-2'], ['B-4', 'E-4', 'E-3', 'G2'], ['B-4', 'C4', 'F3', 'F2'], ['A-4', 'D4', 'F3', 'B-2'], ['G4', 'E-4', 'E-3', 'C3'], ['E-4', 'C4', 'G3', 'C3'], ['G4', 'E-4', 'B-3', 'G2'], ['F4', 'C4', 'A-3', 'A-2'], ['E-4', 'B-3', 'G3', 'B-2'], ['D4', 'B-3', 'F3', 'B-2'], ['D4', 'B-3', 'B-2'], ['A-3'], ['E-4', 'B-3', 'G3', 'E-3'], ['E-4', 'B-3', 'G3', 'E-3']]\n"
     ]
    }
   ],
   "source": [
    "score = music21.converter.parse(\"99.xml\")\n",
    "# path = C:\\Users\\KOFI ADUKPO\\Downloads\\solfa\\\\{}\n",
    "# score = music21.converter.parse(path)\n",
    "# C:\\Users\\KOFI ADUKPO\\Downloads\\solfa\n",
    "# score = music21.converter.parse(path)\n",
    "\n",
    "\n",
    "# Initialize a list to store notes and rests at each point in time\n",
    "notes_and_rests_by_time = []\n",
    "notes_and_rests_by_time_ = []\n",
    "\n",
    "\n",
    "# Get all the notes, chords, and rests from the score\n",
    "all_notes = score.flat.getElementsByClass(music21.note.GeneralNote)\n",
    "\n",
    "# Create a dictionary to group elements by their starting offset\n",
    "elements_by_offset = {}\n",
    "\n",
    "# Iterate through the notes, chords, and rests and group them by offset\n",
    "for element in all_notes:\n",
    "    offset = element.offset\n",
    "    if offset not in elements_by_offset:\n",
    "        elements_by_offset[offset] = []\n",
    "    elements_by_offset[offset].append(element)\n",
    "\n",
    "# Sort the offsets in ascending order\n",
    "sorted_offsets = sorted(elements_by_offset.keys())\n",
    "\n",
    "notss = []\n",
    "\n",
    "# Iterate through the sorted offsets and collect notes and rests at each point in time\n",
    "for offset in sorted_offsets:\n",
    "    elements = elements_by_offset[offset]\n",
    "    notes_and_rests = []\n",
    "    nots=[]\n",
    "\n",
    "    for element in elements:\n",
    "        if isinstance(element, music21.note.Note):\n",
    "            pitch = element.pitch\n",
    "            parts = re.split(r'(\\d+)', str(pitch))\n",
    "            modified_item = ''.join(parts)\n",
    "            pitch = modified_item\n",
    "            notes_and_rests.append(f\"{pitch}\") # {element.duration.quarterLength}\n",
    "            nots.append(f\"{pitch} {element.duration.quarterLength}\")\n",
    "\n",
    "\n",
    "        elif isinstance(element, music21.chord.Chord):\n",
    "            for chord_note in element:\n",
    "                chord_pitch = chord_note.pitch\n",
    "                parts = re.split(r'(\\d+)', str(chord_pitch))\n",
    "                modified_item = ''.join(parts)\n",
    "                chord_pitch = modified_item\n",
    "                notes_and_rests.append(f\"{chord_pitch}\") # {chord_note.duration.quarterLength}\n",
    "                nots.append(f\"{chord_pitch} {chord_note.duration.quarterLength}\")\n",
    "\n",
    "        elif isinstance(element, music21.note.Rest):\n",
    "            pass\n",
    "            # notes_and_rests.append(f\"Rest Duration: {element.duration.quarterLength}\")\n",
    "\n",
    "    notes_and_rests_by_time.append(notes_and_rests)\n",
    "    notes_and_rests_by_time_.append(nots)\n",
    "    \n",
    "\n",
    "# # Print the notes and rests grouped by time\n",
    "# for i, notes_and_rests in enumerate(notes_and_rests_by_time):\n",
    "#     print(f\"Time {i}: {', '.join(notes_and_rests)}\")\n",
    "\n",
    "p = [['E-4 6.0'],['C4 1.0', 'E-4 6.0', 'A-2 1.0', 'A-3 3.0'], ['C4 1.0', 'C4 2.0', 'A-2 1.0', 'A-3 2.0'], ['E-4 1.0', 'C3 1.0']]\n",
    "p=notes_and_rests_by_time_\n",
    "t = []\n",
    "main = []\n",
    "data = p\n",
    "k=p\n",
    "\n",
    "##taking care of the .75\n",
    "heavy=[]\n",
    "# Check if the decimal ends with .75\n",
    "for r in k:\n",
    "    qw=[]\n",
    "    qe=[]\n",
    "    for u in r:\n",
    "        pitch, duration = u.split()\n",
    "        duration_float = float(duration)\n",
    "        if duration_float % 1 == 0.75:\n",
    "            # Subtract 0.25 from it\n",
    "            new_duration = duration_float - 0.25\n",
    "            qw.append(f\"{pitch} {new_duration:.1f}\")\n",
    "            qe.append(f\"{pitch} 0.25\")\n",
    "        else:\n",
    "            qw.append(u)\n",
    "    heavy.append(qw)\n",
    "    if qe:\n",
    "        heavy.append(qe)\n",
    "\n",
    "k=heavy\n",
    "\n",
    "# Create a new list to store the modified elements\n",
    "# Create a new list to store the modified elements\n",
    "new_k = []\n",
    "\n",
    "# Iterate through the sublists in 'k'\n",
    "for sublist_k in k:\n",
    "    modified_sublist = []\n",
    "    remaining_sublist = []\n",
    "    for element in sublist_k:\n",
    "        pitch, duration = element.split()  # Split the element into pitch and duration\n",
    "        duration_float = float(duration)  # Convert duration to a float\n",
    "        if duration_float > 1.0:\n",
    "            if duration_float % 1 == 0.5:\n",
    "                # If duration ends with '.5', subtract 0.5 and add '.0' to the duration\n",
    "                modified_duration = f\"{duration_float - 0.5:.1f}\"\n",
    "                modified_sublist.append(f\"{pitch} {modified_duration}\")\n",
    "                remaining_sublist.append(f\"{pitch} 0.5\")  # Add a new element with '0.5' duration\n",
    "            else:\n",
    "                # If duration is odd and greater than 1.0, subtract 1.0 and create a sublist for it\n",
    "                modified_duration = f\"{duration_float - 1.0:.1f}\"\n",
    "                modified_sublist.append(f\"{pitch} {modified_duration}\")\n",
    "                remaining_sublist.append(f\"{pitch} 1.0\")\n",
    "        else:\n",
    "            # Otherwise, keep the original element in the modified sublist\n",
    "            modified_sublist.append(element)\n",
    "    new_k.append(modified_sublist)\n",
    "    if remaining_sublist:\n",
    "        new_k.append(remaining_sublist)\n",
    "p=new_k\n",
    "\n",
    "for i in p:\n",
    "\n",
    "\n",
    "    if i:\n",
    "\n",
    "        # Calculate the minimum duration in the list\n",
    "        # print(i)\n",
    "        min_duration = min(float(note.split()[1]) for note in i)\n",
    "\n",
    "        # Create a new list with equal durations\n",
    "        equal_duration_list = [f\"{note.split()[0]} {min_duration}\" for note in i]\n",
    "        t.append(equal_duration_list)\n",
    "\n",
    "        # Create a remainder list with the original durations\n",
    "        remainder = [f\"{note.split()[0]} {float(note.split()[1]) - min_duration}\" for note in i if float(note.split()[1]) > min_duration]\n",
    "        if remainder:\n",
    "            # Extract the second items from each element\n",
    "            second_items = [float(note.split()[1]) for note in remainder]\n",
    "\n",
    "            # Check if all second items are the same\n",
    "            is_same_duration = all(item == second_items[0] for item in second_items)\n",
    "\n",
    "            if is_same_duration:\n",
    "                t.append(remainder)\n",
    "            else:\n",
    "                min_duration = min(float(note.split()[1]) for note in remainder) #leevel\n",
    "                # Create a new list with equal durations\n",
    "                equal_duration_list = [f\"{note.split()[0]} {min_duration}\" for note in remainder]\n",
    "                t.append(equal_duration_list)\n",
    "                # Create a remainder list with the original durations\n",
    "                remainder = [f\"{note.split()[0]} {float(note.split()[1]) - min_duration}\" for note in remainder if float(note.split()[1]) > min_duration]\n",
    "                # print(f'firstremain: {remainder}')\n",
    "                # Extract the second items from each element\n",
    "                if remainder:\n",
    "                    second_items = [float(note.split()[1]) for note in remainder]\n",
    "                    \n",
    "\n",
    "                    # Check if all second items are the same\n",
    "                    is_same_duration = all(item == second_items[0] for item in second_items)\n",
    "\n",
    "                    if is_same_duration:\n",
    "                        t.append(remainder)\n",
    "                    else:\n",
    "                        min_duration = min(float(note.split()[1]) for note in remainder)\n",
    "                        # Create a new list with equal durations\n",
    "                        equal_duration_list = [f\"{note.split()[0]} {min_duration}\" for note in remainder]\n",
    "                        t.append(equal_duration_list)\n",
    "                        ##\n",
    "                        remainder = [f\"{note.split()[0]} {float(note.split()[1]) - min_duration}\" for note in remainder if float(note.split()[1]) > min_duration]\n",
    "                        # Extract the second items from each element\n",
    "                        # print(f'remain: {remainder}')\n",
    "                        if remainder:\n",
    "                            second_items = [float(note.split()[1]) for note in remainder]\n",
    "\n",
    "                            # Check if all second items are the same\n",
    "                            is_same_duration = all(item == second_items[0] for item in second_items)\n",
    "\n",
    "                            if is_same_duration:\n",
    "                                # print(remainder)\n",
    "                                t.append(remainder)\n",
    "\n",
    "                            else:\n",
    "                                min_duration = min(float(note.split()[1]) for note in remainder)\n",
    "                                # Create a new list with equal durations\n",
    "                                equal_duration_list = [f\"{note.split()[0]} {min_duration}\" for note in remainder]\n",
    "                                t.append(equal_duration_list)\n",
    "                                remainder = [f\"{note.split()[0]} {float(note.split()[1]) - min_duration}\" for note in remainder if float(note.split()[1]) > min_duration]\n",
    "\n",
    "                                if remainder:\n",
    "                                    second_items = [float(note.split()[1]) for note in remainder]\n",
    "\n",
    "                                    # Check if all second items are the same\n",
    "                                    is_same_duration = all(item == second_items[0] for item in second_items)\n",
    "\n",
    "                                    if is_same_duration:\n",
    "                                        t.append(remainder)\n",
    "                                    else:\n",
    "                                        min_duration = min(float(note.split()[1]) for note in remainder)\n",
    "                                        # Create a new list with equal durations\n",
    "                                        equal_duration_list = [f\"{note.split()[0]} {min_duration}\" for note in remainder]\n",
    "                                        t.append(equal_duration_list)\n",
    "\n",
    "\n",
    "\n",
    "    p = t\n",
    "new_p = []\n",
    "\n",
    "for f in p:\n",
    "    pp=[]\n",
    "    pl=[]\n",
    "    for y in f:\n",
    "        pitch, duration = y.split()\n",
    "        duration_float = float(duration)\n",
    "\n",
    "        if duration_float > 2.0 and duration_float % 2 == 1.0:\n",
    "            # If duration is greater than or equal to 1.0 and odd, subtract 1.0 from it\n",
    "            new_duration = duration_float - 1.0\n",
    "            pp.append(f\"{pitch} {new_duration:.1f}\")\n",
    "            pl.append(f\"{pitch} 1.0\")\n",
    "        else:\n",
    "            pp.append(y)\n",
    "    new_p.append(pp)\n",
    "    if pl:\n",
    "        new_p.append(pl)\n",
    "\n",
    "\n",
    "\n",
    "t=new_p\n",
    "\n",
    "data = t\n",
    "\n",
    "# Find the highest value of the second item in each sublist\n",
    "max_values = [max(float(note.split()[1]) for note in sublist) for sublist in data]\n",
    "\n",
    "# Modify 'data' to contain the highest values as sublists\n",
    "durate = [[max_value] for max_value in max_values]\n",
    "timer = durate.copy()\n",
    "\n",
    "\n",
    "data = t\n",
    "\n",
    "# Remove the second items in each element in the sublists\n",
    "modified_data = [[note.split()[0] for note in sublist] for sublist in data]\n",
    "\n",
    "\n",
    "# Define the mapping of durations to names\n",
    "duration_names = {0.5: 'eighth',1.0: 'quarter',0.25: '16th', 2.0: 'half', 4.0: 'whole'}\n",
    "\n",
    "# Given list 'p'\n",
    "p = durate\n",
    "\n",
    "# Convert 'p' to their names\n",
    "durate = [[duration_names[d] for d in sublist] for sublist in p]\n",
    "\n",
    "data = t\n",
    "\n",
    "# Remove the second items in each element in the sublists\n",
    "modified_data = [[note.split()[0] for note in sublist] for sublist in data]\n",
    "\n",
    "print(modified_data)"
   ]
  },
  {
   "cell_type": "code",
   "execution_count": 1,
   "metadata": {},
   "outputs": [],
   "source": [
    "import music21"
   ]
  },
  {
   "cell_type": "code",
   "execution_count": 91,
   "metadata": {},
   "outputs": [
    {
     "data": {
      "text/html": [
       "\n",
       "                <div id=\"midiPlayerDiv2787\"></div>\n",
       "                <link rel=\"stylesheet\" href=\"https://cuthbertLab.github.io/music21j/css/m21.css\">\n",
       "                \n",
       "                <script>\n",
       "                require.config({\n",
       "                    paths: {\n",
       "                        'music21': 'https://cuthbertLab.github.io/music21j/releases/music21.debug',\n",
       "                    }\n",
       "                });\n",
       "                require(['music21'], function(music21) {\n",
       "                    mp = new music21.miditools.MidiPlayer();\n",
       "                    mp.addPlayer(\"#midiPlayerDiv2787\");\n",
       "                    mp.base64Load(\"data:audio/midi;base64,TVRoZAAAAAYAAQACBABNVHJrAAAAFAD/UQMHoSAA/1gEBAIYCIgA/y8ATVRyawAABFIA/wMAAOAAQIgAkEZaAJA/WgCQN1oAkDNaiACARgAAgD8AAIA3AACAMwAAkEtaAJBDWgCQOloAkDNaiACASwAAgEMAAIA6AACAMwAAkEpaAJBDWgCQOloAkDdaiACASgAAgEMAAIA6AACANwAAkEhaAJA/WgCQOFoAkDhaiACASAAAgD8AAIA4AACAOAAAkEZaAJA/WgCQOloAkDdaiACARgAAgD8AAIA6AACANwAAkEZaAJBBWgCQOloAkDJaiACARgAAgEEAAIA6AACAMgAAkERaAJA+WgCQOloAkC5aiACARAAAgD4AAIA6AACALgAAkENaAJA/WgCQOloAkDNaiACAQwAAgD8AAIA6AACAMwAAkENaAJA/WgCQOloAkDNaiACAQwAAgD8AAIA6AACAMwAAkEFaAJA8WgCQPFoAkDhaiACAQQAAgDwAAIA8AACAOAAAkEFaAJA8WgCQOFqIAIBBAACAPAAAgDgAAJA+WogAgD4AAJA/WgCQP1oAkDpaAJA3WogAgD8AAIA/AACAOgAAgDcAAJBEWgCQPloAkDhaAJA1WogAgEQAAIA+AACAOAAAgDUAAJBDWgCQP1oAkDpaAJAzWogAgEMAAIA/AACAOgAAgDMAAJBBWgCQPloAkDpaAJAuWogAgEEAAIA+AACAOgAAgC4AAJBBWgCQPloAkDpaAJAuWogAgEEAAIA+AACAOgAAgC4AAJBDWgCQP1oAkDpaAJAzWogAgEMAAIA/AACAOgAAgDMAAJBDWgCQP1oAkDpaiACAQwAAgD8AAIA6AACQMVqIAIAxAACQRFoAkD9aAJA4WgCQMFqIAIBEAACAPwAAgDgAAIAwAACQQ1oAkD9aAJA6WgCQLlqIAIBDAACAPwAAgDoAAIAuAACQSFoAkD9aAJA8WgCQLFqIAIBIAACAPwAAgDwAAIAsAACQRloAkD9aAJAzWgCQK1qIAIBGAACAPwAAgDMAAIArAACQRloAkDxaAJA1WgCQKVqIAIBGAACAPAAAgDUAAIApAACQRFoAkD5aAJA1WgCQLlqIAIBEAACAPgAAgDUAAIAuAACQQ1oAkD9aAJAzWgCQMFqIAIBDAACAPwAAgDMAAIAwAACQP1oAkDxaAJA3WgCQMFqIAIA/AACAPAAAgDcAAIAwAACQQ1oAkD9aAJA6WgCQK1qIAIBDAACAPwAAgDoAAIArAACQQVoAkDxaAJA4WgCQLFqIAIBBAACAPAAAgDgAAIAsAACQP1oAkDpaAJA3WgCQLlqIAIA/AACAOgAAgDcAAIAuAACQPloAkDpaAJA1WgCQLlqIAIA+AACAOgAAgDUAAIAuAACQPloAkDpaAJAuWogAgD4AAIA6AACALgAAkDhaiACAOAAAkD9aAJA6WgCQN1oAkDNaiACAPwAAgDoAAIA3AACAMwAAkD9aAJA6WgCQN1oAkDNaiACAPwAAgDoAAIA3AACAMwCIAP8vAA==\");\n",
       "                });\n",
       "                </script>"
      ],
      "text/plain": [
       "<IPython.core.display.HTML object>"
      ]
     },
     "metadata": {},
     "output_type": "display_data"
    }
   ],
   "source": [
    "# Define the chords as lists of note names\n",
    "chords = modified_data\n",
    "\n",
    "# chords=notes_and_rests_by_time\n",
    "# Create a stream to store the notes\n",
    "music_stream = stream.Stream()\n",
    "\n",
    "# Iterate through the chord lists and add them to the stream\n",
    "for chord_notes in chords:\n",
    "    chord_obj = chord.Chord(chord_notes)\n",
    "    music_stream.append(chord_obj)\n",
    "\n",
    "music_stream.show('midi')"
   ]
  },
  {
   "cell_type": "code",
   "execution_count": 13,
   "metadata": {},
   "outputs": [
    {
     "data": {
      "text/html": [
       "\n",
       "                <div id=\"midiPlayerDiv312\"></div>\n",
       "                <link rel=\"stylesheet\" href=\"https://cuthbertLab.github.io/music21j/css/m21.css\">\n",
       "                \n",
       "                <script>\n",
       "                require.config({\n",
       "                    paths: {\n",
       "                        'music21': 'https://cuthbertLab.github.io/music21j/releases/music21.debug',\n",
       "                    }\n",
       "                });\n",
       "                require(['music21'], function(music21) {\n",
       "                    mp = new music21.miditools.MidiPlayer();\n",
       "                    mp.addPlayer(\"#midiPlayerDiv312\");\n",
       "                    mp.base64Load(\"data:audio/midi;base64,TVRoZAAAAAYAAQADBABNVHJrAAAAFagA/1EDB6EgAP9YBAQCGAiIAP8vAE1UcmsAAAAXAP8DAADgAECIAJAoWqgAgCgAiAD/LwBNVHJrAAAAFwD/AwAA4ABAiACQIlqIAIAiAIgA/y8A\");\n",
       "                });\n",
       "                </script>"
      ],
      "text/plain": [
       "<IPython.core.display.HTML object>"
      ]
     },
     "metadata": {},
     "output_type": "display_data"
    }
   ],
   "source": [
    "from music21 import stream, note, meter, tempo\n",
    "\n",
    "# Create individual streams for each note\n",
    "note_e2 = note.Note(\"E2\", quarterLength=5)\n",
    "note_b1 = note.Note(\"B-1\", quarterLength=1)\n",
    "\n",
    "# Create a Score to combine the streams\n",
    "score = stream.Score()\n",
    "\n",
    "# Create parts and add notes to each part\n",
    "part_e2 = stream.Part()\n",
    "part_e2.append(note_e2)\n",
    "\n",
    "part_b1 = stream.Part()\n",
    "part_b1.append(note_b1)\n",
    "\n",
    "# Add parts to the score\n",
    "score.insert(0, part_e2)\n",
    "score.insert(0, part_b1)\n",
    "\n",
    "# Set the tempo and meter for the score\n",
    "score.append(meter.TimeSignature('4/4'))\n",
    "score.append(tempo.MetronomeMark(number=120))\n",
    "\n",
    "# Play the score\n",
    "score.show('midi')\n"
   ]
  },
  {
   "cell_type": "code",
   "execution_count": 16,
   "metadata": {},
   "outputs": [
    {
     "data": {
      "text/html": [
       "\n",
       "                <div id=\"midiPlayerDiv389\"></div>\n",
       "                <link rel=\"stylesheet\" href=\"https://cuthbertLab.github.io/music21j/css/m21.css\">\n",
       "                \n",
       "                <script>\n",
       "                require.config({\n",
       "                    paths: {\n",
       "                        'music21': 'https://cuthbertLab.github.io/music21j/releases/music21.debug',\n",
       "                    }\n",
       "                });\n",
       "                require(['music21'], function(music21) {\n",
       "                    mp = new music21.miditools.MidiPlayer();\n",
       "                    mp.addPlayer(\"#midiPlayerDiv389\");\n",
       "                    mp.base64Load(\"data:audio/midi;base64,TVRoZAAAAAYAAQACBABNVHJrAAAAFAD/UQMHoSAA/1gEBAIYCIgA/y8ATVRyawAAAJIA/wMAAOAAQIgAkEZaAJA/WgCQN1oAkDNaiACARgAAgD8AAIA3AACAMwAAkEtaAJBDWgCQOloAkDNahACASwAAgEMAAIA6AACAMwAAkEpaAJBDWgCQOloAkDdahgCASgAAgEMAAIA6AACANwAAkEhaAJA/WgCQOFoAkDhajACASAAAgD8AAIA4AACAOACIAP8vAA==\");\n",
       "                });\n",
       "                </script>"
      ],
      "text/plain": [
       "<IPython.core.display.HTML object>"
      ]
     },
     "metadata": {},
     "output_type": "display_data"
    }
   ],
   "source": [
    "from music21 import chord, stream\n",
    "\n",
    "# Define the chords as lists of note names\n",
    "chords = [['B-4', 'E-4', 'G3', 'E-3'], ['E-5', 'G4', 'B-3', 'E-3'], ['D5', 'G4', 'B-3', 'G3'], ['C5', 'E-4', 'A-3', 'A-3']]\n",
    "\n",
    "# Create a stream to store the notes\n",
    "music_stream = stream.Stream()\n",
    "\n",
    "# Set the durations for each chord (in quarter notes)\n",
    "durations = [1.0, 0.5, 0.75, 1.5]\n",
    "\n",
    "# Iterate through the chord lists and add them to the stream with specified durations\n",
    "for i, chord_notes in enumerate(chords):\n",
    "    chord_obj = chord.Chord(chord_notes)\n",
    "    chord_obj.duration.quarterLength = durations[i]\n",
    "    music_stream.append(chord_obj)\n",
    "\n",
    "music_stream.show('midi')\n"
   ]
  },
  {
   "cell_type": "code",
   "execution_count": null,
   "metadata": {},
   "outputs": [],
   "source": []
  },
  {
   "cell_type": "code",
   "execution_count": null,
   "metadata": {},
   "outputs": [],
   "source": []
  },
  {
   "cell_type": "code",
   "execution_count": null,
   "metadata": {},
   "outputs": [],
   "source": []
  },
  {
   "cell_type": "code",
   "execution_count": null,
   "metadata": {},
   "outputs": [],
   "source": []
  }
 ],
 "metadata": {
  "kernelspec": {
   "display_name": "tenv",
   "language": "python",
   "name": "python3"
  },
  "language_info": {
   "codemirror_mode": {
    "name": "ipython",
    "version": 3
   },
   "file_extension": ".py",
   "mimetype": "text/x-python",
   "name": "python",
   "nbconvert_exporter": "python",
   "pygments_lexer": "ipython3",
   "version": "3.9.13"
  },
  "orig_nbformat": 4
 },
 "nbformat": 4,
 "nbformat_minor": 2
}
