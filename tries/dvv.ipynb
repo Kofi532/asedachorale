{
 "cells": [
  {
   "cell_type": "code",
   "execution_count": 2,
   "metadata": {},
   "outputs": [
    {
     "name": "stdout",
     "output_type": "stream",
     "text": [
      "Time 0: D4, F#4, D3, A3\n",
      "Time 1: D4, F#4, A2, A3\n",
      "Time 2: F#4, A4, A2, A3\n",
      "Time 3: C#4, G4, E3, A3\n",
      "Time 4: C#4, F#4, D#3, A3\n",
      "Time 5: C#4, G4, E3, A3\n",
      "Time 6: C#4, B4, A2, A3\n",
      "Time 7: D4, A4, F#3, A3\n",
      "Time 8: D4, G#4, F#3, A3\n",
      "Time 9: D4, A4, F#2, A3\n",
      "Time 10: D4, D5, B2, G3\n",
      "Time 11: D5, E4, A2, A3\n",
      "Time 12: C#5\n",
      "Time 13: A4, D5, F#3, D4\n",
      "Time 14: G4, B4, G3, D4\n",
      "Time 15: D4, A4, F#3, A3\n",
      "Time 16: D4, G4, E3, B3\n",
      "Time 17: C#4, A4, A2, A3\n",
      "Time 18: D4, F#4, D3, A3\n",
      "Time 19: E4, G#4, D3, B3\n",
      "Time 20: E4, A4, C#3, A3\n",
      "Time 21: F#4, B4, D3, A3\n",
      "Time 22: E4, C#5, E3, A3\n",
      "Time 23: E3, G#3\n",
      "Time 24: B4, D4\n",
      "Time 25: A2, A3\n",
      "Time 26: C#4, A4\n",
      "Time 27: A3, A3\n",
      "Time 28: A4, A4, A3, C#4\n",
      "Time 29: G4, E5\n",
      "Time 30: A2, C#4\n",
      "Time 31: B2, D4\n",
      "Time 32: G4, C#5\n",
      "Time 33: F#4, A4, C#3, A3\n",
      "Time 34: E4, G4, D3, A3\n",
      "Time 35: D4, F#4, E3, A3\n",
      "Time 36: C#4, G4, F#3, A3\n",
      "Time 37: D4, A4, F#3, A3\n",
      "Time 38: D4, D4, G3, B3\n",
      "Time 39: D4, D4, G2, D3\n",
      "Time 40: B3, G4, B4, G2, D#3\n",
      "Time 41: B3, F#4, A4, G2, E3\n",
      "Time 42: B3, E4, G4, A2, F#3\n",
      "Time 43: A3, D4, F#4\n",
      "Time 44: A2, G3\n",
      "Time 45: \n",
      "Time 46: E4, C#4, D3, F#3\n",
      "Time 47: D4, D4\n"
     ]
    }
   ],
   "source": [
    "import re\n",
    "import music21\n",
    "\n",
    "# Load a MusicXML file (replace 'your_music_score.xml' with the actual file path)\n",
    "score = music21.converter.parse('848.xml')\n",
    "\n",
    "# Initialize a list to store notes and rests at each point in time\n",
    "notes_and_rests_by_time = []\n",
    "notes_and_rests_by_time_ = []\n",
    "\n",
    "\n",
    "# Get all the notes, chords, and rests from the score\n",
    "all_notes = score.flat.getElementsByClass(music21.note.GeneralNote)\n",
    "\n",
    "# Create a dictionary to group elements by their starting offset\n",
    "elements_by_offset = {}\n",
    "\n",
    "# Iterate through the notes, chords, and rests and group them by offset\n",
    "for element in all_notes:\n",
    "    offset = element.offset\n",
    "    if offset not in elements_by_offset:\n",
    "        elements_by_offset[offset] = []\n",
    "    elements_by_offset[offset].append(element)\n",
    "\n",
    "# Sort the offsets in ascending order\n",
    "sorted_offsets = sorted(elements_by_offset.keys())\n",
    "\n",
    "notss = []\n",
    "\n",
    "# Iterate through the sorted offsets and collect notes and rests at each point in time\n",
    "for offset in sorted_offsets:\n",
    "    elements = elements_by_offset[offset]\n",
    "    notes_and_rests = []\n",
    "    nots=[]\n",
    "\n",
    "    for element in elements:\n",
    "        if isinstance(element, music21.note.Note):\n",
    "            pitch = element.pitch\n",
    "            parts = re.split(r'(\\d+)', str(pitch))\n",
    "            modified_item = ''.join(parts)\n",
    "            pitch = modified_item\n",
    "            notes_and_rests.append(f\"{pitch}\") # {element.duration.quarterLength}\n",
    "            nots.append(f\"{pitch} {element.duration.quarterLength}\")\n",
    "\n",
    "\n",
    "        elif isinstance(element, music21.chord.Chord):\n",
    "            for chord_note in element:\n",
    "                chord_pitch = chord_note.pitch\n",
    "                parts = re.split(r'(\\d+)', str(chord_pitch))\n",
    "                modified_item = ''.join(parts)\n",
    "                chord_pitch = modified_item\n",
    "                notes_and_rests.append(f\"{chord_pitch}\") # {chord_note.duration.quarterLength}\n",
    "                nots.append(f\"{chord_pitch} {chord_note.duration.quarterLength}\")\n",
    "\n",
    "        elif isinstance(element, music21.note.Rest):\n",
    "            # pass\n",
    "            nots.append(f\"Rest {element.duration.quarterLength}\")\n",
    "\n",
    "    notes_and_rests_by_time.append(notes_and_rests)\n",
    "    notes_and_rests_by_time_.append(nots)\n",
    "    \n",
    "\n",
    "# Print the notes and rests grouped by time\n",
    "for i, notes_and_rests in enumerate(notes_and_rests_by_time):\n",
    "    print(f\"Time {i}: {', '.join(notes_and_rests)}\")\n"
   ]
  },
  {
   "cell_type": "code",
   "execution_count": 3,
   "metadata": {},
   "outputs": [
    {
     "name": "stdout",
     "output_type": "stream",
     "text": [
      "Time 0: B-4 1.0, E-4 1.0, G3 1.0, E-3 1.0\n",
      "Time 1: E-5 1.0, G4 1.0, B-3 1.0, E-3 1.0\n",
      "Time 2: D5 1.0, G4 1.0, B-3 1.0, G3 1.0\n",
      "Time 3: C5 1.0, E-4 1.0, A-3 1.0, A-3 1.0\n",
      "Time 4: B-4 1.0, E-4 1.0, B-3 1.0, G3 1.0\n",
      "Time 5: B-4 1.0, F4 1.0, B-3 1.0, D3 1.0\n",
      "Time 6: A-4 1.0, D4 1.0, B-3 1.0, B-2 1.0\n",
      "Time 7: G4 1.0, E-4 1.0, B-3 1.0, E-3 1.0\n",
      "Time 8: G4 1.0, E-4 1.0, B-3 1.0, E-3 1.0\n",
      "Time 9: F4 1.0, C4 0.5, C4 1.0, A-3 1.0\n",
      "Time 10: D4 0.5\n",
      "Time 11: E-4 1.0, E-4 1.0, B-3 1.0, G3 1.0\n",
      "Time 12: A-4 1.0, D4 1.0, A-3 1.0, F3 1.0\n",
      "Time 13: G4 1.0, E-4 1.0, B-3 1.0, E-3 1.0\n",
      "Time 14: F4 3.0, D4 3.0, B-3 3.0, B-2 3.0\n",
      "Time 15: G4 1.0, E-4 1.0, B-3 1.0, E-3 0.5\n",
      "Time 16: D-3 0.5\n",
      "Time 17: A-4 1.0, E-4 1.0, A-3 1.0, C3 1.0\n",
      "Time 18: G4 1.0, E-4 1.0, B-3 1.0, B-2 1.0\n",
      "Time 19: C5 1.0, E-4 1.0, C4 1.0, A-2 1.0\n",
      "Time 20: B-4 1.0, E-4 1.0, E-3 1.0, G2 1.0\n",
      "Time 21: B-4 1.0, C4 1.0, F3 1.0, F2 1.0\n",
      "Time 22: A-4 1.0, D4 1.0, F3 1.0, B-2 1.0\n",
      "Time 23: G4 1.0, E-4 1.0, E-3 1.0, C3 1.0\n",
      "Time 24: E-4 1.0, C4 1.0, G3 1.0, C3 1.0\n",
      "Time 25: G4 1.0, E-4 1.0, B-3 1.0, G2 1.0\n",
      "Time 26: F4 1.0, C4 1.0, A-3 1.0, A-2 1.0\n",
      "Time 27: E-4 1.0, B-3 1.0, G3 1.0, B-2 1.0\n",
      "Time 28: D4 1.0, B-3 1.0, F3 0.5, B-2 1.0\n",
      "Time 29: A-3 0.5\n",
      "Time 30: E-4 3.0, B-3 3.0, G3 3.0, E-3 3.0\n"
     ]
    }
   ],
   "source": [
    "import music21\n",
    "\n",
    "# Load a MusicXML file (replace 'your_music_score.xml' with the actual file path)\n",
    "score = music21.converter.parse('99.xml')\n",
    "\n",
    "# Initialize a list to store notes and rests at each point in time\n",
    "notes_and_rests_by_time = []\n",
    "notes_and_rests_by_time_ = []\n",
    "\n",
    "# Get all the notes, chords, and rests from the score\n",
    "all_notes = score.flat.getElementsByClass(music21.note.GeneralNote)\n",
    "\n",
    "# Create a dictionary to group elements by their starting offset\n",
    "elements_by_offset = {}\n",
    "\n",
    "# Iterate through the notes, chords, and rests and group them by offset\n",
    "for element in all_notes:\n",
    "    offset = element.offset\n",
    "    if offset not in elements_by_offset:\n",
    "        elements_by_offset[offset] = []\n",
    "    elements_by_offset[offset].append(element)\n",
    "\n",
    "# Sort the offsets in ascending order\n",
    "sorted_offsets = sorted(elements_by_offset.keys())\n",
    "\n",
    "notss = []\n",
    "\n",
    "# Iterate through the sorted offsets and collect notes and rests at each point in time\n",
    "for offset in sorted_offsets:\n",
    "    elements = elements_by_offset[offset]\n",
    "    notes_and_rests = []\n",
    "    nots = []\n",
    "\n",
    "    for element in elements:\n",
    "        if isinstance(element, music21.note.Note):\n",
    "            pitch_name = element.pitch.nameWithOctave\n",
    "            notes_and_rests.append(f\"{pitch_name} {element.duration.quarterLength}\")\n",
    "            nots.append(f\"{pitch_name} {element.duration.quarterLength}\")\n",
    "\n",
    "        elif isinstance(element, music21.chord.Chord):\n",
    "            for chord_note in element:\n",
    "                chord_pitch_name = chord_note.pitch.nameWithOctave\n",
    "                notes_and_rests.append(f\"{chord_pitch_name} {chord_note.duration.quarterLength}\")\n",
    "                nots.append(f\"{chord_pitch_name} {chord_note.duration.quarterLength}\")\n",
    "\n",
    "        elif isinstance(element, music21.note.Rest):\n",
    "            nots.append(f\"Rest {element.duration.quarterLength}\")\n",
    "\n",
    "    notes_and_rests_by_time.append(notes_and_rests)\n",
    "    notes_and_rests_by_time_.append(nots)\n",
    "\n",
    "# Print the notes and rests grouped by time\n",
    "for i, notes_and_rests in enumerate(notes_and_rests_by_time):\n",
    "    print(f\"Time {i}: {', '.join(notes_and_rests)}\")\n"
   ]
  },
  {
   "cell_type": "code",
   "execution_count": null,
   "metadata": {},
   "outputs": [],
   "source": []
  },
  {
   "cell_type": "code",
   "execution_count": 7,
   "metadata": {},
   "outputs": [
    {
     "name": "stdout",
     "output_type": "stream",
     "text": [
      "The key signature is E- major\n"
     ]
    }
   ],
   "source": [
    "from music21 import *\n",
    "\n",
    "def get_key_signature(xml_file_path):\n",
    "    # Load the MusicXML file\n",
    "\n",
    "    # Extract the key signature\n",
    "    key_signature = None\n",
    "    for part in score.parts:\n",
    "        for measure in part.getElementsByClass('Measure'):\n",
    "            for item in measure.getElementsByClass('KeySignature'):\n",
    "                key_signature = item\n",
    "                break\n",
    "\n",
    "    return key_signature\n",
    "\n",
    "# Replace 'path/to/your/music.xml' with the actual path to your MusicXML file\n",
    "xml_file_path = \"C:\\\\Users\\\\KOFI ADUKPO\\\\Downloads\\\\tunes\\\\129.xml\"\n",
    "\n",
    "key_signature = get_key_signature(xml_file_path)\n",
    "\n",
    "if key_signature:\n",
    "    print(f\"The key signature is {key_signature}\")\n",
    "else:\n",
    "    print(\"No key signature found.\")\n"
   ]
  },
  {
   "cell_type": "code",
   "execution_count": null,
   "metadata": {},
   "outputs": [],
   "source": []
  },
  {
   "cell_type": "code",
   "execution_count": 8,
   "metadata": {},
   "outputs": [
    {
     "name": "stdout",
     "output_type": "stream",
     "text": [
      "[['B-4 1.0', 'E-4 1.0', 'G3 1.0', 'E-3 1.0'], ['E-5 1.0', 'G4 1.0', 'B-3 1.0', 'E-3 1.0'], ['D5 1.0', 'G4 1.0', 'B-3 1.0', 'G3 1.0'], ['C5 1.0', 'E-4 1.0', 'A-3 1.0', 'A-3 1.0'], ['B-4 1.0', 'E-4 1.0', 'B-3 1.0', 'G3 1.0'], ['B-4 1.0', 'F4 1.0', 'B-3 1.0', 'D3 1.0'], ['A-4 1.0', 'D4 1.0', 'B-3 1.0', 'B-2 1.0'], ['G4 1.0', 'E-4 1.0', 'B-3 1.0', 'E-3 1.0'], ['G4 1.0', 'E-4 1.0', 'B-3 1.0', 'E-3 1.0'], ['F4 1.0', 'C4 0.5', 'C4 1.0', 'A-3 1.0'], ['D4 0.5'], ['E-4 1.0', 'E-4 1.0', 'B-3 1.0', 'G3 1.0'], ['A-4 1.0', 'D4 1.0', 'A-3 1.0', 'F3 1.0'], ['G4 1.0', 'E-4 1.0', 'B-3 1.0', 'E-3 1.0'], ['F4 3.0', 'D4 3.0', 'B-3 3.0', 'B-2 3.0'], ['G4 1.0', 'E-4 1.0', 'B-3 1.0', 'E-3 0.5'], ['D-3 0.5'], ['A-4 1.0', 'E-4 1.0', 'A-3 1.0', 'C3 1.0'], ['G4 1.0', 'E-4 1.0', 'B-3 1.0', 'B-2 1.0'], ['C5 1.0', 'E-4 1.0', 'C4 1.0', 'A-2 1.0'], ['B-4 1.0', 'E-4 1.0', 'E-3 1.0', 'G2 1.0'], ['B-4 1.0', 'C4 1.0', 'F3 1.0', 'F2 1.0'], ['A-4 1.0', 'D4 1.0', 'F3 1.0', 'B-2 1.0'], ['G4 1.0', 'E-4 1.0', 'E-3 1.0', 'C3 1.0'], ['E-4 1.0', 'C4 1.0', 'G3 1.0', 'C3 1.0'], ['G4 1.0', 'E-4 1.0', 'B-3 1.0', 'G2 1.0'], ['F4 1.0', 'C4 1.0', 'A-3 1.0', 'A-2 1.0'], ['E-4 1.0', 'B-3 1.0', 'G3 1.0', 'B-2 1.0'], ['D4 1.0', 'B-3 1.0', 'F3 0.5', 'B-2 1.0'], ['A-3 0.5'], ['E-4 3.0', 'B-3 3.0', 'G3 3.0', 'E-3 3.0']]\n"
     ]
    }
   ],
   "source": [
    "print(notes_and_rests_by_time)"
   ]
  },
  {
   "cell_type": "code",
   "execution_count": null,
   "metadata": {},
   "outputs": [],
   "source": []
  },
  {
   "cell_type": "code",
   "execution_count": 9,
   "metadata": {},
   "outputs": [
    {
     "data": {
      "text/html": [
       "\n",
       "                <div id=\"midiPlayerDiv1003\"></div>\n",
       "                <link rel=\"stylesheet\" href=\"https://cuthbertLab.github.io/music21j/css/m21.css\">\n",
       "                \n",
       "                <script>\n",
       "                require.config({\n",
       "                    paths: {\n",
       "                        'music21': 'https://cuthbertLab.github.io/music21j/releases/music21.debug',\n",
       "                    }\n",
       "                });\n",
       "                require(['music21'], function(music21) {\n",
       "                    mp = new music21.miditools.MidiPlayer();\n",
       "                    mp.addPlayer(\"#midiPlayerDiv1003\");\n",
       "                    mp.base64Load(\"data:audio/midi;base64,TVRoZAAAAAYAAQACBABNVHJrAAAAFAD/UQMHoSAA/1gEBAIYCIgA/y8ATVRyawAAA9UA/wMKU3RlZWwgRHJ1bQDAcgDgAEAAwHKIAJBGWgCQP1oAkDdaAJAzWogAgEYAAIA/AACANwAAgDMAAJBLWgCQQ1oAkDpaAJAzWogAgEsAAIBDAACAOgAAgDMAAJBKWgCQQ1oAkDpaAJA3WogAgEoAAIBDAACAOgAAgDcAAJBIWgCQP1oAkDhaAJA4WogAgEgAAIA/AACAOAAAgDgAAJBGWgCQP1oAkDpaAJA3WogAgEYAAIA/AACAOgAAgDcAAJBGWgCQQVoAkDpaAJAyWogAgEYAAIBBAACAOgAAgDIAAJBEWgCQPloAkDpaAJAuWogAgEQAAIA+AACAOgAAgC4AAJBDWgCQP1oAkDpaAJAzWogAgEMAAIA/AACAOgAAgDMAAJBDWgCQP1oAkDpaAJAzWogAgEMAAIA/AACAOgAAgDMAAJBBWgCQPFoAkDxaAJA4WogAgEEAAIA8AACAPAAAgDgAAJA+WoQAgD4AAJA/WgCQP1oAkDpaAJA3WogAgD8AAIA/AACAOgAAgDcAAJBEWgCQPloAkDhaAJA1WogAgEQAAIA+AACAOAAAgDUAAJBDWgCQP1oAkDpaAJAzWogAgEMAAIA/AACAOgAAgDMAAJBBWgCQPloAkDpaAJAuWpgAgEEAAIA+AACAOgAAgC4AAJBDWgCQP1oAkDpaAJAzWogAgEMAAIA/AACAOgAAgDMAAJAxWoQAgDEAAJBEWgCQP1oAkDhaAJAwWogAgEQAAIA/AACAOAAAgDAAAJBDWgCQP1oAkDpaAJAuWogAgEMAAIA/AACAOgAAgC4AAJBIWgCQP1oAkDxaAJAsWogAgEgAAIA/AACAPAAAgCwAAJBGWgCQP1oAkDNaAJArWogAgEYAAIA/AACAMwAAgCsAAJBGWgCQPFoAkDVaAJApWogAgEYAAIA8AACANQAAgCkAAJBEWgCQPloAkDVaAJAuWogAgEQAAIA+AACANQAAgC4AAJBDWgCQP1oAkDNaAJAwWogAgEMAAIA/AACAMwAAgDAAAJA/WgCQPFoAkDdaAJAwWogAgD8AAIA8AACANwAAgDAAAJBDWgCQP1oAkDpaAJArWogAgEMAAIA/AACAOgAAgCsAAJBBWgCQPFoAkDhaAJAsWogAgEEAAIA8AACAOAAAgCwAAJA/WgCQOloAkDdaAJAuWogAgD8AAIA6AACANwAAgC4AAJA+WgCQOloAkDVaAJAuWogAgD4AAIA6AACANQAAgC4AAJA4WoQAgDgAAJA/WgCQOloAkDdaAJAzWpgAgD8AAIA6AACANwAAgDMAiAD/LwA=\");\n",
       "                });\n",
       "                </script>"
      ],
      "text/plain": [
       "<IPython.core.display.HTML object>"
      ]
     },
     "metadata": {},
     "output_type": "display_data"
    },
    {
     "data": {
      "text/plain": [
       "None"
      ]
     },
     "metadata": {},
     "output_type": "display_data"
    }
   ],
   "source": [
    "import music21\n",
    "from music21 import chord\n",
    "\n",
    "# ... (previous code remains unchanged)\n",
    "\n",
    "# Create a new stream\n",
    "output_stream = music21.stream.Stream()\n",
    "\n",
    "# output_stream.append(music21.instrument.SteelDrum())\n",
    "\n",
    "\n",
    "# Iterate through the sorted offsets and add chords to the stream\n",
    "for offset, notes_and_rests in zip(sorted_offsets, notes_and_rests_by_time_):\n",
    "    chords = []\n",
    "\n",
    "    for item in notes_and_rests:\n",
    "        # Split the string into pitch (or 'Rest') and duration\n",
    "        parts = item.split()\n",
    "        if parts[0] == 'Rest':\n",
    "            # duration = float(parts[1])\n",
    "            # output_stream.append(music21.note.Rest(quarterLength=duration))\n",
    "            pass\n",
    "        else:\n",
    "            pitch = parts[0]\n",
    "            duration = float(parts[1])\n",
    "            chords.append(music21.note.Note(pitch, quarterLength=duration))\n",
    "\n",
    "    if chords:\n",
    "        # Create a chord and add it to the stream\n",
    "        output_stream.append(chord.Chord(chords))\n",
    "\n",
    "\n",
    "# Show and play the music\n",
    "display(output_stream.show('midi'))\n",
    "\n",
    "\n",
    "#move\n"
   ]
  },
  {
   "cell_type": "code",
   "execution_count": null,
   "metadata": {},
   "outputs": [
    {
     "data": {
      "text/plain": [
       "[0.0,\n",
       " 1.0,\n",
       " 2.0,\n",
       " 3.0,\n",
       " 4.0,\n",
       " 5.0,\n",
       " 6.0,\n",
       " 7.0,\n",
       " 8.0,\n",
       " 9.0,\n",
       " 9.5,\n",
       " 10.0,\n",
       " 11.0,\n",
       " 12.0,\n",
       " 13.0,\n",
       " 16.0,\n",
       " 16.5,\n",
       " 17.0,\n",
       " 18.0,\n",
       " 19.0,\n",
       " 20.0,\n",
       " 21.0,\n",
       " 22.0,\n",
       " 23.0,\n",
       " 24.0,\n",
       " 25.0,\n",
       " 26.0,\n",
       " 27.0,\n",
       " 28.0,\n",
       " 28.5,\n",
       " 29.0]"
      ]
     },
     "execution_count": 42,
     "metadata": {},
     "output_type": "execute_result"
    }
   ],
   "source": [
    "sorted_offsets"
   ]
  },
  {
   "cell_type": "code",
   "execution_count": null,
   "metadata": {},
   "outputs": [],
   "source": []
  },
  {
   "cell_type": "code",
   "execution_count": null,
   "metadata": {},
   "outputs": [],
   "source": []
  },
  {
   "cell_type": "code",
   "execution_count": null,
   "metadata": {},
   "outputs": [],
   "source": []
  },
  {
   "cell_type": "code",
   "execution_count": null,
   "metadata": {},
   "outputs": [],
   "source": []
  },
  {
   "cell_type": "code",
   "execution_count": null,
   "metadata": {},
   "outputs": [],
   "source": []
  },
  {
   "cell_type": "markdown",
   "metadata": {},
   "source": []
  },
  {
   "cell_type": "code",
   "execution_count": null,
   "metadata": {},
   "outputs": [
    {
     "name": "stdout",
     "output_type": "stream",
     "text": [
      "[['B-4 1.0', 'E-4 1.0', 'G3 1.0', 'E-3 1.0'], ['E-5 1.0', 'G4 1.0', 'B-3 1.0', 'E-3 1.0'], ['D5 1.0', 'G4 1.0', 'B-3 1.0', 'G3 1.0'], ['C5 1.0', 'E-4 1.0', 'A-3 1.0', 'A-3 1.0'], ['B-4 1.0', 'E-4 1.0', 'B-3 1.0', 'G3 1.0'], ['B-4 1.0', 'F4 1.0', 'B-3 1.0', 'D3 1.0'], ['A-4 1.0', 'D4 1.0', 'B-3 1.0', 'B-2 1.0'], ['G4 1.0', 'E-4 1.0', 'B-3 1.0', 'E-3 1.0'], ['G4 1.0', 'E-4 1.0', 'B-3 1.0', 'E-3 1.0'], ['F4 1.0', 'C4 0.5', 'C4 1.0', 'A-3 1.0'], ['D4 0.5'], ['E-4 1.0', 'E-4 1.0', 'B-3 1.0', 'G3 1.0'], ['A-4 1.0', 'D4 1.0', 'A-3 1.0', 'F3 1.0'], ['G4 1.0', 'E-4 1.0', 'B-3 1.0', 'E-3 1.0'], ['F4 3.0', 'D4 3.0', 'B-3 3.0', 'B-2 3.0'], ['G4 1.0', 'E-4 1.0', 'B-3 1.0', 'E-3 0.5'], ['D-3 0.5'], ['A-4 1.0', 'E-4 1.0', 'A-3 1.0', 'C3 1.0'], ['G4 1.0', 'E-4 1.0', 'B-3 1.0', 'B-2 1.0'], ['C5 1.0', 'E-4 1.0', 'C4 1.0', 'A-2 1.0']]\n",
      "[['B-4 1.0', 'E-4 1.0', 'G3 1.0', 'E-3 1.0'], ['E-5 1.0', 'G4 1.0', 'Rest 2.0', 'B-3 1.0', 'E-3 1.0'], ['D5 1.0', 'G4 1.0', 'B-3 1.0', 'G3 1.0'], ['C5 1.0', 'E-4 1.0', 'A-3 1.0', 'A-3 1.0'], ['B-4 1.0', 'E-4 1.0', 'B-3 1.0', 'G3 1.0'], ['B-4 1.0', 'F4 1.0', 'B-3 1.0', 'D3 1.0'], ['A-4 1.0', 'D4 1.0', 'B-3 1.0', 'B-2 1.0'], ['G4 1.0', 'E-4 1.0', 'B-3 1.0', 'E-3 1.0'], ['G4 1.0', 'E-4 1.0', 'B-3 1.0', 'E-3 1.0'], ['F4 1.0', 'C4 0.5', 'C4 1.0', 'A-3 1.0'], ['D4 0.5'], ['E-4 1.0', 'E-4 1.0', 'B-3 1.0', 'G3 1.0'], ['A-4 1.0', 'D4 1.0', 'Rest 2.0', 'A-3 1.0', 'F3 1.0'], ['G4 1.0', 'E-4 1.0', 'B-3 1.0', 'E-3 1.0'], ['F4 3.0', 'D4 3.0', 'Rest 3.0', 'B-3 3.0', 'B-2 3.0'], ['G4 1.0', 'E-4 1.0', 'B-3 1.0', 'E-3 0.5'], ['D-3 0.5'], ['A-4 1.0', 'E-4 1.0', 'A-3 1.0', 'C3 1.0'], ['G4 1.0', 'E-4 1.0', 'B-3 1.0', 'B-2 1.0'], ['C5 1.0', 'E-4 1.0', 'C4 1.0', 'A-2 1.0'], ['B-4 1.0', 'E-4 1.0', 'E-3 1.0', 'G2 1.0'], ['B-4 1.0', 'C4 1.0', 'F3 1.0', 'F2 1.0'], ['A-4 1.0', 'D4 1.0', 'F3 1.0', 'B-2 1.0'], ['G4 1.0', 'E-4 1.0', 'E-3 1.0', 'C3 1.0'], ['E-4 1.0', 'C4 1.0', 'G3 1.0', 'C3 1.0'], ['G4 1.0', 'E-4 1.0', 'Rest 3.0', 'B-3 1.0', 'G2 1.0'], ['F4 1.0', 'C4 1.0', 'A-3 1.0', 'A-2 1.0'], ['E-4 1.0', 'B-3 1.0', 'G3 1.0', 'B-2 1.0'], ['D4 1.0', 'B-3 1.0', 'F3 0.5', 'B-2 1.0'], ['A-3 0.5'], ['E-4 3.0', 'B-3 3.0', 'G3 3.0', 'E-3 3.0']]\n"
     ]
    }
   ],
   "source": [
    "print(notes_and_rests_by_time)\n",
    "print(notes_and_rests_by_time_)"
   ]
  },
  {
   "cell_type": "code",
   "execution_count": null,
   "metadata": {},
   "outputs": [],
   "source": []
  },
  {
   "cell_type": "code",
   "execution_count": 2,
   "metadata": {},
   "outputs": [
    {
     "ename": "NameError",
     "evalue": "name 'score' is not defined",
     "output_type": "error",
     "traceback": [
      "\u001b[1;31m---------------------------------------------------------------------------\u001b[0m",
      "\u001b[1;31mNameError\u001b[0m                                 Traceback (most recent call last)",
      "\u001b[1;32mc:\\Users\\KOFI ADUKPO\\Desktop\\code\\aseda\\tries\\dvv.ipynb Cell 18\u001b[0m line \u001b[0;36m1\n\u001b[0;32m      <a href='vscode-notebook-cell:/c%3A/Users/KOFI%20ADUKPO/Desktop/code/aseda/tries/dvv.ipynb#X23sZmlsZQ%3D%3D?line=6'>7</a>\u001b[0m time_signature \u001b[39m=\u001b[39m \u001b[39mNone\u001b[39;00m\n\u001b[0;32m      <a href='vscode-notebook-cell:/c%3A/Users/KOFI%20ADUKPO/Desktop/code/aseda/tries/dvv.ipynb#X23sZmlsZQ%3D%3D?line=8'>9</a>\u001b[0m \u001b[39m# Iterate through the measures to find the time signature\u001b[39;00m\n\u001b[1;32m---> <a href='vscode-notebook-cell:/c%3A/Users/KOFI%20ADUKPO/Desktop/code/aseda/tries/dvv.ipynb#X23sZmlsZQ%3D%3D?line=9'>10</a>\u001b[0m \u001b[39mfor\u001b[39;00m measure \u001b[39min\u001b[39;00m score\u001b[39m.\u001b[39mparts[\u001b[39m0\u001b[39m]\u001b[39m.\u001b[39mgetElementsByClass(\u001b[39m'\u001b[39m\u001b[39mMeasure\u001b[39m\u001b[39m'\u001b[39m):\n\u001b[0;32m     <a href='vscode-notebook-cell:/c%3A/Users/KOFI%20ADUKPO/Desktop/code/aseda/tries/dvv.ipynb#X23sZmlsZQ%3D%3D?line=10'>11</a>\u001b[0m     ts \u001b[39m=\u001b[39m measure\u001b[39m.\u001b[39mgetTimeSignatures()\n\u001b[0;32m     <a href='vscode-notebook-cell:/c%3A/Users/KOFI%20ADUKPO/Desktop/code/aseda/tries/dvv.ipynb#X23sZmlsZQ%3D%3D?line=11'>12</a>\u001b[0m     \u001b[39mif\u001b[39;00m ts:\n\u001b[0;32m     <a href='vscode-notebook-cell:/c%3A/Users/KOFI%20ADUKPO/Desktop/code/aseda/tries/dvv.ipynb#X23sZmlsZQ%3D%3D?line=12'>13</a>\u001b[0m         \u001b[39m# Get the first time signature found in the measure\u001b[39;00m\n",
      "\u001b[1;31mNameError\u001b[0m: name 'score' is not defined"
     ]
    }
   ],
   "source": [
    "# import music21\n",
    "\n",
    "# # Load a MusicXML file (replace 'your_music_score.xml' with the actual file path)\n",
    "# score = music21.converter.parse('your_music_score.xml')\n",
    "\n",
    "# Search for the time signature in the first part (assuming a single-part score)\n",
    "time_signature = None\n",
    "\n",
    "# Iterate through the measures to find the time signature\n",
    "for measure in score.parts[0].getElementsByClass('Measure'):\n",
    "    ts = measure.getTimeSignatures()\n",
    "    if ts:\n",
    "        # Get the first time signature found in the measure\n",
    "        time_signature = ts[0]\n",
    "        break\n",
    "\n",
    "if time_signature:\n",
    "    print(f\"Time Signature: {time_signature.ratioString}\")\n",
    "else:\n",
    "    print(\"Time Signature not found in the score.\")\n"
   ]
  },
  {
   "cell_type": "code",
   "execution_count": null,
   "metadata": {},
   "outputs": [],
   "source": []
  },
  {
   "cell_type": "code",
   "execution_count": null,
   "metadata": {},
   "outputs": [],
   "source": []
  },
  {
   "cell_type": "code",
   "execution_count": 36,
   "metadata": {},
   "outputs": [],
   "source": [
    "p = [['E-4 6.0'],['C4 1.0', 'E-4 6.0', 'A-2 1.0', 'A-3 3.0'], ['C4 1.0', 'C4 2.0', 'A-2 1.0', 'A-3 2.0'], ['E-4 1.0', 'C3 1.0']]\n",
    "p=notes_and_rests_by_time\n",
    "t = []\n",
    "main = []\n",
    "data = p\n",
    "k=p\n",
    "\n",
    "##taking care of the .75\n",
    "heavy=[]\n",
    "# Check if the decimal ends with .75\n",
    "for r in k:\n",
    "    qw=[]\n",
    "    qe=[]\n",
    "    for u in r:\n",
    "        pitch, duration = u.split()\n",
    "        duration_float = float(duration)\n",
    "        if duration_float % 1 == 0.75:\n",
    "            # Subtract 0.25 from it\n",
    "            new_duration = duration_float - 0.25\n",
    "            qw.append(f\"{pitch} {new_duration:.1f}\")\n",
    "            qe.append(f\"{pitch} 0.25\")\n",
    "        else:\n",
    "            qw.append(u)\n",
    "    heavy.append(qw)\n",
    "    if qe:\n",
    "        heavy.append(qe)\n",
    "\n",
    "k=heavy\n",
    "\n",
    "# Create a new list to store the modified elements\n",
    "# Create a new list to store the modified elements\n",
    "new_k = []\n",
    "\n",
    "# Iterate through the sublists in 'k'\n",
    "for sublist_k in k:\n",
    "    modified_sublist = []\n",
    "    remaining_sublist = []\n",
    "    for element in sublist_k:\n",
    "        pitch, duration = element.split()  # Split the element into pitch and duration\n",
    "        duration_float = float(duration)  # Convert duration to a float\n",
    "        if duration_float > 1.0:\n",
    "            if duration_float % 1 == 0.5:\n",
    "                # If duration ends with '.5', subtract 0.5 and add '.0' to the duration\n",
    "                modified_duration = f\"{duration_float - 0.5:.1f}\"\n",
    "                modified_sublist.append(f\"{pitch} {modified_duration}\")\n",
    "                remaining_sublist.append(f\"{pitch} 0.5\")  # Add a new element with '0.5' duration\n",
    "            else:\n",
    "                # If duration is odd and greater than 1.0, subtract 1.0 and create a sublist for it\n",
    "                modified_duration = f\"{duration_float - 1.0:.1f}\"\n",
    "                modified_sublist.append(f\"{pitch} {modified_duration}\")\n",
    "                remaining_sublist.append(f\"{pitch} 1.0\")\n",
    "        else:\n",
    "            # Otherwise, keep the original element in the modified sublist\n",
    "            modified_sublist.append(element)\n",
    "    new_k.append(modified_sublist)\n",
    "    if remaining_sublist:\n",
    "        new_k.append(remaining_sublist)\n",
    "p=new_k\n",
    "\n",
    "for i in p:\n",
    "\n",
    "\n",
    "    if i:\n",
    "\n",
    "        # Calculate the minimum duration in the list\n",
    "        # print(i)\n",
    "        min_duration = min(float(note.split()[1]) for note in i)\n",
    "\n",
    "        # Create a new list with equal durations\n",
    "        equal_duration_list = [f\"{note.split()[0]} {min_duration}\" for note in i]\n",
    "        t.append(equal_duration_list)\n",
    "\n",
    "        # Create a remainder list with the original durations\n",
    "        remainder = [f\"{note.split()[0]} {float(note.split()[1]) - min_duration}\" for note in i if float(note.split()[1]) > min_duration]\n",
    "        if remainder:\n",
    "            # Extract the second items from each element\n",
    "            second_items = [float(note.split()[1]) for note in remainder]\n",
    "\n",
    "            # Check if all second items are the same\n",
    "            is_same_duration = all(item == second_items[0] for item in second_items)\n",
    "\n",
    "            if is_same_duration:\n",
    "                t.append(remainder)\n",
    "            else:\n",
    "                min_duration = min(float(note.split()[1]) for note in remainder) #leevel\n",
    "                # Create a new list with equal durations\n",
    "                equal_duration_list = [f\"{note.split()[0]} {min_duration}\" for note in remainder]\n",
    "                t.append(equal_duration_list)\n",
    "                # Create a remainder list with the original durations\n",
    "                remainder = [f\"{note.split()[0]} {float(note.split()[1]) - min_duration}\" for note in remainder if float(note.split()[1]) > min_duration]\n",
    "                # print(f'firstremain: {remainder}')\n",
    "                # Extract the second items from each element\n",
    "                if remainder:\n",
    "                    second_items = [float(note.split()[1]) for note in remainder]\n",
    "                    \n",
    "\n",
    "                    # Check if all second items are the same\n",
    "                    is_same_duration = all(item == second_items[0] for item in second_items)\n",
    "\n",
    "                    if is_same_duration:\n",
    "                        t.append(remainder)\n",
    "                    else:\n",
    "                        min_duration = min(float(note.split()[1]) for note in remainder)\n",
    "                        # Create a new list with equal durations\n",
    "                        equal_duration_list = [f\"{note.split()[0]} {min_duration}\" for note in remainder]\n",
    "                        t.append(equal_duration_list)\n",
    "                        ##\n",
    "                        remainder = [f\"{note.split()[0]} {float(note.split()[1]) - min_duration}\" for note in remainder if float(note.split()[1]) > min_duration]\n",
    "                        # Extract the second items from each element\n",
    "                        # print(f'remain: {remainder}')\n",
    "                        if remainder:\n",
    "                            second_items = [float(note.split()[1]) for note in remainder]\n",
    "\n",
    "                            # Check if all second items are the same\n",
    "                            is_same_duration = all(item == second_items[0] for item in second_items)\n",
    "\n",
    "                            if is_same_duration:\n",
    "                                print(remainder)\n",
    "                                t.append(remainder)\n",
    "\n",
    "                            else:\n",
    "                                min_duration = min(float(note.split()[1]) for note in remainder)\n",
    "                                # Create a new list with equal durations\n",
    "                                equal_duration_list = [f\"{note.split()[0]} {min_duration}\" for note in remainder]\n",
    "                                t.append(equal_duration_list)\n",
    "                                remainder = [f\"{note.split()[0]} {float(note.split()[1]) - min_duration}\" for note in remainder if float(note.split()[1]) > min_duration]\n",
    "\n",
    "                                if remainder:\n",
    "                                    second_items = [float(note.split()[1]) for note in remainder]\n",
    "\n",
    "                                    # Check if all second items are the same\n",
    "                                    is_same_duration = all(item == second_items[0] for item in second_items)\n",
    "\n",
    "                                    if is_same_duration:\n",
    "                                        t.append(remainder)\n",
    "                                    else:\n",
    "                                        min_duration = min(float(note.split()[1]) for note in remainder)\n",
    "                                        # Create a new list with equal durations\n",
    "                                        equal_duration_list = [f\"{note.split()[0]} {min_duration}\" for note in remainder]\n",
    "                                        t.append(equal_duration_list)\n",
    "\n",
    "\n",
    "\n",
    "    p = t\n",
    "new_p = []\n",
    "\n",
    "for f in p:\n",
    "    pp=[]\n",
    "    pl=[]\n",
    "    for y in f:\n",
    "        pitch, duration = y.split()\n",
    "        duration_float = float(duration)\n",
    "\n",
    "        if duration_float > 2.0 and duration_float % 2 == 1.0:\n",
    "            # If duration is greater than or equal to 1.0 and odd, subtract 1.0 from it\n",
    "            new_duration = duration_float - 1.0\n",
    "            pp.append(f\"{pitch} {new_duration:.1f}\")\n",
    "            pl.append(f\"{pitch} 1.0\")\n",
    "        else:\n",
    "            pp.append(y)\n",
    "    new_p.append(pp)\n",
    "    if pl:\n",
    "        new_p.append(pl)\n",
    "\n",
    "\n",
    "\n",
    "t=new_p\n",
    "\n"
   ]
  },
  {
   "cell_type": "code",
   "execution_count": 37,
   "metadata": {},
   "outputs": [
    {
     "data": {
      "text/plain": [
       "[['B-4 1.0', 'E-4 1.0', 'G3 1.0', 'E-3 1.0'],\n",
       " ['E-5 1.0', 'G4 1.0', 'B-3 1.0', 'E-3 1.0'],\n",
       " ['D5 1.0', 'G4 1.0', 'B-3 1.0', 'G3 1.0'],\n",
       " ['C5 1.0', 'E-4 1.0', 'A-3 1.0', 'A-3 1.0'],\n",
       " ['B-4 1.0', 'E-4 1.0', 'B-3 1.0', 'G3 1.0'],\n",
       " ['B-4 1.0', 'F4 1.0', 'B-3 1.0', 'D3 1.0'],\n",
       " ['A-4 1.0', 'D4 1.0', 'B-3 1.0', 'B-2 1.0'],\n",
       " ['G4 1.0', 'E-4 1.0', 'B-3 1.0', 'E-3 1.0'],\n",
       " ['G4 1.0', 'E-4 1.0', 'B-3 1.0', 'E-3 1.0'],\n",
       " ['F4 0.5', 'C4 0.5', 'C4 0.5', 'A-3 0.5'],\n",
       " ['F4 0.5', 'C4 0.5', 'A-3 0.5'],\n",
       " ['D4 0.5'],\n",
       " ['E-4 1.0', 'E-4 1.0', 'B-3 1.0', 'G3 1.0'],\n",
       " ['A-4 1.0', 'D4 1.0', 'A-3 1.0', 'F3 1.0'],\n",
       " ['G4 1.0', 'E-4 1.0', 'B-3 1.0', 'E-3 1.0'],\n",
       " ['F4 2.0', 'D4 2.0', 'B-3 2.0', 'B-2 2.0'],\n",
       " ['F4 1.0', 'D4 1.0', 'B-3 1.0', 'B-2 1.0'],\n",
       " ['G4 0.5', 'E-4 0.5', 'B-3 0.5', 'E-3 0.5'],\n",
       " ['G4 0.5', 'E-4 0.5', 'B-3 0.5'],\n",
       " ['D-3 0.5'],\n",
       " ['A-4 1.0', 'E-4 1.0', 'A-3 1.0', 'C3 1.0'],\n",
       " ['G4 1.0', 'E-4 1.0', 'B-3 1.0', 'B-2 1.0'],\n",
       " ['C5 1.0', 'E-4 1.0', 'C4 1.0', 'A-2 1.0'],\n",
       " ['B-4 1.0', 'E-4 1.0', 'E-3 1.0', 'G2 1.0'],\n",
       " ['B-4 1.0', 'C4 1.0', 'F3 1.0', 'F2 1.0'],\n",
       " ['A-4 1.0', 'D4 1.0', 'F3 1.0', 'B-2 1.0'],\n",
       " ['G4 1.0', 'E-4 1.0', 'E-3 1.0', 'C3 1.0'],\n",
       " ['E-4 1.0', 'C4 1.0', 'G3 1.0', 'C3 1.0'],\n",
       " ['G4 1.0', 'E-4 1.0', 'B-3 1.0', 'G2 1.0'],\n",
       " ['F4 1.0', 'C4 1.0', 'A-3 1.0', 'A-2 1.0'],\n",
       " ['E-4 1.0', 'B-3 1.0', 'G3 1.0', 'B-2 1.0'],\n",
       " ['D4 0.5', 'B-3 0.5', 'F3 0.5', 'B-2 0.5'],\n",
       " ['D4 0.5', 'B-3 0.5', 'B-2 0.5'],\n",
       " ['A-3 0.5'],\n",
       " ['E-4 2.0', 'B-3 2.0', 'G3 2.0', 'E-3 2.0'],\n",
       " ['E-4 1.0', 'B-3 1.0', 'G3 1.0', 'E-3 1.0']]"
      ]
     },
     "execution_count": 37,
     "metadata": {},
     "output_type": "execute_result"
    }
   ],
   "source": [
    "new_p"
   ]
  },
  {
   "cell_type": "code",
   "execution_count": null,
   "metadata": {},
   "outputs": [],
   "source": []
  },
  {
   "cell_type": "code",
   "execution_count": 67,
   "metadata": {},
   "outputs": [
    {
     "data": {
      "text/plain": [
       "[['D4 1.0', 'F#4 1.0', 'D3 1.0', 'A3 1.0'],\n",
       " ['D4 1.0', 'F#4 1.0', 'D3 1.0', 'A3 1.0'],\n",
       " ['D4 1.0', 'F#4 1.0', 'A2 1.0', 'A3 1.0'],\n",
       " ['F#4 1.0', 'A4 1.0', 'A2 1.0', 'A3 1.0'],\n",
       " ['C#4 1.0', 'G4 1.0', 'E3 1.0', 'A3 1.0'],\n",
       " ['C#4 0.5', 'G4 0.5', 'E3 0.5', 'A3 0.5'],\n",
       " ['C#4 0.5', 'F#4 0.5', 'D#3 0.5', 'A3 0.5'],\n",
       " ['C#4 1.0', 'G4 1.0', 'E3 1.0', 'A3 1.0'],\n",
       " ['C#4 1.0', 'B4 1.0', 'A2 1.0', 'A3 1.0'],\n",
       " ['D4 1.0', 'A4 1.0', 'F#3 1.0', 'A3 1.0'],\n",
       " ['D4 1.0', 'G#4 1.0', 'F#3 1.0', 'A3 1.0'],\n",
       " ['D4 1.0', 'A4 1.0', 'F#2 1.0', 'A3 1.0'],\n",
       " ['D4 1.0', 'D5 1.0', 'B2 1.0', 'G3 1.0'],\n",
       " ['D5 1.0', 'E4 1.0', 'A2 1.0', 'A3 1.0'],\n",
       " ['E4 1.0', 'A2 1.0', 'A3 1.0'],\n",
       " ['D5 1.0', 'E4 1.0', 'A2 1.0', 'A3 1.0'],\n",
       " ['C#5 1.0'],\n",
       " ['A4 1.0', 'D5 1.0', 'Rest 1.0', 'F#3 1.0', 'D4 1.0'],\n",
       " ['G4 1.0', 'B4 1.0', 'G3 1.0', 'D4 1.0'],\n",
       " ['D4 1.0', 'A4 1.0', 'F#3 1.0', 'A3 1.0'],\n",
       " ['D4 1.0', 'G4 1.0', 'E3 1.0', 'B3 1.0'],\n",
       " ['C#4 1.0', 'A4 1.0', 'A2 1.0', 'A3 1.0'],\n",
       " ['D4 1.0', 'F#4 1.0', 'D3 1.0', 'A3 1.0'],\n",
       " ['E4 1.0', 'G#4 1.0', 'D3 1.0', 'B3 1.0'],\n",
       " ['E4 1.0', 'A4 1.0', 'C#3 1.0', 'A3 1.0'],\n",
       " ['F#4 1.0', 'B4 1.0', 'D3 1.0', 'A3 1.0'],\n",
       " ['E4 1.0', 'C#5 1.0', 'E3 1.0', 'A3 1.0'],\n",
       " ['C#5 1.0'],\n",
       " ['E4 1.0', 'C#5 1.0', 'E3 1.0', 'A3 1.0'],\n",
       " ['Rest 1.0', 'E3 1.0', 'G#3 1.0'],\n",
       " ['E3 1.0', 'G#3 1.0'],\n",
       " ['B4 1.0', 'D4 1.0'],\n",
       " ['D4 1.0'],\n",
       " ['A2 2.0', 'A3 2.0', 'Rest 2.0', 'Rest 2.0'],\n",
       " ['A2 1.0', 'A3 1.0', 'Rest 1.0', 'Rest 1.0'],\n",
       " ['C#4 2.0', 'A4 2.0', 'Rest 2.0', 'Rest 2.0'],\n",
       " ['C#4 1.0', 'A4 1.0', 'Rest 1.0', 'Rest 1.0'],\n",
       " ['A3 1.0', 'A3 1.0'],\n",
       " ['A4 1.0', 'A4 1.0', 'A3 1.0', 'C#4 1.0'],\n",
       " ['A3 0.5', 'C#4 0.5'],\n",
       " ['G4 1.0', 'E5 1.0'],\n",
       " ['G4 0.5', 'E5 0.5'],\n",
       " ['A2 0.5', 'C#4 0.5'],\n",
       " ['B2 1.0', 'D4 1.0'],\n",
       " ['G4 0.5', 'C#5 0.5'],\n",
       " ['F#4 1.0', 'A4 1.0', 'C#3 1.0', 'A3 1.0'],\n",
       " ['E4 1.0', 'G4 1.0', 'D3 1.0', 'A3 1.0'],\n",
       " ['D4 1.0', 'F#4 1.0', 'Rest 1.0', 'Rest 1.0', 'E3 1.0', 'A3 1.0'],\n",
       " ['Rest 1.0', 'Rest 1.0'],\n",
       " ['Rest 1.0', 'Rest 1.0'],\n",
       " ['C#4 1.0', 'G4 1.0', 'F#3 1.0', 'A3 1.0'],\n",
       " ['D4 1.0', 'A4 1.0', 'F#3 1.0', 'A3 1.0'],\n",
       " ['D4 1.0', 'D4 1.0', 'G3 1.0', 'B3 1.0'],\n",
       " ['D4 1.0', 'D4 1.0', 'G2 1.0', 'D3 1.0'],\n",
       " ['B3 1.0', 'G4 1.0', 'B4 1.0', 'Rest 1.0', 'G2 1.0', 'D#3 1.0'],\n",
       " ['Rest 1.0'],\n",
       " ['Rest 1.0'],\n",
       " ['B3 1.0', 'F#4 1.0', 'A4 1.0', 'G2 1.0', 'E3 1.0'],\n",
       " ['B3 1.0', 'E4 1.0', 'G4 1.0', 'A2 1.0', 'F#3 1.0'],\n",
       " ['A2 1.0', 'F#3 1.0'],\n",
       " ['A3 1.0', 'D4 1.0', 'F#4 1.0'],\n",
       " ['F#4 1.0'],\n",
       " ['A3 1.0', 'D4 1.0', 'F#4 1.0'],\n",
       " ['A2 1.0', 'G3 1.0'],\n",
       " ['A2 1.0', 'G3 1.0'],\n",
       " ['Rest 1.0'],\n",
       " ['E4 1.0', 'C#4 1.0', 'D3 1.0', 'F#3 1.0'],\n",
       " ['D3 2.0', 'F#3 2.0'],\n",
       " ['C#4 1.0', 'D3 1.0', 'F#3 1.0'],\n",
       " ['D4 2.0', 'D4 2.0'],\n",
       " ['D4 1.0', 'D4 1.0'],\n",
       " ['D4 1.0', 'D4 1.0']]"
      ]
     },
     "execution_count": 67,
     "metadata": {},
     "output_type": "execute_result"
    }
   ],
   "source": [
    "t"
   ]
  },
  {
   "cell_type": "code",
   "execution_count": 68,
   "metadata": {},
   "outputs": [],
   "source": [
    "p = [['E-4 5.0', 'A-3 2.0'], ['E-4 3.0', 'D-4 5.0']]\n",
    "new_p = []\n",
    "\n",
    "for f in p:\n",
    "    pp=[]\n",
    "    pl=[]\n",
    "    for y in f:\n",
    "        pitch, duration = y.split()\n",
    "        duration_float = float(duration)\n",
    "\n",
    "        if duration_float >= 1.0 and duration_float % 2 == 1.0:\n",
    "            # If duration is greater than or equal to 1.0 and odd, subtract 1.0 from it\n",
    "            new_duration = duration_float - 1.0\n",
    "            pp.append(f\"{pitch} {new_duration:.1f}\")\n",
    "            pl.append(f\"{pitch} 1.0\")\n",
    "        else:\n",
    "            pp.append(y)\n",
    "    new_p.append(pp)\n",
    "    if pl:\n",
    "        new_p.append(pl)"
   ]
  },
  {
   "cell_type": "code",
   "execution_count": 69,
   "metadata": {},
   "outputs": [
    {
     "data": {
      "text/plain": [
       "[['E-4 4.0', 'A-3 2.0'],\n",
       " ['E-4 1.0'],\n",
       " ['E-4 2.0', 'D-4 4.0'],\n",
       " ['E-4 1.0', 'D-4 1.0']]"
      ]
     },
     "execution_count": 69,
     "metadata": {},
     "output_type": "execute_result"
    }
   ],
   "source": [
    "new_p"
   ]
  },
  {
   "cell_type": "code",
   "execution_count": null,
   "metadata": {},
   "outputs": [],
   "source": []
  },
  {
   "cell_type": "code",
   "execution_count": null,
   "metadata": {},
   "outputs": [],
   "source": []
  },
  {
   "cell_type": "code",
   "execution_count": null,
   "metadata": {},
   "outputs": [],
   "source": []
  },
  {
   "cell_type": "code",
   "execution_count": null,
   "metadata": {},
   "outputs": [],
   "source": []
  },
  {
   "cell_type": "code",
   "execution_count": 70,
   "metadata": {},
   "outputs": [
    {
     "name": "stdout",
     "output_type": "stream",
     "text": [
      "[['E-4 5.0'], ['E-4 1.0'], ['C4 1.0', 'E-4 1.0', 'A-2 1.0', 'A-3 1.0'], ['E-4 1.0', 'A-3 1.0'], ['E-4 1.0', 'A-3 1.0'], ['E-4 2.0'], ['E-4 1.0'], ['C4 1.0', 'C4 1.0', 'A-2 1.0', 'A-3 1.0'], ['C4 1.0', 'A-3 1.0'], ['E-4 1.0', 'C3 1.0']]\n"
     ]
    }
   ],
   "source": [
    "k = [['E-4 6.0'],\n",
    " ['C4 1.0', 'E-4 1.0', 'A-2 1.0', 'A-3 1.0'],\n",
    " ['E-4 2.0', 'A-3 2.0'],\n",
    " ['E-4 3.0'],\n",
    " ['C4 1.0', 'C4 1.0', 'A-2 1.0', 'A-3 1.0'],\n",
    " ['C4 1.0', 'A-3 1.0'],\n",
    " ['E-4 1.0', 'C3 1.0']]\n",
    "\n",
    "# Create a new list to store the modified elements\n",
    "new_k = []\n",
    "\n",
    "# Iterate through the sublists in 'k'\n",
    "for sublist_k in k:\n",
    "    modified_sublist = []\n",
    "    remaining_sublist = []\n",
    "    for element in sublist_k:\n",
    "        # print(element)\n",
    "        pitch, duration = element.split()  # Split the element into pitch and duration\n",
    "        duration_float = float(duration)  # Convert duration to a float\n",
    "        if duration_float > 1.0:\n",
    "            if duration_float % 1 == 0.5:\n",
    "                # If duration ends with '.5', subtract 0.5 and add '.0' to the duration\n",
    "                modified_duration = f\"{duration_float - 0.5:.1f}\"\n",
    "                modified_sublist.append(f\"{pitch} {modified_duration}\")\n",
    "                remaining_sublist.append(f\"{pitch} 0.5\")  # Add a new element with '0.5' duration\n",
    "            else:\n",
    "                # If duration is odd and greater than 1.0, subtract 1.0 and create a sublist for it\n",
    "                modified_duration = f\"{duration_float - 1.0:.1f}\"\n",
    "                modified_sublist.append(f\"{pitch} {modified_duration}\")\n",
    "                remaining_sublist.append(f\"{pitch} 1.0\")\n",
    "        else:\n",
    "            # Otherwise, keep the original element in the modified sublist\n",
    "            modified_sublist.append(element)\n",
    "    new_k.append(modified_sublist)\n",
    "    if remaining_sublist:\n",
    "        new_k.append(remaining_sublist)\n",
    "\n",
    "print(new_k)\n"
   ]
  },
  {
   "cell_type": "code",
   "execution_count": null,
   "metadata": {},
   "outputs": [],
   "source": []
  },
  {
   "cell_type": "code",
   "execution_count": 71,
   "metadata": {},
   "outputs": [
    {
     "name": "stdout",
     "output_type": "stream",
     "text": [
      "[['E-4 6.0'], ['E-4 0.5'], ['A-2 0.0', 'A-3 3.0'], ['A-2 0.5']]\n"
     ]
    }
   ],
   "source": [
    "k = [['E-4 6.5'], ['A-2 0.5', 'A-3 3.0']]\n",
    "\n",
    "# Create a new list to store the modified elements\n",
    "new_k = []\n",
    "\n",
    "# Iterate through the sublists in 'k'\n",
    "for sublist_k in k:\n",
    "    modified_sublist = []\n",
    "    remaining_sublist = []\n",
    "    for element in sublist_k:\n",
    "        pitch, duration = element.split()  # Split the element into pitch and duration\n",
    "        duration_float = float(duration)  # Convert duration to a float\n",
    "        if duration_float % 1 == 0.5:\n",
    "            # If duration ends with '.5', subtract 0.5 and add '.0' to the duration\n",
    "            modified_duration = f\"{duration_float - 0.5:.1f}\"\n",
    "            modified_sublist.append(f\"{pitch} {modified_duration}\")\n",
    "            remaining_sublist.append(f\"{pitch} 0.5\")  # Add a new element with '0.5' duration\n",
    "        else:\n",
    "            # Otherwise, keep the original element in the modified sublist\n",
    "            modified_sublist.append(element)\n",
    "    new_k.append(modified_sublist)\n",
    "    if remaining_sublist:\n",
    "        new_k.append(remaining_sublist)\n",
    "\n",
    "print(new_k)\n"
   ]
  },
  {
   "cell_type": "code",
   "execution_count": 72,
   "metadata": {},
   "outputs": [
    {
     "name": "stdout",
     "output_type": "stream",
     "text": [
      "[['C4 1.0', 'E-4 6.0'], ['C4 0.5', 'E-4 0.5'], ['A-2 0.5', 'A-3 3.0'], ['A-3 0.5']]\n"
     ]
    }
   ],
   "source": [
    "k = [['C4 1.5', 'E-4 6.5'], ['A-2 0.5', 'A-3 3.5']]\n",
    "\n",
    "# Create a new list to store the modified elements\n",
    "new_k = []\n",
    "\n",
    "# Iterate through the sublists in 'k'\n",
    "for sublist_k in k:\n",
    "    modified_sublist = []\n",
    "    remaining_sublist = []\n",
    "    for element in sublist_k:\n",
    "        pitch, duration = element.split()  # Split the element into pitch and duration\n",
    "        duration_float = float(duration)  # Convert duration to a float\n",
    "        if duration_float > 1.0 and duration_float % 1 == 0.5:\n",
    "            # If duration is greater than 1.0 and ends with '.5', subtract 0.5 and add '.0' to the duration\n",
    "            modified_duration = f\"{duration_float - 0.5:.1f}\"\n",
    "            modified_sublist.append(f\"{pitch} {modified_duration}\")\n",
    "            remaining_sublist.append(f\"{pitch} 0.5\")  # Add a new element with '0.5' duration\n",
    "        else:\n",
    "            # Otherwise, keep the original element in the modified sublist\n",
    "            modified_sublist.append(element)\n",
    "    new_k.append(modified_sublist)\n",
    "    if remaining_sublist:\n",
    "        new_k.append(remaining_sublist)\n",
    "\n",
    "print(new_k)\n"
   ]
  },
  {
   "cell_type": "code",
   "execution_count": null,
   "metadata": {},
   "outputs": [],
   "source": []
  },
  {
   "cell_type": "code",
   "execution_count": null,
   "metadata": {},
   "outputs": [],
   "source": []
  },
  {
   "cell_type": "code",
   "execution_count": 73,
   "metadata": {},
   "outputs": [
    {
     "name": "stdout",
     "output_type": "stream",
     "text": [
      "[[1.0], [1.0], [1.0], [1.0], [1.0], [0.5], [0.5], [1.0], [1.0], [1.0], [1.0], [1.0], [1.0], [1.0], [1.0], [1.0], [1.0], [1.0], [1.0], [1.0], [1.0], [1.0], [1.0], [1.0], [1.0], [1.0], [1.0], [1.0], [1.0], [1.0], [1.0], [1.0], [1.0], [2.0], [1.0], [2.0], [1.0], [1.0], [1.0], [0.5], [1.0], [0.5], [0.5], [1.0], [0.5], [1.0], [1.0], [1.0], [1.0], [1.0], [1.0], [1.0], [1.0], [1.0], [1.0], [1.0], [1.0], [1.0], [1.0], [1.0], [1.0], [1.0], [1.0], [1.0], [1.0], [1.0], [1.0], [2.0], [1.0], [2.0], [1.0], [1.0]]\n"
     ]
    }
   ],
   "source": [
    "data = t\n",
    "\n",
    "# Find the highest value of the second item in each sublist\n",
    "max_values = [max(float(note.split()[1]) for note in sublist) for sublist in data]\n",
    "\n",
    "# Modify 'data' to contain the highest values as sublists\n",
    "durate = [[max_value] for max_value in max_values]\n",
    "\n",
    "print(durate)\n",
    "\n"
   ]
  },
  {
   "cell_type": "code",
   "execution_count": 74,
   "metadata": {},
   "outputs": [
    {
     "name": "stdout",
     "output_type": "stream",
     "text": [
      "[[0.5], [0.5], [0.5], [0.5], [0.5], [0.25], [0.25], [0.5], [0.5], [0.5], [0.5], [0.5], [0.5], [0.5], [0.5], [0.5], [0.5], [0.5], [0.5], [0.5], [0.5], [0.5], [0.5], [0.5], [0.5], [0.5], [0.5], [0.5], [0.5], [0.5], [0.5], [0.5], [0.5], [1.0], [0.5], [1.0], [0.5], [0.5], [0.5], [0.25], [0.5], [0.25], [0.25], [0.5], [0.25], [0.5], [0.5], [0.5], [0.5], [0.5], [0.5], [0.5], [0.5], [0.5], [0.5], [0.5], [0.5], [0.5], [0.5], [0.5], [0.5], [0.5], [0.5], [0.5], [0.5], [0.5], [0.5], [1.0], [0.5], [1.0], [0.5], [0.5]]\n"
     ]
    }
   ],
   "source": [
    "c = durate\n",
    "\n",
    "# Iterate through the sublists and divide each element by 2\n",
    "for sublist in c:\n",
    "    for i in range(len(sublist)):\n",
    "        sublist[i] /= 2\n",
    "\n",
    "print(c)\n"
   ]
  },
  {
   "cell_type": "code",
   "execution_count": 75,
   "metadata": {},
   "outputs": [
    {
     "name": "stdout",
     "output_type": "stream",
     "text": [
      "[[0, 'C4 1.0', 'E-4 6.0', 'C4 1.0', 'E-4 6.0'], [1, 'C4 0.5', 'E-4 0.5'], [2, 'A-2 0.5', 'A-3 3.0'], [3, 'A-3 0.5']]\n"
     ]
    }
   ],
   "source": [
    "v = [['C4 1.0', 'E-4 6.0','C4 1.0', 'E-4 6.0'], ['C4 0.5', 'E-4 0.5'], ['A-2 0.5', 'A-3 3.0'], ['A-3 0.5']]\n",
    "\n",
    "result = [[i, *sublist] for i, sublist in enumerate(v)]\n",
    "\n",
    "print((result))\n"
   ]
  },
  {
   "cell_type": "code",
   "execution_count": 76,
   "metadata": {},
   "outputs": [
    {
     "name": "stdout",
     "output_type": "stream",
     "text": [
      "36.5\n"
     ]
    }
   ],
   "source": [
    "x = durate\n",
    "flattened_x = [value for sublist in x for value in sublist]\n",
    "\n",
    "total_sum = sum(flattened_x)\n",
    "\n",
    "print(total_sum)\n"
   ]
  },
  {
   "cell_type": "code",
   "execution_count": null,
   "metadata": {},
   "outputs": [],
   "source": []
  },
  {
   "cell_type": "code",
   "execution_count": 77,
   "metadata": {},
   "outputs": [
    {
     "name": "stdout",
     "output_type": "stream",
     "text": [
      "[['eighth'], ['eighth'], ['eighth'], ['eighth'], ['eighth'], ['16th'], ['16th'], ['eighth'], ['eighth'], ['eighth'], ['eighth'], ['eighth'], ['eighth'], ['eighth'], ['eighth'], ['eighth'], ['eighth'], ['eighth'], ['eighth'], ['eighth'], ['eighth'], ['eighth'], ['eighth'], ['eighth'], ['eighth'], ['eighth'], ['eighth'], ['eighth'], ['eighth'], ['eighth'], ['eighth'], ['eighth'], ['eighth'], ['quarter'], ['eighth'], ['quarter'], ['eighth'], ['eighth'], ['eighth'], ['16th'], ['eighth'], ['16th'], ['16th'], ['eighth'], ['16th'], ['eighth'], ['eighth'], ['eighth'], ['eighth'], ['eighth'], ['eighth'], ['eighth'], ['eighth'], ['eighth'], ['eighth'], ['eighth'], ['eighth'], ['eighth'], ['eighth'], ['eighth'], ['eighth'], ['eighth'], ['eighth'], ['eighth'], ['eighth'], ['eighth'], ['eighth'], ['quarter'], ['eighth'], ['quarter'], ['eighth'], ['eighth']]\n"
     ]
    }
   ],
   "source": [
    "# Define the mapping of durations to names\n",
    "duration_names = {0.5: 'eighth',1.0: 'quarter',0.25: '16th', 2.0: 'half', 4.0: 'whole'}\n",
    "\n",
    "# Given list 'p'\n",
    "p = durate\n",
    "\n",
    "# Convert 'p' to their names\n",
    "durate = [[duration_names[d] for d in sublist] for sublist in p]\n",
    "\n",
    "print(durate)\n"
   ]
  },
  {
   "cell_type": "code",
   "execution_count": 78,
   "metadata": {},
   "outputs": [
    {
     "name": "stdout",
     "output_type": "stream",
     "text": [
      "[['D4', 'F#4', 'D3', 'A3'], ['D4', 'F#4', 'D3', 'A3'], ['D4', 'F#4', 'A2', 'A3'], ['F#4', 'A4', 'A2', 'A3'], ['C#4', 'G4', 'E3', 'A3'], ['C#4', 'G4', 'E3', 'A3'], ['C#4', 'F#4', 'D#3', 'A3'], ['C#4', 'G4', 'E3', 'A3'], ['C#4', 'B4', 'A2', 'A3'], ['D4', 'A4', 'F#3', 'A3'], ['D4', 'G#4', 'F#3', 'A3'], ['D4', 'A4', 'F#2', 'A3'], ['D4', 'D5', 'B2', 'G3'], ['D5', 'E4', 'A2', 'A3'], ['E4', 'A2', 'A3'], ['D5', 'E4', 'A2', 'A3'], ['C#5'], ['A4', 'D5', 'Rest', 'F#3', 'D4'], ['G4', 'B4', 'G3', 'D4'], ['D4', 'A4', 'F#3', 'A3'], ['D4', 'G4', 'E3', 'B3'], ['C#4', 'A4', 'A2', 'A3'], ['D4', 'F#4', 'D3', 'A3'], ['E4', 'G#4', 'D3', 'B3'], ['E4', 'A4', 'C#3', 'A3'], ['F#4', 'B4', 'D3', 'A3'], ['E4', 'C#5', 'E3', 'A3'], ['C#5'], ['E4', 'C#5', 'E3', 'A3'], ['Rest', 'E3', 'G#3'], ['E3', 'G#3'], ['B4', 'D4'], ['D4'], ['A2', 'A3', 'Rest', 'Rest'], ['A2', 'A3', 'Rest', 'Rest'], ['C#4', 'A4', 'Rest', 'Rest'], ['C#4', 'A4', 'Rest', 'Rest'], ['A3', 'A3'], ['A4', 'A4', 'A3', 'C#4'], ['A3', 'C#4'], ['G4', 'E5'], ['G4', 'E5'], ['A2', 'C#4'], ['B2', 'D4'], ['G4', 'C#5'], ['F#4', 'A4', 'C#3', 'A3'], ['E4', 'G4', 'D3', 'A3'], ['D4', 'F#4', 'Rest', 'Rest', 'E3', 'A3'], ['Rest', 'Rest'], ['Rest', 'Rest'], ['C#4', 'G4', 'F#3', 'A3'], ['D4', 'A4', 'F#3', 'A3'], ['D4', 'D4', 'G3', 'B3'], ['D4', 'D4', 'G2', 'D3'], ['B3', 'G4', 'B4', 'Rest', 'G2', 'D#3'], ['Rest'], ['Rest'], ['B3', 'F#4', 'A4', 'G2', 'E3'], ['B3', 'E4', 'G4', 'A2', 'F#3'], ['A2', 'F#3'], ['A3', 'D4', 'F#4'], ['F#4'], ['A3', 'D4', 'F#4'], ['A2', 'G3'], ['A2', 'G3'], ['Rest'], ['E4', 'C#4', 'D3', 'F#3'], ['D3', 'F#3'], ['C#4', 'D3', 'F#3'], ['D4', 'D4'], ['D4', 'D4'], ['D4', 'D4']]\n"
     ]
    }
   ],
   "source": [
    "data = t\n",
    "\n",
    "# Remove the second items in each element in the sublists\n",
    "modified_data = [[note.split()[0] for note in sublist] for sublist in data]\n",
    "\n",
    "print(modified_data)\n"
   ]
  },
  {
   "cell_type": "code",
   "execution_count": 79,
   "metadata": {},
   "outputs": [],
   "source": [
    "# [['B-4', 'E-4', 'G3', 'E-3'], ['E-5', 'G4', 'Rest', 'B-3', 'E-3'], ['Rest'], ['D5', 'G4', 'B-3', 'G3'], ['C5', 'E-4', 'A-3', 'A-3'], ['B-4', 'E-4', 'B-3', 'G3'], ['B-4', 'F4', 'B-3', 'D3'], ['A-4', 'D4', 'B-3', 'B-2'], ['G4', 'E-4', 'B-3', 'E-3'], ['G4', 'E-4', 'B-3', 'E-3'], ['F4', 'C4', 'C4', 'A-3'], ['F4', 'C4', 'A-3'], ['D4'], ['E-4', 'E-4', 'B-3', 'G3'], ['A-4', 'D4', 'Rest', 'A-3', 'F3'], ['Rest'], ['G4', 'E-4', 'B-3', 'E-3'], ['F4', 'D4', 'Rest', 'B-3', 'B-2'], ['F4', 'D4', 'Rest', 'B-3', 'B-2'], ['G4', 'E-4', 'B-3', 'E-3'], ['G4', 'E-4', 'B-3'], ['D-3'], ['A-4', 'E-4', 'A-3', 'C3'], ['G4', 'E-4', 'B-3', 'B-2'], ['C5', 'E-4', 'C4', 'A-2'], ['B-4', 'E-4', 'E-3', 'G2'], ['B-4', 'C4', 'F3', 'F2'], ['A-4', 'D4', 'F3', 'B-2'], ['G4', 'E-4', 'E-3', 'C3'], ['E-4', 'C4', 'G3', 'C3'], ['G4', 'E-4', 'Rest', 'B-3', 'G2'], ['Rest'], ['Rest'], ['F4', 'C4', 'A-3', 'A-2'], ['E-4', 'B-3', 'G3', 'B-2'], ['D4', 'B-3', 'F3', 'B-2'], ['D4', 'B-3', 'B-2'], ['A-3'], ['E-4', 'B-3', 'G3', 'E-3'], ['E-4', 'B-3', 'G3', 'E-3']]\n",
    "# [['D4', 'F#4', 'D3', 'A3'], ['D4', 'F#4', 'D3', 'A3'], ['D4', 'F#4', 'A2', 'A3'], ['F#4', 'A4', 'A2', 'A3'], ['C#4', 'G4', 'E3', 'A3'], ['C#4', 'G4', 'E3', 'A3'], ['C#4', 'F#4', 'D#3', 'A3'], ['C#4', 'G4', 'E3', 'A3'], ['C#4', 'B4', 'A2', 'A3'], ['D4', 'A4', 'F#3', 'A3'], ['D4', 'G#4', 'F#3', 'A3'], ['D4', 'A4', 'F#2', 'A3'], ['D4', 'D5', 'B2', 'G3'], ['D5', 'E4', 'A2', 'A3'], ['E4', 'A2', 'A3'], ['D5', 'E4', 'A2', 'A3'], ['C#5'], ['A4', 'D5', 'Rest', 'F#3', 'D4'], ['G4', 'B4', 'G3', 'D4'], ['D4', 'A4', 'F#3', 'A3'], ['D4', 'G4', 'E3', 'B3'], ['C#4', 'A4', 'A2', 'A3'], ['D4', 'F#4', 'D3', 'A3'], ['E4', 'G#4', 'D3', 'B3'], ['E4', 'A4', 'C#3', 'A3'], ['F#4', 'B4', 'D3', 'A3'], ['E4', 'C#5', 'E3', 'A3'], ['C#5'], ['E4', 'C#5', 'E3', 'A3'], ['Rest', 'E3', 'G#3'], ['E3', 'G#3'], ['B4', 'D4'], ['D4'], ['A2', 'A3', 'Rest', 'Rest'], ['A2', 'A3', 'Rest', 'Rest'], ['C#4', 'A4', 'Rest', 'Rest'], ['C#4', 'A4', 'Rest', 'Rest'], ['A3', 'A3'], ['A4', 'A4', 'A3', 'C#4'], ['A3', 'C#4'], ['G4', 'E5'], ['G4', 'E5'], ['A2', 'C#4'], ['B2', 'D4'], ['G4', 'C#5'], ['F#4', 'A4', 'C#3', 'A3'], ['E4', 'G4', 'D3', 'A3'], ['D4', 'F#4', 'Rest', 'Rest', 'E3', 'A3'], ['Rest', 'Rest'], ['Rest', 'Rest'], ['C#4', 'G4', 'F#3', 'A3'], ['D4', 'A4', 'F#3', 'A3'], ['D4', 'D4', 'G3', 'B3'], ['D4', 'D4', 'G2', 'D3'], ['B3', 'G4', 'B4', 'Rest', 'G2', 'D#3'], ['Rest'], ['Rest'], ['B3', 'F#4', 'A4', 'G2', 'E3'], ['B3', 'E4', 'G4', 'A2', 'F#3'], ['A2', 'F#3'], ['A3', 'D4', 'F#4'], ['F#4'], ['A3', 'D4', 'F#4'], ['A2', 'G3'], ['A2', 'G3'], ['Rest'], ['E4', 'C#4', 'D3', 'F#3'], ['D3', 'F#3'], ['C#4', 'D3', 'F#3'], ['D4', 'D4'], ['D4', 'D4'], ['D4', 'D4']]\n"
   ]
  },
  {
   "cell_type": "code",
   "execution_count": null,
   "metadata": {},
   "outputs": [],
   "source": [
    "modified_data"
   ]
  },
  {
   "cell_type": "code",
   "execution_count": 85,
   "metadata": {},
   "outputs": [
    {
     "ename": "PitchException",
     "evalue": "Cannot make a step out of 'R'",
     "output_type": "error",
     "traceback": [
      "\u001b[1;31m---------------------------------------------------------------------------\u001b[0m",
      "\u001b[1;31mPitchException\u001b[0m                            Traceback (most recent call last)",
      "\u001b[1;32mc:\\Users\\KOFI ADUKPO\\Desktop\\code\\aseda\\tries\\dvv.ipynb Cell 31\u001b[0m line \u001b[0;36m1\n\u001b[0;32m     <a href='vscode-notebook-cell:/c%3A/Users/KOFI%20ADUKPO/Desktop/code/aseda/tries/dvv.ipynb#X36sZmlsZQ%3D%3D?line=9'>10</a>\u001b[0m \u001b[39m# Iterate through the chord lists and add them to the stream\u001b[39;00m\n\u001b[0;32m     <a href='vscode-notebook-cell:/c%3A/Users/KOFI%20ADUKPO/Desktop/code/aseda/tries/dvv.ipynb#X36sZmlsZQ%3D%3D?line=10'>11</a>\u001b[0m \u001b[39mfor\u001b[39;00m chord_notes \u001b[39min\u001b[39;00m chords:\n\u001b[1;32m---> <a href='vscode-notebook-cell:/c%3A/Users/KOFI%20ADUKPO/Desktop/code/aseda/tries/dvv.ipynb#X36sZmlsZQ%3D%3D?line=11'>12</a>\u001b[0m     chord_obj \u001b[39m=\u001b[39m chord\u001b[39m.\u001b[39;49mChord(chord_notes)\n\u001b[0;32m     <a href='vscode-notebook-cell:/c%3A/Users/KOFI%20ADUKPO/Desktop/code/aseda/tries/dvv.ipynb#X36sZmlsZQ%3D%3D?line=12'>13</a>\u001b[0m     music_stream\u001b[39m.\u001b[39mappend(chord_obj)\n\u001b[0;32m     <a href='vscode-notebook-cell:/c%3A/Users/KOFI%20ADUKPO/Desktop/code/aseda/tries/dvv.ipynb#X36sZmlsZQ%3D%3D?line=14'>15</a>\u001b[0m music_stream\u001b[39m.\u001b[39mshow(\u001b[39m'\u001b[39m\u001b[39mmidi\u001b[39m\u001b[39m'\u001b[39m)\n",
      "File \u001b[1;32mc:\\Users\\KOFI ADUKPO\\Desktop\\code\\aenv\\lib\\site-packages\\music21\\chord\\__init__.py:727\u001b[0m, in \u001b[0;36mChord.__init__\u001b[1;34m(self, notes, **keywords)\u001b[0m\n\u001b[0;32m    723\u001b[0m \u001b[39mif\u001b[39;00m notes \u001b[39mis\u001b[39;00m \u001b[39mnot\u001b[39;00m \u001b[39mNone\u001b[39;00m \u001b[39mand\u001b[39;00m \u001b[39many\u001b[39m(\u001b[39misinstance\u001b[39m(n, note\u001b[39m.\u001b[39mGeneralNote)\n\u001b[0;32m    724\u001b[0m                              \u001b[39mand\u001b[39;00m \u001b[39mnot\u001b[39;00m \u001b[39misinstance\u001b[39m(n, (note\u001b[39m.\u001b[39mNote, Chord))\n\u001b[0;32m    725\u001b[0m                              \u001b[39mfor\u001b[39;00m n \u001b[39min\u001b[39;00m notes):\n\u001b[0;32m    726\u001b[0m     \u001b[39mraise\u001b[39;00m \u001b[39mTypeError\u001b[39;00m(\u001b[39mf\u001b[39m\u001b[39m'\u001b[39m\u001b[39mUse a PercussionChord to contain Unpitched objects; got \u001b[39m\u001b[39m{\u001b[39;00mnotes\u001b[39m}\u001b[39;00m\u001b[39m'\u001b[39m)\n\u001b[1;32m--> 727\u001b[0m \u001b[39msuper\u001b[39m()\u001b[39m.\u001b[39m\u001b[39m__init__\u001b[39m(notes\u001b[39m=\u001b[39mnotes, \u001b[39m*\u001b[39m\u001b[39m*\u001b[39mkeywords)\n\u001b[0;32m    729\u001b[0m \u001b[39m# if there were a covariant list, we would use that instead.\u001b[39;00m\n\u001b[0;32m    730\u001b[0m \u001b[39mself\u001b[39m\u001b[39m.\u001b[39m_notes: t\u001b[39m.\u001b[39mList[note\u001b[39m.\u001b[39mNote]  \u001b[39m# type: ignore\u001b[39;00m\n",
      "File \u001b[1;32mc:\\Users\\KOFI ADUKPO\\Desktop\\code\\aenv\\lib\\site-packages\\music21\\chord\\__init__.py:116\u001b[0m, in \u001b[0;36mChordBase.__init__\u001b[1;34m(self, notes, **keywords)\u001b[0m\n\u001b[0;32m    113\u001b[0m \u001b[39mif\u001b[39;00m \u001b[39m'\u001b[39m\u001b[39mduration\u001b[39m\u001b[39m'\u001b[39m \u001b[39min\u001b[39;00m keywords:\n\u001b[0;32m    114\u001b[0m     durationKeyword \u001b[39m=\u001b[39m keywords[\u001b[39m'\u001b[39m\u001b[39mduration\u001b[39m\u001b[39m'\u001b[39m]\n\u001b[1;32m--> 116\u001b[0m durationKeyword \u001b[39m=\u001b[39m \u001b[39mself\u001b[39;49m\u001b[39m.\u001b[39;49m_add_core_or_init(notes, useDuration\u001b[39m=\u001b[39;49mdurationKeyword)\n\u001b[0;32m    118\u001b[0m \u001b[39mif\u001b[39;00m durationKeyword \u001b[39mis\u001b[39;00m \u001b[39mnot\u001b[39;00m \u001b[39mNone\u001b[39;00m:\n\u001b[0;32m    119\u001b[0m     \u001b[39mself\u001b[39m\u001b[39m.\u001b[39mduration \u001b[39m=\u001b[39m durationKeyword\n",
      "File \u001b[1;32mc:\\Users\\KOFI ADUKPO\\Desktop\\code\\aenv\\lib\\site-packages\\music21\\chord\\__init__.py:238\u001b[0m, in \u001b[0;36mChordBase._add_core_or_init\u001b[1;34m(self, notes, useDuration)\u001b[0m\n\u001b[0;32m    236\u001b[0m \u001b[39melif\u001b[39;00m \u001b[39misinstance\u001b[39m(n, (\u001b[39mstr\u001b[39m, \u001b[39mint\u001b[39m)):\n\u001b[0;32m    237\u001b[0m     \u001b[39mif\u001b[39;00m useDuration:\n\u001b[1;32m--> 238\u001b[0m         \u001b[39mself\u001b[39m\u001b[39m.\u001b[39m_notes\u001b[39m.\u001b[39mappend(note\u001b[39m.\u001b[39;49mNote(n, duration\u001b[39m=\u001b[39;49museDuration))\n\u001b[0;32m    239\u001b[0m     \u001b[39melse\u001b[39;00m:\n\u001b[0;32m    240\u001b[0m         \u001b[39mself\u001b[39m\u001b[39m.\u001b[39m_notes\u001b[39m.\u001b[39mappend(note\u001b[39m.\u001b[39mNote(n))\n",
      "File \u001b[1;32mc:\\Users\\KOFI ADUKPO\\Desktop\\code\\aenv\\lib\\site-packages\\music21\\note.py:1471\u001b[0m, in \u001b[0;36mNote.__init__\u001b[1;34m(self, pitch, name, nameWithOctave, **keywords)\u001b[0m\n\u001b[0;32m   1469\u001b[0m         \u001b[39mself\u001b[39m\u001b[39m.\u001b[39mpitch \u001b[39m=\u001b[39m pitch\n\u001b[0;32m   1470\u001b[0m     \u001b[39melse\u001b[39;00m:  \u001b[39m# assume first argument is pitch\u001b[39;00m\n\u001b[1;32m-> 1471\u001b[0m         \u001b[39mself\u001b[39m\u001b[39m.\u001b[39mpitch \u001b[39m=\u001b[39m Pitch(pitch, \u001b[39m*\u001b[39m\u001b[39m*\u001b[39mkeywords)\n\u001b[0;32m   1472\u001b[0m \u001b[39melse\u001b[39;00m:  \u001b[39m# supply a default pitch\u001b[39;00m\n\u001b[0;32m   1473\u001b[0m     \u001b[39mif\u001b[39;00m nameWithOctave \u001b[39mis\u001b[39;00m \u001b[39mnot\u001b[39;00m \u001b[39mNone\u001b[39;00m:\n",
      "File \u001b[1;32mc:\\Users\\KOFI ADUKPO\\Desktop\\code\\aenv\\lib\\site-packages\\music21\\pitch.py:1848\u001b[0m, in \u001b[0;36mPitch.__init__\u001b[1;34m(self, name, step, octave, accidental, microtone, pitchClass, midi, ps, fundamental, **keywords)\u001b[0m\n\u001b[0;32m   1846\u001b[0m \u001b[39mif\u001b[39;00m name \u001b[39mis\u001b[39;00m \u001b[39mnot\u001b[39;00m \u001b[39mNone\u001b[39;00m:\n\u001b[0;32m   1847\u001b[0m     \u001b[39mif\u001b[39;00m \u001b[39misinstance\u001b[39m(name, \u001b[39mstr\u001b[39m):\n\u001b[1;32m-> 1848\u001b[0m         \u001b[39mself\u001b[39;49m\u001b[39m.\u001b[39;49mname \u001b[39m=\u001b[39m name  \u001b[39m# set based on string\u001b[39;00m\n\u001b[0;32m   1849\u001b[0m     \u001b[39melse\u001b[39;00m:  \u001b[39m# is a number\u001b[39;00m\n\u001b[0;32m   1850\u001b[0m         \u001b[39m# is a midiNumber or a ps -- a float midiNumber\u001b[39;00m\n\u001b[0;32m   1851\u001b[0m         \u001b[39m# get step and accidental w/o octave\u001b[39;00m\n\u001b[0;32m   1852\u001b[0m         \u001b[39mself\u001b[39m\u001b[39m.\u001b[39mstep, \u001b[39mself\u001b[39m\u001b[39m.\u001b[39m_accidental \u001b[39m=\u001b[39m _convertPsToStep(name)[\u001b[39m0\u001b[39m:\u001b[39m2\u001b[39m]\n",
      "File \u001b[1;32mc:\\Users\\KOFI ADUKPO\\Desktop\\code\\aenv\\lib\\site-packages\\music21\\pitch.py:2679\u001b[0m, in \u001b[0;36mPitch.name\u001b[1;34m(self, usrStr)\u001b[0m\n\u001b[0;32m   2677\u001b[0m \u001b[39m# assume everything following pitch is accidental specification\u001b[39;00m\n\u001b[0;32m   2678\u001b[0m \u001b[39melif\u001b[39;00m \u001b[39mlen\u001b[39m(usrStr) \u001b[39m>\u001b[39m \u001b[39m1\u001b[39m:\n\u001b[1;32m-> 2679\u001b[0m     \u001b[39mself\u001b[39;49m\u001b[39m.\u001b[39;49mstep \u001b[39m=\u001b[39m usrStr[\u001b[39m0\u001b[39m]  \u001b[39m# type: ignore\u001b[39;00m\n\u001b[0;32m   2680\u001b[0m     \u001b[39mself\u001b[39m\u001b[39m.\u001b[39maccidental \u001b[39m=\u001b[39m Accidental(usrStr[\u001b[39m1\u001b[39m:])\n\u001b[0;32m   2681\u001b[0m \u001b[39melse\u001b[39;00m:\n",
      "File \u001b[1;32mc:\\Users\\KOFI ADUKPO\\Desktop\\code\\aenv\\lib\\site-packages\\music21\\pitch.py:2879\u001b[0m, in \u001b[0;36mPitch.step\u001b[1;34m(self, usrStr)\u001b[0m\n\u001b[0;32m   2877\u001b[0m     \u001b[39mself\u001b[39m\u001b[39m.\u001b[39mspellingIsInferred \u001b[39m=\u001b[39m \u001b[39mFalse\u001b[39;00m\n\u001b[0;32m   2878\u001b[0m \u001b[39melse\u001b[39;00m:\n\u001b[1;32m-> 2879\u001b[0m     \u001b[39mraise\u001b[39;00m PitchException(\u001b[39mf\u001b[39m\u001b[39m'\u001b[39m\u001b[39mCannot make a step out of \u001b[39m\u001b[39m{\u001b[39;00musrStr\u001b[39m!r}\u001b[39;00m\u001b[39m'\u001b[39m)\n\u001b[0;32m   2880\u001b[0m \u001b[39mself\u001b[39m\u001b[39m.\u001b[39minformClient()\n",
      "\u001b[1;31mPitchException\u001b[0m: Cannot make a step out of 'R'"
     ]
    }
   ],
   "source": [
    "from music21 import stream, note, chord, midi\n",
    "\n",
    "# Define the chords as lists of note names\n",
    "chords = modified_data\n",
    "\n",
    "# chords=notes_and_rests_by_time\n",
    "# Create a stream to store the notes\n",
    "music_stream = stream.Stream()\n",
    "\n",
    "# Iterate through the chord lists and add them to the stream\n",
    "for chord_notes in chords:\n",
    "    chord_obj = chord.Chord(chord_notes)\n",
    "    music_stream.append(chord_obj)\n",
    "\n",
    "music_stream.show('midi')\n"
   ]
  },
  {
   "cell_type": "code",
   "execution_count": null,
   "metadata": {},
   "outputs": [],
   "source": []
  },
  {
   "cell_type": "code",
   "execution_count": null,
   "metadata": {},
   "outputs": [],
   "source": []
  },
  {
   "cell_type": "code",
   "execution_count": 81,
   "metadata": {},
   "outputs": [
    {
     "data": {
      "text/html": [
       "\n",
       "                <div id=\"midiPlayerDiv1307\"></div>\n",
       "                <link rel=\"stylesheet\" href=\"https://cuthbertLab.github.io/music21j/css/m21.css\">\n",
       "                \n",
       "                <script>\n",
       "                require.config({\n",
       "                    paths: {\n",
       "                        'music21': 'https://cuthbertLab.github.io/music21j/releases/music21.debug',\n",
       "                    }\n",
       "                });\n",
       "                require(['music21'], function(music21) {\n",
       "                    mp = new music21.miditools.MidiPlayer();\n",
       "                    mp.addPlayer(\"#midiPlayerDiv1307\");\n",
       "                    mp.base64Load(\"data:audio/midi;base64,TVRoZAAAAAYAAQACBABNVHJrAAAAFAD/UQMHoSAA/1gEBAIYCIgA/y8ATVRyawAAAHEA/wMAAOAAQIgAkENaAJA7WgCQMloAkCtakACAQwAAgDsAAIAyAACAKwAAkENaAJA7WgCQMloAkCtahACAQwAAgDsAAIAyAACAKwAAkENaAJA7WgCQMloAkCtaiACAQwAAgDsAAIAyAACAKwCIAP8vAA==\");\n",
       "                });\n",
       "                </script>"
      ],
      "text/plain": [
       "<IPython.core.display.HTML object>"
      ]
     },
     "metadata": {},
     "output_type": "display_data"
    }
   ],
   "source": [
    "from music21 import stream, chord, midi\n",
    "\n",
    "# Define the chords as lists of note names\n",
    "chords = [['G4', 'B3', 'D3', 'G2'],\n",
    "          ['G4', 'B3', 'D3', 'G2'],\n",
    "          ['G4', 'B3', 'D3', 'G2']]\n",
    "\n",
    "# Create a stream to store the notes\n",
    "music_stream = stream.Stream()\n",
    "\n",
    "# Create a chord object for the first chord (2.0 duration)\n",
    "chord_0 = chord.Chord(chords[0])\n",
    "chord_0.duration.type = 'half'  # Set the duration to 2.0 (2 half notes)\n",
    "music_stream.append(chord_0)\n",
    "\n",
    "# Create a chord object for the second chord (0.5 duration)\n",
    "chord_1 = chord.Chord(chords[1])\n",
    "chord_1.duration.type = 'eighth'  # Set the duration to 0.5 (1 eighth note)\n",
    "music_stream.append(chord_1)\n",
    "\n",
    "# Create a chord object for the third chord (1.0 duration)\n",
    "chord_2 = chord.Chord(chords[2])\n",
    "chord_2.duration.type = 'quarter'  # Set the duration to 1.0 (1 quarter note)\n",
    "music_stream.append(chord_2)\n",
    "\n",
    "music_stream.show('midi')\n"
   ]
  },
  {
   "cell_type": "code",
   "execution_count": null,
   "metadata": {},
   "outputs": [],
   "source": []
  },
  {
   "cell_type": "code",
   "execution_count": 82,
   "metadata": {},
   "outputs": [
    {
     "ename": "PitchException",
     "evalue": "Cannot make a step out of 'R'",
     "output_type": "error",
     "traceback": [
      "\u001b[1;31m---------------------------------------------------------------------------\u001b[0m",
      "\u001b[1;31mPitchException\u001b[0m                            Traceback (most recent call last)",
      "\u001b[1;32mc:\\Users\\KOFI ADUKPO\\Desktop\\code\\aseda\\tries\\dvv.ipynb Cell 34\u001b[0m line \u001b[0;36m1\n\u001b[0;32m     <a href='vscode-notebook-cell:/c%3A/Users/KOFI%20ADUKPO/Desktop/code/aseda/tries/dvv.ipynb#X44sZmlsZQ%3D%3D?line=11'>12</a>\u001b[0m \u001b[39mfor\u001b[39;00m i, chord_notes \u001b[39min\u001b[39;00m \u001b[39menumerate\u001b[39m(chords):\n\u001b[0;32m     <a href='vscode-notebook-cell:/c%3A/Users/KOFI%20ADUKPO/Desktop/code/aseda/tries/dvv.ipynb#X44sZmlsZQ%3D%3D?line=12'>13</a>\u001b[0m     \u001b[39mif\u001b[39;00m i \u001b[39m<\u001b[39m \u001b[39mlen\u001b[39m(durations):\n\u001b[1;32m---> <a href='vscode-notebook-cell:/c%3A/Users/KOFI%20ADUKPO/Desktop/code/aseda/tries/dvv.ipynb#X44sZmlsZQ%3D%3D?line=13'>14</a>\u001b[0m         chord_obj \u001b[39m=\u001b[39m chord\u001b[39m.\u001b[39;49mChord(chord_notes)\n\u001b[0;32m     <a href='vscode-notebook-cell:/c%3A/Users/KOFI%20ADUKPO/Desktop/code/aseda/tries/dvv.ipynb#X44sZmlsZQ%3D%3D?line=14'>15</a>\u001b[0m         chord_obj\u001b[39m.\u001b[39mduration\u001b[39m.\u001b[39mtype \u001b[39m=\u001b[39m (durations[i])[\u001b[39m0\u001b[39m]\n\u001b[0;32m     <a href='vscode-notebook-cell:/c%3A/Users/KOFI%20ADUKPO/Desktop/code/aseda/tries/dvv.ipynb#X44sZmlsZQ%3D%3D?line=15'>16</a>\u001b[0m         music_stream\u001b[39m.\u001b[39mappend(chord_obj)\n",
      "File \u001b[1;32mc:\\Users\\KOFI ADUKPO\\Desktop\\code\\aenv\\lib\\site-packages\\music21\\chord\\__init__.py:727\u001b[0m, in \u001b[0;36mChord.__init__\u001b[1;34m(self, notes, **keywords)\u001b[0m\n\u001b[0;32m    723\u001b[0m \u001b[39mif\u001b[39;00m notes \u001b[39mis\u001b[39;00m \u001b[39mnot\u001b[39;00m \u001b[39mNone\u001b[39;00m \u001b[39mand\u001b[39;00m \u001b[39many\u001b[39m(\u001b[39misinstance\u001b[39m(n, note\u001b[39m.\u001b[39mGeneralNote)\n\u001b[0;32m    724\u001b[0m                              \u001b[39mand\u001b[39;00m \u001b[39mnot\u001b[39;00m \u001b[39misinstance\u001b[39m(n, (note\u001b[39m.\u001b[39mNote, Chord))\n\u001b[0;32m    725\u001b[0m                              \u001b[39mfor\u001b[39;00m n \u001b[39min\u001b[39;00m notes):\n\u001b[0;32m    726\u001b[0m     \u001b[39mraise\u001b[39;00m \u001b[39mTypeError\u001b[39;00m(\u001b[39mf\u001b[39m\u001b[39m'\u001b[39m\u001b[39mUse a PercussionChord to contain Unpitched objects; got \u001b[39m\u001b[39m{\u001b[39;00mnotes\u001b[39m}\u001b[39;00m\u001b[39m'\u001b[39m)\n\u001b[1;32m--> 727\u001b[0m \u001b[39msuper\u001b[39m()\u001b[39m.\u001b[39m\u001b[39m__init__\u001b[39m(notes\u001b[39m=\u001b[39mnotes, \u001b[39m*\u001b[39m\u001b[39m*\u001b[39mkeywords)\n\u001b[0;32m    729\u001b[0m \u001b[39m# if there were a covariant list, we would use that instead.\u001b[39;00m\n\u001b[0;32m    730\u001b[0m \u001b[39mself\u001b[39m\u001b[39m.\u001b[39m_notes: t\u001b[39m.\u001b[39mList[note\u001b[39m.\u001b[39mNote]  \u001b[39m# type: ignore\u001b[39;00m\n",
      "File \u001b[1;32mc:\\Users\\KOFI ADUKPO\\Desktop\\code\\aenv\\lib\\site-packages\\music21\\chord\\__init__.py:116\u001b[0m, in \u001b[0;36mChordBase.__init__\u001b[1;34m(self, notes, **keywords)\u001b[0m\n\u001b[0;32m    113\u001b[0m \u001b[39mif\u001b[39;00m \u001b[39m'\u001b[39m\u001b[39mduration\u001b[39m\u001b[39m'\u001b[39m \u001b[39min\u001b[39;00m keywords:\n\u001b[0;32m    114\u001b[0m     durationKeyword \u001b[39m=\u001b[39m keywords[\u001b[39m'\u001b[39m\u001b[39mduration\u001b[39m\u001b[39m'\u001b[39m]\n\u001b[1;32m--> 116\u001b[0m durationKeyword \u001b[39m=\u001b[39m \u001b[39mself\u001b[39;49m\u001b[39m.\u001b[39;49m_add_core_or_init(notes, useDuration\u001b[39m=\u001b[39;49mdurationKeyword)\n\u001b[0;32m    118\u001b[0m \u001b[39mif\u001b[39;00m durationKeyword \u001b[39mis\u001b[39;00m \u001b[39mnot\u001b[39;00m \u001b[39mNone\u001b[39;00m:\n\u001b[0;32m    119\u001b[0m     \u001b[39mself\u001b[39m\u001b[39m.\u001b[39mduration \u001b[39m=\u001b[39m durationKeyword\n",
      "File \u001b[1;32mc:\\Users\\KOFI ADUKPO\\Desktop\\code\\aenv\\lib\\site-packages\\music21\\chord\\__init__.py:238\u001b[0m, in \u001b[0;36mChordBase._add_core_or_init\u001b[1;34m(self, notes, useDuration)\u001b[0m\n\u001b[0;32m    236\u001b[0m \u001b[39melif\u001b[39;00m \u001b[39misinstance\u001b[39m(n, (\u001b[39mstr\u001b[39m, \u001b[39mint\u001b[39m)):\n\u001b[0;32m    237\u001b[0m     \u001b[39mif\u001b[39;00m useDuration:\n\u001b[1;32m--> 238\u001b[0m         \u001b[39mself\u001b[39m\u001b[39m.\u001b[39m_notes\u001b[39m.\u001b[39mappend(note\u001b[39m.\u001b[39;49mNote(n, duration\u001b[39m=\u001b[39;49museDuration))\n\u001b[0;32m    239\u001b[0m     \u001b[39melse\u001b[39;00m:\n\u001b[0;32m    240\u001b[0m         \u001b[39mself\u001b[39m\u001b[39m.\u001b[39m_notes\u001b[39m.\u001b[39mappend(note\u001b[39m.\u001b[39mNote(n))\n",
      "File \u001b[1;32mc:\\Users\\KOFI ADUKPO\\Desktop\\code\\aenv\\lib\\site-packages\\music21\\note.py:1471\u001b[0m, in \u001b[0;36mNote.__init__\u001b[1;34m(self, pitch, name, nameWithOctave, **keywords)\u001b[0m\n\u001b[0;32m   1469\u001b[0m         \u001b[39mself\u001b[39m\u001b[39m.\u001b[39mpitch \u001b[39m=\u001b[39m pitch\n\u001b[0;32m   1470\u001b[0m     \u001b[39melse\u001b[39;00m:  \u001b[39m# assume first argument is pitch\u001b[39;00m\n\u001b[1;32m-> 1471\u001b[0m         \u001b[39mself\u001b[39m\u001b[39m.\u001b[39mpitch \u001b[39m=\u001b[39m Pitch(pitch, \u001b[39m*\u001b[39m\u001b[39m*\u001b[39mkeywords)\n\u001b[0;32m   1472\u001b[0m \u001b[39melse\u001b[39;00m:  \u001b[39m# supply a default pitch\u001b[39;00m\n\u001b[0;32m   1473\u001b[0m     \u001b[39mif\u001b[39;00m nameWithOctave \u001b[39mis\u001b[39;00m \u001b[39mnot\u001b[39;00m \u001b[39mNone\u001b[39;00m:\n",
      "File \u001b[1;32mc:\\Users\\KOFI ADUKPO\\Desktop\\code\\aenv\\lib\\site-packages\\music21\\pitch.py:1848\u001b[0m, in \u001b[0;36mPitch.__init__\u001b[1;34m(self, name, step, octave, accidental, microtone, pitchClass, midi, ps, fundamental, **keywords)\u001b[0m\n\u001b[0;32m   1846\u001b[0m \u001b[39mif\u001b[39;00m name \u001b[39mis\u001b[39;00m \u001b[39mnot\u001b[39;00m \u001b[39mNone\u001b[39;00m:\n\u001b[0;32m   1847\u001b[0m     \u001b[39mif\u001b[39;00m \u001b[39misinstance\u001b[39m(name, \u001b[39mstr\u001b[39m):\n\u001b[1;32m-> 1848\u001b[0m         \u001b[39mself\u001b[39;49m\u001b[39m.\u001b[39;49mname \u001b[39m=\u001b[39m name  \u001b[39m# set based on string\u001b[39;00m\n\u001b[0;32m   1849\u001b[0m     \u001b[39melse\u001b[39;00m:  \u001b[39m# is a number\u001b[39;00m\n\u001b[0;32m   1850\u001b[0m         \u001b[39m# is a midiNumber or a ps -- a float midiNumber\u001b[39;00m\n\u001b[0;32m   1851\u001b[0m         \u001b[39m# get step and accidental w/o octave\u001b[39;00m\n\u001b[0;32m   1852\u001b[0m         \u001b[39mself\u001b[39m\u001b[39m.\u001b[39mstep, \u001b[39mself\u001b[39m\u001b[39m.\u001b[39m_accidental \u001b[39m=\u001b[39m _convertPsToStep(name)[\u001b[39m0\u001b[39m:\u001b[39m2\u001b[39m]\n",
      "File \u001b[1;32mc:\\Users\\KOFI ADUKPO\\Desktop\\code\\aenv\\lib\\site-packages\\music21\\pitch.py:2679\u001b[0m, in \u001b[0;36mPitch.name\u001b[1;34m(self, usrStr)\u001b[0m\n\u001b[0;32m   2677\u001b[0m \u001b[39m# assume everything following pitch is accidental specification\u001b[39;00m\n\u001b[0;32m   2678\u001b[0m \u001b[39melif\u001b[39;00m \u001b[39mlen\u001b[39m(usrStr) \u001b[39m>\u001b[39m \u001b[39m1\u001b[39m:\n\u001b[1;32m-> 2679\u001b[0m     \u001b[39mself\u001b[39;49m\u001b[39m.\u001b[39;49mstep \u001b[39m=\u001b[39m usrStr[\u001b[39m0\u001b[39m]  \u001b[39m# type: ignore\u001b[39;00m\n\u001b[0;32m   2680\u001b[0m     \u001b[39mself\u001b[39m\u001b[39m.\u001b[39maccidental \u001b[39m=\u001b[39m Accidental(usrStr[\u001b[39m1\u001b[39m:])\n\u001b[0;32m   2681\u001b[0m \u001b[39melse\u001b[39;00m:\n",
      "File \u001b[1;32mc:\\Users\\KOFI ADUKPO\\Desktop\\code\\aenv\\lib\\site-packages\\music21\\pitch.py:2879\u001b[0m, in \u001b[0;36mPitch.step\u001b[1;34m(self, usrStr)\u001b[0m\n\u001b[0;32m   2877\u001b[0m     \u001b[39mself\u001b[39m\u001b[39m.\u001b[39mspellingIsInferred \u001b[39m=\u001b[39m \u001b[39mFalse\u001b[39;00m\n\u001b[0;32m   2878\u001b[0m \u001b[39melse\u001b[39;00m:\n\u001b[1;32m-> 2879\u001b[0m     \u001b[39mraise\u001b[39;00m PitchException(\u001b[39mf\u001b[39m\u001b[39m'\u001b[39m\u001b[39mCannot make a step out of \u001b[39m\u001b[39m{\u001b[39;00musrStr\u001b[39m!r}\u001b[39;00m\u001b[39m'\u001b[39m)\n\u001b[0;32m   2880\u001b[0m \u001b[39mself\u001b[39m\u001b[39m.\u001b[39minformClient()\n",
      "\u001b[1;31mPitchException\u001b[0m: Cannot make a step out of 'R'"
     ]
    }
   ],
   "source": [
    "from music21 import stream, chord, tempo\n",
    "\n",
    "# Define the chords as lists of note names\n",
    "chords = modified_data\n",
    "\n",
    "# Define the durations for each chord\n",
    "durations = durate\n",
    "# Create a stream to store the notes\n",
    "music_stream = stream.Stream()\n",
    "# music_stream.append(tempo.MetronomeMark(number=500))\n",
    "# Iterate through the chords and durations\n",
    "for i, chord_notes in enumerate(chords):\n",
    "    if i < len(durations):\n",
    "        chord_obj = chord.Chord(chord_notes)\n",
    "        chord_obj.duration.type = (durations[i])[0]\n",
    "        music_stream.append(chord_obj)\n",
    "    else:\n",
    "        print(f\"Warning: Not enough durations provided for chord {i + 1}. Skipping.\")\n",
    "\n",
    "# Calculate the total duration of the music stream\n",
    "total_duration = music_stream.duration.quarterLength  # Total duration in quarter notes\n",
    "\n",
    "# Print the total duration\n",
    "print(f\"Total Duration: {total_duration} quarter notes\")\n",
    "\n",
    "\n",
    "music_stream.show('midi')\n"
   ]
  },
  {
   "cell_type": "code",
   "execution_count": null,
   "metadata": {},
   "outputs": [],
   "source": []
  },
  {
   "cell_type": "code",
   "execution_count": 17,
   "metadata": {},
   "outputs": [
    {
     "name": "stdout",
     "output_type": "stream",
     "text": [
      "The second items are the same in all elements.\n"
     ]
    }
   ],
   "source": [
    "p = ['C4 1.0']\n",
    "\n",
    "# Extract the second items from each element\n",
    "second_items = [float(note.split()[1]) for note in p]\n",
    "\n",
    "# Check if all second items are the same\n",
    "is_same_duration = all(item == second_items[0] for item in second_items)\n",
    "\n",
    "if is_same_duration:\n",
    "    print(\"The second items are the same in all elements.\")\n",
    "else:\n",
    "    print(\"The second items are not the same in all elements.\")\n"
   ]
  },
  {
   "cell_type": "code",
   "execution_count": null,
   "metadata": {},
   "outputs": [],
   "source": []
  },
  {
   "cell_type": "code",
   "execution_count": 18,
   "metadata": {},
   "outputs": [
    {
     "name": "stdout",
     "output_type": "stream",
     "text": [
      "'a' is an empty list\n"
     ]
    }
   ],
   "source": [
    "a = []  # Example list\n",
    "\n",
    "if a:\n",
    "    pass  # This block will be executed if 'a' is not empty\n",
    "else:\n",
    "    # This block will be executed if 'a' is empty\n",
    "    print(\"'a' is an empty list\")\n"
   ]
  },
  {
   "cell_type": "code",
   "execution_count": null,
   "metadata": {},
   "outputs": [],
   "source": []
  },
  {
   "cell_type": "code",
   "execution_count": null,
   "metadata": {},
   "outputs": [],
   "source": []
  },
  {
   "cell_type": "code",
   "execution_count": 19,
   "metadata": {},
   "outputs": [
    {
     "data": {
      "text/plain": [
       "[]"
      ]
     },
     "execution_count": 19,
     "metadata": {},
     "output_type": "execute_result"
    }
   ],
   "source": [
    "main"
   ]
  },
  {
   "cell_type": "code",
   "execution_count": 20,
   "metadata": {},
   "outputs": [
    {
     "name": "stdout",
     "output_type": "stream",
     "text": [
      "[['D4', 'F#4', 'D3', 'A3'], ['D4', 'F#4', 'A2', 'A3'], ['F#4', 'A4', 'A2', 'A3'], ['C#4', 'G4', 'E3', 'A3'], ['C#4', 'F#4', 'D#3', 'A3'], ['C#4', 'G4', 'E3', 'A3'], ['C#4', 'B4', 'A2', 'A3'], ['D4', 'A4', 'F#3', 'A3'], ['D4', 'G#4', 'F#3', 'A3'], ['D4', 'A4', 'F#2', 'A3'], ['D4', 'D5', 'B2', 'G3'], ['D5', 'E4', 'A2', 'A3'], ['C#5'], ['A4', 'D5', 'F#3', 'D4'], ['G4', 'B4', 'G3', 'D4'], ['D4', 'A4', 'F#3', 'A3'], ['D4', 'G4', 'E3', 'B3'], ['C#4', 'A4', 'A2', 'A3'], ['D4', 'F#4', 'D3', 'A3'], ['E4', 'G#4', 'D3', 'B3'], ['E4', 'A4', 'C#3', 'A3'], ['F#4', 'B4', 'D3', 'A3'], ['E4', 'C#5', 'E3', 'A3'], ['E3', 'G#3'], ['B4', 'D4'], ['A2', 'A3'], ['C#4', 'A4'], ['A3', 'A3'], ['A4', 'A4', 'A3', 'C#4'], ['G4', 'E5'], ['A2', 'C#4'], ['B2', 'D4'], ['G4', 'C#5'], ['F#4', 'A4', 'C#3', 'A3'], ['E4', 'G4', 'D3', 'A3'], ['D4', 'F#4', 'E3', 'A3'], ['C#4', 'G4', 'F#3', 'A3'], ['D4', 'A4', 'F#3', 'A3'], ['D4', 'D4', 'G3', 'B3'], ['D4', 'D4', 'G2', 'D3'], ['B3', 'G4', 'B4', 'G2', 'D#3'], ['B3', 'F#4', 'A4', 'G2', 'E3'], ['B3', 'E4', 'G4', 'A2', 'F#3'], ['A3', 'D4', 'F#4'], ['A2', 'G3'], [], ['E4', 'C#4', 'D3', 'F#3'], ['D4', 'D4']]\n"
     ]
    }
   ],
   "source": [
    "print(notes_and_rests_by_time)"
   ]
  },
  {
   "cell_type": "code",
   "execution_count": null,
   "metadata": {},
   "outputs": [],
   "source": []
  },
  {
   "cell_type": "code",
   "execution_count": null,
   "metadata": {},
   "outputs": [],
   "source": []
  },
  {
   "cell_type": "code",
   "execution_count": null,
   "metadata": {},
   "outputs": [],
   "source": []
  },
  {
   "cell_type": "code",
   "execution_count": 21,
   "metadata": {},
   "outputs": [],
   "source": [
    "from music21 import chord, key, stream, meter, tempo\n",
    "import time\n",
    "\n",
    "# Create a new stream to store the chord and associated settings\n",
    "\n",
    "\n",
    "# Create a chord with the specified notes\n",
    "notes = notes_and_rests_by_time #['G4', 'B3', 'D3', 'G2']\n",
    "notes = modified_data\n",
    "# Time 0: Note: G 4  Duration: 2.0, Note: B 3  Duration: 2.0, Note: D 3  Duration: 2.0, Note: G 2  Duration: 2.0\n",
    "for i in notes_and_rests_by_time:\n",
    "        chord_stream = stream.Stream()\n",
    "        # print(f\"this is i: {i}\")\n",
    "        my_chord = chord.Chord(i)\n",
    "\n",
    "        # Set the key to E flat major\n",
    "        my_key = key.Key('G')\n",
    "        chord_stream.append(my_key)\n",
    "\n",
    "        # Add the chord to the stream\n",
    "        chord_stream.append(my_chord)\n",
    "\n",
    "        # Set the time signature to 4/4\n",
    "        chord_stream.append(meter.TimeSignature('3/4'))\n",
    "\n",
    "        # Set the tempo (adjust as needed)\n",
    "        chord_stream.append(tempo.MetronomeMark('Allegro'))\n",
    "\n",
    "        # Play the chord for three counts\n",
    "        chord_stream.duration.quarterLength = 3.0\n",
    "\n",
    "\n",
    "        # Show and play the chord\n",
    "        # chord_stream.show('midi')\n",
    "        # time.sleep(2)\n"
   ]
  },
  {
   "cell_type": "code",
   "execution_count": 22,
   "metadata": {},
   "outputs": [
    {
     "data": {
      "text/html": [
       "\n",
       "                <div id=\"midiPlayerDiv1531\"></div>\n",
       "                <link rel=\"stylesheet\" href=\"https://cuthbertLab.github.io/music21j/css/m21.css\">\n",
       "                \n",
       "                <script>\n",
       "                require.config({\n",
       "                    paths: {\n",
       "                        'music21': 'https://cuthbertLab.github.io/music21j/releases/music21.debug',\n",
       "                    }\n",
       "                });\n",
       "                require(['music21'], function(music21) {\n",
       "                    mp = new music21.miditools.MidiPlayer();\n",
       "                    mp.addPlayer(\"#midiPlayerDiv1531\");\n",
       "                    mp.base64Load(\"data:audio/midi;base64,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\");\n",
       "                });\n",
       "                </script>"
      ],
      "text/plain": [
       "<IPython.core.display.HTML object>"
      ]
     },
     "metadata": {},
     "output_type": "display_data"
    }
   ],
   "source": [
    "from music21 import stream, note, chord, midi\n",
    "\n",
    "# Define the chords as lists of note names\n",
    "chords = modified_data\n",
    "\n",
    "# chords=notes_and_rests_by_time\n",
    "# Create a stream to store the notes\n",
    "music_stream = stream.Stream()\n",
    "\n",
    "# Iterate through the chord lists and add them to the stream\n",
    "for chord_notes in chords:\n",
    "    chord_obj = chord.Chord(chord_notes)\n",
    "    music_stream.append(chord_obj)\n",
    "\n",
    "music_stream.show('midi')\n"
   ]
  },
  {
   "cell_type": "code",
   "execution_count": null,
   "metadata": {},
   "outputs": [],
   "source": []
  },
  {
   "cell_type": "code",
   "execution_count": 23,
   "metadata": {},
   "outputs": [
    {
     "data": {
      "text/html": [
       "\n",
       "                <div id=\"midiPlayerDiv1563\"></div>\n",
       "                <link rel=\"stylesheet\" href=\"https://cuthbertLab.github.io/music21j/css/m21.css\">\n",
       "                \n",
       "                <script>\n",
       "                require.config({\n",
       "                    paths: {\n",
       "                        'music21': 'https://cuthbertLab.github.io/music21j/releases/music21.debug',\n",
       "                    }\n",
       "                });\n",
       "                require(['music21'], function(music21) {\n",
       "                    mp = new music21.miditools.MidiPlayer();\n",
       "                    mp.addPlayer(\"#midiPlayerDiv1563\");\n",
       "                    mp.base64Load(\"data:audio/midi;base64,TVRoZAAAAAYAAQACBABNVHJrAAAAFAD/UQO3GwAA/1gEBAIYCIgA/y8ATVRyawAAADIA/wMAAOAAQIgAkDxaiACAPAAAkEBaiACAQAAAkENaiACAQwAAkEhaiACASACIAP8vAA==\");\n",
       "                });\n",
       "                </script>"
      ],
      "text/plain": [
       "<IPython.core.display.HTML object>"
      ]
     },
     "metadata": {},
     "output_type": "display_data"
    }
   ],
   "source": [
    "from music21 import stream, note, tempo\n",
    "\n",
    "# Create a music stream\n",
    "music_stream = stream.Stream()\n",
    "\n",
    "# Create some notes\n",
    "notes = ['C4', 'E4', 'G4', 'C5']\n",
    "\n",
    "tempo_obj = tempo.MetronomeMark(number=5)  # Adjust the number to your desired tempo\n",
    "music_stream.append(tempo_obj)\n",
    "for note_name in notes:\n",
    "    n = note.Note(note_name)\n",
    "    music_stream.append(n)\n",
    "# Set the tempo to a higher value for faster playback\n",
    "\n",
    "# Show the music notes while playing in MIDI format and write the notes being played\n",
    "music_stream.show('midi', app='text')\n"
   ]
  },
  {
   "cell_type": "code",
   "execution_count": 24,
   "metadata": {},
   "outputs": [
    {
     "name": "stdout",
     "output_type": "stream",
     "text": [
      "Total Duration: 8.0 quarter notes\n"
     ]
    }
   ],
   "source": [
    "from music21 import stream, note, tempo\n",
    "\n",
    "# Create a music stream\n",
    "music_stream = stream.Stream()\n",
    "\n",
    "# Create some notes\n",
    "notes = ['C4', 'E4', 'G4', 'C5','C4', 'E4', 'G4', 'C5']\n",
    "\n",
    "tempo_obj = tempo.MetronomeMark(number=5)  # Adjust the number to your desired tempo\n",
    "music_stream.append(tempo_obj)\n",
    "for note_name in notes:\n",
    "    n = note.Note(note_name)\n",
    "    music_stream.append(n)\n",
    "\n",
    "# Calculate the total duration of the music stream\n",
    "total_duration = music_stream.duration.quarterLength  # Total duration in quarter notes\n",
    "\n",
    "# Print the total duration\n",
    "print(f\"Total Duration: {total_duration} quarter notes\")\n"
   ]
  },
  {
   "cell_type": "code",
   "execution_count": null,
   "metadata": {},
   "outputs": [],
   "source": []
  },
  {
   "cell_type": "code",
   "execution_count": null,
   "metadata": {},
   "outputs": [],
   "source": []
  },
  {
   "cell_type": "code",
   "execution_count": null,
   "metadata": {},
   "outputs": [],
   "source": []
  },
  {
   "cell_type": "code",
   "execution_count": 25,
   "metadata": {},
   "outputs": [
    {
     "data": {
      "text/html": [
       "\n",
       "                <div id=\"midiPlayerDiv1604\"></div>\n",
       "                <link rel=\"stylesheet\" href=\"https://cuthbertLab.github.io/music21j/css/m21.css\">\n",
       "                \n",
       "                <script>\n",
       "                require.config({\n",
       "                    paths: {\n",
       "                        'music21': 'https://cuthbertLab.github.io/music21j/releases/music21.debug',\n",
       "                    }\n",
       "                });\n",
       "                require(['music21'], function(music21) {\n",
       "                    mp = new music21.miditools.MidiPlayer();\n",
       "                    mp.addPlayer(\"#midiPlayerDiv1604\");\n",
       "                    mp.base64Load(\"data:audio/midi;base64,TVRoZAAAAAYAAQACBABNVHJrAAAAFQD/WAQEAhgIoAD/UQMHoSCIAP8vAE1UcmsAAAAyAP8DAADgAECIAJA8WogAgDwAAJBAWogAgEAAAJBDWogAgEMAAJBIWogAgEgAiAD/LwA=\");\n",
       "                });\n",
       "                </script>"
      ],
      "text/plain": [
       "<IPython.core.display.HTML object>"
      ]
     },
     "metadata": {},
     "output_type": "display_data"
    }
   ],
   "source": [
    "# Fetch the list of notes (you can retrieve it from the database if you're using a model)\n",
    "notes = ['C4', 'E4', 'G4', 'C5']\n",
    "\n",
    "# Create a music stream\n",
    "music_stream = stream.Stream()\n",
    "\n",
    "# Generate note objects and add them to the stream\n",
    "for note_name in notes:\n",
    "    n = note.Note(note_name)\n",
    "    music_stream.append(n)\n",
    "\n",
    "# Set the tempo for the music\n",
    "music_stream.append(tempo.MetronomeMark(number=120))\n",
    "\n",
    "# Play the music when the form is submitted\n",
    "music_stream.show('midi')\n",
    "\n"
   ]
  },
  {
   "cell_type": "code",
   "execution_count": null,
   "metadata": {},
   "outputs": [],
   "source": []
  },
  {
   "cell_type": "code",
   "execution_count": 26,
   "metadata": {},
   "outputs": [
    {
     "data": {
      "text/html": [
       "\n",
       "                <div id=\"midiPlayerDiv1628\"></div>\n",
       "                <link rel=\"stylesheet\" href=\"https://cuthbertLab.github.io/music21j/css/m21.css\">\n",
       "                \n",
       "                <script>\n",
       "                require.config({\n",
       "                    paths: {\n",
       "                        'music21': 'https://cuthbertLab.github.io/music21j/releases/music21.debug',\n",
       "                    }\n",
       "                });\n",
       "                require(['music21'], function(music21) {\n",
       "                    mp = new music21.miditools.MidiPlayer();\n",
       "                    mp.addPlayer(\"#midiPlayerDiv1628\");\n",
       "                    mp.base64Load(\"data:audio/midi;base64,TVRoZAAAAAYAAQACBABNVHJrAAAAFAD/UQMHoSAA/1gEBAIYCIgA/y8ATVRyawAAAHEA/wMAAOAAQIgAkENaAJA7WgCQMloAkCtakACAQwAAgDsAAIAyAACAKwAAkENaAJA7WgCQMloAkCtahACAQwAAgDsAAIAyAACAKwAAkENaAJA7WgCQMloAkCtaiACAQwAAgDsAAIAyAACAKwCIAP8vAA==\");\n",
       "                });\n",
       "                </script>"
      ],
      "text/plain": [
       "<IPython.core.display.HTML object>"
      ]
     },
     "metadata": {},
     "output_type": "display_data"
    }
   ],
   "source": [
    "from music21 import stream, chord, midi\n",
    "\n",
    "# Define the chords as lists of note names\n",
    "chords = [['G4', 'B3', 'D3', 'G2'],\n",
    "          ['G4', 'B3', 'D3', 'G2'],\n",
    "          ['G4', 'B3', 'D3', 'G2']]\n",
    "\n",
    "# Create a stream to store the notes\n",
    "music_stream = stream.Stream()\n",
    "\n",
    "# Create a chord object for the first chord (2.0 duration)\n",
    "chord_0 = chord.Chord(chords[0])\n",
    "chord_0.duration.type = 'half'  # Set the duration to 2.0 (2 half notes)\n",
    "music_stream.append(chord_0)\n",
    "\n",
    "# Create a chord object for the second chord (0.5 duration)\n",
    "chord_1 = chord.Chord(chords[1])\n",
    "chord_1.duration.type = 'eighth'  # Set the duration to 0.5 (1 eighth note)\n",
    "music_stream.append(chord_1)\n",
    "\n",
    "# Create a chord object for the third chord (1.0 duration)\n",
    "chord_2 = chord.Chord(chords[2])\n",
    "chord_2.duration.type = 'quarter'  # Set the duration to 1.0 (1 quarter note)\n",
    "music_stream.append(chord_2)\n",
    "\n",
    "# # Create a MIDI file from the stream\n",
    "# midi_file = music_stream.write('midi')\n",
    "\n",
    "# # Create a StreamPlayer and play the MIDI file\n",
    "# player = midi.realtime.StreamPlayer(midi_file)\n",
    "# player.play()\n",
    "\n",
    "music_stream.show('midi')\n"
   ]
  },
  {
   "cell_type": "code",
   "execution_count": 27,
   "metadata": {},
   "outputs": [
    {
     "name": "stdout",
     "output_type": "stream",
     "text": [
      "[['quarter'], ['half'], ['whole']]\n"
     ]
    }
   ],
   "source": [
    "# Define the mapping of durations to names\n",
    "duration_names = {1.0: 'quarter', 2.0: 'half', 4.0: 'whole'}\n",
    "\n",
    "# Given list 'p'\n",
    "p = [[1.0], [2.0], [4.0]]\n",
    "\n",
    "# Convert 'p' to their names\n",
    "p_names = [[duration_names[d] for d in sublist] for sublist in p]\n",
    "\n",
    "print(p_names)\n"
   ]
  },
  {
   "cell_type": "code",
   "execution_count": null,
   "metadata": {},
   "outputs": [],
   "source": []
  },
  {
   "cell_type": "code",
   "execution_count": null,
   "metadata": {},
   "outputs": [],
   "source": []
  },
  {
   "cell_type": "code",
   "execution_count": 73,
   "metadata": {},
   "outputs": [
    {
     "data": {
      "text/html": [
       "\n",
       "                <div id=\"midiPlayerDiv4689\"></div>\n",
       "                <link rel=\"stylesheet\" href=\"https://cuthbertLab.github.io/music21j/css/m21.css\">\n",
       "                \n",
       "                <script>\n",
       "                require.config({\n",
       "                    paths: {\n",
       "                        'music21': 'https://cuthbertLab.github.io/music21j/releases/music21.debug',\n",
       "                    }\n",
       "                });\n",
       "                require(['music21'], function(music21) {\n",
       "                    mp = new music21.miditools.MidiPlayer();\n",
       "                    mp.addPlayer(\"#midiPlayerDiv4689\");\n",
       "                    mp.base64Load(\"data:audio/midi;base64,TVRoZAAAAAYAAQACBABNVHJrAAAAFAD/UQMHoSAA/1gEBAIYCIgA/y8ATVRyawAAAHEA/wMAAOAAQIgAkENaAJA7WgCQMloAkCtakACAQwAAgDsAAIAyAACAKwAAkENaAJA7WgCQMloAkCtaiACAQwAAgDsAAIAyAACAKwAAkENaAJA7WgCQMloAkCtaiACAQwAAgDsAAIAyAACAKwCIAP8vAA==\");\n",
       "                });\n",
       "                </script>"
      ],
      "text/plain": [
       "<IPython.core.display.HTML object>"
      ]
     },
     "metadata": {},
     "output_type": "display_data"
    }
   ],
   "source": [
    "from music21 import stream, chord, tempo\n",
    "modified_data=[['G4', 'B3', 'F3', 'G2'],\n",
    "          ['G4', 'B3', 'D3', 'G2'],\n",
    "          ['G4', 'B3', 'D3', 'E2']]\n",
    "durate = [['half'], ['quarter'], ['quarter']]\n",
    "# Define the chords as lists of note names\n",
    "chords = modified_data\n",
    "\n",
    "# Define the durations for each chord\n",
    "durations = durate\n",
    "# Create a stream to store the notes\n",
    "music_stream = stream.Stream()\n",
    "# music_stream.append(tempo.MetronomeMark(number=500))\n",
    "# Iterate through the chords and durations\n",
    "for i, chord_notes in enumerate(chords):\n",
    "    if i < len(durations):\n",
    "        chord_obj = chord.Chord(chord_notes)\n",
    "        chord_obj.duration.type = (durations[i])[0]\n",
    "        music_stream.append(chord_obj)\n",
    "    else:\n",
    "        print(f\"Warning: Not enough durations provided for chord {i + 1}. Skipping.\")\n",
    "\n",
    "music_stream.show('midi')\n"
   ]
  },
  {
   "cell_type": "code",
   "execution_count": null,
   "metadata": {},
   "outputs": [],
   "source": []
  },
  {
   "cell_type": "code",
   "execution_count": null,
   "metadata": {},
   "outputs": [],
   "source": [
    "a"
   ]
  },
  {
   "cell_type": "code",
   "execution_count": null,
   "metadata": {},
   "outputs": [],
   "source": []
  },
  {
   "cell_type": "code",
   "execution_count": null,
   "metadata": {},
   "outputs": [],
   "source": []
  },
  {
   "cell_type": "code",
   "execution_count": 92,
   "metadata": {},
   "outputs": [
    {
     "name": "stdout",
     "output_type": "stream",
     "text": [
      "[['B-4', 'E-4', 'G3', 'E-3'], ['E-5', 'G4', 'B-3', 'E-3'], ['D5', 'G4', 'B-3', 'G3'], ['C5', 'E-4', 'A-3', 'A-3'], ['B-4', 'E-4', 'B-3', 'G3'], ['B-4', 'F4', 'B-3', 'D3'], ['A-4', 'D4', 'B-3', 'B-2'], ['G4', 'E-4', 'B-3', 'E-3'], ['G4', 'E-4', 'B-3', 'E-3'], ['F4', 'C4', 'C4', 'A-3'], ['F4', 'C4', 'A-3'], ['D4'], ['E-4', 'E-4', 'B-3', 'G3'], ['A-4', 'D4', 'A-3', 'F3'], ['G4', 'E-4', 'B-3', 'E-3'], ['F4', 'D4', 'B-3', 'B-2'], ['F4', 'D4', 'B-3', 'B-2'], ['G4', 'E-4', 'B-3', 'E-3'], ['G4', 'E-4', 'B-3'], ['D-3'], ['A-4', 'E-4', 'A-3', 'C3'], ['G4', 'E-4', 'B-3', 'B-2'], ['C5', 'E-4', 'C4', 'A-2'], ['B-4', 'E-4', 'E-3', 'G2'], ['B-4', 'C4', 'F3', 'F2'], ['A-4', 'D4', 'F3', 'B-2'], ['G4', 'E-4', 'E-3', 'C3'], ['E-4', 'C4', 'G3', 'C3'], ['G4', 'E-4', 'B-3', 'G2'], ['F4', 'C4', 'A-3', 'A-2'], ['E-4', 'B-3', 'G3', 'B-2'], ['D4', 'B-3', 'F3', 'B-2'], ['D4', 'B-3', 'B-2'], ['A-3'], ['E-4', 'B-3', 'G3', 'E-3'], ['E-4', 'B-3', 'G3', 'E-3']]\n"
     ]
    }
   ],
   "source": [
    "score = music21.converter.parse(\"99.xml\")\n",
    "# path = C:\\Users\\KOFI ADUKPO\\Downloads\\solfa\\\\{}\n",
    "# score = music21.converter.parse(path)\n",
    "# C:\\Users\\KOFI ADUKPO\\Downloads\\solfa\n",
    "# score = music21.converter.parse(path)\n",
    "\n",
    "\n",
    "# Initialize a list to store notes and rests at each point in time\n",
    "notes_and_rests_by_time = []\n",
    "notes_and_rests_by_time_ = []\n",
    "\n",
    "\n",
    "# Get all the notes, chords, and rests from the score\n",
    "all_notes = score.flat.getElementsByClass(music21.note.GeneralNote)\n",
    "\n",
    "# Create a dictionary to group elements by their starting offset\n",
    "elements_by_offset = {}\n",
    "\n",
    "# Iterate through the notes, chords, and rests and group them by offset\n",
    "for element in all_notes:\n",
    "    offset = element.offset\n",
    "    if offset not in elements_by_offset:\n",
    "        elements_by_offset[offset] = []\n",
    "    elements_by_offset[offset].append(element)\n",
    "\n",
    "# Sort the offsets in ascending order\n",
    "sorted_offsets = sorted(elements_by_offset.keys())\n",
    "\n",
    "notss = []\n",
    "\n",
    "# Iterate through the sorted offsets and collect notes and rests at each point in time\n",
    "for offset in sorted_offsets:\n",
    "    elements = elements_by_offset[offset]\n",
    "    notes_and_rests = []\n",
    "    nots=[]\n",
    "\n",
    "    for element in elements:\n",
    "        if isinstance(element, music21.note.Note):\n",
    "            pitch = element.pitch\n",
    "            parts = re.split(r'(\\d+)', str(pitch))\n",
    "            modified_item = ''.join(parts)\n",
    "            pitch = modified_item\n",
    "            notes_and_rests.append(f\"{pitch}\") # {element.duration.quarterLength}\n",
    "            nots.append(f\"{pitch} {element.duration.quarterLength}\")\n",
    "\n",
    "\n",
    "        elif isinstance(element, music21.chord.Chord):\n",
    "            for chord_note in element:\n",
    "                chord_pitch = chord_note.pitch\n",
    "                parts = re.split(r'(\\d+)', str(chord_pitch))\n",
    "                modified_item = ''.join(parts)\n",
    "                chord_pitch = modified_item\n",
    "                notes_and_rests.append(f\"{chord_pitch}\") # {chord_note.duration.quarterLength}\n",
    "                nots.append(f\"{chord_pitch} {chord_note.duration.quarterLength}\")\n",
    "\n",
    "        elif isinstance(element, music21.note.Rest):\n",
    "            pass\n",
    "            # notes_and_rests.append(f\"Rest Duration: {element.duration.quarterLength}\")\n",
    "\n",
    "    notes_and_rests_by_time.append(notes_and_rests)\n",
    "    notes_and_rests_by_time_.append(nots)\n",
    "    \n",
    "\n",
    "# # Print the notes and rests grouped by time\n",
    "# for i, notes_and_rests in enumerate(notes_and_rests_by_time):\n",
    "#     print(f\"Time {i}: {', '.join(notes_and_rests)}\")\n",
    "\n",
    "p = [['E-4 6.0'],['C4 1.0', 'E-4 6.0', 'A-2 1.0', 'A-3 3.0'], ['C4 1.0', 'C4 2.0', 'A-2 1.0', 'A-3 2.0'], ['E-4 1.0', 'C3 1.0']]\n",
    "p=notes_and_rests_by_time_\n",
    "t = []\n",
    "main = []\n",
    "data = p\n",
    "k=p\n",
    "\n",
    "##taking care of the .75\n",
    "heavy=[]\n",
    "# Check if the decimal ends with .75\n",
    "for r in k:\n",
    "    qw=[]\n",
    "    qe=[]\n",
    "    for u in r:\n",
    "        pitch, duration = u.split()\n",
    "        duration_float = float(duration)\n",
    "        if duration_float % 1 == 0.75:\n",
    "            # Subtract 0.25 from it\n",
    "            new_duration = duration_float - 0.25\n",
    "            qw.append(f\"{pitch} {new_duration:.1f}\")\n",
    "            qe.append(f\"{pitch} 0.25\")\n",
    "        else:\n",
    "            qw.append(u)\n",
    "    heavy.append(qw)\n",
    "    if qe:\n",
    "        heavy.append(qe)\n",
    "\n",
    "k=heavy\n",
    "\n",
    "# Create a new list to store the modified elements\n",
    "# Create a new list to store the modified elements\n",
    "new_k = []\n",
    "\n",
    "# Iterate through the sublists in 'k'\n",
    "for sublist_k in k:\n",
    "    modified_sublist = []\n",
    "    remaining_sublist = []\n",
    "    for element in sublist_k:\n",
    "        pitch, duration = element.split()  # Split the element into pitch and duration\n",
    "        duration_float = float(duration)  # Convert duration to a float\n",
    "        if duration_float > 1.0:\n",
    "            if duration_float % 1 == 0.5:\n",
    "                # If duration ends with '.5', subtract 0.5 and add '.0' to the duration\n",
    "                modified_duration = f\"{duration_float - 0.5:.1f}\"\n",
    "                modified_sublist.append(f\"{pitch} {modified_duration}\")\n",
    "                remaining_sublist.append(f\"{pitch} 0.5\")  # Add a new element with '0.5' duration\n",
    "            else:\n",
    "                # If duration is odd and greater than 1.0, subtract 1.0 and create a sublist for it\n",
    "                modified_duration = f\"{duration_float - 1.0:.1f}\"\n",
    "                modified_sublist.append(f\"{pitch} {modified_duration}\")\n",
    "                remaining_sublist.append(f\"{pitch} 1.0\")\n",
    "        else:\n",
    "            # Otherwise, keep the original element in the modified sublist\n",
    "            modified_sublist.append(element)\n",
    "    new_k.append(modified_sublist)\n",
    "    if remaining_sublist:\n",
    "        new_k.append(remaining_sublist)\n",
    "p=new_k\n",
    "\n",
    "for i in p:\n",
    "\n",
    "\n",
    "    if i:\n",
    "\n",
    "        # Calculate the minimum duration in the list\n",
    "        # print(i)\n",
    "        min_duration = min(float(note.split()[1]) for note in i)\n",
    "\n",
    "        # Create a new list with equal durations\n",
    "        equal_duration_list = [f\"{note.split()[0]} {min_duration}\" for note in i]\n",
    "        t.append(equal_duration_list)\n",
    "\n",
    "        # Create a remainder list with the original durations\n",
    "        remainder = [f\"{note.split()[0]} {float(note.split()[1]) - min_duration}\" for note in i if float(note.split()[1]) > min_duration]\n",
    "        if remainder:\n",
    "            # Extract the second items from each element\n",
    "            second_items = [float(note.split()[1]) for note in remainder]\n",
    "\n",
    "            # Check if all second items are the same\n",
    "            is_same_duration = all(item == second_items[0] for item in second_items)\n",
    "\n",
    "            if is_same_duration:\n",
    "                t.append(remainder)\n",
    "            else:\n",
    "                min_duration = min(float(note.split()[1]) for note in remainder) #leevel\n",
    "                # Create a new list with equal durations\n",
    "                equal_duration_list = [f\"{note.split()[0]} {min_duration}\" for note in remainder]\n",
    "                t.append(equal_duration_list)\n",
    "                # Create a remainder list with the original durations\n",
    "                remainder = [f\"{note.split()[0]} {float(note.split()[1]) - min_duration}\" for note in remainder if float(note.split()[1]) > min_duration]\n",
    "                # print(f'firstremain: {remainder}')\n",
    "                # Extract the second items from each element\n",
    "                if remainder:\n",
    "                    second_items = [float(note.split()[1]) for note in remainder]\n",
    "                    \n",
    "\n",
    "                    # Check if all second items are the same\n",
    "                    is_same_duration = all(item == second_items[0] for item in second_items)\n",
    "\n",
    "                    if is_same_duration:\n",
    "                        t.append(remainder)\n",
    "                    else:\n",
    "                        min_duration = min(float(note.split()[1]) for note in remainder)\n",
    "                        # Create a new list with equal durations\n",
    "                        equal_duration_list = [f\"{note.split()[0]} {min_duration}\" for note in remainder]\n",
    "                        t.append(equal_duration_list)\n",
    "                        ##\n",
    "                        remainder = [f\"{note.split()[0]} {float(note.split()[1]) - min_duration}\" for note in remainder if float(note.split()[1]) > min_duration]\n",
    "                        # Extract the second items from each element\n",
    "                        # print(f'remain: {remainder}')\n",
    "                        if remainder:\n",
    "                            second_items = [float(note.split()[1]) for note in remainder]\n",
    "\n",
    "                            # Check if all second items are the same\n",
    "                            is_same_duration = all(item == second_items[0] for item in second_items)\n",
    "\n",
    "                            if is_same_duration:\n",
    "                                # print(remainder)\n",
    "                                t.append(remainder)\n",
    "\n",
    "                            else:\n",
    "                                min_duration = min(float(note.split()[1]) for note in remainder)\n",
    "                                # Create a new list with equal durations\n",
    "                                equal_duration_list = [f\"{note.split()[0]} {min_duration}\" for note in remainder]\n",
    "                                t.append(equal_duration_list)\n",
    "                                remainder = [f\"{note.split()[0]} {float(note.split()[1]) - min_duration}\" for note in remainder if float(note.split()[1]) > min_duration]\n",
    "\n",
    "                                if remainder:\n",
    "                                    second_items = [float(note.split()[1]) for note in remainder]\n",
    "\n",
    "                                    # Check if all second items are the same\n",
    "                                    is_same_duration = all(item == second_items[0] for item in second_items)\n",
    "\n",
    "                                    if is_same_duration:\n",
    "                                        t.append(remainder)\n",
    "                                    else:\n",
    "                                        min_duration = min(float(note.split()[1]) for note in remainder)\n",
    "                                        # Create a new list with equal durations\n",
    "                                        equal_duration_list = [f\"{note.split()[0]} {min_duration}\" for note in remainder]\n",
    "                                        t.append(equal_duration_list)\n",
    "\n",
    "\n",
    "\n",
    "    p = t\n",
    "new_p = []\n",
    "\n",
    "for f in p:\n",
    "    pp=[]\n",
    "    pl=[]\n",
    "    for y in f:\n",
    "        pitch, duration = y.split()\n",
    "        duration_float = float(duration)\n",
    "\n",
    "        if duration_float > 2.0 and duration_float % 2 == 1.0:\n",
    "            # If duration is greater than or equal to 1.0 and odd, subtract 1.0 from it\n",
    "            new_duration = duration_float - 1.0\n",
    "            pp.append(f\"{pitch} {new_duration:.1f}\")\n",
    "            pl.append(f\"{pitch} 1.0\")\n",
    "        else:\n",
    "            pp.append(y)\n",
    "    new_p.append(pp)\n",
    "    if pl:\n",
    "        new_p.append(pl)\n",
    "\n",
    "\n",
    "\n",
    "t=new_p\n",
    "\n",
    "data = t\n",
    "\n",
    "# Find the highest value of the second item in each sublist\n",
    "max_values = [max(float(note.split()[1]) for note in sublist) for sublist in data]\n",
    "\n",
    "# Modify 'data' to contain the highest values as sublists\n",
    "durate = [[max_value] for max_value in max_values]\n",
    "timer = durate.copy()\n",
    "\n",
    "\n",
    "data = t\n",
    "\n",
    "# Remove the second items in each element in the sublists\n",
    "modified_data = [[note.split()[0] for note in sublist] for sublist in data]\n",
    "\n",
    "\n",
    "# Define the mapping of durations to names\n",
    "duration_names = {0.5: 'eighth',1.0: 'quarter',0.25: '16th', 2.0: 'half', 4.0: 'whole'}\n",
    "\n",
    "# Given list 'p'\n",
    "p = durate\n",
    "\n",
    "# Convert 'p' to their names\n",
    "durate = [[duration_names[d] for d in sublist] for sublist in p]\n",
    "\n",
    "data = t\n",
    "\n",
    "# Remove the second items in each element in the sublists\n",
    "modified_data = [[note.split()[0] for note in sublist] for sublist in data]\n",
    "\n",
    "print(modified_data)"
   ]
  },
  {
   "cell_type": "code",
   "execution_count": 1,
   "metadata": {},
   "outputs": [],
   "source": [
    "import music21"
   ]
  },
  {
   "cell_type": "code",
   "execution_count": 91,
   "metadata": {},
   "outputs": [
    {
     "data": {
      "text/html": [
       "\n",
       "                <div id=\"midiPlayerDiv2787\"></div>\n",
       "                <link rel=\"stylesheet\" href=\"https://cuthbertLab.github.io/music21j/css/m21.css\">\n",
       "                \n",
       "                <script>\n",
       "                require.config({\n",
       "                    paths: {\n",
       "                        'music21': 'https://cuthbertLab.github.io/music21j/releases/music21.debug',\n",
       "                    }\n",
       "                });\n",
       "                require(['music21'], function(music21) {\n",
       "                    mp = new music21.miditools.MidiPlayer();\n",
       "                    mp.addPlayer(\"#midiPlayerDiv2787\");\n",
       "                    mp.base64Load(\"data:audio/midi;base64,TVRoZAAAAAYAAQACBABNVHJrAAAAFAD/UQMHoSAA/1gEBAIYCIgA/y8ATVRyawAABFIA/wMAAOAAQIgAkEZaAJA/WgCQN1oAkDNaiACARgAAgD8AAIA3AACAMwAAkEtaAJBDWgCQOloAkDNaiACASwAAgEMAAIA6AACAMwAAkEpaAJBDWgCQOloAkDdaiACASgAAgEMAAIA6AACANwAAkEhaAJA/WgCQOFoAkDhaiACASAAAgD8AAIA4AACAOAAAkEZaAJA/WgCQOloAkDdaiACARgAAgD8AAIA6AACANwAAkEZaAJBBWgCQOloAkDJaiACARgAAgEEAAIA6AACAMgAAkERaAJA+WgCQOloAkC5aiACARAAAgD4AAIA6AACALgAAkENaAJA/WgCQOloAkDNaiACAQwAAgD8AAIA6AACAMwAAkENaAJA/WgCQOloAkDNaiACAQwAAgD8AAIA6AACAMwAAkEFaAJA8WgCQPFoAkDhaiACAQQAAgDwAAIA8AACAOAAAkEFaAJA8WgCQOFqIAIBBAACAPAAAgDgAAJA+WogAgD4AAJA/WgCQP1oAkDpaAJA3WogAgD8AAIA/AACAOgAAgDcAAJBEWgCQPloAkDhaAJA1WogAgEQAAIA+AACAOAAAgDUAAJBDWgCQP1oAkDpaAJAzWogAgEMAAIA/AACAOgAAgDMAAJBBWgCQPloAkDpaAJAuWogAgEEAAIA+AACAOgAAgC4AAJBBWgCQPloAkDpaAJAuWogAgEEAAIA+AACAOgAAgC4AAJBDWgCQP1oAkDpaAJAzWogAgEMAAIA/AACAOgAAgDMAAJBDWgCQP1oAkDpaiACAQwAAgD8AAIA6AACQMVqIAIAxAACQRFoAkD9aAJA4WgCQMFqIAIBEAACAPwAAgDgAAIAwAACQQ1oAkD9aAJA6WgCQLlqIAIBDAACAPwAAgDoAAIAuAACQSFoAkD9aAJA8WgCQLFqIAIBIAACAPwAAgDwAAIAsAACQRloAkD9aAJAzWgCQK1qIAIBGAACAPwAAgDMAAIArAACQRloAkDxaAJA1WgCQKVqIAIBGAACAPAAAgDUAAIApAACQRFoAkD5aAJA1WgCQLlqIAIBEAACAPgAAgDUAAIAuAACQQ1oAkD9aAJAzWgCQMFqIAIBDAACAPwAAgDMAAIAwAACQP1oAkDxaAJA3WgCQMFqIAIA/AACAPAAAgDcAAIAwAACQQ1oAkD9aAJA6WgCQK1qIAIBDAACAPwAAgDoAAIArAACQQVoAkDxaAJA4WgCQLFqIAIBBAACAPAAAgDgAAIAsAACQP1oAkDpaAJA3WgCQLlqIAIA/AACAOgAAgDcAAIAuAACQPloAkDpaAJA1WgCQLlqIAIA+AACAOgAAgDUAAIAuAACQPloAkDpaAJAuWogAgD4AAIA6AACALgAAkDhaiACAOAAAkD9aAJA6WgCQN1oAkDNaiACAPwAAgDoAAIA3AACAMwAAkD9aAJA6WgCQN1oAkDNaiACAPwAAgDoAAIA3AACAMwCIAP8vAA==\");\n",
       "                });\n",
       "                </script>"
      ],
      "text/plain": [
       "<IPython.core.display.HTML object>"
      ]
     },
     "metadata": {},
     "output_type": "display_data"
    }
   ],
   "source": [
    "# Define the chords as lists of note names\n",
    "chords = modified_data\n",
    "\n",
    "# chords=notes_and_rests_by_time\n",
    "# Create a stream to store the notes\n",
    "music_stream = stream.Stream()\n",
    "\n",
    "# Iterate through the chord lists and add them to the stream\n",
    "for chord_notes in chords:\n",
    "    chord_obj = chord.Chord(chord_notes)\n",
    "    music_stream.append(chord_obj)\n",
    "\n",
    "music_stream.show('midi')"
   ]
  },
  {
   "cell_type": "code",
   "execution_count": 13,
   "metadata": {},
   "outputs": [
    {
     "data": {
      "text/html": [
       "\n",
       "                <div id=\"midiPlayerDiv312\"></div>\n",
       "                <link rel=\"stylesheet\" href=\"https://cuthbertLab.github.io/music21j/css/m21.css\">\n",
       "                \n",
       "                <script>\n",
       "                require.config({\n",
       "                    paths: {\n",
       "                        'music21': 'https://cuthbertLab.github.io/music21j/releases/music21.debug',\n",
       "                    }\n",
       "                });\n",
       "                require(['music21'], function(music21) {\n",
       "                    mp = new music21.miditools.MidiPlayer();\n",
       "                    mp.addPlayer(\"#midiPlayerDiv312\");\n",
       "                    mp.base64Load(\"data:audio/midi;base64,TVRoZAAAAAYAAQADBABNVHJrAAAAFagA/1EDB6EgAP9YBAQCGAiIAP8vAE1UcmsAAAAXAP8DAADgAECIAJAoWqgAgCgAiAD/LwBNVHJrAAAAFwD/AwAA4ABAiACQIlqIAIAiAIgA/y8A\");\n",
       "                });\n",
       "                </script>"
      ],
      "text/plain": [
       "<IPython.core.display.HTML object>"
      ]
     },
     "metadata": {},
     "output_type": "display_data"
    }
   ],
   "source": [
    "from music21 import stream, note, meter, tempo\n",
    "\n",
    "# Create individual streams for each note\n",
    "note_e2 = note.Note(\"E2\", quarterLength=5)\n",
    "note_b1 = note.Note(\"B-1\", quarterLength=1)\n",
    "\n",
    "# Create a Score to combine the streams\n",
    "score = stream.Score()\n",
    "\n",
    "# Create parts and add notes to each part\n",
    "part_e2 = stream.Part()\n",
    "part_e2.append(note_e2)\n",
    "\n",
    "part_b1 = stream.Part()\n",
    "part_b1.append(note_b1)\n",
    "\n",
    "# Add parts to the score\n",
    "score.insert(0, part_e2)\n",
    "score.insert(0, part_b1)\n",
    "\n",
    "# Set the tempo and meter for the score\n",
    "score.append(meter.TimeSignature('4/4'))\n",
    "score.append(tempo.MetronomeMark(number=120))\n",
    "\n",
    "# Play the score\n",
    "score.show('midi')\n"
   ]
  },
  {
   "cell_type": "code",
   "execution_count": 16,
   "metadata": {},
   "outputs": [
    {
     "data": {
      "text/html": [
       "\n",
       "                <div id=\"midiPlayerDiv389\"></div>\n",
       "                <link rel=\"stylesheet\" href=\"https://cuthbertLab.github.io/music21j/css/m21.css\">\n",
       "                \n",
       "                <script>\n",
       "                require.config({\n",
       "                    paths: {\n",
       "                        'music21': 'https://cuthbertLab.github.io/music21j/releases/music21.debug',\n",
       "                    }\n",
       "                });\n",
       "                require(['music21'], function(music21) {\n",
       "                    mp = new music21.miditools.MidiPlayer();\n",
       "                    mp.addPlayer(\"#midiPlayerDiv389\");\n",
       "                    mp.base64Load(\"data:audio/midi;base64,TVRoZAAAAAYAAQACBABNVHJrAAAAFAD/UQMHoSAA/1gEBAIYCIgA/y8ATVRyawAAAJIA/wMAAOAAQIgAkEZaAJA/WgCQN1oAkDNaiACARgAAgD8AAIA3AACAMwAAkEtaAJBDWgCQOloAkDNahACASwAAgEMAAIA6AACAMwAAkEpaAJBDWgCQOloAkDdahgCASgAAgEMAAIA6AACANwAAkEhaAJA/WgCQOFoAkDhajACASAAAgD8AAIA4AACAOACIAP8vAA==\");\n",
       "                });\n",
       "                </script>"
      ],
      "text/plain": [
       "<IPython.core.display.HTML object>"
      ]
     },
     "metadata": {},
     "output_type": "display_data"
    }
   ],
   "source": [
    "from music21 import chord, stream\n",
    "\n",
    "# Define the chords as lists of note names\n",
    "chords = [['B-4', 'E-4', 'G3', 'E-3'], ['E-5', 'G4', 'B-3', 'E-3'], ['D5', 'G4', 'B-3', 'G3'], ['C5', 'E-4', 'A-3', 'A-3']]\n",
    "\n",
    "# Create a stream to store the notes\n",
    "music_stream = stream.Stream()\n",
    "\n",
    "# Set the durations for each chord (in quarter notes)\n",
    "durations = [1.0, 0.5, 0.75, 1.5]\n",
    "\n",
    "# Iterate through the chord lists and add them to the stream with specified durations\n",
    "for i, chord_notes in enumerate(chords):\n",
    "    chord_obj = chord.Chord(chord_notes)\n",
    "    chord_obj.duration.quarterLength = durations[i]\n",
    "    music_stream.append(chord_obj)\n",
    "\n",
    "music_stream.show('midi')\n"
   ]
  },
  {
   "cell_type": "code",
   "execution_count": null,
   "metadata": {},
   "outputs": [],
   "source": []
  },
  {
   "cell_type": "code",
   "execution_count": 9,
   "metadata": {},
   "outputs": [
    {
     "ename": "PermissionError",
     "evalue": "[Errno 13] Permission denied: 'C:\\\\Users\\\\KOFI ADUKPO\\\\Desktop\\\\code\\\\aseda\\\\adom\\\\templates\\\\tunes'",
     "output_type": "error",
     "traceback": [
      "\u001b[1;31m---------------------------------------------------------------------------\u001b[0m",
      "\u001b[1;31mPermissionError\u001b[0m                           Traceback (most recent call last)",
      "\u001b[1;32mc:\\Users\\KOFI ADUKPO\\Desktop\\code\\aseda\\tries\\dvv.ipynb Cell 88\u001b[0m line \u001b[0;36m2\n\u001b[0;32m     <a href='vscode-notebook-cell:/c%3A/Users/KOFI%20ADUKPO/Desktop/code/aseda/tries/dvv.ipynb#Y153sZmlsZQ%3D%3D?line=24'>25</a>\u001b[0m audio_segment \u001b[39m=\u001b[39m parse_xml_to_audio(xml_file_path)\n\u001b[0;32m     <a href='vscode-notebook-cell:/c%3A/Users/KOFI%20ADUKPO/Desktop/code/aseda/tries/dvv.ipynb#Y153sZmlsZQ%3D%3D?line=26'>27</a>\u001b[0m \u001b[39m# Export the AudioSegment to an MP3 file\u001b[39;00m\n\u001b[1;32m---> <a href='vscode-notebook-cell:/c%3A/Users/KOFI%20ADUKPO/Desktop/code/aseda/tries/dvv.ipynb#Y153sZmlsZQ%3D%3D?line=27'>28</a>\u001b[0m audio_segment\u001b[39m.\u001b[39;49mexport(output_mp3_path, \u001b[39mformat\u001b[39;49m\u001b[39m=\u001b[39;49m\u001b[39m\"\u001b[39;49m\u001b[39mmp3\u001b[39;49m\u001b[39m\"\u001b[39;49m)\n\u001b[0;32m     <a href='vscode-notebook-cell:/c%3A/Users/KOFI%20ADUKPO/Desktop/code/aseda/tries/dvv.ipynb#Y153sZmlsZQ%3D%3D?line=29'>30</a>\u001b[0m \u001b[39mprint\u001b[39m(\u001b[39mf\u001b[39m\u001b[39m\"\u001b[39m\u001b[39mConversion complete. MP3 file saved at: \u001b[39m\u001b[39m{\u001b[39;00moutput_mp3_path\u001b[39m}\u001b[39;00m\u001b[39m\"\u001b[39m)\n",
      "File \u001b[1;32mc:\\Users\\KOFI ADUKPO\\Desktop\\code\\aenv\\lib\\site-packages\\pydub\\audio_segment.py:867\u001b[0m, in \u001b[0;36mAudioSegment.export\u001b[1;34m(self, out_f, format, codec, bitrate, parameters, tags, id3v2_version, cover)\u001b[0m\n\u001b[0;32m    861\u001b[0m \u001b[39mif\u001b[39;00m \u001b[39mformat\u001b[39m \u001b[39m==\u001b[39m \u001b[39m\"\u001b[39m\u001b[39mraw\u001b[39m\u001b[39m\"\u001b[39m \u001b[39mand\u001b[39;00m (codec \u001b[39mis\u001b[39;00m \u001b[39mnot\u001b[39;00m \u001b[39mNone\u001b[39;00m \u001b[39mor\u001b[39;00m parameters \u001b[39mis\u001b[39;00m \u001b[39mnot\u001b[39;00m \u001b[39mNone\u001b[39;00m):\n\u001b[0;32m    862\u001b[0m     \u001b[39mraise\u001b[39;00m \u001b[39mAttributeError\u001b[39;00m(\n\u001b[0;32m    863\u001b[0m             \u001b[39m'\u001b[39m\u001b[39mCan not invoke ffmpeg when export format is \u001b[39m\u001b[39m\"\u001b[39m\u001b[39mraw\u001b[39m\u001b[39m\"\u001b[39m\u001b[39m; \u001b[39m\u001b[39m'\u001b[39m\n\u001b[0;32m    864\u001b[0m             \u001b[39m'\u001b[39m\u001b[39mspecify an ffmpeg raw format like format=\u001b[39m\u001b[39m\"\u001b[39m\u001b[39ms16le\u001b[39m\u001b[39m\"\u001b[39m\u001b[39m instead \u001b[39m\u001b[39m'\u001b[39m\n\u001b[0;32m    865\u001b[0m             \u001b[39m'\u001b[39m\u001b[39mor call export(format=\u001b[39m\u001b[39m\"\u001b[39m\u001b[39mraw\u001b[39m\u001b[39m\"\u001b[39m\u001b[39m) with no codec or parameters\u001b[39m\u001b[39m'\u001b[39m)\n\u001b[1;32m--> 867\u001b[0m out_f, _ \u001b[39m=\u001b[39m _fd_or_path_or_tempfile(out_f, \u001b[39m'\u001b[39;49m\u001b[39mwb+\u001b[39;49m\u001b[39m'\u001b[39;49m)\n\u001b[0;32m    868\u001b[0m out_f\u001b[39m.\u001b[39mseek(\u001b[39m0\u001b[39m)\n\u001b[0;32m    870\u001b[0m \u001b[39mif\u001b[39;00m \u001b[39mformat\u001b[39m \u001b[39m==\u001b[39m \u001b[39m\"\u001b[39m\u001b[39mraw\u001b[39m\u001b[39m\"\u001b[39m:\n",
      "File \u001b[1;32mc:\\Users\\KOFI ADUKPO\\Desktop\\code\\aenv\\lib\\site-packages\\pydub\\utils.py:60\u001b[0m, in \u001b[0;36m_fd_or_path_or_tempfile\u001b[1;34m(fd, mode, tempfile)\u001b[0m\n\u001b[0;32m     57\u001b[0m     close_fd \u001b[39m=\u001b[39m \u001b[39mTrue\u001b[39;00m\n\u001b[0;32m     59\u001b[0m \u001b[39mif\u001b[39;00m \u001b[39misinstance\u001b[39m(fd, basestring):\n\u001b[1;32m---> 60\u001b[0m     fd \u001b[39m=\u001b[39m \u001b[39mopen\u001b[39;49m(fd, mode\u001b[39m=\u001b[39;49mmode)\n\u001b[0;32m     61\u001b[0m     close_fd \u001b[39m=\u001b[39m \u001b[39mTrue\u001b[39;00m\n\u001b[0;32m     63\u001b[0m \u001b[39mtry\u001b[39;00m:\n",
      "\u001b[1;31mPermissionError\u001b[0m: [Errno 13] Permission denied: 'C:\\\\Users\\\\KOFI ADUKPO\\\\Desktop\\\\code\\\\aseda\\\\adom\\\\templates\\\\tunes'"
     ]
    }
   ],
   "source": [
    "import os\n",
    "from pydub import AudioSegment\n",
    "from pydub.generators import Sine\n",
    "\n",
    "# Input and output file paths\n",
    "xml_file_path = r\"C:\\Users\\KOFI ADUKPO\\Desktop\\code\\aseda\\adom\\templates\\tunes\\22.xml\"\n",
    "output_mp3_path = r\"C:\\Users\\KOFI ADUKPO\\Desktop\\code\\aseda\\adom\\templates\\tunes\"\n",
    "\n",
    "# Check if the directory exists, create it if not\n",
    "output_directory = os.path.dirname(output_mp3_path)\n",
    "if not os.path.exists(output_directory):\n",
    "    os.makedirs(output_directory)\n",
    "\n",
    "# Load the XML file (replace this part with your XML parsing logic)\n",
    "# For demonstration purposes, let's assume you have a function `parse_xml_to_audio` that returns an AudioSegment\n",
    "def parse_xml_to_audio(xml_file_path):\n",
    "    # Replace this with your XML parsing logic to extract audio data\n",
    "    # For simplicity, let's create a sine wave as a placeholder\n",
    "    duration_seconds = 10\n",
    "    frequency = 440  # Hz\n",
    "    audio_data = Sine(frequency).to_audio_segment(duration=duration_seconds * 1000)\n",
    "    return audio_data\n",
    "\n",
    "# Parse XML to AudioSegment\n",
    "audio_segment = parse_xml_to_audio(xml_file_path)\n",
    "\n",
    "# Export the AudioSegment to an MP3 file\n",
    "audio_segment.export(output_mp3_path, format=\"mp3\")\n",
    "\n",
    "print(f\"Conversion complete. MP3 file saved at: {output_mp3_path}\")\n"
   ]
  },
  {
   "cell_type": "code",
   "execution_count": 11,
   "metadata": {},
   "outputs": [
    {
     "ename": "FileNotFoundError",
     "evalue": "[WinError 2] The system cannot find the file specified",
     "output_type": "error",
     "traceback": [
      "\u001b[1;31m---------------------------------------------------------------------------\u001b[0m",
      "\u001b[1;31mFileNotFoundError\u001b[0m                         Traceback (most recent call last)",
      "\u001b[1;32mc:\\Users\\KOFI ADUKPO\\Desktop\\code\\aseda\\tries\\dvv.ipynb Cell 89\u001b[0m line \u001b[0;36m1\n\u001b[0;32m     <a href='vscode-notebook-cell:/c%3A/Users/KOFI%20ADUKPO/Desktop/code/aseda/tries/dvv.ipynb#Y154sZmlsZQ%3D%3D?line=15'>16</a>\u001b[0m     os\u001b[39m.\u001b[39mremove(\u001b[39m'\u001b[39m\u001b[39moutput.wav\u001b[39m\u001b[39m'\u001b[39m)\n\u001b[0;32m     <a href='vscode-notebook-cell:/c%3A/Users/KOFI%20ADUKPO/Desktop/code/aseda/tries/dvv.ipynb#Y154sZmlsZQ%3D%3D?line=17'>18</a>\u001b[0m \u001b[39m# Replace 'input.mid' and 'output.mp3' with your MIDI input file and desired MP3 output file\u001b[39;00m\n\u001b[1;32m---> <a href='vscode-notebook-cell:/c%3A/Users/KOFI%20ADUKPO/Desktop/code/aseda/tries/dvv.ipynb#Y154sZmlsZQ%3D%3D?line=18'>19</a>\u001b[0m midi_to_mp3(\u001b[39m'\u001b[39;49m\u001b[39minput.mid\u001b[39;49m\u001b[39m'\u001b[39;49m, \u001b[39m'\u001b[39;49m\u001b[39moutput.mp3\u001b[39;49m\u001b[39m'\u001b[39;49m)\n",
      "\u001b[1;32mc:\\Users\\KOFI ADUKPO\\Desktop\\code\\aseda\\tries\\dvv.ipynb Cell 89\u001b[0m line \u001b[0;36m6\n\u001b[0;32m      <a href='vscode-notebook-cell:/c%3A/Users/KOFI%20ADUKPO/Desktop/code/aseda/tries/dvv.ipynb#Y154sZmlsZQ%3D%3D?line=3'>4</a>\u001b[0m \u001b[39mdef\u001b[39;00m \u001b[39mmidi_to_mp3\u001b[39m(input_midi, output_mp3):\n\u001b[0;32m      <a href='vscode-notebook-cell:/c%3A/Users/KOFI%20ADUKPO/Desktop/code/aseda/tries/dvv.ipynb#Y154sZmlsZQ%3D%3D?line=4'>5</a>\u001b[0m     \u001b[39m# Convert MIDI to WAV using FluidSynth\u001b[39;00m\n\u001b[1;32m----> <a href='vscode-notebook-cell:/c%3A/Users/KOFI%20ADUKPO/Desktop/code/aseda/tries/dvv.ipynb#Y154sZmlsZQ%3D%3D?line=5'>6</a>\u001b[0m     FluidSynth()\u001b[39m.\u001b[39;49mmidi_to_audio(input_midi, \u001b[39m'\u001b[39;49m\u001b[39moutput.wav\u001b[39;49m\u001b[39m'\u001b[39;49m)\n\u001b[0;32m      <a href='vscode-notebook-cell:/c%3A/Users/KOFI%20ADUKPO/Desktop/code/aseda/tries/dvv.ipynb#Y154sZmlsZQ%3D%3D?line=7'>8</a>\u001b[0m     \u001b[39m# Load the WAV file\u001b[39;00m\n\u001b[0;32m      <a href='vscode-notebook-cell:/c%3A/Users/KOFI%20ADUKPO/Desktop/code/aseda/tries/dvv.ipynb#Y154sZmlsZQ%3D%3D?line=8'>9</a>\u001b[0m     audio \u001b[39m=\u001b[39m AudioSegment\u001b[39m.\u001b[39mfrom_wav(\u001b[39m'\u001b[39m\u001b[39moutput.wav\u001b[39m\u001b[39m'\u001b[39m)\n",
      "File \u001b[1;32mc:\\Users\\KOFI ADUKPO\\Desktop\\code\\aenv\\lib\\site-packages\\midi2audio.py:46\u001b[0m, in \u001b[0;36mFluidSynth.midi_to_audio\u001b[1;34m(self, midi_file, audio_file)\u001b[0m\n\u001b[0;32m     45\u001b[0m \u001b[39mdef\u001b[39;00m \u001b[39mmidi_to_audio\u001b[39m(\u001b[39mself\u001b[39m, midi_file, audio_file):\n\u001b[1;32m---> 46\u001b[0m     subprocess\u001b[39m.\u001b[39;49mcall([\u001b[39m'\u001b[39;49m\u001b[39mfluidsynth\u001b[39;49m\u001b[39m'\u001b[39;49m, \u001b[39m'\u001b[39;49m\u001b[39m-ni\u001b[39;49m\u001b[39m'\u001b[39;49m, \u001b[39mself\u001b[39;49m\u001b[39m.\u001b[39;49msound_font, midi_file, \u001b[39m'\u001b[39;49m\u001b[39m-F\u001b[39;49m\u001b[39m'\u001b[39;49m, audio_file, \u001b[39m'\u001b[39;49m\u001b[39m-r\u001b[39;49m\u001b[39m'\u001b[39;49m, \u001b[39mstr\u001b[39;49m(\u001b[39mself\u001b[39;49m\u001b[39m.\u001b[39;49msample_rate)])\n",
      "File \u001b[1;32m~\\AppData\\Local\\Programs\\Python\\Python39\\lib\\subprocess.py:349\u001b[0m, in \u001b[0;36mcall\u001b[1;34m(timeout, *popenargs, **kwargs)\u001b[0m\n\u001b[0;32m    341\u001b[0m \u001b[39mdef\u001b[39;00m \u001b[39mcall\u001b[39m(\u001b[39m*\u001b[39mpopenargs, timeout\u001b[39m=\u001b[39m\u001b[39mNone\u001b[39;00m, \u001b[39m*\u001b[39m\u001b[39m*\u001b[39mkwargs):\n\u001b[0;32m    342\u001b[0m \u001b[39m    \u001b[39m\u001b[39m\"\"\"Run command with arguments.  Wait for command to complete or\u001b[39;00m\n\u001b[0;32m    343\u001b[0m \u001b[39m    timeout, then return the returncode attribute.\u001b[39;00m\n\u001b[0;32m    344\u001b[0m \n\u001b[1;32m   (...)\u001b[0m\n\u001b[0;32m    347\u001b[0m \u001b[39m    retcode = call([\"ls\", \"-l\"])\u001b[39;00m\n\u001b[0;32m    348\u001b[0m \u001b[39m    \"\"\"\u001b[39;00m\n\u001b[1;32m--> 349\u001b[0m     \u001b[39mwith\u001b[39;00m Popen(\u001b[39m*\u001b[39mpopenargs, \u001b[39m*\u001b[39m\u001b[39m*\u001b[39mkwargs) \u001b[39mas\u001b[39;00m p:\n\u001b[0;32m    350\u001b[0m         \u001b[39mtry\u001b[39;00m:\n\u001b[0;32m    351\u001b[0m             \u001b[39mreturn\u001b[39;00m p\u001b[39m.\u001b[39mwait(timeout\u001b[39m=\u001b[39mtimeout)\n",
      "File \u001b[1;32m~\\AppData\\Local\\Programs\\Python\\Python39\\lib\\subprocess.py:951\u001b[0m, in \u001b[0;36mPopen.__init__\u001b[1;34m(self, args, bufsize, executable, stdin, stdout, stderr, preexec_fn, close_fds, shell, cwd, env, universal_newlines, startupinfo, creationflags, restore_signals, start_new_session, pass_fds, user, group, extra_groups, encoding, errors, text, umask)\u001b[0m\n\u001b[0;32m    947\u001b[0m         \u001b[39mif\u001b[39;00m \u001b[39mself\u001b[39m\u001b[39m.\u001b[39mtext_mode:\n\u001b[0;32m    948\u001b[0m             \u001b[39mself\u001b[39m\u001b[39m.\u001b[39mstderr \u001b[39m=\u001b[39m io\u001b[39m.\u001b[39mTextIOWrapper(\u001b[39mself\u001b[39m\u001b[39m.\u001b[39mstderr,\n\u001b[0;32m    949\u001b[0m                     encoding\u001b[39m=\u001b[39mencoding, errors\u001b[39m=\u001b[39merrors)\n\u001b[1;32m--> 951\u001b[0m     \u001b[39mself\u001b[39;49m\u001b[39m.\u001b[39;49m_execute_child(args, executable, preexec_fn, close_fds,\n\u001b[0;32m    952\u001b[0m                         pass_fds, cwd, env,\n\u001b[0;32m    953\u001b[0m                         startupinfo, creationflags, shell,\n\u001b[0;32m    954\u001b[0m                         p2cread, p2cwrite,\n\u001b[0;32m    955\u001b[0m                         c2pread, c2pwrite,\n\u001b[0;32m    956\u001b[0m                         errread, errwrite,\n\u001b[0;32m    957\u001b[0m                         restore_signals,\n\u001b[0;32m    958\u001b[0m                         gid, gids, uid, umask,\n\u001b[0;32m    959\u001b[0m                         start_new_session)\n\u001b[0;32m    960\u001b[0m \u001b[39mexcept\u001b[39;00m:\n\u001b[0;32m    961\u001b[0m     \u001b[39m# Cleanup if the child failed starting.\u001b[39;00m\n\u001b[0;32m    962\u001b[0m     \u001b[39mfor\u001b[39;00m f \u001b[39min\u001b[39;00m \u001b[39mfilter\u001b[39m(\u001b[39mNone\u001b[39;00m, (\u001b[39mself\u001b[39m\u001b[39m.\u001b[39mstdin, \u001b[39mself\u001b[39m\u001b[39m.\u001b[39mstdout, \u001b[39mself\u001b[39m\u001b[39m.\u001b[39mstderr)):\n",
      "File \u001b[1;32m~\\AppData\\Local\\Programs\\Python\\Python39\\lib\\subprocess.py:1420\u001b[0m, in \u001b[0;36mPopen._execute_child\u001b[1;34m(self, args, executable, preexec_fn, close_fds, pass_fds, cwd, env, startupinfo, creationflags, shell, p2cread, p2cwrite, c2pread, c2pwrite, errread, errwrite, unused_restore_signals, unused_gid, unused_gids, unused_uid, unused_umask, unused_start_new_session)\u001b[0m\n\u001b[0;32m   1418\u001b[0m \u001b[39m# Start the process\u001b[39;00m\n\u001b[0;32m   1419\u001b[0m \u001b[39mtry\u001b[39;00m:\n\u001b[1;32m-> 1420\u001b[0m     hp, ht, pid, tid \u001b[39m=\u001b[39m _winapi\u001b[39m.\u001b[39;49mCreateProcess(executable, args,\n\u001b[0;32m   1421\u001b[0m                              \u001b[39m# no special security\u001b[39;49;00m\n\u001b[0;32m   1422\u001b[0m                              \u001b[39mNone\u001b[39;49;00m, \u001b[39mNone\u001b[39;49;00m,\n\u001b[0;32m   1423\u001b[0m                              \u001b[39mint\u001b[39;49m(\u001b[39mnot\u001b[39;49;00m close_fds),\n\u001b[0;32m   1424\u001b[0m                              creationflags,\n\u001b[0;32m   1425\u001b[0m                              env,\n\u001b[0;32m   1426\u001b[0m                              cwd,\n\u001b[0;32m   1427\u001b[0m                              startupinfo)\n\u001b[0;32m   1428\u001b[0m \u001b[39mfinally\u001b[39;00m:\n\u001b[0;32m   1429\u001b[0m     \u001b[39m# Child is launched. Close the parent's copy of those pipe\u001b[39;00m\n\u001b[0;32m   1430\u001b[0m     \u001b[39m# handles that only the child should have open.  You need\u001b[39;00m\n\u001b[1;32m   (...)\u001b[0m\n\u001b[0;32m   1433\u001b[0m     \u001b[39m# pipe will not close when the child process exits and the\u001b[39;00m\n\u001b[0;32m   1434\u001b[0m     \u001b[39m# ReadFile will hang.\u001b[39;00m\n\u001b[0;32m   1435\u001b[0m     \u001b[39mself\u001b[39m\u001b[39m.\u001b[39m_close_pipe_fds(p2cread, p2cwrite,\n\u001b[0;32m   1436\u001b[0m                          c2pread, c2pwrite,\n\u001b[0;32m   1437\u001b[0m                          errread, errwrite)\n",
      "\u001b[1;31mFileNotFoundError\u001b[0m: [WinError 2] The system cannot find the file specified"
     ]
    }
   ],
   "source": [
    "from midi2audio import FluidSynth\n",
    "from pydub import AudioSegment\n",
    "\n",
    "def midi_to_mp3(input_midi, output_mp3):\n",
    "    # Convert MIDI to WAV using FluidSynth\n",
    "    FluidSynth().midi_to_audio(input_midi, 'output.wav')\n",
    "\n",
    "    # Load the WAV file\n",
    "    audio = AudioSegment.from_wav('output.wav')\n",
    "\n",
    "    # Export as MP3\n",
    "    audio.export(output_mp3, format='mp3')\n",
    "\n",
    "    # Clean up temporary WAV file\n",
    "    import os\n",
    "    os.remove('output.wav')\n",
    "\n",
    "# Replace 'input.mid' and 'output.mp3' with your MIDI input file and desired MP3 output file\n",
    "midi_to_mp3('input.mid', 'output.mp3')\n"
   ]
  },
  {
   "cell_type": "code",
   "execution_count": 35,
   "metadata": {},
   "outputs": [
    {
     "name": "stdout",
     "output_type": "stream",
     "text": [
      "['F#4 1.0', 'Ab 1.0', 'A2 1.0', 'Ab3 1.0']\n"
     ]
    }
   ],
   "source": []
  },
  {
   "cell_type": "code",
   "execution_count": 27,
   "metadata": {},
   "outputs": [],
   "source": [
    "chords = [['D4 1.0', 'F#4 1.0', 'D3 1.0', 'A3 1.0'],\n",
    " ['D4 1.0', 'F#4 1.0', 'D3 1.0', 'A3 1.0'],\n",
    " ['D4 1.0', 'F#4 1.0', 'A2 1.0', 'A3 1.0'],\n",
    " ['F#4 1.0', 'A4 1.0', 'A2 1.0', 'A3 1.0'],\n",
    " ['C#4 1.0', 'G4 1.0', 'E3 1.0', 'A3 1.0'],\n",
    " ['C#4 0.5', 'G4 0.5', 'E3 0.5', 'A3 0.5']]\n",
    "main = []"
   ]
  },
  {
   "cell_type": "code",
   "execution_count": 36,
   "metadata": {},
   "outputs": [
    {
     "name": "stdout",
     "output_type": "stream",
     "text": [
      "['D4 1.0', 'F#4 1.0', 'D3 1.0', 'A3 1.0']\n",
      "D\n",
      "1.0\n",
      "4\n",
      "F#\n",
      "1.0\n",
      "4\n",
      "D\n",
      "1.0\n",
      "3\n",
      "A\n",
      "1.0\n",
      "3\n",
      "['D4 1.0', 'F#4 1.0', 'D3 1.0', 'A3 1.0']\n",
      "D\n",
      "1.0\n",
      "4\n",
      "F#\n",
      "1.0\n",
      "4\n",
      "D\n",
      "1.0\n",
      "3\n",
      "A\n",
      "1.0\n",
      "3\n",
      "['D4 1.0', 'F#4 1.0', 'A2 1.0', 'A3 1.0']\n",
      "D\n",
      "1.0\n",
      "4\n",
      "F#\n",
      "1.0\n",
      "4\n",
      "A\n",
      "1.0\n",
      "2\n",
      "A\n",
      "1.0\n",
      "3\n",
      "['F#4 1.0', 'A4 1.0', 'A2 1.0', 'A3 1.0']\n",
      "F#\n",
      "1.0\n",
      "4\n",
      "A\n",
      "1.0\n",
      "4\n",
      "A\n",
      "1.0\n",
      "2\n",
      "A\n",
      "1.0\n",
      "3\n",
      "['C#4 1.0', 'G4 1.0', 'E3 1.0', 'A3 1.0']\n",
      "C#\n",
      "1.0\n",
      "4\n",
      "G\n",
      "1.0\n",
      "4\n",
      "E\n",
      "1.0\n",
      "3\n",
      "A\n",
      "1.0\n",
      "3\n",
      "['C#4 0.5', 'G4 0.5', 'E3 0.5', 'A3 0.5']\n",
      "C#\n",
      "0.5\n",
      "4\n",
      "G\n",
      "0.5\n",
      "4\n",
      "E\n",
      "0.5\n",
      "3\n",
      "A\n",
      "0.5\n",
      "3\n"
     ]
    }
   ],
   "source": [
    "main = []\n",
    "for y in chords:\n",
    "    y = [item.replace('-', 'b') for item in y]\n",
    "    print(y)\n",
    "    p = y\n",
    "    p_annex = []\n",
    "    chord = []\n",
    "    note = []\n",
    "    octave = []\n",
    "    duration = []\n",
    "    for i in p:\n",
    "        first_word = i.split()[0]\n",
    "        last_character = first_word[-1]\n",
    "        octave.append(last_character)\n",
    "        second_word = i.split()[1]\n",
    "        modified_i = first_word.replace(last_character, '')\n",
    "        print(modified_i)\n",
    "        note.append(modified_i)\n",
    "        duration.append(second_word)\n",
    "        print(second_word)\n",
    "        print(last_character)\n",
    "    p_annex.append(note)\n",
    "    p_annex.append(octave)\n",
    "    p_annex.append(duration)\n",
    "    main.append(p_annex)\n"
   ]
  },
  {
   "cell_type": "code",
   "execution_count": 37,
   "metadata": {},
   "outputs": [
    {
     "data": {
      "text/plain": [
       "[[['D', 'F#', 'D', 'A'], ['4', '4', '3', '3'], ['1.0', '1.0', '1.0', '1.0']],\n",
       " [['D', 'F#', 'D', 'A'], ['4', '4', '3', '3'], ['1.0', '1.0', '1.0', '1.0']],\n",
       " [['D', 'F#', 'A', 'A'], ['4', '4', '2', '3'], ['1.0', '1.0', '1.0', '1.0']],\n",
       " [['F#', 'A', 'A', 'A'], ['4', '4', '2', '3'], ['1.0', '1.0', '1.0', '1.0']],\n",
       " [['C#', 'G', 'E', 'A'], ['4', '4', '3', '3'], ['1.0', '1.0', '1.0', '1.0']],\n",
       " [['C#', 'G', 'E', 'A'], ['4', '4', '3', '3'], ['0.5', '0.5', '0.5', '0.5']],\n",
       " [['D', 'F#', 'D', 'A'], ['4', '4', '3', '3'], ['1.0', '1.0', '1.0', '1.0']],\n",
       " [['D', 'F#', 'D', 'A'], ['4', '4', '3', '3'], ['1.0', '1.0', '1.0', '1.0']],\n",
       " [['D', 'F#', 'D', 'A'], ['4', '4', '3', '3'], ['1.0', '1.0', '1.0', '1.0']],\n",
       " [['D', 'F#', 'A', 'A'], ['4', '4', '2', '3'], ['1.0', '1.0', '1.0', '1.0']],\n",
       " [['F#', 'A', 'A', 'A'], ['4', '4', '2', '3'], ['1.0', '1.0', '1.0', '1.0']],\n",
       " [['C#', 'G', 'E', 'A'], ['4', '4', '3', '3'], ['1.0', '1.0', '1.0', '1.0']],\n",
       " [['C#', 'G', 'E', 'A'], ['4', '4', '3', '3'], ['0.5', '0.5', '0.5', '0.5']],\n",
       " [['D', 'F#', 'D', 'A'], ['4', '4', '3', '3'], ['1.0', '1.0', '1.0', '1.0']],\n",
       " [['D', 'F#', 'D', 'A'], ['4', '4', '3', '3'], ['1.0', '1.0', '1.0', '1.0']],\n",
       " [['D', 'F#', 'A', 'A'], ['4', '4', '2', '3'], ['1.0', '1.0', '1.0', '1.0']],\n",
       " [['F#', 'A', 'A', 'A'], ['4', '4', '2', '3'], ['1.0', '1.0', '1.0', '1.0']],\n",
       " [['C#', 'G', 'E', 'A'], ['4', '4', '3', '3'], ['1.0', '1.0', '1.0', '1.0']],\n",
       " [['C#', 'G', 'E', 'A'], ['4', '4', '3', '3'], ['0.5', '0.5', '0.5', '0.5']]]"
      ]
     },
     "execution_count": 37,
     "metadata": {},
     "output_type": "execute_result"
    }
   ],
   "source": [
    "main"
   ]
  },
  {
   "cell_type": "code",
   "execution_count": null,
   "metadata": {},
   "outputs": [],
   "source": []
  }
 ],
 "metadata": {
  "kernelspec": {
   "display_name": "tenv",
   "language": "python",
   "name": "python3"
  },
  "language_info": {
   "codemirror_mode": {
    "name": "ipython",
    "version": 3
   },
   "file_extension": ".py",
   "mimetype": "text/x-python",
   "name": "python",
   "nbconvert_exporter": "python",
   "pygments_lexer": "ipython3",
   "version": "3.9.13"
  },
  "orig_nbformat": 4
 },
 "nbformat": 4,
 "nbformat_minor": 2
}
