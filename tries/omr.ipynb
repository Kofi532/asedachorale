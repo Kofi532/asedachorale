{
 "cells": [
  {
   "cell_type": "code",
   "execution_count": null,
   "metadata": {},
   "outputs": [],
   "source": [
    "# Import pywinauto Application class\n",
    "from pywinauto.application import Application\n",
    "# Start a new process and specify a path to the text file\n",
    "app = Application().start(\"C:\\Program Files (x86)\\PDFtoMusic Pro\\PDFToMusic Pro.exe\", timeout=10)"
   ]
  },
  {
   "cell_type": "code",
   "execution_count": null,
   "metadata": {},
   "outputs": [],
   "source": [
    "main_dlg = app.window(title='PDFtoMusic Pro')\n"
   ]
  },
  {
   "cell_type": "code",
   "execution_count": null,
   "metadata": {},
   "outputs": [],
   "source": [
    "main_dlg.print_control_identifiers()"
   ]
  },
  {
   "cell_type": "code",
   "execution_count": null,
   "metadata": {},
   "outputs": [],
   "source": [
    "child_window = main_dlg.child_window(title=\"PDFToMusic PRO\", class_name=\"AcamMDIChild\")\n"
   ]
  },
  {
   "cell_type": "code",
   "execution_count": null,
   "metadata": {},
   "outputs": [],
   "source": [
    "# Connect to the child window\n",
    "child_window = main_dlg.child_window(title=\"PDFToMusic PRO\", class_name=\"AcamMDIChild\")\n",
    "\n",
    "# Get all child elements in the child window\n",
    "child_elements = child_window.children()\n",
    "\n",
    "# Try to find the last button using a different approach (replace 'Button' with the actual control type of the button)\n",
    "last_button = child_window.child_window(control_type=\"Button\", found_index=-1)\n",
    "\n",
    "# Check if the last button is found\n",
    "if last_button.exists():\n",
    "    last_button.click()\n",
    "else:\n",
    "    print(\"No buttons found in the child window.\")"
   ]
  },
  {
   "cell_type": "code",
   "execution_count": null,
   "metadata": {},
   "outputs": [],
   "source": [
    "import pyautogui"
   ]
  },
  {
   "cell_type": "code",
   "execution_count": null,
   "metadata": {},
   "outputs": [],
   "source": [
    "import autoit\n",
    "import time\n",
    "\n",
    "# Path to the executable of the Windows application\n",
    "app_path = r\"C:\\Program Files (x86)\\PDFtoMusic Pro\\PDFToMusic Pro.exe\"\n",
    "\n",
    "# Use AutoIt to run the application\n",
    "autoit.run(app_path)\n",
    "\n",
    "# Optionally, you can add a delay to allow the application to start\n",
    "time.sleep(5)  # Sleep for 3000 milliseconds (3 seconds)\n",
    "\n",
    "# Perform other automation tasks as needed\n",
    "\n",
    "# Example: Send keys to the application\n",
    "autoit.send(\"Hello, AutoIt!\")\n",
    "\n",
    "# Close the application\n",
    "# autoit.win_close(\"PDFtoMusic Pro\")  # Replace \"WindowTitle\" with the actual title of the application window\n"
   ]
  },
  {
   "cell_type": "code",
   "execution_count": null,
   "metadata": {},
   "outputs": [],
   "source": [
    "# Specify the title of the window and the control (button) you want to click\n",
    "window_title = \"PDFtoMusic Pro\"\n",
    "button_text = \"Try\"\n",
    "\n",
    "# Use AutoIt to activate the window\n",
    "autoit.win_activate(window_title)\n",
    "\n",
    "# Use PyAutoGUI to locate and click on the button\n",
    "button_location = pyautogui.locateOnScreen('button_image.png', region=(0, 0, 1920, 1080), confidence=0.9)\n",
    "if button_location:\n",
    "    pyautogui.click(button_location)\n",
    "else:\n",
    "    print(\"Button not found.\")\n"
   ]
  },
  {
   "cell_type": "code",
   "execution_count": null,
   "metadata": {},
   "outputs": [],
   "source": []
  },
  {
   "cell_type": "code",
   "execution_count": null,
   "metadata": {},
   "outputs": [],
   "source": [
    "import time\n",
    "import subprocess\n",
    "\n",
    "# Path to the executable of the Windows application\n",
    "app_path = r'C:\\Program Files (x86)\\PDFtoMusic Pro\\PDFToMusic Pro.exe'\n",
    "\n",
    "# Start the application\n",
    "process = subprocess.Popen(app_path, shell=True)\n",
    "time.sleep(5)  # Adjust the delay as needed\n",
    "\n",
    "# Start the Inspect tool to inspect the UI elements\n",
    "subprocess.run([\"C:\\\\Program Files (x86)\\\\Windows Kits\\\\10\\\\bin\\\\10.0.19041.0\\\\x64\\\\inspect.exe\"])\n",
    "\n",
    "# Close the application after inspecting the UI\n",
    "process.terminate()\n",
    "process.wait()\n",
    "\n"
   ]
  },
  {
   "cell_type": "code",
   "execution_count": null,
   "metadata": {},
   "outputs": [],
   "source": []
  },
  {
   "cell_type": "code",
   "execution_count": null,
   "metadata": {},
   "outputs": [],
   "source": [
    "import autoit\n",
    "import time\n",
    "\n",
    "# Path to the executable of the Windows application\n",
    "app_path = r'C:\\Program Files (x86)\\ScanScore 3\\ScanScore3.exe'\n",
    "\n",
    "# Use AutoIt to run the application\n",
    "autoit.run(app_path)\n",
    "\n",
    "# Optionally, add a delay to allow the application to start\n",
    "time.sleep(10)  # Adjust the delay as needed\n",
    "\n",
    "# Specify the title of the window\n",
    "window_title = \"Welcome to ScanScore!\"\n",
    "\n",
    "# Use AutoIt to activate the window\n",
    "autoit.win_activate(window_title)\n",
    "\n",
    "\n",
    "\n"
   ]
  },
  {
   "cell_type": "code",
   "execution_count": null,
   "metadata": {},
   "outputs": [],
   "source": [
    "# Specify the title of the window and the text of the button to click\n",
    "# window_title = \"ScanScore\"\n",
    "button_text = \"Start Trial\"  # Replace with the actual text of the button\n",
    "\n",
    "# Use AutoIt to activate the window\n",
    "autoit.win_activate(window_title)\n",
    "\n",
    "# Use AutoIt to click on the button\n",
    "autoit.control_click(window_title, \"\", f\"[TEXT:{button_text}]\")"
   ]
  },
  {
   "cell_type": "code",
   "execution_count": null,
   "metadata": {},
   "outputs": [],
   "source": [
    "app_path = r'C:\\Program Files (x86)\\ScanScore 3\\ScanScore3.exe'\n",
    "\n",
    "# Use AutoIt to run the application\n",
    "autoit.run(app_path)\n",
    "\n",
    "# Optionally, add a delay to allow the application to start\n",
    "time.sleep(10)  # Adjust the delay as needed\n",
    "\n",
    "# Specify the title of the window\n",
    "window_title = \"Welcome to ScanScore!\"\n",
    "\n",
    "# Use AutoIt to activate the window\n",
    "autoit.win_activate(window_title)\n",
    "\n",
    "\n",
    "\n"
   ]
  },
  {
   "cell_type": "code",
   "execution_count": null,
   "metadata": {},
   "outputs": [],
   "source": [
    "# Import pywinauto Application class\n",
    "from pywinauto.application import Application\n",
    "# Start a new process and specify a path to the text file\n",
    "app = Application().start('C:\\Program Files (x86)\\ScanScore 3\\ScanScore3.exe', timeout=10)"
   ]
  },
  {
   "cell_type": "code",
   "execution_count": null,
   "metadata": {},
   "outputs": [],
   "source": [
    "main_dlg = app.window(title='Untitled - Notepad')"
   ]
  },
  {
   "cell_type": "code",
   "execution_count": null,
   "metadata": {},
   "outputs": [],
   "source": [
    "from pywinauto.application import Application\n",
    "import time\n",
    "\n",
    "# Path to the executable of the Windows application\n",
    "app_path = r'C:\\Program Files (x86)\\ScanScore 3\\ScanScore3.exe'\n",
    "\n",
    "# Start the application\n",
    "app = Application(backend=\"uia\").start(app_path)\n",
    "\n",
    "# Allow some time for the application to initialize\n",
    "time.sleep(10)  # Adjust the delay as needed\n",
    "\n",
    "# Specify the title of the window\n",
    "window_title = \"Welcome to ScanScore!\"\n",
    "\n",
    "# Connect to the main window\n",
    "main_window = app.window(title=window_title)\n",
    "\n",
    "# Optionally, wait for the main window to appear (adjust the timeout as needed)\n",
    "main_window.wait('visible', timeout=10)\n",
    "\n",
    "# Click on the button with text \"kogi\"\n",
    "\n",
    "\n",
    "# # Optionally, add a delay after clicking the button\n",
    "# time.sleep(3)  # Sleep for 3 seconds\n",
    "\n",
    "# Perform other automation tasks as needed\n",
    "\n",
    "# Close the application\n",
    "# app.kill()\n",
    "# \"Untitled - ScanScore Trial\""
   ]
  },
  {
   "cell_type": "code",
   "execution_count": null,
   "metadata": {},
   "outputs": [],
   "source": [
    "button_text = \"Start Trial\"\n",
    "main_window.child_window(title=button_text, control_type=\"Button\").click()"
   ]
  },
  {
   "cell_type": "code",
   "execution_count": null,
   "metadata": {},
   "outputs": [],
   "source": [
    "# Specify the title of the window\n",
    "window_title = 'Untitled - ScanScore Trial'\n",
    "\n",
    "# Connect to the main window\n",
    "main_window = app.window(title=window_title)"
   ]
  },
  {
   "cell_type": "code",
   "execution_count": null,
   "metadata": {},
   "outputs": [],
   "source": [
    "main_window.print_control_identifiers()"
   ]
  },
  {
   "cell_type": "code",
   "execution_count": null,
   "metadata": {},
   "outputs": [],
   "source": [
    "try:\n",
    "    # app = Application(backend=\"uia\").connect(title=\"Your Application Title\")\n",
    "    main_window.child_window(title=\"Import Image/PDF file(s)\", control_type=\"Button\").click()\n",
    "except Exception as e:\n",
    "    print(f\"Error: {e}\")"
   ]
  },
  {
   "cell_type": "code",
   "execution_count": null,
   "metadata": {},
   "outputs": [],
   "source": [
    "# # Specify the title of the window\n",
    "# window_title = 'Untitled - ScanScore Trial'\n",
    "\n",
    "# # Connect to the main window\n",
    "# main_window = app.window(title=window_title)"
   ]
  },
  {
   "cell_type": "code",
   "execution_count": null,
   "metadata": {},
   "outputs": [],
   "source": [
    "main_window.print_control_identifiers()"
   ]
  },
  {
   "cell_type": "code",
   "execution_count": null,
   "metadata": {},
   "outputs": [],
   "source": [
    "main_window.child_window(title=\"salient.pdf\", auto_id=\"0\", control_type=\"ListItem\").double_click_input()"
   ]
  },
  {
   "cell_type": "markdown",
   "metadata": {},
   "source": []
  },
  {
   "cell_type": "code",
   "execution_count": null,
   "metadata": {},
   "outputs": [],
   "source": []
  },
  {
   "cell_type": "code",
   "execution_count": null,
   "metadata": {},
   "outputs": [],
   "source": [
    "main_window.print_control_identifiers()"
   ]
  },
  {
   "cell_type": "code",
   "execution_count": null,
   "metadata": {},
   "outputs": [],
   "source": [
    "main_window.child_window(title=\"New Documn\", control_type=\"Button\").click()"
   ]
  },
  {
   "cell_type": "code",
   "execution_count": null,
   "metadata": {},
   "outputs": [],
   "source": [
    "  "
   ]
  },
  {
   "cell_type": "code",
   "execution_count": null,
   "metadata": {},
   "outputs": [],
   "source": []
  },
  {
   "cell_type": "code",
   "execution_count": 7,
   "metadata": {},
   "outputs": [],
   "source": [
    "import os\n",
    "import pyautogui\n",
    "import time\n",
    "import fitz"
   ]
  },
  {
   "cell_type": "code",
   "execution_count": 4,
   "metadata": {},
   "outputs": [],
   "source": [
    "directory_path = r'C:\\Users\\KOFI ADUKPO\\Downloads\\solfa'\n",
    "lists = []\n",
    "# Ensure the path is valid\n",
    "if os.path.exists(directory_path):\n",
    "    # Iterate through the files in the directory\n",
    "    for filename in os.listdir(directory_path):\n",
    "        # Print the file name\n",
    "        # print(filename)\n",
    "        lists.append(filename)\n",
    "else:\n",
    "    print(f\"The directory path '{directory_path}' does not exist.\")\n"
   ]
  },
  {
   "cell_type": "code",
   "execution_count": 5,
   "metadata": {},
   "outputs": [
    {
     "data": {
      "text/plain": [
       "['740.pdf', '741.pdf', '742.pdf', '743.pdf']"
      ]
     },
     "execution_count": 5,
     "metadata": {},
     "output_type": "execute_result"
    }
   ],
   "source": [
    "lists"
   ]
  },
  {
   "cell_type": "code",
   "execution_count": 10,
   "metadata": {},
   "outputs": [
    {
     "name": "stdout",
     "output_type": "stream",
     "text": [
      "Not happy, only one page.\n",
      "Not happy, only one page.\n",
      "Not happy, only one page.\n",
      "Not happy, only one page.\n",
      "Not happy, only one page.\n",
      "Not happy, only one page.\n",
      "Not happy, only one page.\n",
      "Not happy, only one page.\n",
      "Not happy, only one page.\n",
      "Not happy, only one page.\n",
      "Not happy, only one page.\n"
     ]
    }
   ],
   "source": [
    "\n",
    "directory_path = r'C:\\Users\\KOFI ADUKPO\\Downloads\\solfa'\n",
    "\n",
    "\n",
    "\n",
    "\n",
    "# Ensure the path is valid\n",
    "# if os.path.exists(directory_path):\n",
    "for filename in os.listdir(directory_path):\n",
    "\n",
    "    pdf_document = fitz.open(f\"C:\\\\Users\\\\KOFI ADUKPO\\\\Downloads\\\\solfa\\\\{filename}\")\n",
    "    num_pages = pdf_document.page_count\n",
    "    pdf_document.close()\n",
    "\n",
    "    if num_pages > 1:\n",
    "        print(filename)\n",
    "    else:\n",
    "        print('Not happy, only one page.')\n",
    "        time.sleep(5)\n",
    "        # Press Alt + F\n",
    "\n",
    "        \n",
    "        pyautogui.hotkey('alt', 'f')\n",
    "        pyautogui.press('down')\n",
    "        # Press the Enter key\n",
    "        pyautogui.press('enter')\n",
    "        time.sleep(5)\n",
    "\n",
    "        pyautogui.typewrite(filename)\n",
    "        pyautogui.press('enter')\n",
    "        time.sleep(3)\n",
    "        time.sleep(3)\n",
    "        pyautogui.click(925, 120)\n",
    "        time.sleep(1)\n",
    "        pyautogui.press('enter')\n",
    "        time.sleep(1)\n",
    "        pyautogui.press('enter')\n",
    "\n",
    "\n",
    "        time.sleep(1)\n",
    "        pyautogui.press('enter')\n",
    "        time.sleep(3)\n",
    "        pyautogui.click(820, 170)\n"
   ]
  },
  {
   "cell_type": "code",
   "execution_count": null,
   "metadata": {},
   "outputs": [],
   "source": [
    "\n",
    "time.sleep(3)\n",
    "pyautogui.click(925, 120)\n",
    "time.sleep(1)\n",
    "pyautogui.press('enter')\n",
    "time.sleep(1)\n",
    "\n",
    "\n",
    "\n",
    "pyautogui.press('enter')\n",
    "time.sleep(1)\n",
    "pyautogui.press('enter')"
   ]
  },
  {
   "cell_type": "code",
   "execution_count": null,
   "metadata": {},
   "outputs": [],
   "source": [
    "time.sleep(3)\n",
    "pyautogui.click(850, 170)"
   ]
  },
  {
   "cell_type": "code",
   "execution_count": 11,
   "metadata": {},
   "outputs": [
    {
     "name": "stdout",
     "output_type": "stream",
     "text": [
      "List A: ['100.pdf', '101.pdf', '102.pdf', '103.pdf', '104.pdf', '105.pdf', '106.pdf', '107.pdf', '108.pdf', '109.pdf', '110.pdf', '111.pdf', '112.pdf', '113.pdf', '114.pdf', '115.pdf', '116b.pdf', '117.pdf', '118.pdf', '119a.pdf', '119b.pdf', '120.pdf', '121.pdf', '122a.pdf', '122b.pdf', '123.pdf', '124.pdf', '125.pdf', '126.pdf', '127a.pdf', '127b.pdf', '128.pdf', '129.pdf', '12a.pdf', '12b.pdf', '13.pdf', '130.pdf', '131.pdf', '132.pdf', '133a.pdf', '133b.pdf', '134.pdf', '135.pdf', '136.pdf', '137.pdf', '139.pdf', '14.pdf', '140.pdf', '141.pdf', '142.pdf', '143.pdf', '144.pdf', '145.pdf', '146.pdf', '147.pdf', '148.pdf', '149.pdf', '15.pdf', '150.pdf', '151.pdf', '152.pdf', '153.pdf', '154a.pdf', '154b.pdf', '155.pdf', '156.pdf', '157.pdf', '158.pdf', '159.pdf', '16.pdf', '160.pdf', '161.pdf', '162.pdf', '163.pdf', '165.pdf', '166.pdf', '167.pdf', '168.pdf', '169.pdf', '17.pdf', '170.pdf', '171.pdf', '172.pdf', '173.pdf', '174.pdf', '175.pdf', '176.pdf', '177.pdf', '178.pdf', '18.pdf', '180.pdf', '181.pdf', '182.pdf', '183.pdf', '184a.pdf', '184b.pdf', '185.pdf', '186.pdf', '187.pdf', '188.pdf', '189.pdf', '19.pdf', '190.pdf', '191.pdf', '192.pdf', '193.pdf', '194.pdf', '195.pdf', '196.pdf', '197.pdf', '198.pdf', '199.pdf', '1a.pdf', '1b.pdf', '2.pdf', '20.pdf', '200.pdf', '201.pdf', '202.pdf', '203.pdf', '204.pdf', '205.pdf', '206.pdf', '207.pdf', '208.pdf', '209.pdf', '21.pdf', '210.pdf', '211.pdf', '212.pdf', '213.pdf', '214.pdf', '215.pdf', '216.pdf', '217.pdf', '219.pdf', '22.pdf', '220.pdf', '221.pdf', '222.pdf', '223.pdf', '224.pdf', '225.pdf', '226.pdf', '227.pdf', '228.pdf', '229.pdf', '23.pdf', '230.pdf', '231.pdf', '232.pdf', '233.pdf', '234.pdf', '235.pdf', '237.pdf', '238.pdf', '239.pdf', '24.pdf', '240.pdf', '241.pdf', '242.pdf', '243.pdf', '244.pdf', '245a.pdf', '245b.pdf', '246.pdf', '247.pdf', '248.pdf', '249.pdf', '25.pdf', '250.pdf', '251.pdf', '252.pdf', '253a.pdf', '253b.pdf', '254.pdf', '255.pdf', '256.pdf', '257.pdf', '258.pdf', '259.pdf', '26.pdf', '260a.pdf', '260b.pdf', '261.pdf', '262.pdf', '263.pdf', '264.pdf', '266.pdf', '267.pdf', '268.pdf', '269.pdf', '270.pdf', '271.pdf', '272.pdf', '273.pdf', '274.pdf', '275.pdf', '276.pdf', '277.pdf', '278.pdf', '279.pdf', '27b.pdf', '28.pdf', '280.pdf', '281.pdf', '282.pdf', '283.pdf', '284.pdf', '285.pdf', '286.pdf', '287.pdf', '288.pdf', '289.pdf', '29.pdf', '290.pdf', '291.pdf', '292.pdf', '293.pdf', '294.pdf', '295.pdf', '296.pdf', '297.pdf', '298.pdf', '299.pdf', '3.pdf', '30.pdf', '300.pdf', '301.pdf', '302.pdf', '303a.pdf', '303b.pdf', '304.pdf', '305.pdf', '306.pdf', '307.pdf', '308.pdf', '31.pdf', '310.pdf', '311.pdf', '312.pdf', '313.pdf', '315.pdf', '316.pdf', '317.pdf', '318a.pdf', '318b.pdf', '319.pdf', '32.pdf', '320.pdf', '321a.pdf', '321b.pdf', '322.pdf', '323.pdf', '324.pdf', '325.pdf', '326.pdf', '327.pdf', '328.pdf', '329.pdf', '33.pdf', '330.pdf', '331.pdf', '332.pdf', '333.pdf', '334a.pdf', '334b.pdf', '335.pdf', '336.pdf', '337.pdf', '338.pdf', '339.pdf', '34.pdf', '340.pdf', '341.pdf', '342.pdf', '343.pdf', '344.pdf', '345.pdf', '346.pdf', '347.pdf', '348.pdf', '349.pdf', '35.pdf', '350.pdf', '351.pdf', '352.pdf', '353b.pdf', '354.pdf', '355.pdf', '356.pdf', '357.pdf', '358.pdf', '359.pdf', '36.pdf', '360.pdf', '361.pdf', '362.pdf', '363.pdf', '364.pdf', '365.pdf', '366.pdf', '367.pdf', '368.pdf', '369.pdf', '37.pdf', '370.pdf', '371a.pdf', '371b.pdf', '372.pdf', '373a.pdf', '373b.pdf', '375a.pdf', '376.pdf', '377.pdf', '378.pdf', '379.pdf', '38.pdf', '380.pdf', '381.pdf', '382.pdf', '383.pdf', '384.pdf', '385.pdf', '386.pdf', '387.pdf', '388.pdf', '389.pdf', '39.pdf', '390.pdf', '391.pdf', '392a.pdf', '393.pdf', '394a.pdf', '394b.pdf', '395.pdf', '396.pdf', '397.pdf', '398.pdf', '399.pdf', '4.pdf', '40.pdf', '400.pdf', '401.pdf', '402.pdf', '403.pdf', '404.pdf', '405.pdf', '406.pdf', '407.pdf', '408.pdf', '409.pdf', '41.pdf', '410a.pdf', '410b.pdf', '411a.pdf', '411b.pdf', '412a.pdf', '412b.pdf', '413.pdf', '414.pdf', '415.pdf', '416.pdf', '417.pdf', '418.pdf', '419.pdf', '42.pdf', '420.pdf', '421.pdf', '422.pdf', '423.pdf', '424.pdf', '425.pdf', '426.pdf', '427.pdf', '428.pdf', '429a.pdf', '429b.pdf', '43.pdf', '430.pdf', '431a.pdf', '431b.pdf', '432.pdf', '433.pdf', '434.pdf', '435.pdf', '436.pdf', '437.pdf', '438.pdf', '439.pdf', '440.pdf', '441.pdf', '442.pdf', '443.pdf', '444.pdf', '445.pdf', '446.pdf', '447.pdf', '448.pdf', '449.pdf', '45.pdf', '450.pdf', '451.pdf', '452.pdf', '453.pdf', '454.pdf', '455.pdf', '456.pdf', '457.pdf', '458.pdf', '46.pdf', '464.pdf', '465.pdf', '466.pdf', '467.pdf', '468a.pdf', '468b.pdf', '469.pdf', '470.pdf', '471.pdf', '472.pdf', '473.pdf', '474.pdf', '476.pdf', '478.pdf', '479.pdf', '48.pdf', '480.pdf', '481.pdf', '482.pdf', '484.pdf', '486.pdf', '487.pdf', '488.pdf', '489.pdf', '49.pdf', '490.pdf', '491.pdf', '492.pdf', '495.pdf', '496.pdf', '497.pdf', '499.pdf', '50.pdf', '500.pdf', '501a.pdf', '501b.pdf', '502.pdf', '503.pdf', '505.pdf', '506.pdf', '507a.pdf', '507b.pdf', '508.pdf', '509.pdf', '51.pdf', '510.pdf', '511.pdf', '512.pdf', '513.pdf', '514a.pdf', '514b.pdf', '515.pdf', '519.pdf', '52.pdf', '520.pdf', '521a.pdf', '521b.pdf', '522.pdf', '523.pdf', '524.pdf', '525.pdf', '526a.pdf', '526b.pdf', '527.pdf', '528.pdf', '529.pdf', '530.pdf', '531.pdf', '532.pdf', '533.pdf', '534.pdf', '535.pdf', '536a.pdf', '536b.pdf', '537.pdf', '539.pdf', '53a.pdf', '53b.pdf', '54.pdf', '540.pdf', '541.pdf', '542.pdf', '543.pdf', '544a.pdf', '544b.pdf', '545.pdf', '547.pdf', '548.pdf', '55.pdf', '550.pdf', '551.pdf', '552.pdf', '553.pdf', '554.pdf', '555.pdf', '556.pdf', '557.pdf', '558.pdf', '559.pdf', '56.pdf', '560.pdf', '561.pdf', '562.pdf', '563.pdf', '565.pdf', '566.pdf', '567.pdf', '568.pdf', '569.pdf', '57.pdf', '570.pdf', '571.pdf', '572.pdf', '573.pdf', '575.pdf', '576.pdf', '577.pdf', '578.pdf', '58.pdf', '580.pdf', '581.pdf', '582.pdf', '583.pdf', '584.pdf', '585.pdf', '586.pdf', '588.pdf', '589.pdf', '59.pdf', '590.pdf', '591.pdf', '592.pdf', '593.pdf', '594.pdf', '595.pdf', '596.pdf', '597.pdf', '598.pdf', '599.pdf', '5a.pdf', '6.pdf', '60.pdf', '600.pdf', '601.pdf', '602a.pdf', '603.pdf', '604a.pdf', '605.pdf', '606.pdf', '608.pdf', '609.pdf', '61.pdf', '610.pdf', '612.pdf', '613.pdf', '614.pdf', '615b.pdf', '616a.pdf', '617.pdf', '619.pdf', '62.pdf', '620.pdf', '621.pdf', '622.pdf', '623.pdf', '624.pdf', '625.pdf', '626.pdf', '627.pdf', '628.pdf', '629.pdf', '63.pdf', '630.pdf', '631.pdf', '632.pdf', '633.pdf', '634.pdf', '635.pdf', '636.pdf', '638.pdf', '64.pdf', '641.pdf', '642.pdf', '643.pdf', '644.pdf', '645.pdf', '646.pdf', '647.pdf', '648.pdf', '649.pdf', '65.pdf', '650.pdf', '651a.pdf', '651b.pdf', '652a.pdf', '652b.pdf', '653.pdf', '654.pdf', '655a.pdf', '655b.pdf', '656.pdf', '657.pdf', '658.pdf', '66.pdf', '660.pdf', '661.pdf', '662.pdf', '663.pdf', '664.pdf', '665.pdf', '666.pdf', '667a.pdf', '668a.pdf', '668b.pdf', '669.pdf', '67.pdf', '670.pdf', '671.pdf', '672.pdf', '673.pdf', '674.pdf', '675.pdf', '676.pdf', '677.pdf', '678.pdf', '679.pdf', '68.pdf', '680.pdf', '682a.pdf', '682b.pdf', '683.pdf', '684.pdf', '685.pdf', '686a.pdf', '686b.pdf', '687.pdf', '688.pdf', '689.pdf', '69.pdf', '690.pdf', '691b.pdf', '692.pdf', '693.pdf', '694.pdf', '695.pdf', '696a.pdf', '696b.pdf', '697.pdf', '698.pdf', '699.pdf', '7.pdf', '70.pdf', '700.pdf', '703b.pdf', '705.pdf', '706.pdf', '707.pdf', '708.pdf', '709.pdf', '71.pdf', '710.pdf', '711.pdf', '712.pdf', '713.pdf', '714.pdf', '715.pdf', '716.pdf', '718.pdf', '719.pdf', '72.pdf', '720.pdf', '721.pdf', '722.pdf', '723.pdf', '724.pdf', '725.pdf', '727.pdf', '728.pdf', '729.pdf', '73.pdf', '730.pdf', '731.pdf', '732.pdf', '733.pdf', '734.pdf', '735.pdf', '736.pdf', '737.pdf', '738.pdf', '739.pdf', '74.pdf', '740.pdf', '741.pdf', '742.pdf', '743.pdf', '744.pdf', '745.pdf', '747.pdf', '748.pdf', '749.pdf', '75.pdf', '750.pdf', '751.pdf', '752.pdf', '753.pdf', '754.pdf', '755.pdf', '756.pdf', '757.pdf', '758.pdf', '759.pdf', '760.pdf', '761.pdf', '762.pdf', '763.pdf', '764.pdf', '765.pdf', '767.pdf', '76a.pdf', '76b.pdf', '77.pdf', '770.pdf', '771.pdf', '772.pdf', '773a.pdf', '773b.pdf', '774.pdf', '775.pdf', '776.pdf', '778.pdf', '779.pdf', '78.pdf', '780a.pdf', '780b.pdf', '781.pdf', '782.pdf', '783.pdf', '784.pdf', '785.pdf', '786.pdf', '787.pdf', '788.pdf', '789.pdf', '79.pdf', '791.pdf', '792.pdf', '793.pdf', '794.pdf', '795.pdf', '796.pdf', '797.pdf', '798.pdf', '799.pdf', '8.pdf', '80.pdf', '800.pdf', '801.pdf', '802.pdf', '803.pdf', '804.pdf', '805a.pdf', '805b.pdf', '806.pdf', '807a.pdf', '807b.pdf', '808.pdf', '809.pdf', '81.pdf', '810.pdf', '811.pdf', '812b.pdf', '814.pdf', '815.pdf', '816.pdf', '817.pdf', '818.pdf', '82.pdf', '820.pdf', '823.pdf', '825.pdf', '826.pdf', '827.pdf', '828.pdf', '829.pdf', '83.pdf', '830.pdf', '831.pdf', '832b.pdf', '833.pdf', '834.pdf', '836.pdf', '837.pdf', '839.pdf', '84.pdf', '840.pdf', '841a.pdf', '841b.pdf', '842a.pdf', '842b.pdf', '843.pdf', '844.pdf', '845.pdf', '846.pdf', '847.pdf', '848.pdf', '849.pdf', '85.pdf', '850.pdf', '851a.pdf', '851b.pdf', '852.pdf', '853.pdf', '854.pdf', '855.pdf', '857.pdf', '858.pdf', '859.pdf', '86.pdf', '861.pdf', '862.pdf', '863.pdf', '864.pdf', '865.pdf', '866.pdf', '867.pdf', '868.pdf', '869.pdf', '870a.pdf', '870b.pdf', '871.pdf', '872.pdf', '873.pdf', '875.pdf', '876.pdf', '877.pdf', '878.pdf', '879.pdf', '87a.pdf', '87b.pdf', '880.pdf', '881.pdf', '882.pdf', '883.pdf', '884.pdf', '886.pdf', '887.pdf', '888.pdf', '889.pdf', '89.pdf', '892.pdf', '893.pdf', '894.pdf', '895.pdf', '896.pdf', '897.pdf', '898.pdf', '90.pdf', '900.pdf', '901.pdf', '902.pdf', '903.pdf', '904.pdf', '905.pdf', '906.pdf', '907.pdf', '908.pdf', '909.pdf', '910.pdf', '911.pdf', '912.pdf', '913.pdf', '914.pdf', '916.pdf', '917.pdf', '918.pdf', '919.pdf', '92.pdf', '920.pdf', '921.pdf', '922.pdf', '923.pdf', '924.pdf', '925.pdf', '926.pdf', '927.pdf', '928.pdf', '929.pdf', '93.pdf', '930.pdf', '931.pdf', '932a.pdf', '932b.pdf', '933.pdf', '934.pdf', '935.pdf', '936.pdf', '938.pdf', '939.pdf', '94.pdf', '940.pdf', '941.pdf', '942a.pdf', '942b.pdf', '943.pdf', '944.pdf', '945.pdf', '946.pdf', '947.pdf', '948.pdf', '949.pdf', '95.pdf', '950.pdf', '951a.pdf', '951b.pdf', '952.pdf', '953.pdf', '954a.pdf', '954b.pdf', '955.pdf', '96.pdf', '97.pdf', '99.pdf', '9a.pdf', '9b.pdf']\n",
      "List B: ['100.pdf', '101.pdf', '102.pdf', '103.pdf', '104.pdf', '105.pdf', '106.pdf', '107.pdf', '108.pdf', '109.pdf', '110.pdf', '111.pdf', '112.pdf', '113.pdf', '114.pdf', '115.pdf', '116b.pdf', '117.pdf', '118.pdf', '119a.pdf', '119b.pdf', '120.pdf', '121.pdf', '122a.pdf', '122b.pdf', '123.pdf', '124.pdf', '125.pdf', '126.pdf', '127a.pdf', '127b.pdf', '128.pdf', '129.pdf', '12a.pdf', '12b.pdf', '13.pdf', '130.pdf', '131.pdf', '132.pdf', '133a.pdf', '133b.pdf', '134.pdf', '135.pdf', '136.pdf', '137.pdf', '139.pdf', '14.pdf', '141.pdf', '142.pdf', '143.pdf', '144.pdf', '145.pdf', '146.pdf', '147.pdf', '148.pdf', '149.pdf', '15.pdf', '150.pdf', '151.pdf', '153.pdf', '154b.pdf', '155.pdf', '156.pdf', '157.pdf', '158.pdf', '159.pdf', '16.pdf', '160.pdf', '162.pdf', '163.pdf', '166.pdf', '167.pdf', '168.pdf', '169.pdf', '17.pdf', '170.pdf', '172.pdf', '173.pdf', '174.pdf', '175.pdf', '176.pdf', '177.pdf', '178.pdf', '18.pdf', '180.pdf', '181.pdf', '182.pdf', '183.pdf', '184a.pdf', '184b.pdf', '185.pdf', '186.pdf', '187.pdf', '188.pdf', '189.pdf', '19.pdf', '190.pdf', '191.pdf', '192.pdf', '193.pdf', '194.pdf', '195.pdf', '196.pdf', '197.pdf', '198.pdf', '199.pdf', '1a.pdf', '1b.pdf', '2.pdf', '20.pdf', '200.pdf', '201.pdf', '203.pdf', '205.pdf', '206.pdf', '207.pdf', '208.pdf', '209.pdf', '21.pdf', '212.pdf', '213.pdf', '214.pdf', '215.pdf', '216.pdf', '217.pdf', '219.pdf', '22.pdf', '220.pdf', '221.pdf', '222.pdf', '224.pdf', '225.pdf', '226.pdf', '227.pdf', '228.pdf', '229.pdf', '23.pdf', '230.pdf', '231.pdf', '232.pdf', '233.pdf', '234.pdf', '235.pdf', '237.pdf', '238.pdf', '239.pdf', '24.pdf', '240.pdf', '241.pdf', '242.pdf', '243.pdf', '244.pdf', '245a.pdf', '245b.pdf', '246.pdf', '247.pdf', '248.pdf', '249.pdf', '25.pdf', '250.pdf', '251.pdf', '252.pdf', '253a.pdf', '253b.pdf', '254.pdf', '256.pdf', '257.pdf', '258.pdf', '259.pdf', '26.pdf', '260a.pdf', '260b.pdf', '261.pdf', '262.pdf', '263.pdf', '266.pdf', '267.pdf', '268.pdf', '269.pdf', '270.pdf', '271.pdf', '272.pdf', '273.pdf', '274.pdf', '275.pdf', '276.pdf', '277.pdf', '278.pdf', '279.pdf', '27b.pdf', '28.pdf', '280.pdf', '281.pdf', '282.pdf', '283.pdf', '284.pdf', '285.pdf', '286.pdf', '287.pdf', '288.pdf', '289.pdf', '29.pdf', '290.pdf', '291.pdf', '292.pdf', '294.pdf', '295.pdf', '296.pdf', '297.pdf', '298.pdf', '299.pdf', '3.pdf', '30.pdf', '300.pdf', '301.pdf', '302.pdf', '303a.pdf', '303b.pdf', '304.pdf', '305.pdf', '306.pdf', '307.pdf', '308.pdf', '31.pdf', '310.pdf', '311.pdf', '312.pdf', '315.pdf', '316.pdf', '318a.pdf', '318b.pdf', '319.pdf', '32.pdf', '320.pdf', '321b.pdf', '323.pdf', '324.pdf', '325.pdf', '326.pdf', '328.pdf', '329.pdf', '33.pdf', '330.pdf', '331.pdf', '332.pdf', '333.pdf', '334a.pdf', '334b.pdf', '335.pdf', '337.pdf', '338.pdf', '339.pdf', '34.pdf', '340.pdf', '341.pdf', '342.pdf', '343.pdf', '344.pdf', '345.pdf', '346.pdf', '347.pdf', '348.pdf', '349.pdf', '35.pdf', '350.pdf', '367.pdf', '368.pdf', '369.pdf', '37.pdf', '370.pdf', '371b.pdf', '372.pdf', '373a.pdf', '373b.pdf', '376.pdf', '377.pdf', '378.pdf', '379.pdf', '38.pdf', '380.pdf', '381.pdf', '382.pdf', '383.pdf', '384.pdf', '385.pdf', '386.pdf', '387.pdf', '388.pdf', '389.pdf', '39.pdf', '390.pdf', '391.pdf', '393.pdf', '394a.pdf', '394b.pdf', '395.pdf', '396.pdf', '397.pdf', '398.pdf', '399.pdf', '4.pdf', '40.pdf', '400.pdf', '401.pdf', '402.pdf', '403.pdf', '404.pdf', '405.pdf', '406.pdf', '407.pdf', '408.pdf', '409.pdf', '41.pdf', '410a.pdf', '410b.pdf', '411a.pdf', '411b.pdf', '412a.pdf', '412b.pdf', '413.pdf', '414.pdf', '416.pdf', '417.pdf', '418.pdf', '419.pdf', '42.pdf', '420.pdf', '421.pdf', '422.pdf', '423.pdf', '424.pdf', '425.pdf', '426.pdf', '427.pdf', '428.pdf', '429a.pdf', '429b.pdf', '43.pdf', '430.pdf', '431b.pdf', '432.pdf', '433.pdf', '435.pdf', '436.pdf', '437.pdf', '438.pdf', '439.pdf', '440.pdf', '441.pdf', '442.pdf', '443.pdf', '444.pdf', '445.pdf', '446.pdf', '447.pdf', '448.pdf', '449.pdf', '45.pdf', '450.pdf', '451.pdf', '452.pdf', '453.pdf', '454.pdf', '455.pdf', '456.pdf', '457.pdf', '458.pdf', '46.pdf', '464.pdf', '465.pdf', '466.pdf', '467.pdf', '468b.pdf', '469.pdf', '470.pdf', '471.pdf', '472.pdf', '473.pdf', '474.pdf', '476.pdf', '478.pdf', '479.pdf', '48.pdf', '480.pdf', '481.pdf', '482.pdf', '484.pdf', '486.pdf', '487.pdf', '488.pdf', '489.pdf', '49.pdf', '490.pdf', '491.pdf', '492.pdf', '495.pdf', '496.pdf', '497.pdf', '50.pdf', '501a.pdf', '501b.pdf', '502.pdf', '503.pdf', '505.pdf', '506.pdf', '507a.pdf', '507b.pdf', '508.pdf', '509.pdf', '51.pdf', '510.pdf', '511.pdf', '512.pdf', '513.pdf', '514a.pdf', '514b.pdf', '515.pdf', '519.pdf', '52.pdf', '520.pdf', '521a.pdf', '521b.pdf', '522.pdf', '523.pdf', '524.pdf', '525.pdf', '526b.pdf', '527.pdf', '528.pdf', '529.pdf', '530.pdf', '531.pdf', '532.pdf', '533.pdf', '534.pdf', '535.pdf', '536a.pdf', '536b.pdf', '537.pdf', '539.pdf', '53a.pdf', '540.pdf', '541.pdf', '542.pdf', '543.pdf', '544a.pdf', '544b.pdf', '545.pdf', '547.pdf', '548.pdf', '550.pdf', '551.pdf', '552.pdf', '553.pdf', '554.pdf', '555.pdf', '556.pdf', '557.pdf', '558.pdf', '559.pdf', '560.pdf', '561.pdf', '562.pdf', '563.pdf', '565.pdf', '566.pdf', '567.pdf', '568.pdf', '569.pdf', '57.pdf', '570.pdf', '572.pdf', '573.pdf', '575.pdf', '576.pdf', '577.pdf', '578.pdf', '58.pdf', '580.pdf', '581.pdf', '582.pdf', '583.pdf', '584.pdf', '585.pdf', '586.pdf', '588.pdf', '589.pdf', '59.pdf', '590.pdf', '591.pdf', '592.pdf', '593.pdf', '594.pdf', '595.pdf', '596.pdf', '597.pdf', '598.pdf', '599.pdf', '5a.pdf', '6.pdf', '60.pdf', '600.pdf', '601.pdf', '602a.pdf', '603.pdf', '604a.pdf', '605.pdf', '606.pdf', '608.pdf', '609.pdf', '61.pdf', '610.pdf', '612.pdf', '613.pdf', '614.pdf', '615b.pdf', '616a.pdf', '617.pdf', '619.pdf', '62.pdf', '620.pdf', '621.pdf', '622.pdf', '623.pdf', '624.pdf', '625.pdf', '626.pdf', '627.pdf', '628.pdf', '629.pdf', '63.pdf', '630.pdf', '631.pdf', '632.pdf', '633.pdf', '634.pdf', '635.pdf', '636.pdf', '638.pdf', '64.pdf', '641.pdf', '643.pdf', '644.pdf', '645.pdf', '646.pdf', '647.pdf', '648.pdf', '649.pdf', '65.pdf', '650.pdf', '651a.pdf', '651b.pdf', '652a.pdf', '652b.pdf', '655b.pdf', '656.pdf', '657.pdf', '658.pdf', '66.pdf', '660.pdf', '661.pdf', '662.pdf', '663.pdf', '664.pdf', '665.pdf', '666.pdf', '667a.pdf', '668a.pdf', '668b.pdf', '669.pdf', '67.pdf', '670.pdf', '671.pdf', '672.pdf', '673.pdf', '674.pdf', '675.pdf', '676.pdf', '677.pdf', '678.pdf', '679.pdf', '68.pdf', '680.pdf', '682a.pdf', '682b.pdf', '684.pdf', '685.pdf', '686b.pdf', '687.pdf', '688.pdf', '689.pdf', '69.pdf', '690.pdf', '691b.pdf', '692.pdf', '693.pdf', '694.pdf', '695.pdf', '696a.pdf', '696b.pdf', '697.pdf', '698.pdf', '699.pdf', '700.pdf', '703b.pdf', '705.pdf', '706.pdf', '707.pdf', '708.pdf', '709.pdf', '71.pdf', '710.pdf', '711.pdf', '712.pdf', '713.pdf', '714.pdf', '715.pdf', '716.pdf', '718.pdf', '719.pdf', '72.pdf', '720.pdf', '721.pdf', '722.pdf', '724.pdf', '725.pdf', '727.pdf', '728.pdf', '729.pdf', '73.pdf', '730.pdf', '731.pdf', '732.pdf', '733.pdf', '734.pdf', '735.pdf', '736.pdf', '737.pdf', '738.pdf', '739.pdf', '74.pdf', '740.pdf', '741.pdf', '742.pdf', '743.pdf', '744.pdf', '745.pdf', '747.pdf', '748.pdf', '749.pdf', '75.pdf', '750.pdf', '751.pdf', '752.pdf', '753.pdf', '754.pdf', '755.pdf', '756.pdf', '757.pdf', '758.pdf', '759.pdf', '760.pdf', '761.pdf', '762.pdf', '763.pdf', '764.pdf', '765.pdf', '767.pdf', '76a.pdf', '76b.pdf', '77.pdf', '770.pdf', '771.pdf', '772.pdf', '773a.pdf', '773b.pdf', '774.pdf', '776.pdf', '778.pdf', '779.pdf', '78.pdf', '780a.pdf', '780b.pdf', '781.pdf', '782.pdf', '783.pdf', '784.pdf', '785.pdf', '786.pdf', '787.pdf', '788.pdf', '789.pdf', '79.pdf', '791.pdf', '792.pdf', '793.pdf', '794.pdf', '795.pdf', '797.pdf', '798.pdf', '799.pdf', '8.pdf', '80.pdf', '800.pdf', '801.pdf', '802.pdf', '803.pdf', '804.pdf', '805a.pdf', '805b.pdf', '806.pdf', '807a.pdf', '807b.pdf', '808.pdf', '81.pdf', '810.pdf', '814.pdf', '815.pdf', '816.pdf', '817.pdf', '818.pdf', '82.pdf', '820.pdf', '823.pdf', '825.pdf', '826.pdf', '827.pdf', '828.pdf', '829.pdf', '83.pdf', '831.pdf', '832b.pdf', '833.pdf', '834.pdf', '836.pdf', '839.pdf', '84.pdf', '840.pdf', '841a.pdf', '841b.pdf', '842a.pdf', '842b.pdf', '843.pdf', '844.pdf', '845.pdf', '846.pdf', '847.pdf', '848.pdf', '849.pdf', '85.pdf', '850.pdf', '851a.pdf', '852.pdf', '853.pdf', '854.pdf', '855.pdf', '857.pdf', '859.pdf', '86.pdf', '861.pdf', '862.pdf', '863.pdf', '864.pdf', '865.pdf', '866.pdf', '867.pdf', '868.pdf', '869.pdf', '870a.pdf', '870b.pdf', '871.pdf', '872.pdf', '873.pdf', '875.pdf', '876.pdf', '877.pdf', '878.pdf', '87a.pdf', '87b.pdf', '880.pdf', '881.pdf', '882.pdf', '884.pdf', '886.pdf', '887.pdf', '888.pdf', '889.pdf', '89.pdf', '892.pdf', '893.pdf', '894.pdf', '895.pdf', '896.pdf', '897.pdf', '898.pdf', '90.pdf', '900.pdf', '901.pdf', '902.pdf', '903.pdf', '904.pdf', '905.pdf', '906.pdf', '907.pdf', '908.pdf', '909.pdf', '910.pdf', '911.pdf', '912.pdf', '913.pdf', '917.pdf', '918.pdf', '919.pdf', '92.pdf', '920.pdf', '921.pdf', '922.pdf', '923.pdf', '924.pdf', '925.pdf', '926.pdf', '927.pdf', '928.pdf', '929.pdf', '93.pdf', '930.pdf', '931.pdf', '932a.pdf', '932b.pdf', '933.pdf', '934.pdf', '935.pdf', '936.pdf', '938.pdf', '939.pdf', '94.pdf', '940.pdf', '941.pdf', '942b.pdf', '943.pdf', '944.pdf', '945.pdf', '946.pdf', '947.pdf', '948.pdf', '949.pdf', '95.pdf', '950.pdf', '951a.pdf', '951b.pdf', '952.pdf', '953.pdf', '954a.pdf', '954b.pdf', '955.pdf', '96.pdf']\n",
      "List C: ['140.pdf', '152.pdf', '154a.pdf', '161.pdf', '165.pdf', '171.pdf', '202.pdf', '204.pdf', '210.pdf', '211.pdf', '223.pdf', '255.pdf', '264.pdf', '293.pdf', '313.pdf', '317.pdf', '321a.pdf', '322.pdf', '327.pdf', '336.pdf', '351.pdf', '352.pdf', '353b.pdf', '354.pdf', '355.pdf', '356.pdf', '357.pdf', '358.pdf', '359.pdf', '36.pdf', '360.pdf', '361.pdf', '362.pdf', '363.pdf', '364.pdf', '365.pdf', '366.pdf', '371a.pdf', '375a.pdf', '392a.pdf', '415.pdf', '431a.pdf', '434.pdf', '468a.pdf', '499.pdf', '500.pdf', '526a.pdf', '53b.pdf', '54.pdf', '55.pdf', '56.pdf', '571.pdf', '642.pdf', '653.pdf', '654.pdf', '655a.pdf', '683.pdf', '686a.pdf', '7.pdf', '70.pdf', '723.pdf', '775.pdf', '796.pdf', '809.pdf', '811.pdf', '812b.pdf', '830.pdf', '837.pdf', '851b.pdf', '858.pdf', '879.pdf', '883.pdf', '914.pdf', '916.pdf', '942a.pdf', '97.pdf', '99.pdf', '9a.pdf', '9b.pdf']\n"
     ]
    }
   ],
   "source": [
    "import os\n",
    "\n",
    "# Directory paths\n",
    "annex_solfa_dir = r'C:\\Users\\KOFI ADUKPO\\Downloads\\annex_solfa'\n",
    "tunes_dir = r'C:\\Users\\KOFI ADUKPO\\Downloads\\tunes'\n",
    "\n",
    "# Lists to store file names\n",
    "A = []\n",
    "B = []\n",
    "C = []\n",
    "\n",
    "# Populate list A with files from annex_solfa directory\n",
    "A = os.listdir(annex_solfa_dir)\n",
    "\n",
    "# Populate list B with files from tunes directory and replace '.xml' with '.pdf'\n",
    "for file_name in os.listdir(tunes_dir):\n",
    "    B.append(file_name.replace('.xml', '.pdf'))\n",
    "\n",
    "# Identify items in A but not in B and save to list C\n",
    "C = [item for item in A if item not in B]\n",
    "\n",
    "# Print or use the lists as needed\n",
    "print(\"List A:\", A)\n",
    "print(\"List B:\", B)\n",
    "print(\"List C:\", C)\n"
   ]
  },
  {
   "cell_type": "code",
   "execution_count": 12,
   "metadata": {},
   "outputs": [
    {
     "name": "stdout",
     "output_type": "stream",
     "text": [
      "Moved: 140.pdf\n",
      "Moved: 152.pdf\n",
      "Moved: 154a.pdf\n",
      "Moved: 161.pdf\n",
      "Moved: 165.pdf\n",
      "Moved: 171.pdf\n",
      "Moved: 202.pdf\n",
      "Moved: 204.pdf\n",
      "Moved: 210.pdf\n",
      "Moved: 211.pdf\n",
      "Moved: 223.pdf\n",
      "Moved: 255.pdf\n",
      "Moved: 264.pdf\n",
      "Moved: 293.pdf\n",
      "Moved: 313.pdf\n",
      "Moved: 317.pdf\n",
      "Moved: 321a.pdf\n",
      "Moved: 322.pdf\n",
      "Moved: 327.pdf\n",
      "Moved: 336.pdf\n",
      "Moved: 351.pdf\n",
      "Moved: 352.pdf\n",
      "Moved: 353b.pdf\n",
      "Moved: 354.pdf\n",
      "Moved: 355.pdf\n",
      "Moved: 356.pdf\n",
      "Moved: 357.pdf\n",
      "Moved: 358.pdf\n",
      "Moved: 359.pdf\n",
      "Moved: 36.pdf\n",
      "Moved: 360.pdf\n",
      "Moved: 361.pdf\n",
      "Moved: 362.pdf\n",
      "Moved: 363.pdf\n",
      "Moved: 364.pdf\n",
      "Moved: 365.pdf\n",
      "Moved: 366.pdf\n",
      "Moved: 371a.pdf\n",
      "Moved: 375a.pdf\n",
      "Moved: 392a.pdf\n",
      "Moved: 415.pdf\n",
      "Moved: 431a.pdf\n",
      "Moved: 434.pdf\n",
      "Moved: 468a.pdf\n",
      "Moved: 499.pdf\n",
      "Moved: 500.pdf\n",
      "Moved: 526a.pdf\n",
      "Moved: 53b.pdf\n",
      "Moved: 54.pdf\n",
      "Moved: 55.pdf\n",
      "Moved: 56.pdf\n",
      "Moved: 571.pdf\n",
      "Moved: 642.pdf\n",
      "Moved: 653.pdf\n",
      "Moved: 654.pdf\n",
      "Moved: 655a.pdf\n",
      "Moved: 683.pdf\n",
      "Moved: 686a.pdf\n",
      "Moved: 7.pdf\n",
      "Moved: 70.pdf\n",
      "Moved: 723.pdf\n",
      "Moved: 775.pdf\n",
      "Moved: 796.pdf\n",
      "Moved: 809.pdf\n",
      "Moved: 811.pdf\n",
      "Moved: 812b.pdf\n",
      "Moved: 830.pdf\n",
      "Moved: 837.pdf\n",
      "Moved: 851b.pdf\n",
      "Moved: 858.pdf\n",
      "Moved: 879.pdf\n",
      "Moved: 883.pdf\n",
      "Moved: 914.pdf\n",
      "Moved: 916.pdf\n",
      "Moved: 942a.pdf\n",
      "Moved: 97.pdf\n",
      "Moved: 99.pdf\n",
      "Moved: 9a.pdf\n",
      "Moved: 9b.pdf\n",
      "Files moved successfully.\n"
     ]
    }
   ],
   "source": [
    "import os\n",
    "import shutil\n",
    "\n",
    "# Source and destination directories\n",
    "destination_directory = r'C:\\Users\\KOFI ADUKPO\\Downloads\\solfa'\n",
    "source_directory = r'C:\\Users\\KOFI ADUKPO\\Downloads\\annex_solfa'\n",
    "\n",
    "# List of files to be moved\n",
    "files_to_move = C\n",
    "# Iterate through the list of files and move them\n",
    "for file_name in files_to_move:\n",
    "    source_path = os.path.join(source_directory, file_name)\n",
    "    destination_path = os.path.join(destination_directory, file_name)\n",
    "\n",
    "    # Check if the file exists before moving\n",
    "    if os.path.exists(source_path):\n",
    "        # Move the file\n",
    "        shutil.move(source_path, destination_path)\n",
    "        print(f'Moved: {file_name}')\n",
    "    else:\n",
    "        print(f'File not found: {file_name}')\n",
    "\n",
    "print('Files moved successfully.')\n"
   ]
  },
  {
   "cell_type": "code",
   "execution_count": null,
   "metadata": {},
   "outputs": [],
   "source": [
    "import os\n",
    "\n",
    "# Directory paths\n",
    "annex_solfa_dir = r'C:\\Users\\KOFI ADUKPO\\Downloads\\annex_solfa'\n",
    "tunes_dir = r'C:\\Users\\KOFI ADUKPO\\Downloads\\tunes'\n",
    "\n",
    "# Lists to store file names\n",
    "A = []\n",
    "B = []\n",
    "C = []\n",
    "\n",
    "# Populate list A with files from annex_solfa directory\n",
    "A = os.listdir(annex_solfa_dir)\n",
    "\n",
    "# Populate list B with files from tunes directory and replace '.xml' with '.pdf'\n",
    "for file_name in os.listdir(tunes_dir):\n",
    "    B.append(file_name.replace('.xml', '.pdf'))\n",
    "\n",
    "# Identify items in A but not in B and save to list C\n",
    "C = [item for item in A if item not in B]\n",
    "\n",
    "# Print or use the lists as needed\n",
    "print(\"List A:\", A)\n",
    "print(\"List B:\", B)\n",
    "print(\"List C:\", C)\n"
   ]
  },
  {
   "cell_type": "code",
   "execution_count": null,
   "metadata": {},
   "outputs": [],
   "source": []
  },
  {
   "cell_type": "code",
   "execution_count": 13,
   "metadata": {},
   "outputs": [
    {
     "name": "stdout",
     "output_type": "stream",
     "text": [
      "HTML snippet added to the 4th line in each HTML file.\n"
     ]
    }
   ],
   "source": []
  },
  {
   "cell_type": "code",
   "execution_count": null,
   "metadata": {},
   "outputs": [],
   "source": []
  }
 ],
 "metadata": {
  "kernelspec": {
   "display_name": "aenv",
   "language": "python",
   "name": "python3"
  },
  "language_info": {
   "codemirror_mode": {
    "name": "ipython",
    "version": 3
   },
   "file_extension": ".py",
   "mimetype": "text/x-python",
   "name": "python",
   "nbconvert_exporter": "python",
   "pygments_lexer": "ipython3",
   "version": "3.9.13"
  }
 },
 "nbformat": 4,
 "nbformat_minor": 2
}
