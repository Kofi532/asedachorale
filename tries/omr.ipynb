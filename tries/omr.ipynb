{
 "cells": [
  {
   "cell_type": "code",
   "execution_count": null,
   "metadata": {},
   "outputs": [],
   "source": [
    "# Import pywinauto Application class\n",
    "from pywinauto.application import Application\n",
    "# Start a new process and specify a path to the text file\n",
    "app = Application().start(\"C:\\Program Files (x86)\\PDFtoMusic Pro\\PDFToMusic Pro.exe\", timeout=10)"
   ]
  },
  {
   "cell_type": "code",
   "execution_count": null,
   "metadata": {},
   "outputs": [],
   "source": [
    "main_dlg = app.window(title='PDFtoMusic Pro')\n"
   ]
  },
  {
   "cell_type": "code",
   "execution_count": null,
   "metadata": {},
   "outputs": [],
   "source": [
    "main_dlg.print_control_identifiers()"
   ]
  },
  {
   "cell_type": "code",
   "execution_count": null,
   "metadata": {},
   "outputs": [],
   "source": [
    "child_window = main_dlg.child_window(title=\"PDFToMusic PRO\", class_name=\"AcamMDIChild\")\n"
   ]
  },
  {
   "cell_type": "code",
   "execution_count": null,
   "metadata": {},
   "outputs": [],
   "source": [
    "# Connect to the child window\n",
    "child_window = main_dlg.child_window(title=\"PDFToMusic PRO\", class_name=\"AcamMDIChild\")\n",
    "\n",
    "# Get all child elements in the child window\n",
    "child_elements = child_window.children()\n",
    "\n",
    "# Try to find the last button using a different approach (replace 'Button' with the actual control type of the button)\n",
    "last_button = child_window.child_window(control_type=\"Button\", found_index=-1)\n",
    "\n",
    "# Check if the last button is found\n",
    "if last_button.exists():\n",
    "    last_button.click()\n",
    "else:\n",
    "    print(\"No buttons found in the child window.\")"
   ]
  },
  {
   "cell_type": "code",
   "execution_count": null,
   "metadata": {},
   "outputs": [],
   "source": [
    "import pyautogui"
   ]
  },
  {
   "cell_type": "code",
   "execution_count": null,
   "metadata": {},
   "outputs": [],
   "source": [
    "import autoit\n",
    "import time\n",
    "\n",
    "# Path to the executable of the Windows application\n",
    "app_path = r\"C:\\Program Files (x86)\\PDFtoMusic Pro\\PDFToMusic Pro.exe\"\n",
    "\n",
    "# Use AutoIt to run the application\n",
    "autoit.run(app_path)\n",
    "\n",
    "# Optionally, you can add a delay to allow the application to start\n",
    "time.sleep(5)  # Sleep for 3000 milliseconds (3 seconds)\n",
    "\n",
    "# Perform other automation tasks as needed\n",
    "\n",
    "# Example: Send keys to the application\n",
    "autoit.send(\"Hello, AutoIt!\")\n",
    "\n",
    "# Close the application\n",
    "# autoit.win_close(\"PDFtoMusic Pro\")  # Replace \"WindowTitle\" with the actual title of the application window\n"
   ]
  },
  {
   "cell_type": "code",
   "execution_count": null,
   "metadata": {},
   "outputs": [],
   "source": [
    "# Specify the title of the window and the control (button) you want to click\n",
    "window_title = \"PDFtoMusic Pro\"\n",
    "button_text = \"Try\"\n",
    "\n",
    "# Use AutoIt to activate the window\n",
    "autoit.win_activate(window_title)\n",
    "\n",
    "# Use PyAutoGUI to locate and click on the button\n",
    "button_location = pyautogui.locateOnScreen('button_image.png', region=(0, 0, 1920, 1080), confidence=0.9)\n",
    "if button_location:\n",
    "    pyautogui.click(button_location)\n",
    "else:\n",
    "    print(\"Button not found.\")\n"
   ]
  },
  {
   "cell_type": "code",
   "execution_count": null,
   "metadata": {},
   "outputs": [],
   "source": []
  },
  {
   "cell_type": "code",
   "execution_count": null,
   "metadata": {},
   "outputs": [],
   "source": [
    "import time\n",
    "import subprocess\n",
    "\n",
    "# Path to the executable of the Windows application\n",
    "app_path = r'C:\\Program Files (x86)\\PDFtoMusic Pro\\PDFToMusic Pro.exe'\n",
    "\n",
    "# Start the application\n",
    "process = subprocess.Popen(app_path, shell=True)\n",
    "time.sleep(5)  # Adjust the delay as needed\n",
    "\n",
    "# Start the Inspect tool to inspect the UI elements\n",
    "subprocess.run([\"C:\\\\Program Files (x86)\\\\Windows Kits\\\\10\\\\bin\\\\10.0.19041.0\\\\x64\\\\inspect.exe\"])\n",
    "\n",
    "# Close the application after inspecting the UI\n",
    "process.terminate()\n",
    "process.wait()\n",
    "\n"
   ]
  },
  {
   "cell_type": "code",
   "execution_count": null,
   "metadata": {},
   "outputs": [],
   "source": []
  },
  {
   "cell_type": "code",
   "execution_count": null,
   "metadata": {},
   "outputs": [],
   "source": [
    "import autoit\n",
    "import time\n",
    "\n",
    "# Path to the executable of the Windows application\n",
    "app_path = r'C:\\Program Files (x86)\\ScanScore 3\\ScanScore3.exe'\n",
    "\n",
    "# Use AutoIt to run the application\n",
    "autoit.run(app_path)\n",
    "\n",
    "# Optionally, add a delay to allow the application to start\n",
    "time.sleep(10)  # Adjust the delay as needed\n",
    "\n",
    "# Specify the title of the window\n",
    "window_title = \"Welcome to ScanScore!\"\n",
    "\n",
    "# Use AutoIt to activate the window\n",
    "autoit.win_activate(window_title)\n",
    "\n",
    "\n",
    "\n"
   ]
  },
  {
   "cell_type": "code",
   "execution_count": null,
   "metadata": {},
   "outputs": [],
   "source": [
    "# Specify the title of the window and the text of the button to click\n",
    "# window_title = \"ScanScore\"\n",
    "button_text = \"Start Trial\"  # Replace with the actual text of the button\n",
    "\n",
    "# Use AutoIt to activate the window\n",
    "autoit.win_activate(window_title)\n",
    "\n",
    "# Use AutoIt to click on the button\n",
    "autoit.control_click(window_title, \"\", f\"[TEXT:{button_text}]\")"
   ]
  },
  {
   "cell_type": "code",
   "execution_count": null,
   "metadata": {},
   "outputs": [],
   "source": [
    "app_path = r'C:\\Program Files (x86)\\ScanScore 3\\ScanScore3.exe'\n",
    "\n",
    "# Use AutoIt to run the application\n",
    "autoit.run(app_path)\n",
    "\n",
    "# Optionally, add a delay to allow the application to start\n",
    "time.sleep(10)  # Adjust the delay as needed\n",
    "\n",
    "# Specify the title of the window\n",
    "window_title = \"Welcome to ScanScore!\"\n",
    "\n",
    "# Use AutoIt to activate the window\n",
    "autoit.win_activate(window_title)\n",
    "\n",
    "\n",
    "\n"
   ]
  },
  {
   "cell_type": "code",
   "execution_count": null,
   "metadata": {},
   "outputs": [],
   "source": [
    "# Import pywinauto Application class\n",
    "from pywinauto.application import Application\n",
    "# Start a new process and specify a path to the text file\n",
    "app = Application().start('C:\\Program Files (x86)\\ScanScore 3\\ScanScore3.exe', timeout=10)"
   ]
  },
  {
   "cell_type": "code",
   "execution_count": null,
   "metadata": {},
   "outputs": [],
   "source": [
    "main_dlg = app.window(title='Untitled - Notepad')"
   ]
  },
  {
   "cell_type": "code",
   "execution_count": null,
   "metadata": {},
   "outputs": [],
   "source": [
    "from pywinauto.application import Application\n",
    "import time\n",
    "\n",
    "# Path to the executable of the Windows application\n",
    "app_path = r'C:\\Program Files (x86)\\ScanScore 3\\ScanScore3.exe'\n",
    "\n",
    "# Start the application\n",
    "app = Application(backend=\"uia\").start(app_path)\n",
    "\n",
    "# Allow some time for the application to initialize\n",
    "time.sleep(10)  # Adjust the delay as needed\n",
    "\n",
    "# Specify the title of the window\n",
    "window_title = \"Welcome to ScanScore!\"\n",
    "\n",
    "# Connect to the main window\n",
    "main_window = app.window(title=window_title)\n",
    "\n",
    "# Optionally, wait for the main window to appear (adjust the timeout as needed)\n",
    "main_window.wait('visible', timeout=10)\n",
    "\n",
    "# Click on the button with text \"kogi\"\n",
    "\n",
    "\n",
    "# # Optionally, add a delay after clicking the button\n",
    "# time.sleep(3)  # Sleep for 3 seconds\n",
    "\n",
    "# Perform other automation tasks as needed\n",
    "\n",
    "# Close the application\n",
    "# app.kill()\n",
    "# \"Untitled - ScanScore Trial\""
   ]
  },
  {
   "cell_type": "code",
   "execution_count": null,
   "metadata": {},
   "outputs": [],
   "source": [
    "button_text = \"Start Trial\"\n",
    "main_window.child_window(title=button_text, control_type=\"Button\").click()"
   ]
  },
  {
   "cell_type": "code",
   "execution_count": null,
   "metadata": {},
   "outputs": [],
   "source": [
    "# Specify the title of the window\n",
    "window_title = 'Untitled - ScanScore Trial'\n",
    "\n",
    "# Connect to the main window\n",
    "main_window = app.window(title=window_title)"
   ]
  },
  {
   "cell_type": "code",
   "execution_count": null,
   "metadata": {},
   "outputs": [],
   "source": [
    "main_window.print_control_identifiers()"
   ]
  },
  {
   "cell_type": "code",
   "execution_count": null,
   "metadata": {},
   "outputs": [],
   "source": [
    "try:\n",
    "    # app = Application(backend=\"uia\").connect(title=\"Your Application Title\")\n",
    "    main_window.child_window(title=\"Import Image/PDF file(s)\", control_type=\"Button\").click()\n",
    "except Exception as e:\n",
    "    print(f\"Error: {e}\")"
   ]
  },
  {
   "cell_type": "code",
   "execution_count": null,
   "metadata": {},
   "outputs": [],
   "source": [
    "# # Specify the title of the window\n",
    "# window_title = 'Untitled - ScanScore Trial'\n",
    "\n",
    "# # Connect to the main window\n",
    "# main_window = app.window(title=window_title)"
   ]
  },
  {
   "cell_type": "code",
   "execution_count": null,
   "metadata": {},
   "outputs": [],
   "source": [
    "main_window.print_control_identifiers()"
   ]
  },
  {
   "cell_type": "code",
   "execution_count": null,
   "metadata": {},
   "outputs": [],
   "source": [
    "main_window.child_window(title=\"salient.pdf\", auto_id=\"0\", control_type=\"ListItem\").double_click_input()"
   ]
  },
  {
   "cell_type": "markdown",
   "metadata": {},
   "source": []
  },
  {
   "cell_type": "code",
   "execution_count": null,
   "metadata": {},
   "outputs": [],
   "source": []
  },
  {
   "cell_type": "code",
   "execution_count": null,
   "metadata": {},
   "outputs": [],
   "source": [
    "main_window.print_control_identifiers()"
   ]
  },
  {
   "cell_type": "code",
   "execution_count": null,
   "metadata": {},
   "outputs": [],
   "source": [
    "main_window.child_window(title=\"New Documn\", control_type=\"Button\").click()"
   ]
  },
  {
   "cell_type": "code",
   "execution_count": null,
   "metadata": {},
   "outputs": [],
   "source": [
    "  "
   ]
  },
  {
   "cell_type": "code",
   "execution_count": null,
   "metadata": {},
   "outputs": [],
   "source": []
  },
  {
   "cell_type": "code",
   "execution_count": null,
   "metadata": {},
   "outputs": [],
   "source": [
    "import os\n",
    "import pyautogui\n",
    "import time\n",
    "import fitz"
   ]
  },
  {
   "cell_type": "code",
   "execution_count": null,
   "metadata": {},
   "outputs": [],
   "source": [
    "directory_path = r'C:\\Users\\KOFI ADUKPO\\Downloads\\solfa'\n",
    "lists = []\n",
    "# Ensure the path is valid\n",
    "if os.path.exists(directory_path):\n",
    "    # Iterate through the files in the directory\n",
    "    for filename in os.listdir(directory_path):\n",
    "        # Print the file name\n",
    "        # print(filename)\n",
    "        lists.append(filename)\n",
    "else:\n",
    "    print(f\"The directory path '{directory_path}' does not exist.\")\n"
   ]
  },
  {
   "cell_type": "code",
   "execution_count": null,
   "metadata": {},
   "outputs": [],
   "source": [
    "lists"
   ]
  },
  {
   "cell_type": "code",
   "execution_count": 4,
   "metadata": {},
   "outputs": [],
   "source": [
    "\n",
    "directory_path = r'C:\\Users\\KOFI ADUKPO\\Downloads\\solfa'\n",
    "\n",
    "\n",
    "\n",
    "\n",
    "# Ensure the path is valid\n",
    "# if os.path.exists(directory_path):\n",
    "for filename in os.listdir(directory_path):\n",
    "\n",
    "    pdf_document = fitz.open(f\"C:\\\\Users\\\\KOFI ADUKPO\\\\Downloads\\\\solfa\\\\{filename}\")\n",
    "    num_pages = pdf_document.page_count\n",
    "    pdf_document.close()\n",
    "\n",
    "    if num_pages > 1:\n",
    "        print(filename)\n",
    "    else:\n",
    "        print('Not happy, only one page.')\n",
    "        time.sleep(5)\n",
    "        # Press Alt + F\n",
    "\n",
    "        \n",
    "        pyautogui.hotkey('alt', 'f')\n",
    "        pyautogui.press('down')\n",
    "        # Press the Enter key\n",
    "        pyautogui.press('enter')\n",
    "        time.sleep(5)\n",
    "\n",
    "        pyautogui.typewrite(filename)\n",
    "        pyautogui.press('enter')\n",
    "        time.sleep(3)\n",
    "        time.sleep(3)\n",
    "        pyautogui.click(925, 120)\n",
    "        time.sleep(1)\n",
    "        pyautogui.press('enter')\n",
    "        time.sleep(1)\n",
    "        pyautogui.press('enter')\n",
    "\n",
    "\n",
    "        time.sleep(1)\n",
    "        \n",
    "\n",
    "        \n",
    "        pyautogui.press('enter')\n",
    "        time.sleep(3)\n",
    "\n",
    "\n",
    "\n",
    "        pyautogui.click(820, 170)\n"
   ]
  },
  {
   "cell_type": "code",
   "execution_count": null,
   "metadata": {},
   "outputs": [],
   "source": [
    "\n",
    "time.sleep(3)\n",
    "pyautogui.click(925, 120)\n",
    "time.sleep(1)\n",
    "pyautogui.press('enter')\n",
    "time.sleep(1)\n",
    "\n",
    "\n",
    "\n",
    "pyautogui.press('enter')\n",
    "time.sleep(1)\n",
    "pyautogui.press('enter')"
   ]
  },
  {
   "cell_type": "code",
   "execution_count": null,
   "metadata": {},
   "outputs": [],
   "source": [
    "time.sleep(3)\n",
    "pyautogui.click(850, 170)"
   ]
  },
  {
   "cell_type": "code",
   "execution_count": null,
   "metadata": {},
   "outputs": [],
   "source": [
    "import os\n",
    "\n",
    "# Directory paths\n",
    "annex_solfa_dir = r'C:\\Users\\KOFI ADUKPO\\Downloads\\annex_solfa'\n",
    "tunes_dir = r'C:\\Users\\KOFI ADUKPO\\Downloads\\tunes'\n",
    "\n",
    "# Lists to store file names\n",
    "A = []\n",
    "B = []\n",
    "C = []\n",
    "\n",
    "# Populate list A with files from annex_solfa directory\n",
    "A = os.listdir(annex_solfa_dir)\n",
    "\n",
    "# Populate list B with files from tunes directory and replace '.xml' with '.pdf'\n",
    "for file_name in os.listdir(tunes_dir):\n",
    "    B.append(file_name.replace('.xml', '.pdf'))\n",
    "\n",
    "# Identify items in A but not in B and save to list C\n",
    "C = [item for item in A if item not in B]\n",
    "\n",
    "# Print or use the lists as needed\n",
    "print(\"List A:\", A)\n",
    "print(\"List B:\", B)\n",
    "print(\"List C:\", C)\n"
   ]
  },
  {
   "cell_type": "code",
   "execution_count": null,
   "metadata": {},
   "outputs": [],
   "source": [
    "import os\n",
    "import shutil\n",
    "\n",
    "# Source and destination directories\n",
    "destination_directory = r'C:\\Users\\KOFI ADUKPO\\Downloads\\solfa'\n",
    "source_directory = r'C:\\Users\\KOFI ADUKPO\\Downloads\\annex_solfa'\n",
    "\n",
    "# List of files to be moved\n",
    "files_to_move = C\n",
    "# Iterate through the list of files and move them\n",
    "for file_name in files_to_move:\n",
    "    source_path = os.path.join(source_directory, file_name)\n",
    "    destination_path = os.path.join(destination_directory, file_name)\n",
    "\n",
    "    # Check if the file exists before moving\n",
    "    if os.path.exists(source_path):\n",
    "        # Move the file\n",
    "        shutil.move(source_path, destination_path)\n",
    "        print(f'Moved: {file_name}')\n",
    "    else:\n",
    "        print(f'File not found: {file_name}')\n",
    "\n",
    "print('Files moved successfully.')\n"
   ]
  },
  {
   "cell_type": "code",
   "execution_count": null,
   "metadata": {},
   "outputs": [],
   "source": [
    "import os\n",
    "\n",
    "# Directory paths\n",
    "annex_solfa_dir = r'C:\\Users\\KOFI ADUKPO\\Downloads\\annex_solfa'\n",
    "tunes_dir = r'C:\\Users\\KOFI ADUKPO\\Downloads\\tunes'\n",
    "\n",
    "# Lists to store file names\n",
    "A = []\n",
    "B = []\n",
    "C = []\n",
    "\n",
    "# Populate list A with files from annex_solfa directory\n",
    "A = os.listdir(annex_solfa_dir)\n",
    "\n",
    "# Populate list B with files from tunes directory and replace '.xml' with '.pdf'\n",
    "for file_name in os.listdir(tunes_dir):\n",
    "    B.append(file_name.replace('.xml', '.pdf'))\n",
    "\n",
    "# Identify items in A but not in B and save to list C\n",
    "C = [item for item in A if item not in B]\n",
    "\n",
    "# Print or use the lists as needed\n",
    "print(\"List A:\", A)\n",
    "print(\"List B:\", B)\n",
    "print(\"List C:\", C)\n"
   ]
  },
  {
   "cell_type": "code",
   "execution_count": null,
   "metadata": {},
   "outputs": [],
   "source": []
  },
  {
   "cell_type": "code",
   "execution_count": null,
   "metadata": {},
   "outputs": [],
   "source": []
  },
  {
   "cell_type": "code",
   "execution_count": null,
   "metadata": {},
   "outputs": [],
   "source": []
  }
 ],
 "metadata": {
  "kernelspec": {
   "display_name": "aenv",
   "language": "python",
   "name": "python3"
  },
  "language_info": {
   "codemirror_mode": {
    "name": "ipython",
    "version": 3
   },
   "file_extension": ".py",
   "mimetype": "text/x-python",
   "name": "python",
   "nbconvert_exporter": "python",
   "pygments_lexer": "ipython3",
   "version": "3.9.13"
  }
 },
 "nbformat": 4,
 "nbformat_minor": 2
}
