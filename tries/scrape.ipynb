{
 "cells": [
  {
   "cell_type": "code",
   "execution_count": 11,
   "metadata": {},
   "outputs": [
    {
     "ename": "AttributeError",
     "evalue": "'str' object has no attribute 'capabilities'",
     "output_type": "error",
     "traceback": [
      "\u001b[1;31m---------------------------------------------------------------------------\u001b[0m",
      "\u001b[1;31mAttributeError\u001b[0m                            Traceback (most recent call last)",
      "File \u001b[1;32mc:\\Users\\KOFI ADUKPO\\Desktop\\code\\aenv\\lib\\site-packages\\selenium\\webdriver\\common\\driver_finder.py:38\u001b[0m, in \u001b[0;36mDriverFinder.get_path\u001b[1;34m(service, options)\u001b[0m\n\u001b[0;32m     37\u001b[0m \u001b[39mtry\u001b[39;00m:\n\u001b[1;32m---> 38\u001b[0m     path \u001b[39m=\u001b[39m SeleniumManager()\u001b[39m.\u001b[39;49mdriver_location(options) \u001b[39mif\u001b[39;00m path \u001b[39mis\u001b[39;00m \u001b[39mNone\u001b[39;00m \u001b[39melse\u001b[39;00m path\n\u001b[0;32m     39\u001b[0m \u001b[39mexcept\u001b[39;00m \u001b[39mException\u001b[39;00m \u001b[39mas\u001b[39;00m err:\n",
      "File \u001b[1;32mc:\\Users\\KOFI ADUKPO\\Desktop\\code\\aenv\\lib\\site-packages\\selenium\\webdriver\\common\\selenium_manager.py:79\u001b[0m, in \u001b[0;36mSeleniumManager.driver_location\u001b[1;34m(self, options)\u001b[0m\n\u001b[0;32m     72\u001b[0m \u001b[39m\u001b[39m\u001b[39m\"\"\"Determines the path of the correct driver.\u001b[39;00m\n\u001b[0;32m     73\u001b[0m \n\u001b[0;32m     74\u001b[0m \u001b[39m:Args:\u001b[39;00m\n\u001b[0;32m     75\u001b[0m \u001b[39m - browser: which browser to get the driver path for.\u001b[39;00m\n\u001b[0;32m     76\u001b[0m \u001b[39m:Returns: The driver path to use\u001b[39;00m\n\u001b[0;32m     77\u001b[0m \u001b[39m\"\"\"\u001b[39;00m\n\u001b[1;32m---> 79\u001b[0m browser \u001b[39m=\u001b[39m options\u001b[39m.\u001b[39;49mcapabilities[\u001b[39m\"\u001b[39m\u001b[39mbrowserName\u001b[39m\u001b[39m\"\u001b[39m]\n\u001b[0;32m     81\u001b[0m args \u001b[39m=\u001b[39m [\u001b[39mstr\u001b[39m(\u001b[39mself\u001b[39m\u001b[39m.\u001b[39mget_binary()), \u001b[39m\"\u001b[39m\u001b[39m--browser\u001b[39m\u001b[39m\"\u001b[39m, browser]\n",
      "\u001b[1;31mAttributeError\u001b[0m: 'str' object has no attribute 'capabilities'",
      "\nDuring handling of the above exception, another exception occurred:\n",
      "\u001b[1;31mAttributeError\u001b[0m                            Traceback (most recent call last)",
      "\u001b[1;32mc:\\Users\\KOFI ADUKPO\\Desktop\\code\\aseda\\tries\\scrape.ipynb Cell 1\u001b[0m line \u001b[0;36m5\n\u001b[0;32m      <a href='vscode-notebook-cell:/c%3A/Users/KOFI%20ADUKPO/Desktop/code/aseda/tries/scrape.ipynb#W0sZmlsZQ%3D%3D?line=0'>1</a>\u001b[0m \u001b[39mfrom\u001b[39;00m \u001b[39mselenium\u001b[39;00m \u001b[39mimport\u001b[39;00m webdriver\n\u001b[0;32m      <a href='vscode-notebook-cell:/c%3A/Users/KOFI%20ADUKPO/Desktop/code/aseda/tries/scrape.ipynb#W0sZmlsZQ%3D%3D?line=2'>3</a>\u001b[0m \u001b[39m# Replace with the path to your webdriver (e.g., chromedriver.exe)\u001b[39;00m\n\u001b[0;32m      <a href='vscode-notebook-cell:/c%3A/Users/KOFI%20ADUKPO/Desktop/code/aseda/tries/scrape.ipynb#W0sZmlsZQ%3D%3D?line=3'>4</a>\u001b[0m \u001b[39m# Make sure you have the corresponding driver installed and updated.\u001b[39;00m\n\u001b[1;32m----> <a href='vscode-notebook-cell:/c%3A/Users/KOFI%20ADUKPO/Desktop/code/aseda/tries/scrape.ipynb#W0sZmlsZQ%3D%3D?line=4'>5</a>\u001b[0m driver \u001b[39m=\u001b[39m webdriver\u001b[39m.\u001b[39;49mChrome(\u001b[39m'\u001b[39;49m\u001b[39mC:\u001b[39;49m\u001b[39m\\\\\u001b[39;49;00m\u001b[39mUsers\u001b[39;49m\u001b[39m\\\\\u001b[39;49;00m\u001b[39mKOFI ADUKPO\u001b[39;49m\u001b[39m\\\\\u001b[39;49;00m\u001b[39mDownloads\u001b[39;49m\u001b[39m\\\\\u001b[39;49;00m\u001b[39mchromedriver.exe\u001b[39;49m\u001b[39m'\u001b[39;49m)\n\u001b[0;32m      <a href='vscode-notebook-cell:/c%3A/Users/KOFI%20ADUKPO/Desktop/code/aseda/tries/scrape.ipynb#W0sZmlsZQ%3D%3D?line=6'>7</a>\u001b[0m \u001b[39m#\"C:\\Users\\KOFI ADUKPO\\Downloads\\dav_visualize.docx\"\u001b[39;00m\n\u001b[0;32m      <a href='vscode-notebook-cell:/c%3A/Users/KOFI%20ADUKPO/Desktop/code/aseda/tries/scrape.ipynb#W0sZmlsZQ%3D%3D?line=7'>8</a>\u001b[0m \u001b[39m# Replace this URL with the website containing the table you want to scrape\u001b[39;00m\n\u001b[0;32m      <a href='vscode-notebook-cell:/c%3A/Users/KOFI%20ADUKPO/Desktop/code/aseda/tries/scrape.ipynb#W0sZmlsZQ%3D%3D?line=8'>9</a>\u001b[0m url \u001b[39m=\u001b[39m \u001b[39m\"\u001b[39m\u001b[39mhttps://hymnary.org/hymnal/Meth1933?page=0\u001b[39m\u001b[39m\"\u001b[39m\n",
      "File \u001b[1;32mc:\\Users\\KOFI ADUKPO\\Desktop\\code\\aenv\\lib\\site-packages\\selenium\\webdriver\\chrome\\webdriver.py:45\u001b[0m, in \u001b[0;36mWebDriver.__init__\u001b[1;34m(self, options, service, keep_alive)\u001b[0m\n\u001b[0;32m     42\u001b[0m service \u001b[39m=\u001b[39m service \u001b[39mif\u001b[39;00m service \u001b[39melse\u001b[39;00m Service()\n\u001b[0;32m     43\u001b[0m options \u001b[39m=\u001b[39m options \u001b[39mif\u001b[39;00m options \u001b[39melse\u001b[39;00m Options()\n\u001b[1;32m---> 45\u001b[0m \u001b[39msuper\u001b[39;49m()\u001b[39m.\u001b[39;49m\u001b[39m__init__\u001b[39;49m(\n\u001b[0;32m     46\u001b[0m     DesiredCapabilities\u001b[39m.\u001b[39;49mCHROME[\u001b[39m\"\u001b[39;49m\u001b[39mbrowserName\u001b[39;49m\u001b[39m\"\u001b[39;49m],\n\u001b[0;32m     47\u001b[0m     \u001b[39m\"\u001b[39;49m\u001b[39mgoog\u001b[39;49m\u001b[39m\"\u001b[39;49m,\n\u001b[0;32m     48\u001b[0m     options,\n\u001b[0;32m     49\u001b[0m     service,\n\u001b[0;32m     50\u001b[0m     keep_alive,\n\u001b[0;32m     51\u001b[0m )\n",
      "File \u001b[1;32mc:\\Users\\KOFI ADUKPO\\Desktop\\code\\aenv\\lib\\site-packages\\selenium\\webdriver\\chromium\\webdriver.py:51\u001b[0m, in \u001b[0;36mChromiumDriver.__init__\u001b[1;34m(self, browser_name, vendor_prefix, options, service, keep_alive)\u001b[0m\n\u001b[0;32m     47\u001b[0m \u001b[39mself\u001b[39m\u001b[39m.\u001b[39mvendor_prefix \u001b[39m=\u001b[39m vendor_prefix\n\u001b[0;32m     49\u001b[0m \u001b[39mself\u001b[39m\u001b[39m.\u001b[39mservice \u001b[39m=\u001b[39m service\n\u001b[1;32m---> 51\u001b[0m \u001b[39mself\u001b[39m\u001b[39m.\u001b[39mservice\u001b[39m.\u001b[39mpath \u001b[39m=\u001b[39m DriverFinder\u001b[39m.\u001b[39;49mget_path(\u001b[39mself\u001b[39;49m\u001b[39m.\u001b[39;49mservice, options)\n\u001b[0;32m     53\u001b[0m \u001b[39mself\u001b[39m\u001b[39m.\u001b[39mservice\u001b[39m.\u001b[39mstart()\n\u001b[0;32m     55\u001b[0m \u001b[39mtry\u001b[39;00m:\n",
      "File \u001b[1;32mc:\\Users\\KOFI ADUKPO\\Desktop\\code\\aenv\\lib\\site-packages\\selenium\\webdriver\\common\\driver_finder.py:40\u001b[0m, in \u001b[0;36mDriverFinder.get_path\u001b[1;34m(service, options)\u001b[0m\n\u001b[0;32m     38\u001b[0m     path \u001b[39m=\u001b[39m SeleniumManager()\u001b[39m.\u001b[39mdriver_location(options) \u001b[39mif\u001b[39;00m path \u001b[39mis\u001b[39;00m \u001b[39mNone\u001b[39;00m \u001b[39melse\u001b[39;00m path\n\u001b[0;32m     39\u001b[0m \u001b[39mexcept\u001b[39;00m \u001b[39mException\u001b[39;00m \u001b[39mas\u001b[39;00m err:\n\u001b[1;32m---> 40\u001b[0m     msg \u001b[39m=\u001b[39m \u001b[39mf\u001b[39m\u001b[39m\"\u001b[39m\u001b[39mUnable to obtain driver for \u001b[39m\u001b[39m{\u001b[39;00moptions\u001b[39m.\u001b[39mcapabilities[\u001b[39m'\u001b[39m\u001b[39mbrowserName\u001b[39m\u001b[39m'\u001b[39m]\u001b[39m}\u001b[39;00m\u001b[39m using Selenium Manager.\u001b[39m\u001b[39m\"\u001b[39m\n\u001b[0;32m     41\u001b[0m     \u001b[39mraise\u001b[39;00m NoSuchDriverException(msg) \u001b[39mfrom\u001b[39;00m \u001b[39merr\u001b[39;00m\n\u001b[0;32m     43\u001b[0m \u001b[39mif\u001b[39;00m path \u001b[39mis\u001b[39;00m \u001b[39mNone\u001b[39;00m \u001b[39mor\u001b[39;00m \u001b[39mnot\u001b[39;00m Path(path)\u001b[39m.\u001b[39mis_file():\n",
      "\u001b[1;31mAttributeError\u001b[0m: 'str' object has no attribute 'capabilities'"
     ]
    }
   ],
   "source": [
    "from selenium import webdriver\n",
    "\n",
    "# Replace with the path to your webdriver (e.g., chromedriver.exe)\n",
    "# Make sure you have the corresponding driver installed and updated.\n",
    "driver = webdriver.Chrome('C:\\\\Users\\\\KOFI ADUKPO\\\\Downloads\\\\chromedriver.exe')\n",
    "\n",
    "#\"C:\\Users\\KOFI ADUKPO\\Downloads\\dav_visualize.docx\"\n",
    "# Replace this URL with the website containing the table you want to scrape\n",
    "url = \"https://hymnary.org/hymnal/Meth1933?page=0\"\n",
    "driver.get(url)\n",
    "\n",
    "# Find the table element (assuming it has <table> tags)\n",
    "table = driver.find_element_by_xpath('//table')\n",
    "\n",
    "# Extract rows from the table\n",
    "rows = table.find_elements_by_tag_name('tr')\n",
    "\n",
    "# Iterate through each row and print the data\n",
    "for row in rows:\n",
    "    # Extract cells within each row\n",
    "    cells = row.find_elements_by_tag_name('td')\n",
    "    row_data = [cell.text for cell in cells]\n",
    "    print(row_data)\n",
    "\n",
    "# Close the browser\n",
    "driver.quit()\n"
   ]
  },
  {
   "cell_type": "code",
   "execution_count": null,
   "metadata": {},
   "outputs": [],
   "source": [
    "import time\n",
    "from time import sleep\n",
    "from selenium import webdriver\n",
    "from selenium.webdriver.common.keys import Keys\n",
    "from webdriver_manager.chrome import ChromeDriverManager\n",
    "import pandas as pd\n",
    "from datetime import datetime\n",
    "\n",
    "# time.sleep(5)"
   ]
  },
  {
   "cell_type": "code",
   "execution_count": null,
   "metadata": {},
   "outputs": [],
   "source": [
    "from selenium import webdriver\n",
    "browser = webdriver.Chrome()"
   ]
  },
  {
   "cell_type": "code",
   "execution_count": 15,
   "metadata": {},
   "outputs": [],
   "source": [
    "from selenium import webdriver\n",
    "from time import sleep\n",
    "options = webdriver.ChromeOptions()\n",
    "import os\n",
    "\n",
    "prefs = {\"download.default_directory\": \"C:\\\\Users\\\\KOFI ADUKPO\\\\Downloads\\\\solfa\", \"download.prompt_for_download\": False}\n",
    "# \"C:\\Users\\KOFI ADUKPO\\Downloads\\solfa\"\n",
    "options.add_experimental_option(\"prefs\", prefs)\n",
    "\n",
    "browser = webdriver.Chrome(options=options)\n"
   ]
  },
  {
   "cell_type": "code",
   "execution_count": 16,
   "metadata": {},
   "outputs": [],
   "source": [
    "browser.maximize_window()\n",
    "sleep(2)"
   ]
  },
  {
   "cell_type": "code",
   "execution_count": 3,
   "metadata": {},
   "outputs": [],
   "source": [
    "sleep(10)"
   ]
  },
  {
   "cell_type": "code",
   "execution_count": 26,
   "metadata": {},
   "outputs": [
    {
     "name": "stdout",
     "output_type": "stream",
     "text": [
      "The name of the first file is: Unconfirmed 870876.crdownload\n",
      "The file has been renamed to 'kofia.xml'\n"
     ]
    }
   ],
   "source": [
    "import os\n",
    "\n",
    "path = r\"C:\\Users\\KOFI ADUKPO\\Downloads\\solfa\"\n",
    "\n",
    "# List all items in the directory\n",
    "items = os.listdir(path)\n",
    "\n",
    "# Filter for files\n",
    "files = [item for item in items if os.path.isfile(os.path.join(path, item))]\n",
    "\n",
    "if files:  # If there are files in the path\n",
    "    first_file = files[-1]  # Get the name of the first file\n",
    "    print(f\"The name of the first file is: {first_file}\")\n",
    "\n",
    "    # Rename the file to 'kofi.xml'\n",
    "    new_file_name = os.path.join(path, 'kofia.xml')\n",
    "    os.rename(os.path.join(path, first_file), new_file_name)\n",
    "    print(f\"The file has been renamed to 'kofia.xml'\")\n",
    "else:\n",
    "    print(\"No files found in the specified path.\")\n"
   ]
  },
  {
   "cell_type": "code",
   "execution_count": 22,
   "metadata": {},
   "outputs": [],
   "source": [
    "browser.get(\"chrome://downloads\") \n",
    "# chrome://downloads/"
   ]
  },
  {
   "cell_type": "code",
   "execution_count": 14,
   "metadata": {},
   "outputs": [
    {
     "name": "stdout",
     "output_type": "stream",
     "text": [
      "['1b.pdf', 'OForAThousand-Lydia.pdf']\n"
     ]
    }
   ],
   "source": [
    "path = r\"C:\\Users\\KOFI ADUKPO\\Downloads\\solfa\"\n",
    "\n",
    "# List all items in the directory\n",
    "items = os.listdir(path)\n",
    "print(items)\n",
    "\n"
   ]
  },
  {
   "cell_type": "code",
   "execution_count": 15,
   "metadata": {},
   "outputs": [
    {
     "name": "stdout",
     "output_type": "stream",
     "text": [
      "OForAThousand-Lydia.pdf\n"
     ]
    }
   ],
   "source": [
    "file_list = ['1b.pdf', 'OForAThousand-Lydia.pdf']\n",
    "\n",
    "for item in file_list:\n",
    "    if item[0].isalpha():\n",
    "        print(item)\n"
   ]
  },
  {
   "cell_type": "code",
   "execution_count": 23,
   "metadata": {},
   "outputs": [
    {
     "name": "stdout",
     "output_type": "stream",
     "text": [
      "File 'kpo.pdf' has been renamed to 'kpo' and moved to 'C:\\Users\\KOFI ADUKPO\\Downloads\\solfa'.\n"
     ]
    }
   ],
   "source": [
    "import os\n",
    "import shutil\n",
    "\n",
    "# Source and destination paths\n",
    "source_folder = r\"C:\\Users\\KOFI ADUKPO\\Downloads\\dsolfa\"\n",
    "destination_folder = r\"C:\\Users\\KOFI ADUKPO\\Downloads\\solfa\"\n",
    "new_filename = \"kpo\"\n",
    "# Get the list of files in the source folder\n",
    "files = os.listdir(source_folder)\n",
    "\n",
    "# Check if there are any files in the source folder\n",
    "if files:\n",
    "    # Take the first file\n",
    "    first_file = files[0]\n",
    "\n",
    "    # Build the full paths for source and destination\n",
    "    source_path = os.path.join(source_folder, first_file)\n",
    "    destination_path = os.path.join(destination_folder, f\"{new_filename}{os.path.splitext(first_file)[1]}\")\n",
    "\n",
    "    # Rename the file\n",
    "    os.rename(source_path, destination_path)\n",
    "\n",
    "    # If needed, create the destination folder\n",
    "    if not os.path.exists(destination_folder):\n",
    "        os.makedirs(destination_folder)\n",
    "\n",
    "    # Cut and paste the file\n",
    "    # shutil.move(destination_path, destination_folder)\n",
    "\n",
    "    print(f\"File '{first_file}' has been renamed to '{new_filename}' and moved to '{destination_folder}'.\")\n",
    "else:\n",
    "    print(\"No files found in the source folder.\")\n"
   ]
  },
  {
   "cell_type": "code",
   "execution_count": 17,
   "metadata": {},
   "outputs": [
    {
     "name": "stdout",
     "output_type": "stream",
     "text": [
      "finished loading\n",
      "File '000113a.pdf' has been renamed to '456' and moved to 'C:\\Users\\KOFI ADUKPO\\Downloads\\solfa'.\n",
      "801\n",
      "finished loading\n",
      "File 'ThouShepherd-Arabia.pdf' has been renamed to '457' and moved to 'C:\\Users\\KOFI ADUKPO\\Downloads\\solfa'.\n",
      "810\n",
      "finished loading\n",
      "File '000966a.pdf' has been renamed to '458' and moved to 'C:\\Users\\KOFI ADUKPO\\Downloads\\solfa'.\n",
      "819\n",
      "finished loading\n"
     ]
    },
    {
     "ename": "ElementClickInterceptedException",
     "evalue": "Message: element click intercepted: Element <a href=\"/tune/st_dorothea_vincent\">...</a> is not clickable at point (844, 696). Other element would receive the click: <iframe id=\"google_ads_iframe_/15184186,52394970/hymnary.org_adhesion_0\" name=\"google_ads_iframe_/15184186,52394970/hymnary.org_adhesion_0\" title=\"3rd party ad content\" width=\"970\" height=\"100\" scrolling=\"no\" marginwidth=\"0\" marginheight=\"0\" frameborder=\"0\" role=\"region\" aria-label=\"Advertisement\" tabindex=\"0\" style=\"border: 0px; vertical-align: bottom;\" data-load-complete=\"true\" data-google-container-id=\"2\"></iframe>\n  (Session info: chrome=119.0.6045.200)\nStacktrace:\n\tGetHandleVerifier [0x00007FF6E0D982B2+55298]\n\t(No symbol) [0x00007FF6E0D05E02]\n\t(No symbol) [0x00007FF6E0BC05AB]\n\t(No symbol) [0x00007FF6E0C07A77]\n\t(No symbol) [0x00007FF6E0C05E39]\n\t(No symbol) [0x00007FF6E0C03C08]\n\t(No symbol) [0x00007FF6E0C02C8A]\n\t(No symbol) [0x00007FF6E0BF87BF]\n\t(No symbol) [0x00007FF6E0C220AA]\n\t(No symbol) [0x00007FF6E0BF80CF]\n\t(No symbol) [0x00007FF6E0C222C0]\n\t(No symbol) [0x00007FF6E0C3AAA4]\n\t(No symbol) [0x00007FF6E0C21E83]\n\t(No symbol) [0x00007FF6E0BF670A]\n\t(No symbol) [0x00007FF6E0BF7964]\n\tGetHandleVerifier [0x00007FF6E1110AAB+3694587]\n\tGetHandleVerifier [0x00007FF6E116728E+4048862]\n\tGetHandleVerifier [0x00007FF6E115F173+4015811]\n\tGetHandleVerifier [0x00007FF6E0E347D6+695590]\n\t(No symbol) [0x00007FF6E0D10CE8]\n\t(No symbol) [0x00007FF6E0D0CF34]\n\t(No symbol) [0x00007FF6E0D0D062]\n\t(No symbol) [0x00007FF6E0CFD3A3]\n\tBaseThreadInitThunk [0x00007FFFDC517344+20]\n\tRtlUserThreadStart [0x00007FFFDDA626B1+33]\n",
     "output_type": "error",
     "traceback": [
      "\u001b[1;31m---------------------------------------------------------------------------\u001b[0m",
      "\u001b[1;31mElementClickInterceptedException\u001b[0m          Traceback (most recent call last)",
      "\u001b[1;32mc:\\Users\\KOFI ADUKPO\\Desktop\\code\\aseda\\tries\\scrape.ipynb Cell 12\u001b[0m line \u001b[0;36m2\n\u001b[0;32m     <a href='vscode-notebook-cell:/c%3A/Users/KOFI%20ADUKPO/Desktop/code/aseda/tries/scrape.ipynb#X14sZmlsZQ%3D%3D?line=22'>23</a>\u001b[0m link_element_1 \u001b[39m=\u001b[39m one\u001b[39m.\u001b[39mfind_element(\u001b[39m\"\u001b[39m\u001b[39mxpath\u001b[39m\u001b[39m\"\u001b[39m, \u001b[39m\"\u001b[39m\u001b[39m.//a\u001b[39m\u001b[39m\"\u001b[39m)\n\u001b[0;32m     <a href='vscode-notebook-cell:/c%3A/Users/KOFI%20ADUKPO/Desktop/code/aseda/tries/scrape.ipynb#X14sZmlsZQ%3D%3D?line=23'>24</a>\u001b[0m \u001b[39m# Click on the <a> tag\u001b[39;00m\n\u001b[1;32m---> <a href='vscode-notebook-cell:/c%3A/Users/KOFI%20ADUKPO/Desktop/code/aseda/tries/scrape.ipynb#X14sZmlsZQ%3D%3D?line=24'>25</a>\u001b[0m link_element\u001b[39m.\u001b[39;49mclick()\n\u001b[0;32m     <a href='vscode-notebook-cell:/c%3A/Users/KOFI%20ADUKPO/Desktop/code/aseda/tries/scrape.ipynb#X14sZmlsZQ%3D%3D?line=25'>26</a>\u001b[0m sleep(\u001b[39m5\u001b[39m)\n\u001b[0;32m     <a href='vscode-notebook-cell:/c%3A/Users/KOFI%20ADUKPO/Desktop/code/aseda/tries/scrape.ipynb#X14sZmlsZQ%3D%3D?line=26'>27</a>\u001b[0m \u001b[39m# sleep(20)\u001b[39;00m\n",
      "File \u001b[1;32mc:\\Users\\KOFI ADUKPO\\Desktop\\code\\aenv\\lib\\site-packages\\selenium\\webdriver\\remote\\webelement.py:93\u001b[0m, in \u001b[0;36mWebElement.click\u001b[1;34m(self)\u001b[0m\n\u001b[0;32m     91\u001b[0m \u001b[39mdef\u001b[39;00m \u001b[39mclick\u001b[39m(\u001b[39mself\u001b[39m) \u001b[39m-\u001b[39m\u001b[39m>\u001b[39m \u001b[39mNone\u001b[39;00m:\n\u001b[0;32m     92\u001b[0m \u001b[39m    \u001b[39m\u001b[39m\"\"\"Clicks the element.\"\"\"\u001b[39;00m\n\u001b[1;32m---> 93\u001b[0m     \u001b[39mself\u001b[39;49m\u001b[39m.\u001b[39;49m_execute(Command\u001b[39m.\u001b[39;49mCLICK_ELEMENT)\n",
      "File \u001b[1;32mc:\\Users\\KOFI ADUKPO\\Desktop\\code\\aenv\\lib\\site-packages\\selenium\\webdriver\\remote\\webelement.py:394\u001b[0m, in \u001b[0;36mWebElement._execute\u001b[1;34m(self, command, params)\u001b[0m\n\u001b[0;32m    392\u001b[0m     params \u001b[39m=\u001b[39m {}\n\u001b[0;32m    393\u001b[0m params[\u001b[39m\"\u001b[39m\u001b[39mid\u001b[39m\u001b[39m\"\u001b[39m] \u001b[39m=\u001b[39m \u001b[39mself\u001b[39m\u001b[39m.\u001b[39m_id\n\u001b[1;32m--> 394\u001b[0m \u001b[39mreturn\u001b[39;00m \u001b[39mself\u001b[39;49m\u001b[39m.\u001b[39;49m_parent\u001b[39m.\u001b[39;49mexecute(command, params)\n",
      "File \u001b[1;32mc:\\Users\\KOFI ADUKPO\\Desktop\\code\\aenv\\lib\\site-packages\\selenium\\webdriver\\remote\\webdriver.py:344\u001b[0m, in \u001b[0;36mWebDriver.execute\u001b[1;34m(self, driver_command, params)\u001b[0m\n\u001b[0;32m    342\u001b[0m response \u001b[39m=\u001b[39m \u001b[39mself\u001b[39m\u001b[39m.\u001b[39mcommand_executor\u001b[39m.\u001b[39mexecute(driver_command, params)\n\u001b[0;32m    343\u001b[0m \u001b[39mif\u001b[39;00m response:\n\u001b[1;32m--> 344\u001b[0m     \u001b[39mself\u001b[39;49m\u001b[39m.\u001b[39;49merror_handler\u001b[39m.\u001b[39;49mcheck_response(response)\n\u001b[0;32m    345\u001b[0m     response[\u001b[39m\"\u001b[39m\u001b[39mvalue\u001b[39m\u001b[39m\"\u001b[39m] \u001b[39m=\u001b[39m \u001b[39mself\u001b[39m\u001b[39m.\u001b[39m_unwrap_value(response\u001b[39m.\u001b[39mget(\u001b[39m\"\u001b[39m\u001b[39mvalue\u001b[39m\u001b[39m\"\u001b[39m, \u001b[39mNone\u001b[39;00m))\n\u001b[0;32m    346\u001b[0m     \u001b[39mreturn\u001b[39;00m response\n",
      "File \u001b[1;32mc:\\Users\\KOFI ADUKPO\\Desktop\\code\\aenv\\lib\\site-packages\\selenium\\webdriver\\remote\\errorhandler.py:229\u001b[0m, in \u001b[0;36mErrorHandler.check_response\u001b[1;34m(self, response)\u001b[0m\n\u001b[0;32m    227\u001b[0m         alert_text \u001b[39m=\u001b[39m value[\u001b[39m\"\u001b[39m\u001b[39malert\u001b[39m\u001b[39m\"\u001b[39m]\u001b[39m.\u001b[39mget(\u001b[39m\"\u001b[39m\u001b[39mtext\u001b[39m\u001b[39m\"\u001b[39m)\n\u001b[0;32m    228\u001b[0m     \u001b[39mraise\u001b[39;00m exception_class(message, screen, stacktrace, alert_text)  \u001b[39m# type: ignore[call-arg]  # mypy is not smart enough here\u001b[39;00m\n\u001b[1;32m--> 229\u001b[0m \u001b[39mraise\u001b[39;00m exception_class(message, screen, stacktrace)\n",
      "\u001b[1;31mElementClickInterceptedException\u001b[0m: Message: element click intercepted: Element <a href=\"/tune/st_dorothea_vincent\">...</a> is not clickable at point (844, 696). Other element would receive the click: <iframe id=\"google_ads_iframe_/15184186,52394970/hymnary.org_adhesion_0\" name=\"google_ads_iframe_/15184186,52394970/hymnary.org_adhesion_0\" title=\"3rd party ad content\" width=\"970\" height=\"100\" scrolling=\"no\" marginwidth=\"0\" marginheight=\"0\" frameborder=\"0\" role=\"region\" aria-label=\"Advertisement\" tabindex=\"0\" style=\"border: 0px; vertical-align: bottom;\" data-load-complete=\"true\" data-google-container-id=\"2\"></iframe>\n  (Session info: chrome=119.0.6045.200)\nStacktrace:\n\tGetHandleVerifier [0x00007FF6E0D982B2+55298]\n\t(No symbol) [0x00007FF6E0D05E02]\n\t(No symbol) [0x00007FF6E0BC05AB]\n\t(No symbol) [0x00007FF6E0C07A77]\n\t(No symbol) [0x00007FF6E0C05E39]\n\t(No symbol) [0x00007FF6E0C03C08]\n\t(No symbol) [0x00007FF6E0C02C8A]\n\t(No symbol) [0x00007FF6E0BF87BF]\n\t(No symbol) [0x00007FF6E0C220AA]\n\t(No symbol) [0x00007FF6E0BF80CF]\n\t(No symbol) [0x00007FF6E0C222C0]\n\t(No symbol) [0x00007FF6E0C3AAA4]\n\t(No symbol) [0x00007FF6E0C21E83]\n\t(No symbol) [0x00007FF6E0BF670A]\n\t(No symbol) [0x00007FF6E0BF7964]\n\tGetHandleVerifier [0x00007FF6E1110AAB+3694587]\n\tGetHandleVerifier [0x00007FF6E116728E+4048862]\n\tGetHandleVerifier [0x00007FF6E115F173+4015811]\n\tGetHandleVerifier [0x00007FF6E0E347D6+695590]\n\t(No symbol) [0x00007FF6E0D10CE8]\n\t(No symbol) [0x00007FF6E0D0CF34]\n\t(No symbol) [0x00007FF6E0D0D062]\n\t(No symbol) [0x00007FF6E0CFD3A3]\n\tBaseThreadInitThunk [0x00007FFFDC517344+20]\n\tRtlUserThreadStart [0x00007FFFDDA626B1+33]\n"
     ]
    }
   ],
   "source": [
    "# p = [9,18, 27, 36, 45, 54, 63, 72, 81, 90, 99, 108, 117, 126, 135, 144, 153, 162, 171, 180, 189, 198, 207, 216, 225, 234, 243, 252, 261, 270, 279, 288, 297, 306, 315, 324, 333, 342, 351, 360, 369, 378, 387, 396, 405, 414, 423, 432, 441, 450, 459, 468, 477, 486, 495, 504, 513, 522, 531, 540, 549, 558, 567, 576, 585, 594, 603, 612, 621, 630, 639, 648, 657, 666, 675, 684, 693, 702, 711, 720, 729, 738, 747, 756, 765, 774, 783, 792, 801, 810, 819, 828, 837, 846, 855, 864, 873, 882, 891, 900]\n",
    "p = [ 801, 810, 819, 828, 837, 846, 855, 864, 873, 882, 891, 900]\n",
    "\n",
    "for i in p:\n",
    "    try:\n",
    "        browser.get(\"https://hymnary.org/hymnal/Meth1933?page=4\")       \n",
    "    except Exception:\n",
    "        pass\n",
    "    # sleep(20)\n",
    "    browser.implicitly_wait(10)\n",
    "    sleep(5)\n",
    "    print('finished loading')\n",
    "    xpath_expression = f\"(//td)[{i-2}]\"\n",
    "    deen = browser.find_element(\"xpath\", xpath_expression)\n",
    "    pol = deen.find_element(\"xpath\", \".//a\")\n",
    "    name = str(pol.text)\n",
    "    # one = browser.find_element(f\"xpath\", '(//td)[{i}]')\n",
    "    xpath_expression = f\"(//td)[{i}]\"\n",
    "    xpath_expression_1 = f\"(//td)[{i-1}]\" #for the lyrics(text column)\n",
    "    one = browser.find_element(\"xpath\", xpath_expression)\n",
    "    one_1 = browser.find_element(\"xpath\", xpath_expression_1) \n",
    "    link_element = one.find_element(\"xpath\", \".//a\")  # Using relative XPath from td_element\n",
    "    link_element_1 = one.find_element(\"xpath\", \".//a\")\n",
    "    # Click on the <a> tag\n",
    "    link_element.click()\n",
    "    sleep(5)\n",
    "    # sleep(20)\n",
    "    browser.implicitly_wait(10)\n",
    "    try:\n",
    "        peace = browser.find_element(\"xpath\", \"(//a[contains(text(),'PDF')])[1]\")\n",
    "        peace.click()\n",
    "        browser.implicitly_wait(10)\n",
    "        sleep(5)\n",
    "        # sleep(20)\n",
    "        path = r\"C:\\Users\\KOFI ADUKPO\\Downloads\\dsolfa\"\n",
    "\n",
    "        # Source and destination paths\n",
    "        source_folder = r\"C:\\Users\\KOFI ADUKPO\\Downloads\\dsolfa\"\n",
    "        destination_folder = r\"C:\\Users\\KOFI ADUKPO\\Downloads\\solfa\"\n",
    "        new_filename = name\n",
    "        # Get the list of files in the source folder\n",
    "        files = os.listdir(source_folder)\n",
    "\n",
    "        # Check if there are any files in the source folder\n",
    "        if files:\n",
    "            # Take the first file\n",
    "            first_file = files[0]\n",
    "\n",
    "            # Build the full paths for source and destination\n",
    "            source_path = os.path.join(source_folder, first_file)\n",
    "            destination_path = os.path.join(destination_folder, f\"{new_filename}{os.path.splitext(first_file)[1]}\")\n",
    "\n",
    "            # Rename the file\n",
    "            os.rename(source_path, destination_path)\n",
    "\n",
    "            # If needed, create the destination folder\n",
    "            if not os.path.exists(destination_folder):\n",
    "                os.makedirs(destination_folder)\n",
    "\n",
    "            # Cut and paste the file\n",
    "            # shutil.move(destination_path, destination_folder)\n",
    "\n",
    "            print(f\"File '{first_file}' has been renamed to '{new_filename}' and moved to '{destination_folder}'.\")\n",
    "            print(i)\n",
    "        else:\n",
    "            print(\"No files found in the source folder.\")\n",
    "\n",
    "\n",
    "\n",
    "####\n",
    "        # # List all items in the directory\n",
    "        # items = os.listdir(path)\n",
    "\n",
    "\n",
    "        # # Filter for files\n",
    "        # files = [item for item in items if os.path.isfile(os.path.join(path, item))]\n",
    "\n",
    "        # if files:  # If there are files in the path\n",
    "            \n",
    "        #     first_file = files[0]  # Get the name of the first file\n",
    "        #     print(f\"The name of the first file is: {first_file}\")\n",
    "\n",
    "        #     # Rename the file to 'kofi.xml'\n",
    "        #     new_file_name = os.path.join(path, name)\n",
    "\n",
    "        #     os.rename(os.path.join(path, first_file), new_file_name)\n",
    "        #     print(f\"The file has been renamed to {name}\")\n",
    "        #     sleep(5)\n",
    "        # else:\n",
    "        #     print(\"No files found in the specified path.\")\n",
    "    except:\n",
    "        pass\n",
    "    # sleep(20)\n",
    "    browser.implicitly_wait(10)\n",
    "    sleep(5)\n"
   ]
  },
  {
   "cell_type": "code",
   "execution_count": null,
   "metadata": {},
   "outputs": [],
   "source": []
  },
  {
   "cell_type": "code",
   "execution_count": null,
   "metadata": {},
   "outputs": [],
   "source": []
  },
  {
   "cell_type": "code",
   "execution_count": null,
   "metadata": {},
   "outputs": [
    {
     "name": "stdout",
     "output_type": "stream",
     "text": [
      "390\n",
      "File '390.html' has been created in the 'atta' directory.\n"
     ]
    },
    {
     "ename": "NoSuchElementException",
     "evalue": "Message: no such element: Unable to locate element: {\"method\":\"xpath\",\"selector\":\"(//td)[151]\"}\n  (Session info: chrome=118.0.5993.118); For documentation on this error, please visit: https://www.selenium.dev/documentation/webdriver/troubleshooting/errors#no-such-element-exception\nStacktrace:\n\tGetHandleVerifier [0x00007FF7C5E28EF2+54786]\n\t(No symbol) [0x00007FF7C5D95612]\n\t(No symbol) [0x00007FF7C5C4A64B]\n\t(No symbol) [0x00007FF7C5C8B79C]\n\t(No symbol) [0x00007FF7C5C8B91C]\n\t(No symbol) [0x00007FF7C5CC6D87]\n\t(No symbol) [0x00007FF7C5CABEAF]\n\t(No symbol) [0x00007FF7C5CC4D02]\n\t(No symbol) [0x00007FF7C5CABC43]\n\t(No symbol) [0x00007FF7C5C80941]\n\t(No symbol) [0x00007FF7C5C81B84]\n\tGetHandleVerifier [0x00007FF7C6177F52+3524194]\n\tGetHandleVerifier [0x00007FF7C61CD800+3874576]\n\tGetHandleVerifier [0x00007FF7C61C5D7F+3843215]\n\tGetHandleVerifier [0x00007FF7C5EC5086+694166]\n\t(No symbol) [0x00007FF7C5DA0A88]\n\t(No symbol) [0x00007FF7C5D9CA94]\n\t(No symbol) [0x00007FF7C5D9CBC2]\n\t(No symbol) [0x00007FF7C5D8CC83]\n\tBaseThreadInitThunk [0x00007FFFE1A97344+20]\n\tRtlUserThreadStart [0x00007FFFE33C26B1+33]\n",
     "output_type": "error",
     "traceback": [
      "\u001b[1;31m---------------------------------------------------------------------------\u001b[0m",
      "\u001b[1;31mNoSuchElementException\u001b[0m                    Traceback (most recent call last)",
      "\u001b[1;32mc:\\Users\\KOFI ADUKPO\\Desktop\\code\\aseda\\tries\\scrape.ipynb Cell 11\u001b[0m line \u001b[0;36m5\n\u001b[0;32m      <a href='vscode-notebook-cell:/c%3A/Users/KOFI%20ADUKPO/Desktop/code/aseda/tries/scrape.ipynb#X30sZmlsZQ%3D%3D?line=0'>1</a>\u001b[0m \u001b[39mfor\u001b[39;00m i \u001b[39min\u001b[39;00m p:\n\u001b[0;32m      <a href='vscode-notebook-cell:/c%3A/Users/KOFI%20ADUKPO/Desktop/code/aseda/tries/scrape.ipynb#X30sZmlsZQ%3D%3D?line=1'>2</a>\u001b[0m     \u001b[39m# browser.get(\"https://hymnary.org/hymnal/Meth1933?page=4\")\u001b[39;00m\n\u001b[0;32m      <a href='vscode-notebook-cell:/c%3A/Users/KOFI%20ADUKPO/Desktop/code/aseda/tries/scrape.ipynb#X30sZmlsZQ%3D%3D?line=2'>3</a>\u001b[0m     \u001b[39m# sleep(20)\u001b[39;00m\n\u001b[0;32m      <a href='vscode-notebook-cell:/c%3A/Users/KOFI%20ADUKPO/Desktop/code/aseda/tries/scrape.ipynb#X30sZmlsZQ%3D%3D?line=3'>4</a>\u001b[0m     xpath_expression \u001b[39m=\u001b[39m \u001b[39mf\u001b[39m\u001b[39m\"\u001b[39m\u001b[39m(//td)[\u001b[39m\u001b[39m{\u001b[39;00mi\u001b[39m-\u001b[39m\u001b[39m2\u001b[39m\u001b[39m}\u001b[39;00m\u001b[39m]\u001b[39m\u001b[39m\"\u001b[39m\n\u001b[1;32m----> <a href='vscode-notebook-cell:/c%3A/Users/KOFI%20ADUKPO/Desktop/code/aseda/tries/scrape.ipynb#X30sZmlsZQ%3D%3D?line=4'>5</a>\u001b[0m     deen \u001b[39m=\u001b[39m browser\u001b[39m.\u001b[39;49mfind_element(\u001b[39m\"\u001b[39;49m\u001b[39mxpath\u001b[39;49m\u001b[39m\"\u001b[39;49m, xpath_expression)\n\u001b[0;32m      <a href='vscode-notebook-cell:/c%3A/Users/KOFI%20ADUKPO/Desktop/code/aseda/tries/scrape.ipynb#X30sZmlsZQ%3D%3D?line=5'>6</a>\u001b[0m     pol \u001b[39m=\u001b[39m deen\u001b[39m.\u001b[39mfind_element(\u001b[39m\"\u001b[39m\u001b[39mxpath\u001b[39m\u001b[39m\"\u001b[39m, \u001b[39m\"\u001b[39m\u001b[39m.//a\u001b[39m\u001b[39m\"\u001b[39m)\n\u001b[0;32m      <a href='vscode-notebook-cell:/c%3A/Users/KOFI%20ADUKPO/Desktop/code/aseda/tries/scrape.ipynb#X30sZmlsZQ%3D%3D?line=6'>7</a>\u001b[0m     deep \u001b[39m=\u001b[39m \u001b[39mstr\u001b[39m(pol\u001b[39m.\u001b[39mtext)\n",
      "File \u001b[1;32mc:\\Users\\KOFI ADUKPO\\Desktop\\code\\aenv\\lib\\site-packages\\selenium\\webdriver\\remote\\webdriver.py:738\u001b[0m, in \u001b[0;36mWebDriver.find_element\u001b[1;34m(self, by, value)\u001b[0m\n\u001b[0;32m    735\u001b[0m     by \u001b[39m=\u001b[39m By\u001b[39m.\u001b[39mCSS_SELECTOR\n\u001b[0;32m    736\u001b[0m     value \u001b[39m=\u001b[39m \u001b[39mf\u001b[39m\u001b[39m'\u001b[39m\u001b[39m[name=\u001b[39m\u001b[39m\"\u001b[39m\u001b[39m{\u001b[39;00mvalue\u001b[39m}\u001b[39;00m\u001b[39m\"\u001b[39m\u001b[39m]\u001b[39m\u001b[39m'\u001b[39m\n\u001b[1;32m--> 738\u001b[0m \u001b[39mreturn\u001b[39;00m \u001b[39mself\u001b[39;49m\u001b[39m.\u001b[39;49mexecute(Command\u001b[39m.\u001b[39;49mFIND_ELEMENT, {\u001b[39m\"\u001b[39;49m\u001b[39musing\u001b[39;49m\u001b[39m\"\u001b[39;49m: by, \u001b[39m\"\u001b[39;49m\u001b[39mvalue\u001b[39;49m\u001b[39m\"\u001b[39;49m: value})[\u001b[39m\"\u001b[39m\u001b[39mvalue\u001b[39m\u001b[39m\"\u001b[39m]\n",
      "File \u001b[1;32mc:\\Users\\KOFI ADUKPO\\Desktop\\code\\aenv\\lib\\site-packages\\selenium\\webdriver\\remote\\webdriver.py:344\u001b[0m, in \u001b[0;36mWebDriver.execute\u001b[1;34m(self, driver_command, params)\u001b[0m\n\u001b[0;32m    342\u001b[0m response \u001b[39m=\u001b[39m \u001b[39mself\u001b[39m\u001b[39m.\u001b[39mcommand_executor\u001b[39m.\u001b[39mexecute(driver_command, params)\n\u001b[0;32m    343\u001b[0m \u001b[39mif\u001b[39;00m response:\n\u001b[1;32m--> 344\u001b[0m     \u001b[39mself\u001b[39;49m\u001b[39m.\u001b[39;49merror_handler\u001b[39m.\u001b[39;49mcheck_response(response)\n\u001b[0;32m    345\u001b[0m     response[\u001b[39m\"\u001b[39m\u001b[39mvalue\u001b[39m\u001b[39m\"\u001b[39m] \u001b[39m=\u001b[39m \u001b[39mself\u001b[39m\u001b[39m.\u001b[39m_unwrap_value(response\u001b[39m.\u001b[39mget(\u001b[39m\"\u001b[39m\u001b[39mvalue\u001b[39m\u001b[39m\"\u001b[39m, \u001b[39mNone\u001b[39;00m))\n\u001b[0;32m    346\u001b[0m     \u001b[39mreturn\u001b[39;00m response\n",
      "File \u001b[1;32mc:\\Users\\KOFI ADUKPO\\Desktop\\code\\aenv\\lib\\site-packages\\selenium\\webdriver\\remote\\errorhandler.py:229\u001b[0m, in \u001b[0;36mErrorHandler.check_response\u001b[1;34m(self, response)\u001b[0m\n\u001b[0;32m    227\u001b[0m         alert_text \u001b[39m=\u001b[39m value[\u001b[39m\"\u001b[39m\u001b[39malert\u001b[39m\u001b[39m\"\u001b[39m]\u001b[39m.\u001b[39mget(\u001b[39m\"\u001b[39m\u001b[39mtext\u001b[39m\u001b[39m\"\u001b[39m)\n\u001b[0;32m    228\u001b[0m     \u001b[39mraise\u001b[39;00m exception_class(message, screen, stacktrace, alert_text)  \u001b[39m# type: ignore[call-arg]  # mypy is not smart enough here\u001b[39;00m\n\u001b[1;32m--> 229\u001b[0m \u001b[39mraise\u001b[39;00m exception_class(message, screen, stacktrace)\n",
      "\u001b[1;31mNoSuchElementException\u001b[0m: Message: no such element: Unable to locate element: {\"method\":\"xpath\",\"selector\":\"(//td)[151]\"}\n  (Session info: chrome=118.0.5993.118); For documentation on this error, please visit: https://www.selenium.dev/documentation/webdriver/troubleshooting/errors#no-such-element-exception\nStacktrace:\n\tGetHandleVerifier [0x00007FF7C5E28EF2+54786]\n\t(No symbol) [0x00007FF7C5D95612]\n\t(No symbol) [0x00007FF7C5C4A64B]\n\t(No symbol) [0x00007FF7C5C8B79C]\n\t(No symbol) [0x00007FF7C5C8B91C]\n\t(No symbol) [0x00007FF7C5CC6D87]\n\t(No symbol) [0x00007FF7C5CABEAF]\n\t(No symbol) [0x00007FF7C5CC4D02]\n\t(No symbol) [0x00007FF7C5CABC43]\n\t(No symbol) [0x00007FF7C5C80941]\n\t(No symbol) [0x00007FF7C5C81B84]\n\tGetHandleVerifier [0x00007FF7C6177F52+3524194]\n\tGetHandleVerifier [0x00007FF7C61CD800+3874576]\n\tGetHandleVerifier [0x00007FF7C61C5D7F+3843215]\n\tGetHandleVerifier [0x00007FF7C5EC5086+694166]\n\t(No symbol) [0x00007FF7C5DA0A88]\n\t(No symbol) [0x00007FF7C5D9CA94]\n\t(No symbol) [0x00007FF7C5D9CBC2]\n\t(No symbol) [0x00007FF7C5D8CC83]\n\tBaseThreadInitThunk [0x00007FFFE1A97344+20]\n\tRtlUserThreadStart [0x00007FFFE33C26B1+33]\n"
     ]
    }
   ],
   "source": [
    "for i in p:\n",
    "    browser.get(\"https://hymnary.org/hymnal/Meth1933?page=4\")\n",
    "    sleep(20)\n",
    "    xpath_expression = f\"(//td)[{i-2}]\"\n",
    "    deen = browser.find_element(\"xpath\", xpath_expression)\n",
    "    pol = deen.find_element(\"xpath\", \".//a\")\n",
    "    deep = str(pol.text)\n",
    "    name = str(pol.text)+'.xml'\n",
    "    # one = browser.find_element(f\"xpath\", '(//td)[{i}]')\n",
    "    xpath_expression = f\"(//td)[{i}]\"\n",
    "    xpath_expression_1 = f\"(//td)[{i-1}]\" #for the lyrics(text column)\n",
    "    one = browser.find_element(\"xpath\", xpath_expression)\n",
    "    one_1 = browser.find_element(\"xpath\", xpath_expression_1) \n",
    "    link_element = one.find_element(\"xpath\", \".//a\")  # Using relative XPath from td_element\n",
    "    link_element_1 = one_1.find_element(\"xpath\", \".//a\")\n",
    "    # Click on the <a> tag\n",
    "    link_element_1.click()\n",
    "    sleep(20)\n",
    "    nexttext = browser.find_element(\"xpath\", \"(//td)[5]\")\n",
    "    proof = nexttext.find_element(\"xpath\", \".//a\")\n",
    "    proof.click()\n",
    "    sleep(20)\n",
    "    try:\n",
    "        deen = browser.find_element(\"xpath\", \"(//div[@class='authority_columns'])[1]\")\n",
    "        hymn = deen.text\n",
    "    except:\n",
    "        pass\n",
    "\n",
    "    # Extract the first word to use for the file name\n",
    "    print(str(deep))\n",
    "    file_name = str(deep) + \".html\"\n",
    "\n",
    "    # HTML content\n",
    "    html_content = f'''<!DOCTYPE html>\n",
    "    <html>\n",
    "    <head>\n",
    "        <title>{file_name}</title>\n",
    "    </head>\n",
    "    <body>\n",
    "        <h1>{hymn}</h1>\n",
    "    </body>\n",
    "    </html>\n",
    "    '''\n",
    "\n",
    "    # Define the directory path\n",
    "    directory = r\"C:\\Users\\KOFI ADUKPO\\Downloads\\lyrics\"\n",
    "\n",
    "    # Check if the directory exists, if not, create it\n",
    "    if not os.path.exists(directory):\n",
    "        os.makedirs(directory)\n",
    "\n",
    "    # Define the file path\n",
    "    file_path = os.path.join(directory, file_name)\n",
    "\n",
    "    # Write the HTML content to the file\n",
    "    with open(file_path, 'w') as file:\n",
    "        file.write(html_content)\n",
    "\n",
    "    print(f\"File '{file_name}' has been created in the 'atta' directory.\")\n",
    "    sleep(20)"
   ]
  },
  {
   "cell_type": "code",
   "execution_count": 4,
   "metadata": {},
   "outputs": [],
   "source": [
    "deen = browser.find_element(\"xpath\", \"(//div[@class='authority_columns'])[1]\")\n",
    "# (//div[@class='authority_columns'])[1]"
   ]
  },
  {
   "cell_type": "code",
   "execution_count": 5,
   "metadata": {},
   "outputs": [
    {
     "data": {
      "text/plain": [
       "\"1 Thou great, mysterious, God unknown,\\nWhose love hath gently led me on\\nE'en from my infant days;\\nMine inmost soul expose to view,\\nAnd tell me if I ever knew\\nThy justifying grace.\\n2 If I have only known Thy fear,\\nAnd followed with a heart sincere\\nThy drawing from above,\\nNow, now the farther grace bestow,\\nAnd let my sprinkled conscience know\\nThy sweet forgiving love.\\n3 Short of Thy love I would not stop,\\nA stranger to the gospel hope,\\nThe sense of sin forgiven;\\nI would not, Lord, my soul deceive,\\nWithout Thine inward witness live,\\nThat antepast of heaven.\\n4 If now the witness were in me,\\nWould He not testify of thee,\\nIn Jesus reconcil'd?\\nAnd should I not with faith draw nigh,\\nAnd boldly, Abba, Father, cry,\\nI know myself Thy child?\\n5 Ah! never let Thy servant rest,\\nTill, of my part in Christ possessed,\\nI on Thy mercy feed:\\nUnworthy of the crumbs that fall,\\nYet raised by Him who died for all,\\nTo eat the children's bread.\\n6 Whate'er obstructs Thy pardoning love,\\nOr sin, or righteousness, remove,\\nThy glory to display;\\nMy heart of unbelief convince,\\nAnd now absolve me from my sins,\\nAnd take them all away.\\n\\nSource: The Book of Worship #210\""
      ]
     },
     "execution_count": 5,
     "metadata": {},
     "output_type": "execute_result"
    }
   ],
   "source": [
    "deen.text"
   ]
  },
  {
   "cell_type": "code",
   "execution_count": 3,
   "metadata": {},
   "outputs": [],
   "source": [
    "\n",
    "one = browser.find_element(\"xpath\", '(//td)[9]')\n"
   ]
  },
  {
   "cell_type": "code",
   "execution_count": 43,
   "metadata": {},
   "outputs": [],
   "source": [
    "# Assuming 'td_element' represents the <td> element\n",
    "# td_element = browser.find_element(\"xpath\", \"//td\")  # Example XPath to find the <td> element\n",
    "\n",
    "# Find the <a> tag within the <td> element using XPath\n",
    "link_element = one.find_element(\"xpath\", \".//a\")  # Using relative XPath from td_element\n",
    "\n",
    "# Click on the <a> tag\n",
    "link_element.click()\n"
   ]
  },
  {
   "cell_type": "code",
   "execution_count": 45,
   "metadata": {},
   "outputs": [],
   "source": [
    "# (//a[normalize-space()='MusicXML'])[1]\n",
    "peace = browser.find_element(\"xpath\", \"(//a[normalize-space()='MusicXML'])[1]\")\n"
   ]
  },
  {
   "cell_type": "code",
   "execution_count": 47,
   "metadata": {},
   "outputs": [],
   "source": [
    "peace.click()"
   ]
  },
  {
   "cell_type": "code",
   "execution_count": 14,
   "metadata": {},
   "outputs": [],
   "source": [
    "deen = browser.find_element(\"xpath\", \"(//td)[16]\")"
   ]
  },
  {
   "cell_type": "code",
   "execution_count": 15,
   "metadata": {},
   "outputs": [],
   "source": [
    "pol = deen.find_element(\"xpath\", \".//a\")"
   ]
  },
  {
   "cell_type": "code",
   "execution_count": 16,
   "metadata": {},
   "outputs": [
    {
     "data": {
      "text/plain": [
       "'1b'"
      ]
     },
     "execution_count": 16,
     "metadata": {},
     "output_type": "execute_result"
    }
   ],
   "source": [
    "pol.text"
   ]
  },
  {
   "cell_type": "code",
   "execution_count": 36,
   "metadata": {},
   "outputs": [],
   "source": [
    "import xml.etree.ElementTree as ET\n",
    "\n",
    "# Load the MusicXML file\n",
    "tree = ET.parse('848a.xml')\n",
    "root = tree.getroot()\n",
    "\n",
    "# Find the relevant elements to add the text (lyrics)\n",
    "lyric_elements = root.findall('.//lyric')  # Assuming 'lyric' tags exist for the hymn\n",
    "\n",
    "# Example hymn lyrics text\n",
    "hymn_lyrics = [\n",
    "    \"Amazing grace, how sweet the sound\",\n",
    "    \"That saved a wretch like me\",\n",
    "    \"I once was lost, but now am found\",\n",
    "    \"Was blind, but now I see\"\n",
    "]\n",
    "\n",
    "# Add text (lyrics) to the MusicXML file\n",
    "for index, lyric_element in enumerate(lyric_elements):\n",
    "    text_tag = ET.Element('text')\n",
    "    text_tag.text = hymn_lyrics[index] if index < len(hymn_lyrics) else \"\"  # To avoid index out of range\n",
    "    lyric_element.append(text_tag)\n",
    "\n",
    "# Write the modified MusicXML back to a file\n",
    "tree.write('modified_musicxml_file.xml')\n"
   ]
  },
  {
   "cell_type": "code",
   "execution_count": null,
   "metadata": {},
   "outputs": [],
   "source": []
  }
 ],
 "metadata": {
  "kernelspec": {
   "display_name": "aenv",
   "language": "python",
   "name": "python3"
  },
  "language_info": {
   "codemirror_mode": {
    "name": "ipython",
    "version": 3
   },
   "file_extension": ".py",
   "mimetype": "text/x-python",
   "name": "python",
   "nbconvert_exporter": "python",
   "pygments_lexer": "ipython3",
   "version": "3.9.13"
  }
 },
 "nbformat": 4,
 "nbformat_minor": 2
}
